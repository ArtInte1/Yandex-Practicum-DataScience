{
 "cells": [
  {
   "cell_type": "markdown",
   "id": "45abd9f8",
   "metadata": {
    "id": "c81daeeb"
   },
   "source": [
    "<h1><center>Исследование надёжности заёмщиков — анализ банковских данных</center></h1>"
   ]
  },
  {
   "cell_type": "markdown",
   "id": "a4120302",
   "metadata": {
    "id": "827c20bf"
   },
   "source": [
    "# Описание задачи\n",
    "Заказчик — кредитный отдел банка. Нужно разобраться, влияет ли семейное положение и количество детей клиента на факт погашения кредита в срок. Входные данные от банка — статистика о платёжеспособности клиентов.\n",
    "\n",
    "**Цель исследования** — установить, влияет ли семейное положение и количество детей клиента на факт погашения кредита в срок.  \n",
    "\n",
    "**Ход исследования**\n",
    "\n",
    "1. [Обзор данных](#Обзор-данных)\n",
    "2. [Предобработка данных](#Предобработка-данных)\n",
    "3. [Исследование данных](#Исследование-данных)\n",
    "4. [Вывод](#Общий-вывод)"
   ]
  },
  {
   "cell_type": "markdown",
   "id": "dabfb98e",
   "metadata": {
    "id": "744d7639"
   },
   "source": [
    "## Обзор данных"
   ]
  },
  {
   "cell_type": "code",
   "execution_count": 1,
   "id": "6c40cfca",
   "metadata": {
    "id": "7bcf75c9"
   },
   "outputs": [],
   "source": [
    "import pandas as pd # подключение pandas\n",
    "\n",
    "# чтение данных\n",
    "try:\n",
    "    data = pd.read_csv('/datasets/data.csv')\n",
    "except:\n",
    "    data = pd.read_csv('https://code.s3.yandex.net/datasets/data.csv')"
   ]
  },
  {
   "cell_type": "code",
   "execution_count": 2,
   "id": "305e8d05",
   "metadata": {
    "id": "2a7cab99",
    "outputId": "1a8f3ef2-d323-4ec2-ddf7-89670b5944c4"
   },
   "outputs": [
    {
     "data": {
      "text/html": [
       "<div>\n",
       "<style scoped>\n",
       "    .dataframe tbody tr th:only-of-type {\n",
       "        vertical-align: middle;\n",
       "    }\n",
       "\n",
       "    .dataframe tbody tr th {\n",
       "        vertical-align: top;\n",
       "    }\n",
       "\n",
       "    .dataframe thead th {\n",
       "        text-align: right;\n",
       "    }\n",
       "</style>\n",
       "<table border=\"1\" class=\"dataframe\">\n",
       "  <thead>\n",
       "    <tr style=\"text-align: right;\">\n",
       "      <th></th>\n",
       "      <th>children</th>\n",
       "      <th>days_employed</th>\n",
       "      <th>dob_years</th>\n",
       "      <th>education</th>\n",
       "      <th>education_id</th>\n",
       "      <th>family_status</th>\n",
       "      <th>family_status_id</th>\n",
       "      <th>gender</th>\n",
       "      <th>income_type</th>\n",
       "      <th>debt</th>\n",
       "      <th>total_income</th>\n",
       "      <th>purpose</th>\n",
       "    </tr>\n",
       "  </thead>\n",
       "  <tbody>\n",
       "    <tr>\n",
       "      <th>0</th>\n",
       "      <td>1</td>\n",
       "      <td>-8437.673028</td>\n",
       "      <td>42</td>\n",
       "      <td>высшее</td>\n",
       "      <td>0</td>\n",
       "      <td>женат / замужем</td>\n",
       "      <td>0</td>\n",
       "      <td>F</td>\n",
       "      <td>сотрудник</td>\n",
       "      <td>0</td>\n",
       "      <td>253875.639453</td>\n",
       "      <td>покупка жилья</td>\n",
       "    </tr>\n",
       "    <tr>\n",
       "      <th>1</th>\n",
       "      <td>1</td>\n",
       "      <td>-4024.803754</td>\n",
       "      <td>36</td>\n",
       "      <td>среднее</td>\n",
       "      <td>1</td>\n",
       "      <td>женат / замужем</td>\n",
       "      <td>0</td>\n",
       "      <td>F</td>\n",
       "      <td>сотрудник</td>\n",
       "      <td>0</td>\n",
       "      <td>112080.014102</td>\n",
       "      <td>приобретение автомобиля</td>\n",
       "    </tr>\n",
       "    <tr>\n",
       "      <th>2</th>\n",
       "      <td>0</td>\n",
       "      <td>-5623.422610</td>\n",
       "      <td>33</td>\n",
       "      <td>Среднее</td>\n",
       "      <td>1</td>\n",
       "      <td>женат / замужем</td>\n",
       "      <td>0</td>\n",
       "      <td>M</td>\n",
       "      <td>сотрудник</td>\n",
       "      <td>0</td>\n",
       "      <td>145885.952297</td>\n",
       "      <td>покупка жилья</td>\n",
       "    </tr>\n",
       "    <tr>\n",
       "      <th>3</th>\n",
       "      <td>3</td>\n",
       "      <td>-4124.747207</td>\n",
       "      <td>32</td>\n",
       "      <td>среднее</td>\n",
       "      <td>1</td>\n",
       "      <td>женат / замужем</td>\n",
       "      <td>0</td>\n",
       "      <td>M</td>\n",
       "      <td>сотрудник</td>\n",
       "      <td>0</td>\n",
       "      <td>267628.550329</td>\n",
       "      <td>дополнительное образование</td>\n",
       "    </tr>\n",
       "    <tr>\n",
       "      <th>4</th>\n",
       "      <td>0</td>\n",
       "      <td>340266.072047</td>\n",
       "      <td>53</td>\n",
       "      <td>среднее</td>\n",
       "      <td>1</td>\n",
       "      <td>гражданский брак</td>\n",
       "      <td>1</td>\n",
       "      <td>F</td>\n",
       "      <td>пенсионер</td>\n",
       "      <td>0</td>\n",
       "      <td>158616.077870</td>\n",
       "      <td>сыграть свадьбу</td>\n",
       "    </tr>\n",
       "    <tr>\n",
       "      <th>5</th>\n",
       "      <td>0</td>\n",
       "      <td>-926.185831</td>\n",
       "      <td>27</td>\n",
       "      <td>высшее</td>\n",
       "      <td>0</td>\n",
       "      <td>гражданский брак</td>\n",
       "      <td>1</td>\n",
       "      <td>M</td>\n",
       "      <td>компаньон</td>\n",
       "      <td>0</td>\n",
       "      <td>255763.565419</td>\n",
       "      <td>покупка жилья</td>\n",
       "    </tr>\n",
       "    <tr>\n",
       "      <th>6</th>\n",
       "      <td>0</td>\n",
       "      <td>-2879.202052</td>\n",
       "      <td>43</td>\n",
       "      <td>высшее</td>\n",
       "      <td>0</td>\n",
       "      <td>женат / замужем</td>\n",
       "      <td>0</td>\n",
       "      <td>F</td>\n",
       "      <td>компаньон</td>\n",
       "      <td>0</td>\n",
       "      <td>240525.971920</td>\n",
       "      <td>операции с жильем</td>\n",
       "    </tr>\n",
       "    <tr>\n",
       "      <th>7</th>\n",
       "      <td>0</td>\n",
       "      <td>-152.779569</td>\n",
       "      <td>50</td>\n",
       "      <td>СРЕДНЕЕ</td>\n",
       "      <td>1</td>\n",
       "      <td>женат / замужем</td>\n",
       "      <td>0</td>\n",
       "      <td>M</td>\n",
       "      <td>сотрудник</td>\n",
       "      <td>0</td>\n",
       "      <td>135823.934197</td>\n",
       "      <td>образование</td>\n",
       "    </tr>\n",
       "    <tr>\n",
       "      <th>8</th>\n",
       "      <td>2</td>\n",
       "      <td>-6929.865299</td>\n",
       "      <td>35</td>\n",
       "      <td>ВЫСШЕЕ</td>\n",
       "      <td>0</td>\n",
       "      <td>гражданский брак</td>\n",
       "      <td>1</td>\n",
       "      <td>F</td>\n",
       "      <td>сотрудник</td>\n",
       "      <td>0</td>\n",
       "      <td>95856.832424</td>\n",
       "      <td>на проведение свадьбы</td>\n",
       "    </tr>\n",
       "    <tr>\n",
       "      <th>9</th>\n",
       "      <td>0</td>\n",
       "      <td>-2188.756445</td>\n",
       "      <td>41</td>\n",
       "      <td>среднее</td>\n",
       "      <td>1</td>\n",
       "      <td>женат / замужем</td>\n",
       "      <td>0</td>\n",
       "      <td>M</td>\n",
       "      <td>сотрудник</td>\n",
       "      <td>0</td>\n",
       "      <td>144425.938277</td>\n",
       "      <td>покупка жилья для семьи</td>\n",
       "    </tr>\n",
       "    <tr>\n",
       "      <th>10</th>\n",
       "      <td>2</td>\n",
       "      <td>-4171.483647</td>\n",
       "      <td>36</td>\n",
       "      <td>высшее</td>\n",
       "      <td>0</td>\n",
       "      <td>женат / замужем</td>\n",
       "      <td>0</td>\n",
       "      <td>M</td>\n",
       "      <td>компаньон</td>\n",
       "      <td>0</td>\n",
       "      <td>113943.491460</td>\n",
       "      <td>покупка недвижимости</td>\n",
       "    </tr>\n",
       "    <tr>\n",
       "      <th>11</th>\n",
       "      <td>0</td>\n",
       "      <td>-792.701887</td>\n",
       "      <td>40</td>\n",
       "      <td>среднее</td>\n",
       "      <td>1</td>\n",
       "      <td>женат / замужем</td>\n",
       "      <td>0</td>\n",
       "      <td>F</td>\n",
       "      <td>сотрудник</td>\n",
       "      <td>0</td>\n",
       "      <td>77069.234271</td>\n",
       "      <td>покупка коммерческой недвижимости</td>\n",
       "    </tr>\n",
       "    <tr>\n",
       "      <th>12</th>\n",
       "      <td>0</td>\n",
       "      <td>NaN</td>\n",
       "      <td>65</td>\n",
       "      <td>среднее</td>\n",
       "      <td>1</td>\n",
       "      <td>гражданский брак</td>\n",
       "      <td>1</td>\n",
       "      <td>M</td>\n",
       "      <td>пенсионер</td>\n",
       "      <td>0</td>\n",
       "      <td>NaN</td>\n",
       "      <td>сыграть свадьбу</td>\n",
       "    </tr>\n",
       "    <tr>\n",
       "      <th>13</th>\n",
       "      <td>0</td>\n",
       "      <td>-1846.641941</td>\n",
       "      <td>54</td>\n",
       "      <td>неоконченное высшее</td>\n",
       "      <td>2</td>\n",
       "      <td>женат / замужем</td>\n",
       "      <td>0</td>\n",
       "      <td>F</td>\n",
       "      <td>сотрудник</td>\n",
       "      <td>0</td>\n",
       "      <td>130458.228857</td>\n",
       "      <td>приобретение автомобиля</td>\n",
       "    </tr>\n",
       "    <tr>\n",
       "      <th>14</th>\n",
       "      <td>0</td>\n",
       "      <td>-1844.956182</td>\n",
       "      <td>56</td>\n",
       "      <td>высшее</td>\n",
       "      <td>0</td>\n",
       "      <td>гражданский брак</td>\n",
       "      <td>1</td>\n",
       "      <td>F</td>\n",
       "      <td>компаньон</td>\n",
       "      <td>1</td>\n",
       "      <td>165127.911772</td>\n",
       "      <td>покупка жилой недвижимости</td>\n",
       "    </tr>\n",
       "    <tr>\n",
       "      <th>15</th>\n",
       "      <td>1</td>\n",
       "      <td>-972.364419</td>\n",
       "      <td>26</td>\n",
       "      <td>среднее</td>\n",
       "      <td>1</td>\n",
       "      <td>женат / замужем</td>\n",
       "      <td>0</td>\n",
       "      <td>F</td>\n",
       "      <td>сотрудник</td>\n",
       "      <td>0</td>\n",
       "      <td>116820.904450</td>\n",
       "      <td>строительство собственной недвижимости</td>\n",
       "    </tr>\n",
       "    <tr>\n",
       "      <th>16</th>\n",
       "      <td>0</td>\n",
       "      <td>-1719.934226</td>\n",
       "      <td>35</td>\n",
       "      <td>среднее</td>\n",
       "      <td>1</td>\n",
       "      <td>женат / замужем</td>\n",
       "      <td>0</td>\n",
       "      <td>F</td>\n",
       "      <td>сотрудник</td>\n",
       "      <td>0</td>\n",
       "      <td>289202.704229</td>\n",
       "      <td>недвижимость</td>\n",
       "    </tr>\n",
       "    <tr>\n",
       "      <th>17</th>\n",
       "      <td>0</td>\n",
       "      <td>-2369.999720</td>\n",
       "      <td>33</td>\n",
       "      <td>высшее</td>\n",
       "      <td>0</td>\n",
       "      <td>гражданский брак</td>\n",
       "      <td>1</td>\n",
       "      <td>M</td>\n",
       "      <td>сотрудник</td>\n",
       "      <td>0</td>\n",
       "      <td>90410.586745</td>\n",
       "      <td>строительство недвижимости</td>\n",
       "    </tr>\n",
       "    <tr>\n",
       "      <th>18</th>\n",
       "      <td>0</td>\n",
       "      <td>400281.136913</td>\n",
       "      <td>53</td>\n",
       "      <td>среднее</td>\n",
       "      <td>1</td>\n",
       "      <td>вдовец / вдова</td>\n",
       "      <td>2</td>\n",
       "      <td>F</td>\n",
       "      <td>пенсионер</td>\n",
       "      <td>0</td>\n",
       "      <td>56823.777243</td>\n",
       "      <td>на покупку подержанного автомобиля</td>\n",
       "    </tr>\n",
       "    <tr>\n",
       "      <th>19</th>\n",
       "      <td>0</td>\n",
       "      <td>-10038.818549</td>\n",
       "      <td>48</td>\n",
       "      <td>СРЕДНЕЕ</td>\n",
       "      <td>1</td>\n",
       "      <td>в разводе</td>\n",
       "      <td>3</td>\n",
       "      <td>F</td>\n",
       "      <td>сотрудник</td>\n",
       "      <td>0</td>\n",
       "      <td>242831.107982</td>\n",
       "      <td>на покупку своего автомобиля</td>\n",
       "    </tr>\n",
       "  </tbody>\n",
       "</table>\n",
       "</div>"
      ],
      "text/plain": [
       "    children  days_employed  dob_years            education  education_id  \\\n",
       "0          1   -8437.673028         42               высшее             0   \n",
       "1          1   -4024.803754         36              среднее             1   \n",
       "2          0   -5623.422610         33              Среднее             1   \n",
       "3          3   -4124.747207         32              среднее             1   \n",
       "4          0  340266.072047         53              среднее             1   \n",
       "5          0    -926.185831         27               высшее             0   \n",
       "6          0   -2879.202052         43               высшее             0   \n",
       "7          0    -152.779569         50              СРЕДНЕЕ             1   \n",
       "8          2   -6929.865299         35               ВЫСШЕЕ             0   \n",
       "9          0   -2188.756445         41              среднее             1   \n",
       "10         2   -4171.483647         36               высшее             0   \n",
       "11         0    -792.701887         40              среднее             1   \n",
       "12         0            NaN         65              среднее             1   \n",
       "13         0   -1846.641941         54  неоконченное высшее             2   \n",
       "14         0   -1844.956182         56               высшее             0   \n",
       "15         1    -972.364419         26              среднее             1   \n",
       "16         0   -1719.934226         35              среднее             1   \n",
       "17         0   -2369.999720         33               высшее             0   \n",
       "18         0  400281.136913         53              среднее             1   \n",
       "19         0  -10038.818549         48              СРЕДНЕЕ             1   \n",
       "\n",
       "       family_status  family_status_id gender income_type  debt  \\\n",
       "0    женат / замужем                 0      F   сотрудник     0   \n",
       "1    женат / замужем                 0      F   сотрудник     0   \n",
       "2    женат / замужем                 0      M   сотрудник     0   \n",
       "3    женат / замужем                 0      M   сотрудник     0   \n",
       "4   гражданский брак                 1      F   пенсионер     0   \n",
       "5   гражданский брак                 1      M   компаньон     0   \n",
       "6    женат / замужем                 0      F   компаньон     0   \n",
       "7    женат / замужем                 0      M   сотрудник     0   \n",
       "8   гражданский брак                 1      F   сотрудник     0   \n",
       "9    женат / замужем                 0      M   сотрудник     0   \n",
       "10   женат / замужем                 0      M   компаньон     0   \n",
       "11   женат / замужем                 0      F   сотрудник     0   \n",
       "12  гражданский брак                 1      M   пенсионер     0   \n",
       "13   женат / замужем                 0      F   сотрудник     0   \n",
       "14  гражданский брак                 1      F   компаньон     1   \n",
       "15   женат / замужем                 0      F   сотрудник     0   \n",
       "16   женат / замужем                 0      F   сотрудник     0   \n",
       "17  гражданский брак                 1      M   сотрудник     0   \n",
       "18    вдовец / вдова                 2      F   пенсионер     0   \n",
       "19         в разводе                 3      F   сотрудник     0   \n",
       "\n",
       "     total_income                                 purpose  \n",
       "0   253875.639453                           покупка жилья  \n",
       "1   112080.014102                 приобретение автомобиля  \n",
       "2   145885.952297                           покупка жилья  \n",
       "3   267628.550329              дополнительное образование  \n",
       "4   158616.077870                         сыграть свадьбу  \n",
       "5   255763.565419                           покупка жилья  \n",
       "6   240525.971920                       операции с жильем  \n",
       "7   135823.934197                             образование  \n",
       "8    95856.832424                   на проведение свадьбы  \n",
       "9   144425.938277                 покупка жилья для семьи  \n",
       "10  113943.491460                    покупка недвижимости  \n",
       "11   77069.234271       покупка коммерческой недвижимости  \n",
       "12            NaN                         сыграть свадьбу  \n",
       "13  130458.228857                 приобретение автомобиля  \n",
       "14  165127.911772              покупка жилой недвижимости  \n",
       "15  116820.904450  строительство собственной недвижимости  \n",
       "16  289202.704229                            недвижимость  \n",
       "17   90410.586745              строительство недвижимости  \n",
       "18   56823.777243      на покупку подержанного автомобиля  \n",
       "19  242831.107982            на покупку своего автомобиля  "
      ]
     },
     "execution_count": 2,
     "metadata": {},
     "output_type": "execute_result"
    }
   ],
   "source": [
    "data.head(20) # вывод первых 20 строк таблицы"
   ]
  },
  {
   "cell_type": "code",
   "execution_count": 3,
   "id": "2d7e6c8d",
   "metadata": {
    "id": "2b757bca",
    "outputId": "15376089-8dad-46c9-b520-c05248d43158"
   },
   "outputs": [
    {
     "name": "stdout",
     "output_type": "stream",
     "text": [
      "<class 'pandas.core.frame.DataFrame'>\n",
      "RangeIndex: 21525 entries, 0 to 21524\n",
      "Data columns (total 12 columns):\n",
      " #   Column            Non-Null Count  Dtype  \n",
      "---  ------            --------------  -----  \n",
      " 0   children          21525 non-null  int64  \n",
      " 1   days_employed     19351 non-null  float64\n",
      " 2   dob_years         21525 non-null  int64  \n",
      " 3   education         21525 non-null  object \n",
      " 4   education_id      21525 non-null  int64  \n",
      " 5   family_status     21525 non-null  object \n",
      " 6   family_status_id  21525 non-null  int64  \n",
      " 7   gender            21525 non-null  object \n",
      " 8   income_type       21525 non-null  object \n",
      " 9   debt              21525 non-null  int64  \n",
      " 10  total_income      19351 non-null  float64\n",
      " 11  purpose           21525 non-null  object \n",
      "dtypes: float64(2), int64(5), object(5)\n",
      "memory usage: 2.0+ MB\n"
     ]
    }
   ],
   "source": [
    "# общая информация о датафрейме\n",
    "\n",
    "data.info()"
   ]
  },
  {
   "cell_type": "markdown",
   "id": "22e5852b",
   "metadata": {
    "id": "333ec665"
   },
   "source": [
    "## Предобработка данных"
   ]
  },
  {
   "cell_type": "markdown",
   "id": "f86698c4",
   "metadata": {
    "id": "02d92d53"
   },
   "source": [
    "### Удаление пропусков"
   ]
  },
  {
   "cell_type": "code",
   "execution_count": 4,
   "id": "5262cccd",
   "metadata": {
    "id": "7f9b2309",
    "outputId": "81f4d817-781c-465c-ed15-91ce4446810d"
   },
   "outputs": [
    {
     "data": {
      "text/plain": [
       "children               0\n",
       "days_employed       2174\n",
       "dob_years              0\n",
       "education              0\n",
       "education_id           0\n",
       "family_status          0\n",
       "family_status_id       0\n",
       "gender                 0\n",
       "income_type            0\n",
       "debt                   0\n",
       "total_income        2174\n",
       "purpose                0\n",
       "dtype: int64"
      ]
     },
     "execution_count": 4,
     "metadata": {},
     "output_type": "execute_result"
    }
   ],
   "source": [
    "data.isna().sum() # вывод кол-ва пропусков по столбцам"
   ]
  },
  {
   "cell_type": "markdown",
   "id": "511d8ca0",
   "metadata": {
    "id": "db86e27b"
   },
   "source": [
    "В двух столбцах есть пропущенные значения. Один из них — `days_employed`, его мы обработаем в следующем шаге. Другой столбец с пропущенными значениями — `total_income` — хранит данные о доходах. Его мы заполним медианным значением по каждому типу из столбца `income_type`. Например, у типа \"сотрудник\" одна медиана, у типа \"компаньон\" – другая."
   ]
  },
  {
   "cell_type": "code",
   "execution_count": 5,
   "id": "b1275161",
   "metadata": {
    "id": "42006a93"
   },
   "outputs": [],
   "source": [
    "for t in data['income_type'].unique():\n",
    "    data.loc[(data['income_type'] == t) & (data['total_income'].isna()), 'total_income'] = \\\n",
    "    data.loc[(data['income_type'] == t), 'total_income'].median()"
   ]
  },
  {
   "cell_type": "markdown",
   "id": "6fc506d4",
   "metadata": {
    "id": "89da5ece"
   },
   "source": [
    "### Обработка аномальных значений"
   ]
  },
  {
   "cell_type": "markdown",
   "id": "ea1bd27b",
   "metadata": {
    "id": "57964554"
   },
   "source": [
    "Обнаружена аномалия в столбце `days_employed` в виде отрицательного кол-ва дней трудового стажа. Для реальных данных это нормально."
   ]
  },
  {
   "cell_type": "code",
   "execution_count": 6,
   "id": "1b1c3efc",
   "metadata": {
    "id": "f6f055bf"
   },
   "outputs": [],
   "source": [
    "# исрпавляем аномалию через взятие модуля от значений days_employed\n",
    "\n",
    "data['days_employed'] = data['days_employed'].abs()"
   ]
  },
  {
   "cell_type": "code",
   "execution_count": 7,
   "id": "207da3ba",
   "metadata": {
    "id": "85a5faf6",
    "outputId": "801ef80e-522b-4668-f34e-565af7432bcf"
   },
   "outputs": [
    {
     "data": {
      "text/plain": [
       "income_type\n",
       "безработный        366413.652744\n",
       "в декрете            3296.759962\n",
       "госслужащий          2689.368353\n",
       "компаньон            1547.382223\n",
       "пенсионер          365213.306266\n",
       "предприниматель       520.848083\n",
       "сотрудник            1574.202821\n",
       "студент               578.751554\n",
       "Name: days_employed, dtype: float64"
      ]
     },
     "execution_count": 7,
     "metadata": {},
     "output_type": "execute_result"
    }
   ],
   "source": [
    "# оценим медианное значение трудодней каждого типа\n",
    "\n",
    "data.groupby('income_type')['days_employed'].agg('median')"
   ]
  },
  {
   "cell_type": "markdown",
   "id": "b8f76507",
   "metadata": {
    "id": "38d1a030"
   },
   "source": [
    "У двух типов (безработные и пенсионеры) получатся аномально большие значения. Однако эти столбцы не потребуются для решения нашей задачи."
   ]
  },
  {
   "cell_type": "code",
   "execution_count": 8,
   "id": "85859170",
   "metadata": {
    "id": "ef5056eb",
    "outputId": "6975b15c-7f95-4697-d16d-a0c79b657b03"
   },
   "outputs": [
    {
     "data": {
      "text/plain": [
       "array([ 1,  0,  3,  2, -1,  4, 20,  5])"
      ]
     },
     "execution_count": 8,
     "metadata": {},
     "output_type": "execute_result"
    }
   ],
   "source": [
    "# посмотрим какие значения встречаются в children\n",
    "\n",
    "data['children'].unique()"
   ]
  },
  {
   "cell_type": "markdown",
   "id": "ce83bb90",
   "metadata": {
    "id": "40b9ebf2"
   },
   "source": [
    "В столбце `children` есть два аномальных значения. Удалим строки, cодержащие эти артефакты."
   ]
  },
  {
   "cell_type": "code",
   "execution_count": 9,
   "id": "7ada0230",
   "metadata": {
    "id": "3ff9801d"
   },
   "outputs": [],
   "source": [
    "data = data[(data['children'] != -1) & (data['children'] != 20)]"
   ]
  },
  {
   "cell_type": "code",
   "execution_count": 10,
   "id": "e0d63f44",
   "metadata": {
    "id": "ad4fa8b7",
    "outputId": "b2097101-d49d-44d9-901b-32a65c9463d1"
   },
   "outputs": [
    {
     "data": {
      "text/plain": [
       "array([1, 0, 3, 2, 4, 5])"
      ]
     },
     "execution_count": 10,
     "metadata": {},
     "output_type": "execute_result"
    }
   ],
   "source": [
    "# проверка\n",
    "\n",
    "data['children'].unique()"
   ]
  },
  {
   "cell_type": "markdown",
   "id": "f3edccfd",
   "metadata": {
    "id": "75440b63"
   },
   "source": [
    "### Удаление пропусков (продолжение)"
   ]
  },
  {
   "cell_type": "markdown",
   "id": "fb15355a",
   "metadata": {
    "id": "f4ea573f"
   },
   "source": [
    "Заполним пропуски в столбце `days_employed` медианными значениями по каждому типу занятости `income_type`."
   ]
  },
  {
   "cell_type": "code",
   "execution_count": 11,
   "id": "a2ef8c68",
   "metadata": {
    "id": "af6b1a7e"
   },
   "outputs": [],
   "source": [
    "for t in data['income_type'].unique():\n",
    "    data.loc[(data['income_type'] == t) & (data['days_employed'].isna()), 'days_employed'] = \\\n",
    "    data.loc[(data['income_type'] == t), 'days_employed'].median()"
   ]
  },
  {
   "cell_type": "code",
   "execution_count": 12,
   "id": "66996c84",
   "metadata": {
    "id": "55f78bc2",
    "outputId": "8da1e4e1-358e-4e87-98c9-f261bce0a7b2"
   },
   "outputs": [
    {
     "data": {
      "text/plain": [
       "children            0\n",
       "days_employed       0\n",
       "dob_years           0\n",
       "education           0\n",
       "education_id        0\n",
       "family_status       0\n",
       "family_status_id    0\n",
       "gender              0\n",
       "income_type         0\n",
       "debt                0\n",
       "total_income        0\n",
       "purpose             0\n",
       "dtype: int64"
      ]
     },
     "execution_count": 12,
     "metadata": {},
     "output_type": "execute_result"
    }
   ],
   "source": [
    "# проверка\n",
    "\n",
    "data.isna().sum()"
   ]
  },
  {
   "cell_type": "markdown",
   "id": "0023c6a4",
   "metadata": {
    "id": "ddc81e43"
   },
   "source": [
    "### Изменение типов данных"
   ]
  },
  {
   "cell_type": "code",
   "execution_count": 13,
   "id": "f1d47ff4",
   "metadata": {
    "id": "920b65ad"
   },
   "outputs": [],
   "source": [
    "# изменяем тип данных на вещественный\n",
    "\n",
    "data['total_income'] = data['total_income'].astype(int)"
   ]
  },
  {
   "cell_type": "markdown",
   "id": "f57e0276",
   "metadata": {
    "id": "80c420ba"
   },
   "source": [
    "### Обработка дубликатов"
   ]
  },
  {
   "cell_type": "markdown",
   "id": "1aefdb46",
   "metadata": {},
   "source": [
    "Обработаем неявные дубликаты приведением к нижнему регистру."
   ]
  },
  {
   "cell_type": "code",
   "execution_count": 14,
   "id": "e95d364c",
   "metadata": {},
   "outputs": [],
   "source": [
    "data['education'] = data['education'].str.lower()"
   ]
  },
  {
   "cell_type": "code",
   "execution_count": 15,
   "id": "9d590cad",
   "metadata": {
    "id": "3ee445e4",
    "outputId": "9684deba-1934-42d1-99e1-cda61740f822"
   },
   "outputs": [
    {
     "data": {
      "text/plain": [
       "71"
      ]
     },
     "execution_count": 15,
     "metadata": {},
     "output_type": "execute_result"
    }
   ],
   "source": [
    "# поиск явных дубликатов\n",
    "\n",
    "data.duplicated().sum()"
   ]
  },
  {
   "cell_type": "code",
   "execution_count": 16,
   "id": "dfccc54b",
   "metadata": {
    "id": "8575fe05"
   },
   "outputs": [],
   "source": [
    "# избавляемся от явных дубликатов\n",
    "\n",
    "data = data.drop_duplicates()"
   ]
  },
  {
   "cell_type": "markdown",
   "id": "b5a0b75d",
   "metadata": {
    "id": "9904cf55"
   },
   "source": [
    "### Категоризация данных"
   ]
  },
  {
   "cell_type": "markdown",
   "id": "57a94e96",
   "metadata": {
    "id": "72fcc8a2"
   },
   "source": [
    "Согласно рекомендациям заказчика создадим столбец с категориями по диапазонам значений `income`.\n",
    "\n",
    "- 0–30000 — `'E'`;\n",
    "- 30001–50000 — `'D'`;\n",
    "- 50001–200000 — `'C'`;\n",
    "- 200001–1000000 — `'B'`;\n",
    "- 1000001 и выше — `'A'`."
   ]
  },
  {
   "cell_type": "code",
   "execution_count": 17,
   "id": "bb7be588",
   "metadata": {
    "id": "e1771346"
   },
   "outputs": [],
   "source": [
    "def categorize_income(income):\n",
    "    '''\n",
    "    Функция возвращает категорию в зависимости от значения\n",
    "    income конкретного клиента\n",
    "    \n",
    "    income - доход клиента\n",
    "    '''\n",
    "    try:\n",
    "        if 0 <= income <= 30000:\n",
    "            return 'E'\n",
    "        elif 30001 <= income <= 50000:\n",
    "            return 'D'\n",
    "        elif 50001 <= income <= 200000:\n",
    "            return 'C'\n",
    "        elif 200001 <= income <= 1000000:\n",
    "            return 'B'\n",
    "        elif income >= 1000001:\n",
    "            return 'A'\n",
    "    except:\n",
    "        pass"
   ]
  },
  {
   "cell_type": "code",
   "execution_count": 18,
   "id": "48d36868",
   "metadata": {
    "id": "d5f3586d"
   },
   "outputs": [],
   "source": [
    "# применяем функцию к столбцу total_income\n",
    "\n",
    "data['total_income_category'] = data['total_income'].apply(categorize_income)"
   ]
  },
  {
   "cell_type": "code",
   "execution_count": 19,
   "id": "b73e4b3c",
   "metadata": {
    "id": "f67ce9b3",
    "outputId": "673c12d9-7d7e-4ae0-9812-c622c89dd244"
   },
   "outputs": [
    {
     "data": {
      "text/plain": [
       "array(['покупка жилья', 'приобретение автомобиля',\n",
       "       'дополнительное образование', 'сыграть свадьбу',\n",
       "       'операции с жильем', 'образование', 'на проведение свадьбы',\n",
       "       'покупка жилья для семьи', 'покупка недвижимости',\n",
       "       'покупка коммерческой недвижимости', 'покупка жилой недвижимости',\n",
       "       'строительство собственной недвижимости', 'недвижимость',\n",
       "       'строительство недвижимости', 'на покупку подержанного автомобиля',\n",
       "       'на покупку своего автомобиля',\n",
       "       'операции с коммерческой недвижимостью',\n",
       "       'строительство жилой недвижимости', 'жилье',\n",
       "       'операции со своей недвижимостью', 'автомобили',\n",
       "       'заняться образованием', 'сделка с подержанным автомобилем',\n",
       "       'получение образования', 'автомобиль', 'свадьба',\n",
       "       'получение дополнительного образования', 'покупка своего жилья',\n",
       "       'операции с недвижимостью', 'получение высшего образования',\n",
       "       'свой автомобиль', 'сделка с автомобилем',\n",
       "       'профильное образование', 'высшее образование',\n",
       "       'покупка жилья для сдачи', 'на покупку автомобиля', 'ремонт жилью',\n",
       "       'заняться высшим образованием'], dtype=object)"
      ]
     },
     "execution_count": 19,
     "metadata": {},
     "output_type": "execute_result"
    }
   ],
   "source": [
    "# вывод уникальных значений столбца purpose\n",
    "\n",
    "data['purpose'].unique()"
   ]
  },
  {
   "cell_type": "code",
   "execution_count": 20,
   "id": "b0da7519",
   "metadata": {
    "id": "e149fab4"
   },
   "outputs": [],
   "source": [
    "def categorize_purpose(row):\n",
    "    '''\n",
    "    Функция возвращает обобщённую категорию, основанную\n",
    "    на данных конкретного пользователя\n",
    "    \n",
    "    row - строка с целью\n",
    "    '''\n",
    "    try:\n",
    "        if 'автом' in row:\n",
    "            return 'операции с автомобилем'\n",
    "        elif 'жил' in row or 'недвиж' in row:\n",
    "            return 'операции с недвижимостью'\n",
    "        elif 'свад' in row:\n",
    "            return 'проведение свадьбы'\n",
    "        elif 'образов' in row:\n",
    "            return 'получение образования'\n",
    "    except:\n",
    "        return 'нет категории'"
   ]
  },
  {
   "cell_type": "code",
   "execution_count": 21,
   "id": "86f0eab4",
   "metadata": {
    "id": "bf36e69b"
   },
   "outputs": [],
   "source": [
    "# применяем функцию к столбцу purpose\n",
    "\n",
    "data['purpose_category'] = data['purpose'].apply(categorize_purpose)"
   ]
  },
  {
   "cell_type": "markdown",
   "id": "fd4993cb",
   "metadata": {
    "id": "09b242bf"
   },
   "source": [
    "## Исследование данных"
   ]
  },
  {
   "cell_type": "markdown",
   "id": "93dd9540",
   "metadata": {
    "id": "c5d66278"
   },
   "source": [
    "**Есть ли зависимость между количеством детей и возвратом кредита в срок?**"
   ]
  },
  {
   "cell_type": "markdown",
   "id": "8b61b446",
   "metadata": {},
   "source": [
    "Выясним какой процент людей из каждой категории (по кол-ву детей) имеет задолженность по кредиту:"
   ]
  },
  {
   "cell_type": "code",
   "execution_count": 60,
   "id": "16f1cac2",
   "metadata": {
    "id": "2cacfc4a",
    "scrolled": true
   },
   "outputs": [
    {
     "data": {
      "text/html": [
       "<div>\n",
       "<style scoped>\n",
       "    .dataframe tbody tr th:only-of-type {\n",
       "        vertical-align: middle;\n",
       "    }\n",
       "\n",
       "    .dataframe tbody tr th {\n",
       "        vertical-align: top;\n",
       "    }\n",
       "\n",
       "    .dataframe thead th {\n",
       "        text-align: right;\n",
       "    }\n",
       "</style>\n",
       "<table border=\"1\" class=\"dataframe\">\n",
       "  <thead>\n",
       "    <tr style=\"text-align: right;\">\n",
       "      <th></th>\n",
       "      <th>sum</th>\n",
       "      <th>count</th>\n",
       "    </tr>\n",
       "    <tr>\n",
       "      <th>children</th>\n",
       "      <th></th>\n",
       "      <th></th>\n",
       "    </tr>\n",
       "  </thead>\n",
       "  <tbody>\n",
       "    <tr>\n",
       "      <th>0</th>\n",
       "      <td>1063</td>\n",
       "      <td>14091</td>\n",
       "    </tr>\n",
       "    <tr>\n",
       "      <th>1</th>\n",
       "      <td>444</td>\n",
       "      <td>4808</td>\n",
       "    </tr>\n",
       "    <tr>\n",
       "      <th>2</th>\n",
       "      <td>194</td>\n",
       "      <td>2052</td>\n",
       "    </tr>\n",
       "    <tr>\n",
       "      <th>3</th>\n",
       "      <td>27</td>\n",
       "      <td>330</td>\n",
       "    </tr>\n",
       "    <tr>\n",
       "      <th>4</th>\n",
       "      <td>4</td>\n",
       "      <td>41</td>\n",
       "    </tr>\n",
       "    <tr>\n",
       "      <th>5</th>\n",
       "      <td>0</td>\n",
       "      <td>9</td>\n",
       "    </tr>\n",
       "  </tbody>\n",
       "</table>\n",
       "</div>"
      ],
      "text/plain": [
       "           sum  count\n",
       "children             \n",
       "0         1063  14091\n",
       "1          444   4808\n",
       "2          194   2052\n",
       "3           27    330\n",
       "4            4     41\n",
       "5            0      9"
      ]
     },
     "metadata": {},
     "output_type": "display_data"
    }
   ],
   "source": [
    "# Применяем группировку и находим число должников (1 ст.) и общее кол-во людей (2 ст.) в каждой категории\n",
    "\n",
    "display(data.groupby('children')['debt'].agg(['sum', 'count'])) "
   ]
  },
  {
   "cell_type": "code",
   "execution_count": 61,
   "id": "ab085e45",
   "metadata": {
    "scrolled": true
   },
   "outputs": [],
   "source": [
    "# Находим доли (в процентах) должников от общего числа членов каждой из категорий\n",
    "\n",
    "people_percentage_children = data.groupby('children')['debt'].mean() * 100"
   ]
  },
  {
   "cell_type": "code",
   "execution_count": 62,
   "id": "66ed6e70",
   "metadata": {},
   "outputs": [
    {
     "data": {
      "text/plain": [
       "children\n",
       "5    0.000000\n",
       "0    7.543822\n",
       "3    8.181818\n",
       "1    9.234609\n",
       "2    9.454191\n",
       "4    9.756098\n",
       "Name: debt, dtype: float64"
      ]
     },
     "metadata": {},
     "output_type": "display_data"
    }
   ],
   "source": [
    "# Процент должников в каждой категории отсортированный от наименьшего к наибольшему \n",
    "\n",
    "display(people_percentage_children.sort_values()) "
   ]
  },
  {
   "cell_type": "markdown",
   "id": "3cdbb8fc",
   "metadata": {
    "id": "3a6b99ec"
   },
   "source": [
    "**Вывод:** по результатам исследования можно заметить, что по всем категориям процент людей с задолженностью составляет от ~7,5% до 10%, за исключением тех лиц, кто имеет 5 детей. Однако таких всего 9 во всём датафрейме, следовательно этой информации может быть недостаточно. Если же рассматривать оставшиеся категории, меньше всего должны люди БЕЗ детей, а второе место занимает категория людей с 3 детьми. Гипотеза подтверждена."
   ]
  },
  {
   "cell_type": "markdown",
   "id": "f9ba304b",
   "metadata": {
    "id": "97be82ca"
   },
   "source": [
    "**Есть ли зависимость между семейным положением и возвратом кредита в срок?**"
   ]
  },
  {
   "cell_type": "markdown",
   "id": "18b9a003",
   "metadata": {},
   "source": [
    "Выясним какой процент людей из каждой категории (по семейному положению) имеет задолженность по кредиту:"
   ]
  },
  {
   "cell_type": "code",
   "execution_count": 63,
   "id": "f20eac5d",
   "metadata": {
    "id": "dc3f7ee8",
    "scrolled": true
   },
   "outputs": [
    {
     "data": {
      "text/html": [
       "<div>\n",
       "<style scoped>\n",
       "    .dataframe tbody tr th:only-of-type {\n",
       "        vertical-align: middle;\n",
       "    }\n",
       "\n",
       "    .dataframe tbody tr th {\n",
       "        vertical-align: top;\n",
       "    }\n",
       "\n",
       "    .dataframe thead th {\n",
       "        text-align: right;\n",
       "    }\n",
       "</style>\n",
       "<table border=\"1\" class=\"dataframe\">\n",
       "  <thead>\n",
       "    <tr style=\"text-align: right;\">\n",
       "      <th></th>\n",
       "      <th>sum</th>\n",
       "      <th>count</th>\n",
       "    </tr>\n",
       "    <tr>\n",
       "      <th>family_status</th>\n",
       "      <th></th>\n",
       "      <th></th>\n",
       "    </tr>\n",
       "  </thead>\n",
       "  <tbody>\n",
       "    <tr>\n",
       "      <th>Не женат / не замужем</th>\n",
       "      <td>273</td>\n",
       "      <td>2796</td>\n",
       "    </tr>\n",
       "    <tr>\n",
       "      <th>в разводе</th>\n",
       "      <td>84</td>\n",
       "      <td>1189</td>\n",
       "    </tr>\n",
       "    <tr>\n",
       "      <th>вдовец / вдова</th>\n",
       "      <td>63</td>\n",
       "      <td>951</td>\n",
       "    </tr>\n",
       "    <tr>\n",
       "      <th>гражданский брак</th>\n",
       "      <td>385</td>\n",
       "      <td>4134</td>\n",
       "    </tr>\n",
       "    <tr>\n",
       "      <th>женат / замужем</th>\n",
       "      <td>927</td>\n",
       "      <td>12261</td>\n",
       "    </tr>\n",
       "  </tbody>\n",
       "</table>\n",
       "</div>"
      ],
      "text/plain": [
       "                       sum  count\n",
       "family_status                    \n",
       "Не женат / не замужем  273   2796\n",
       "в разводе               84   1189\n",
       "вдовец / вдова          63    951\n",
       "гражданский брак       385   4134\n",
       "женат / замужем        927  12261"
      ]
     },
     "metadata": {},
     "output_type": "display_data"
    }
   ],
   "source": [
    "# Применяем группировку и находим число должников (1 ст.) и общее кол-во людей (2 ст.) в каждой категории\n",
    "\n",
    "display(data.groupby('family_status')['debt'].agg(['sum', 'count'])) "
   ]
  },
  {
   "cell_type": "code",
   "execution_count": 64,
   "id": "fb3bf7e6",
   "metadata": {},
   "outputs": [],
   "source": [
    "# Находим доли (в процентах) должников от общего числа членов каждой из категорий\n",
    "\n",
    "people_percentage_family = data.groupby('family_status')['debt'].mean() * 100"
   ]
  },
  {
   "cell_type": "code",
   "execution_count": 79,
   "id": "4694ba30",
   "metadata": {},
   "outputs": [
    {
     "data": {
      "text/plain": [
       "family_status\n",
       "вдовец / вдова           6.624606\n",
       "в разводе                7.064760\n",
       "женат / замужем          7.560558\n",
       "гражданский брак         9.313014\n",
       "Не женат / не замужем    9.763948\n",
       "Name: debt, dtype: float64"
      ]
     },
     "metadata": {},
     "output_type": "display_data"
    }
   ],
   "source": [
    "# Процент должников в каждой категории отсортированный от наименьшего к наибольшему \n",
    "\n",
    "display(people_percentage_family.sort_values())"
   ]
  },
  {
   "cell_type": "markdown",
   "id": "f636005c",
   "metadata": {
    "id": "1cef7837"
   },
   "source": [
    "**Вывод:** наименьший процент должников наблюдается в категории \"вдовец / вдова\", наибольший среди людей не состоящих в браке. Гипотеза подтверждена."
   ]
  },
  {
   "cell_type": "markdown",
   "id": "51ddda80",
   "metadata": {
    "id": "1e8b2fca"
   },
   "source": [
    "**Есть ли зависимость между уровнем дохода и возвратом кредита в срок?**"
   ]
  },
  {
   "cell_type": "markdown",
   "id": "c3fbb13d",
   "metadata": {},
   "source": [
    "Выясним какой процент людей из каждой категории (по уровню дохода) имеет задолженность по кредиту:"
   ]
  },
  {
   "cell_type": "code",
   "execution_count": 67,
   "id": "42d24a1b",
   "metadata": {
    "id": "cd7e3720"
   },
   "outputs": [
    {
     "data": {
      "text/html": [
       "<div>\n",
       "<style scoped>\n",
       "    .dataframe tbody tr th:only-of-type {\n",
       "        vertical-align: middle;\n",
       "    }\n",
       "\n",
       "    .dataframe tbody tr th {\n",
       "        vertical-align: top;\n",
       "    }\n",
       "\n",
       "    .dataframe thead th {\n",
       "        text-align: right;\n",
       "    }\n",
       "</style>\n",
       "<table border=\"1\" class=\"dataframe\">\n",
       "  <thead>\n",
       "    <tr style=\"text-align: right;\">\n",
       "      <th></th>\n",
       "      <th>sum</th>\n",
       "      <th>count</th>\n",
       "    </tr>\n",
       "    <tr>\n",
       "      <th>total_income_category</th>\n",
       "      <th></th>\n",
       "      <th></th>\n",
       "    </tr>\n",
       "  </thead>\n",
       "  <tbody>\n",
       "    <tr>\n",
       "      <th>A</th>\n",
       "      <td>2</td>\n",
       "      <td>25</td>\n",
       "    </tr>\n",
       "    <tr>\n",
       "      <th>B</th>\n",
       "      <td>354</td>\n",
       "      <td>5014</td>\n",
       "    </tr>\n",
       "    <tr>\n",
       "      <th>C</th>\n",
       "      <td>1353</td>\n",
       "      <td>15921</td>\n",
       "    </tr>\n",
       "    <tr>\n",
       "      <th>D</th>\n",
       "      <td>21</td>\n",
       "      <td>349</td>\n",
       "    </tr>\n",
       "    <tr>\n",
       "      <th>E</th>\n",
       "      <td>2</td>\n",
       "      <td>22</td>\n",
       "    </tr>\n",
       "  </tbody>\n",
       "</table>\n",
       "</div>"
      ],
      "text/plain": [
       "                        sum  count\n",
       "total_income_category             \n",
       "A                         2     25\n",
       "B                       354   5014\n",
       "C                      1353  15921\n",
       "D                        21    349\n",
       "E                         2     22"
      ]
     },
     "metadata": {},
     "output_type": "display_data"
    }
   ],
   "source": [
    "# Применяем группировку и находим число должников (1 ст.) и общее кол-во людей (2 ст.) в каждой категории\n",
    "\n",
    "display(data.groupby('total_income_category')['debt'].agg(['sum', 'count']))"
   ]
  },
  {
   "cell_type": "code",
   "execution_count": 70,
   "id": "276806a3",
   "metadata": {},
   "outputs": [],
   "source": [
    "# Находим доли (в процентах) должников от общего числа членов каждой из категорий\n",
    "\n",
    "people_percentage_income = data.groupby('total_income_category')['debt'].mean() * 100"
   ]
  },
  {
   "cell_type": "code",
   "execution_count": 69,
   "id": "f5a85c0f",
   "metadata": {},
   "outputs": [
    {
     "data": {
      "text/plain": [
       "total_income_category\n",
       "D    6.017192\n",
       "B    7.060231\n",
       "A    8.000000\n",
       "C    8.498210\n",
       "E    9.090909\n",
       "Name: debt, dtype: float64"
      ]
     },
     "metadata": {},
     "output_type": "display_data"
    }
   ],
   "source": [
    "# Процент должников в каждой категории отсортированный от наименьшего к наибольшему \n",
    "\n",
    "display(people_percentage_income.sort_values())"
   ]
  },
  {
   "cell_type": "markdown",
   "id": "e2bfd71b",
   "metadata": {
    "id": "e8593def"
   },
   "source": [
    "**Вывод:** наименьший процент должников наблюдается в категории D (от 30К до 50К), наибольший в категории E (от 0 до 30К). Гипотеза подтверждена."
   ]
  },
  {
   "cell_type": "markdown",
   "id": "8b8d1743",
   "metadata": {
    "id": "99ecbd1f"
   },
   "source": [
    "**Как разные цели кредита влияют на его возврат в срок?**"
   ]
  },
  {
   "cell_type": "markdown",
   "id": "9dc0a93a",
   "metadata": {},
   "source": [
    "Выясним какой процент людей из каждой категории (по цели кредита) имеет задолженность по кредиту:"
   ]
  },
  {
   "cell_type": "code",
   "execution_count": 73,
   "id": "e466b607",
   "metadata": {
    "id": "2b687290"
   },
   "outputs": [
    {
     "data": {
      "text/html": [
       "<div>\n",
       "<style scoped>\n",
       "    .dataframe tbody tr th:only-of-type {\n",
       "        vertical-align: middle;\n",
       "    }\n",
       "\n",
       "    .dataframe tbody tr th {\n",
       "        vertical-align: top;\n",
       "    }\n",
       "\n",
       "    .dataframe thead th {\n",
       "        text-align: right;\n",
       "    }\n",
       "</style>\n",
       "<table border=\"1\" class=\"dataframe\">\n",
       "  <thead>\n",
       "    <tr style=\"text-align: right;\">\n",
       "      <th></th>\n",
       "      <th>sum</th>\n",
       "      <th>count</th>\n",
       "    </tr>\n",
       "    <tr>\n",
       "      <th>purpose_category</th>\n",
       "      <th></th>\n",
       "      <th></th>\n",
       "    </tr>\n",
       "  </thead>\n",
       "  <tbody>\n",
       "    <tr>\n",
       "      <th>операции с автомобилем</th>\n",
       "      <td>400</td>\n",
       "      <td>4279</td>\n",
       "    </tr>\n",
       "    <tr>\n",
       "      <th>операции с недвижимостью</th>\n",
       "      <td>780</td>\n",
       "      <td>10751</td>\n",
       "    </tr>\n",
       "    <tr>\n",
       "      <th>получение образования</th>\n",
       "      <td>369</td>\n",
       "      <td>3988</td>\n",
       "    </tr>\n",
       "    <tr>\n",
       "      <th>проведение свадьбы</th>\n",
       "      <td>183</td>\n",
       "      <td>2313</td>\n",
       "    </tr>\n",
       "  </tbody>\n",
       "</table>\n",
       "</div>"
      ],
      "text/plain": [
       "                          sum  count\n",
       "purpose_category                    \n",
       "операции с автомобилем    400   4279\n",
       "операции с недвижимостью  780  10751\n",
       "получение образования     369   3988\n",
       "проведение свадьбы        183   2313"
      ]
     },
     "metadata": {},
     "output_type": "display_data"
    }
   ],
   "source": [
    "# Применяем группировку и находим число должников (1 ст.) и общее кол-во людей (2 ст.) в каждой категории\n",
    "\n",
    "display(data.groupby('purpose_category')['debt'].agg(['sum', 'count']))"
   ]
  },
  {
   "cell_type": "code",
   "execution_count": 76,
   "id": "dd269418",
   "metadata": {},
   "outputs": [],
   "source": [
    "# Находим доли (в процентах) должников от общего числа членов каждой из категорий\n",
    "\n",
    "people_percentage_purpose = data.groupby('purpose_category')['debt'].mean() * 100"
   ]
  },
  {
   "cell_type": "code",
   "execution_count": 77,
   "id": "094c1302",
   "metadata": {},
   "outputs": [
    {
     "data": {
      "text/plain": [
       "purpose_category\n",
       "операции с недвижимостью    7.255139\n",
       "проведение свадьбы          7.911803\n",
       "получение образования       9.252758\n",
       "операции с автомобилем      9.347978\n",
       "Name: debt, dtype: float64"
      ]
     },
     "metadata": {},
     "output_type": "display_data"
    }
   ],
   "source": [
    "# Процент должников в каждой категории отсортированный от наименьшего к наибольшему \n",
    "\n",
    "display(people_percentage_purpose.sort_values()) "
   ]
  },
  {
   "cell_type": "markdown",
   "id": "502b525e",
   "metadata": {
    "id": "b4bb2ce6"
   },
   "source": [
    "**Вывод:** наменьший процент должников наблюдается у людей проводящих операции с недвижимостью, наибольший у тех кто проводит операции с автомобилем. Гипотеза подтверждена."
   ]
  },
  {
   "cell_type": "markdown",
   "id": "8b672621",
   "metadata": {
    "id": "09c3ac4c"
   },
   "source": [
    "**Возможные причины пропусков в данных:** пропуски в данных могут быть случайными и намеренными.К случайными относят пропуски вызванные техническими ошибками или человеческим фактором. Намеренные пропуски с целью сокрытия информации может создавать человек. "
   ]
  },
  {
   "cell_type": "markdown",
   "id": "4afba57e",
   "metadata": {
    "id": "6db5255a"
   },
   "source": [
    "## Общий вывод"
   ]
  },
  {
   "attachments": {
    "image-3.png": {
     "image/png": "[encoded data removed]"
    },
    "image-4.png": {
     "image/png": "[encoded data removed]"
    },
    "image-5.png": {
     "image/png": "[encoded data removed]"
    },
    "image-6.png": {
     "image/png": "[encoded data removed]"
    }
   },
   "cell_type": "markdown",
   "id": "9db79db8",
   "metadata": {
    "id": "bad65432"
   },
   "source": [
    "Было проведено исследование направленное на выявление различных факторов на факт погашения кредита в срок. Входные данные — статистика о платёжеспособности клиентов. Результаты исследования будут учтены при построении модели кредитного скоринга — специальной системы, которая оценивает способность потенциального заёмщика вернуть кредит банку.\n",
    "\n",
    "Перед началом исследования были выдвинуты следующие гипотезы:\n",
    "\n",
    "* Гипотеза 1. Количество детей клиента влияет на факт погашения кредита в срок.\n",
    "* Гипотеза 2. Семейное положение клиента влияет на факт погашения кредита в срок.\n",
    "* Гипотеза 3. Уровень дохода клиента влияет на факт погашения кредита в срок. \n",
    "* Гипотеза 4. Цель получения кредита влияет на факт погашения кредита в срок. \n",
    "\n",
    "В результате удалось выявить некоторые зависимости. \n",
    "\n",
    "**Гипотеза 1 частично подтверждена:** для более точных выводов необходимо больше данных о клиениах с 3, 4 и 5 детьми.\n",
    "\n",
    "* 7,54% — Доля просроченных кредитов  у клиентов без детей.\n",
    "* 8,18% — Доля просроченных кредитов у клиентов c 3 детьми.\n",
    "* 9,23% — Доля просроченных кредитов у клиентов с одним ребёнком.\n",
    "\n",
    "![image-3.png](attachment:image-3.png)\n",
    "\n",
    "Рекомендация: провести дополнительное исслоедование на выборке с большим кол-вом данных.\n",
    "\n",
    "**Гипотеза 2 подтверждена.**\n",
    "\n",
    "* У людей со статусом \"вдовец / вдова\" и \"в разводе\" вероятность стать должником — самая низкая.\n",
    "* Люди живущие в гражданском браке или с не зарегистрированным браком имеют наивысшую верноятность стать должниками.\n",
    "\n",
    "![image-4.png](attachment:image-4.png)\n",
    "\n",
    "**Гипотеза 3 частично подтверждена:** для более точных выводов необходимо больше данных по категориям A, D и E. \n",
    "\n",
    "* 7,06% — доля просроченных кредитов у клиентов с доходом от 200.001 до 1.000.000.\n",
    "* 8,5% — доля просроченных кредитов у клиентов с доходом от 50.001 до 200.000.\n",
    "\n",
    "![image-5.png](attachment:image-5.png)\n",
    "\n",
    "Рекомендация: провести дополнительное исслоедование на выборке с большим кол-вом данных.\n",
    "\n",
    "**Гипотеза 4 подтверждена.**\n",
    "\n",
    "* 7,26% — доля просроченных кредитов, целью которых являлись операции с недвижимостью.\n",
    "* 7,91% — доля просроченных кредитов, целью которых было проведение свадьбы. \n",
    "* 9,25% — доля просроченных кредитов, целью которых было получение образования.  \n",
    "* 9,35% — доля просроченных кредитов, целью которых являлись операции с автомобилем.  \n",
    "\n",
    "![image-6.png](attachment:image-6.png)\n",
    "\n",
    "**Общие рекомендации:**\n",
    "\n",
    "1. Для создания модели крединого скоринга рекомендуется использовать данные из гипотез 2 и 4.\n",
    "2. Повторно проверить гипотезы 1 и 3 с большим количеством данных.\n"
   ]
  }
 ],
 "metadata": {
  "ExecuteTimeLog": [
   {
    "duration": 450,
    "start_time": "2022-08-27T13:39:52.725Z"
   },
   {
    "duration": 20,
    "start_time": "2022-08-27T13:39:53.176Z"
   },
   {
    "duration": 13,
    "start_time": "2022-08-27T13:39:53.197Z"
   },
   {
    "duration": 14,
    "start_time": "2022-08-27T13:39:53.215Z"
   },
   {
    "duration": 33,
    "start_time": "2022-08-27T13:39:53.230Z"
   },
   {
    "duration": 4,
    "start_time": "2022-08-27T13:39:53.265Z"
   },
   {
    "duration": 12,
    "start_time": "2022-08-27T13:39:53.270Z"
   },
   {
    "duration": 4,
    "start_time": "2022-08-27T13:39:53.284Z"
   },
   {
    "duration": 32,
    "start_time": "2022-08-27T13:39:53.289Z"
   },
   {
    "duration": 7,
    "start_time": "2022-08-27T13:39:53.325Z"
   },
   {
    "duration": 34,
    "start_time": "2022-08-27T13:39:53.347Z"
   },
   {
    "duration": 8,
    "start_time": "2022-08-27T13:39:53.383Z"
   },
   {
    "duration": 8,
    "start_time": "2022-08-27T13:39:53.392Z"
   },
   {
    "duration": 30,
    "start_time": "2022-08-27T13:39:53.401Z"
   },
   {
    "duration": 27,
    "start_time": "2022-08-27T13:39:53.432Z"
   },
   {
    "duration": 16,
    "start_time": "2022-08-27T13:39:53.460Z"
   },
   {
    "duration": 3,
    "start_time": "2022-08-27T13:39:53.477Z"
   },
   {
    "duration": 10,
    "start_time": "2022-08-27T13:39:53.482Z"
   },
   {
    "duration": 11,
    "start_time": "2022-08-27T13:39:53.493Z"
   },
   {
    "duration": 14,
    "start_time": "2022-08-27T13:39:53.505Z"
   },
   {
    "duration": 12,
    "start_time": "2022-08-27T13:39:53.523Z"
   },
   {
    "duration": 6,
    "start_time": "2022-08-27T13:39:53.536Z"
   },
   {
    "duration": 6,
    "start_time": "2022-08-27T13:39:53.544Z"
   },
   {
    "duration": 4,
    "start_time": "2022-08-27T13:39:53.552Z"
   },
   {
    "duration": 5,
    "start_time": "2022-08-27T13:39:53.558Z"
   },
   {
    "duration": 15,
    "start_time": "2022-08-27T13:43:08.675Z"
   },
   {
    "duration": 17,
    "start_time": "2022-08-27T13:43:24.101Z"
   },
   {
    "duration": 4,
    "start_time": "2022-08-27T13:44:32.038Z"
   },
   {
    "duration": 16,
    "start_time": "2022-08-27T13:44:48.901Z"
   },
   {
    "duration": 68,
    "start_time": "2022-08-27T13:48:32.935Z"
   },
   {
    "duration": 7,
    "start_time": "2022-08-27T13:48:49.350Z"
   },
   {
    "duration": 8,
    "start_time": "2022-08-27T13:48:52.395Z"
   },
   {
    "duration": 8,
    "start_time": "2022-08-27T13:49:30.997Z"
   },
   {
    "duration": 10,
    "start_time": "2022-08-27T13:51:32.570Z"
   },
   {
    "duration": 17,
    "start_time": "2022-08-27T14:01:25.310Z"
   },
   {
    "duration": 7,
    "start_time": "2022-08-27T14:11:23.113Z"
   },
   {
    "duration": 5,
    "start_time": "2022-08-27T14:11:28.871Z"
   },
   {
    "duration": 7,
    "start_time": "2022-08-27T14:11:56.384Z"
   },
   {
    "duration": 7,
    "start_time": "2022-08-27T14:12:40.043Z"
   },
   {
    "duration": 8,
    "start_time": "2022-08-27T14:13:19.001Z"
   },
   {
    "duration": 9,
    "start_time": "2022-08-27T14:21:06.747Z"
   },
   {
    "duration": 12,
    "start_time": "2022-08-27T14:21:29.074Z"
   },
   {
    "duration": 8,
    "start_time": "2022-08-27T14:21:40.378Z"
   },
   {
    "duration": 16,
    "start_time": "2022-08-27T14:22:41.476Z"
   },
   {
    "duration": 74,
    "start_time": "2022-08-27T14:23:10.428Z"
   },
   {
    "duration": 12,
    "start_time": "2022-08-27T14:23:17.960Z"
   },
   {
    "duration": 8,
    "start_time": "2022-08-27T14:23:53.129Z"
   },
   {
    "duration": 13,
    "start_time": "2022-08-27T14:25:22.923Z"
   },
   {
    "duration": 6,
    "start_time": "2022-08-27T14:25:35.041Z"
   },
   {
    "duration": 7,
    "start_time": "2022-08-27T14:42:35.898Z"
   },
   {
    "duration": 12,
    "start_time": "2022-08-27T14:42:53.416Z"
   },
   {
    "duration": 19,
    "start_time": "2022-08-27T14:45:48.623Z"
   },
   {
    "duration": 8,
    "start_time": "2022-08-27T14:46:00.044Z"
   },
   {
    "duration": 12,
    "start_time": "2022-08-27T14:47:10.329Z"
   },
   {
    "duration": 10,
    "start_time": "2022-08-27T14:47:22.332Z"
   },
   {
    "duration": 13,
    "start_time": "2022-08-27T14:48:06.686Z"
   },
   {
    "duration": 10,
    "start_time": "2022-08-27T14:48:18.956Z"
   },
   {
    "duration": 10,
    "start_time": "2022-08-27T14:48:24.452Z"
   },
   {
    "duration": 22,
    "start_time": "2022-08-27T14:48:34.908Z"
   },
   {
    "duration": 14,
    "start_time": "2022-08-27T14:49:06.795Z"
   },
   {
    "duration": 18,
    "start_time": "2022-08-27T14:49:38.265Z"
   },
   {
    "duration": 19,
    "start_time": "2022-08-27T14:50:05.606Z"
   },
   {
    "duration": 14,
    "start_time": "2022-08-27T14:51:30.428Z"
   },
   {
    "duration": 548,
    "start_time": "2022-08-27T14:51:42.605Z"
   },
   {
    "duration": 22,
    "start_time": "2022-08-27T14:51:43.155Z"
   },
   {
    "duration": 16,
    "start_time": "2022-08-27T14:51:43.179Z"
   },
   {
    "duration": 15,
    "start_time": "2022-08-27T14:51:43.211Z"
   },
   {
    "duration": 53,
    "start_time": "2022-08-27T14:51:43.228Z"
   },
   {
    "duration": 3,
    "start_time": "2022-08-27T14:51:43.283Z"
   },
   {
    "duration": 24,
    "start_time": "2022-08-27T14:51:43.288Z"
   },
   {
    "duration": 7,
    "start_time": "2022-08-27T14:51:43.316Z"
   },
   {
    "duration": 17,
    "start_time": "2022-08-27T14:51:43.325Z"
   },
   {
    "duration": 4,
    "start_time": "2022-08-27T14:51:43.346Z"
   },
   {
    "duration": 31,
    "start_time": "2022-08-27T14:51:43.351Z"
   },
   {
    "duration": 28,
    "start_time": "2022-08-27T14:51:43.384Z"
   },
   {
    "duration": 5,
    "start_time": "2022-08-27T14:51:43.416Z"
   },
   {
    "duration": 20,
    "start_time": "2022-08-27T14:51:43.424Z"
   },
   {
    "duration": 29,
    "start_time": "2022-08-27T14:51:43.446Z"
   },
   {
    "duration": 19,
    "start_time": "2022-08-27T14:51:43.477Z"
   },
   {
    "duration": 9,
    "start_time": "2022-08-27T14:51:43.511Z"
   },
   {
    "duration": 14,
    "start_time": "2022-08-27T14:51:43.523Z"
   },
   {
    "duration": 12,
    "start_time": "2022-08-27T14:51:43.539Z"
   },
   {
    "duration": 4,
    "start_time": "2022-08-27T14:51:43.553Z"
   },
   {
    "duration": 12,
    "start_time": "2022-08-27T14:51:43.558Z"
   },
   {
    "duration": 87,
    "start_time": "2022-08-27T14:51:43.572Z"
   },
   {
    "duration": 0,
    "start_time": "2022-08-27T14:51:43.661Z"
   },
   {
    "duration": 0,
    "start_time": "2022-08-27T14:51:43.662Z"
   },
   {
    "duration": 0,
    "start_time": "2022-08-27T14:51:43.663Z"
   },
   {
    "duration": 35,
    "start_time": "2022-08-27T14:52:19.118Z"
   },
   {
    "duration": 10,
    "start_time": "2022-08-27T14:52:25.973Z"
   },
   {
    "duration": 14,
    "start_time": "2022-08-27T14:52:33.143Z"
   },
   {
    "duration": 34,
    "start_time": "2022-08-27T14:57:37.410Z"
   },
   {
    "duration": 11,
    "start_time": "2022-08-27T14:57:53.162Z"
   },
   {
    "duration": 10,
    "start_time": "2022-08-27T14:58:39.472Z"
   },
   {
    "duration": 10,
    "start_time": "2022-08-27T15:02:51.633Z"
   },
   {
    "duration": 10,
    "start_time": "2022-08-27T15:47:19.523Z"
   },
   {
    "duration": 10,
    "start_time": "2022-08-27T15:47:58.918Z"
   },
   {
    "duration": 11,
    "start_time": "2022-08-27T15:50:55.424Z"
   },
   {
    "duration": 18,
    "start_time": "2022-08-27T15:51:12.446Z"
   },
   {
    "duration": 9,
    "start_time": "2022-08-27T15:53:34.613Z"
   },
   {
    "duration": 9,
    "start_time": "2022-08-27T16:00:20.045Z"
   },
   {
    "duration": 17,
    "start_time": "2022-08-27T16:02:27.284Z"
   },
   {
    "duration": 17,
    "start_time": "2022-08-27T16:02:39.790Z"
   },
   {
    "duration": 17,
    "start_time": "2022-08-27T16:02:51.820Z"
   },
   {
    "duration": 19,
    "start_time": "2022-08-27T16:03:04.092Z"
   },
   {
    "duration": 18,
    "start_time": "2022-08-27T16:03:08.309Z"
   },
   {
    "duration": 20,
    "start_time": "2022-08-27T16:03:21.348Z"
   },
   {
    "duration": 22,
    "start_time": "2022-08-27T16:03:30.685Z"
   },
   {
    "duration": 18,
    "start_time": "2022-08-27T16:03:40.579Z"
   },
   {
    "duration": 11,
    "start_time": "2022-08-27T16:03:52.102Z"
   },
   {
    "duration": 12,
    "start_time": "2022-08-27T16:04:01.932Z"
   },
   {
    "duration": 13,
    "start_time": "2022-08-27T16:04:10.241Z"
   },
   {
    "duration": 10,
    "start_time": "2022-08-27T16:04:14.612Z"
   },
   {
    "duration": 12,
    "start_time": "2022-08-27T16:04:24.946Z"
   },
   {
    "duration": 19,
    "start_time": "2022-08-27T16:04:32.772Z"
   },
   {
    "duration": 20,
    "start_time": "2022-08-27T16:05:30.311Z"
   },
   {
    "duration": 21,
    "start_time": "2022-08-27T16:12:29.833Z"
   },
   {
    "duration": 19,
    "start_time": "2022-08-27T16:13:35.482Z"
   },
   {
    "duration": 475,
    "start_time": "2022-08-27T16:13:40.700Z"
   },
   {
    "duration": 20,
    "start_time": "2022-08-27T16:13:41.176Z"
   },
   {
    "duration": 14,
    "start_time": "2022-08-27T16:13:41.197Z"
   },
   {
    "duration": 9,
    "start_time": "2022-08-27T16:13:41.213Z"
   },
   {
    "duration": 39,
    "start_time": "2022-08-27T16:13:41.223Z"
   },
   {
    "duration": 4,
    "start_time": "2022-08-27T16:13:41.263Z"
   },
   {
    "duration": 12,
    "start_time": "2022-08-27T16:13:41.268Z"
   },
   {
    "duration": 7,
    "start_time": "2022-08-27T16:13:41.281Z"
   },
   {
    "duration": 25,
    "start_time": "2022-08-27T16:13:41.289Z"
   },
   {
    "duration": 4,
    "start_time": "2022-08-27T16:13:41.317Z"
   },
   {
    "duration": 32,
    "start_time": "2022-08-27T16:13:41.323Z"
   },
   {
    "duration": 10,
    "start_time": "2022-08-27T16:13:41.357Z"
   },
   {
    "duration": 4,
    "start_time": "2022-08-27T16:13:41.369Z"
   },
   {
    "duration": 38,
    "start_time": "2022-08-27T16:13:41.374Z"
   },
   {
    "duration": 24,
    "start_time": "2022-08-27T16:13:41.414Z"
   },
   {
    "duration": 20,
    "start_time": "2022-08-27T16:13:41.440Z"
   },
   {
    "duration": 4,
    "start_time": "2022-08-27T16:13:41.461Z"
   },
   {
    "duration": 11,
    "start_time": "2022-08-27T16:13:41.466Z"
   },
   {
    "duration": 32,
    "start_time": "2022-08-27T16:13:41.479Z"
   },
   {
    "duration": 3,
    "start_time": "2022-08-27T16:13:41.513Z"
   },
   {
    "duration": 11,
    "start_time": "2022-08-27T16:13:41.517Z"
   },
   {
    "duration": 12,
    "start_time": "2022-08-27T16:13:41.529Z"
   },
   {
    "duration": 18,
    "start_time": "2022-08-27T16:13:41.543Z"
   },
   {
    "duration": 2,
    "start_time": "2022-08-27T16:13:41.563Z"
   },
   {
    "duration": 4,
    "start_time": "2022-08-27T16:13:41.566Z"
   },
   {
    "duration": 48,
    "start_time": "2022-08-27T17:27:48.028Z"
   },
   {
    "duration": 41,
    "start_time": "2022-08-27T17:28:24.193Z"
   },
   {
    "duration": 18,
    "start_time": "2022-08-27T18:13:28.334Z"
   },
   {
    "duration": 18,
    "start_time": "2022-08-27T18:13:47.105Z"
   },
   {
    "duration": 29,
    "start_time": "2022-08-27T18:13:54.638Z"
   },
   {
    "duration": 13,
    "start_time": "2022-08-27T18:14:06.588Z"
   },
   {
    "duration": 37,
    "start_time": "2022-08-27T18:14:08.708Z"
   },
   {
    "duration": 20,
    "start_time": "2022-08-27T18:14:18.524Z"
   },
   {
    "duration": 13,
    "start_time": "2022-08-28T08:04:55.127Z"
   },
   {
    "duration": 61,
    "start_time": "2022-08-28T08:04:59.953Z"
   },
   {
    "duration": 730,
    "start_time": "2022-08-28T08:05:09.877Z"
   },
   {
    "duration": 22,
    "start_time": "2022-08-28T08:05:10.609Z"
   },
   {
    "duration": 14,
    "start_time": "2022-08-28T08:05:10.632Z"
   },
   {
    "duration": 10,
    "start_time": "2022-08-28T08:05:10.648Z"
   },
   {
    "duration": 52,
    "start_time": "2022-08-28T08:05:10.659Z"
   },
   {
    "duration": 4,
    "start_time": "2022-08-28T08:05:10.712Z"
   },
   {
    "duration": 10,
    "start_time": "2022-08-28T08:05:10.717Z"
   },
   {
    "duration": 4,
    "start_time": "2022-08-28T08:05:10.728Z"
   },
   {
    "duration": 11,
    "start_time": "2022-08-28T08:05:10.733Z"
   },
   {
    "duration": 4,
    "start_time": "2022-08-28T08:05:10.746Z"
   },
   {
    "duration": 33,
    "start_time": "2022-08-28T08:05:10.751Z"
   },
   {
    "duration": 30,
    "start_time": "2022-08-28T08:05:10.785Z"
   },
   {
    "duration": 3,
    "start_time": "2022-08-28T08:05:10.816Z"
   },
   {
    "duration": 11,
    "start_time": "2022-08-28T08:05:10.821Z"
   },
   {
    "duration": 18,
    "start_time": "2022-08-28T08:05:10.834Z"
   },
   {
    "duration": 15,
    "start_time": "2022-08-28T08:05:10.853Z"
   },
   {
    "duration": 4,
    "start_time": "2022-08-28T08:05:10.869Z"
   },
   {
    "duration": 40,
    "start_time": "2022-08-28T08:05:10.875Z"
   },
   {
    "duration": 15,
    "start_time": "2022-08-28T08:05:10.916Z"
   },
   {
    "duration": 4,
    "start_time": "2022-08-28T08:05:10.933Z"
   },
   {
    "duration": 10,
    "start_time": "2022-08-28T08:05:10.938Z"
   },
   {
    "duration": 14,
    "start_time": "2022-08-28T08:05:10.950Z"
   },
   {
    "duration": 20,
    "start_time": "2022-08-28T08:05:10.965Z"
   },
   {
    "duration": 20,
    "start_time": "2022-08-28T08:05:11.011Z"
   },
   {
    "duration": 2,
    "start_time": "2022-08-28T08:05:11.033Z"
   },
   {
    "duration": 26,
    "start_time": "2022-08-28T08:06:52.571Z"
   },
   {
    "duration": 22,
    "start_time": "2022-08-28T08:07:26.213Z"
   },
   {
    "duration": 27,
    "start_time": "2022-08-28T08:08:23.024Z"
   },
   {
    "duration": 19,
    "start_time": "2022-08-28T08:08:35.289Z"
   },
   {
    "duration": 7,
    "start_time": "2022-08-28T08:10:23.005Z"
   },
   {
    "duration": 6,
    "start_time": "2022-08-28T08:10:32.898Z"
   },
   {
    "duration": 6,
    "start_time": "2022-08-28T08:11:47.345Z"
   },
   {
    "duration": 6,
    "start_time": "2022-08-28T08:11:47.930Z"
   },
   {
    "duration": 9,
    "start_time": "2022-08-28T08:11:48.546Z"
   },
   {
    "duration": 7,
    "start_time": "2022-08-28T08:11:58.109Z"
   },
   {
    "duration": 5,
    "start_time": "2022-08-28T08:11:58.631Z"
   },
   {
    "duration": 7,
    "start_time": "2022-08-28T08:11:59.034Z"
   },
   {
    "duration": 9,
    "start_time": "2022-08-28T08:12:28.424Z"
   },
   {
    "duration": 8,
    "start_time": "2022-08-28T08:12:29.269Z"
   },
   {
    "duration": 13,
    "start_time": "2022-08-28T08:12:29.941Z"
   },
   {
    "duration": 8,
    "start_time": "2022-08-28T08:13:26.173Z"
   },
   {
    "duration": 8,
    "start_time": "2022-08-28T08:13:26.676Z"
   },
   {
    "duration": 14,
    "start_time": "2022-08-28T08:13:27.179Z"
   },
   {
    "duration": 9,
    "start_time": "2022-08-28T08:18:01.462Z"
   },
   {
    "duration": 8,
    "start_time": "2022-08-28T08:18:02.020Z"
   },
   {
    "duration": 22,
    "start_time": "2022-08-28T08:18:02.528Z"
   },
   {
    "duration": 32,
    "start_time": "2022-08-28T08:51:40.635Z"
   },
   {
    "duration": 8,
    "start_time": "2022-08-28T08:51:48.919Z"
   },
   {
    "duration": 8,
    "start_time": "2022-08-28T08:54:53.265Z"
   },
   {
    "duration": 443,
    "start_time": "2022-08-28T10:11:58.627Z"
   },
   {
    "duration": 20,
    "start_time": "2022-08-28T10:11:59.072Z"
   },
   {
    "duration": 14,
    "start_time": "2022-08-28T10:11:59.093Z"
   },
   {
    "duration": 8,
    "start_time": "2022-08-28T10:11:59.109Z"
   },
   {
    "duration": 30,
    "start_time": "2022-08-28T10:11:59.118Z"
   },
   {
    "duration": 3,
    "start_time": "2022-08-28T10:11:59.150Z"
   },
   {
    "duration": 16,
    "start_time": "2022-08-28T10:11:59.154Z"
   },
   {
    "duration": 5,
    "start_time": "2022-08-28T10:11:59.171Z"
   },
   {
    "duration": 8,
    "start_time": "2022-08-28T10:11:59.177Z"
   },
   {
    "duration": 4,
    "start_time": "2022-08-28T10:11:59.188Z"
   },
   {
    "duration": 29,
    "start_time": "2022-08-28T10:11:59.211Z"
   },
   {
    "duration": 8,
    "start_time": "2022-08-28T10:11:59.242Z"
   },
   {
    "duration": 4,
    "start_time": "2022-08-28T10:11:59.251Z"
   },
   {
    "duration": 11,
    "start_time": "2022-08-28T10:11:59.256Z"
   },
   {
    "duration": 43,
    "start_time": "2022-08-28T10:11:59.268Z"
   },
   {
    "duration": 15,
    "start_time": "2022-08-28T10:11:59.313Z"
   },
   {
    "duration": 3,
    "start_time": "2022-08-28T10:11:59.329Z"
   },
   {
    "duration": 10,
    "start_time": "2022-08-28T10:11:59.334Z"
   },
   {
    "duration": 5,
    "start_time": "2022-08-28T10:11:59.346Z"
   },
   {
    "duration": 7,
    "start_time": "2022-08-28T10:11:59.353Z"
   },
   {
    "duration": 17,
    "start_time": "2022-08-28T10:11:59.361Z"
   },
   {
    "duration": 9,
    "start_time": "2022-08-28T10:11:59.379Z"
   },
   {
    "duration": 23,
    "start_time": "2022-08-28T10:11:59.389Z"
   },
   {
    "duration": 11,
    "start_time": "2022-08-28T10:11:59.414Z"
   },
   {
    "duration": 13,
    "start_time": "2022-08-28T10:11:59.427Z"
   },
   {
    "duration": 10,
    "start_time": "2022-08-28T10:11:59.442Z"
   },
   {
    "duration": 12,
    "start_time": "2022-08-28T10:11:59.454Z"
   },
   {
    "duration": 7,
    "start_time": "2022-08-28T10:11:59.469Z"
   },
   {
    "duration": 39,
    "start_time": "2022-08-28T10:11:59.477Z"
   },
   {
    "duration": 10,
    "start_time": "2022-08-28T10:11:59.517Z"
   },
   {
    "duration": 7,
    "start_time": "2022-08-28T10:11:59.528Z"
   },
   {
    "duration": 7,
    "start_time": "2022-08-28T10:11:59.536Z"
   },
   {
    "duration": 11,
    "start_time": "2022-08-28T10:11:59.545Z"
   },
   {
    "duration": 9,
    "start_time": "2022-08-28T20:02:47.286Z"
   },
   {
    "duration": 4,
    "start_time": "2022-08-28T20:06:33.787Z"
   },
   {
    "duration": 5,
    "start_time": "2022-08-28T20:06:34.635Z"
   },
   {
    "duration": 92,
    "start_time": "2022-08-28T20:11:50.947Z"
   },
   {
    "duration": 9,
    "start_time": "2022-08-28T20:12:28.174Z"
   },
   {
    "duration": 20,
    "start_time": "2022-08-28T20:13:12.755Z"
   },
   {
    "duration": 10,
    "start_time": "2022-08-28T20:13:48.327Z"
   },
   {
    "duration": 78,
    "start_time": "2022-08-28T20:15:48.028Z"
   },
   {
    "duration": 15,
    "start_time": "2022-08-28T20:15:59.142Z"
   },
   {
    "duration": 10,
    "start_time": "2022-08-28T20:16:14.138Z"
   },
   {
    "duration": 5,
    "start_time": "2022-08-28T20:16:49.591Z"
   },
   {
    "duration": 6,
    "start_time": "2022-08-28T20:16:50.002Z"
   },
   {
    "duration": 13,
    "start_time": "2022-08-28T20:17:51.234Z"
   },
   {
    "duration": 8,
    "start_time": "2022-08-28T20:20:03.538Z"
   },
   {
    "duration": 4,
    "start_time": "2022-08-28T20:20:04.363Z"
   },
   {
    "duration": 6,
    "start_time": "2022-08-28T20:20:16.927Z"
   },
   {
    "duration": 9,
    "start_time": "2022-08-28T20:21:34.156Z"
   },
   {
    "duration": 8,
    "start_time": "2022-08-28T20:23:18.466Z"
   },
   {
    "duration": 6,
    "start_time": "2022-08-28T20:23:34.964Z"
   },
   {
    "duration": 5,
    "start_time": "2022-08-28T20:23:38.546Z"
   },
   {
    "duration": 43,
    "start_time": "2022-08-28T20:25:58.333Z"
   },
   {
    "duration": 7,
    "start_time": "2022-08-28T20:30:27.122Z"
   },
   {
    "duration": 11,
    "start_time": "2022-08-28T20:30:53.500Z"
   },
   {
    "duration": 6,
    "start_time": "2022-08-28T20:31:47.021Z"
   },
   {
    "duration": 6,
    "start_time": "2022-08-28T20:31:49.183Z"
   },
   {
    "duration": 7,
    "start_time": "2022-08-28T20:31:51.203Z"
   },
   {
    "duration": 5,
    "start_time": "2022-08-28T20:31:58.445Z"
   },
   {
    "duration": 4,
    "start_time": "2022-08-28T20:57:23.303Z"
   },
   {
    "duration": 6,
    "start_time": "2022-08-28T20:58:25.528Z"
   }
  ],
  "colab": {
   "name": "dpp_template_part2.ipynb",
   "provenance": []
  },
  "kernelspec": {
   "display_name": "Python 3 (ipykernel)",
   "language": "python",
   "name": "python3"
  },
  "language_info": {
   "codemirror_mode": {
    "name": "ipython",
    "version": 3
   },
   "file_extension": ".py",
   "mimetype": "text/x-python",
   "name": "python",
   "nbconvert_exporter": "python",
   "pygments_lexer": "ipython3",
   "version": "3.11.4"
  },
  "toc": {
   "base_numbering": 1,
   "nav_menu": {},
   "number_sections": false,
   "sideBar": true,
   "skip_h1_title": false,
   "title_cell": "Table of Contents",
   "title_sidebar": "Contents",
   "toc_cell": false,
   "toc_position": {
    "height": "calc(100% - 180px)",
    "left": "10px",
    "top": "150px",
    "width": "248.3px"
   },
   "toc_section_display": true,
   "toc_window_display": false
  }
 },
 "nbformat": 4,
 "nbformat_minor": 5
}
