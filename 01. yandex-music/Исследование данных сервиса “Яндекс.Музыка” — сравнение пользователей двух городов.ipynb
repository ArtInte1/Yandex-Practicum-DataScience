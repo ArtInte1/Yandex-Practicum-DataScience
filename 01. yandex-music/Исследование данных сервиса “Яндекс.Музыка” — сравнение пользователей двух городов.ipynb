{
 "cells": [
  {
   "cell_type": "markdown",
   "metadata": {
    "id": "E0vqbgi9ay0H"
   },
   "source": [
    "<h1><center>Исследование данных сервиса “Яндекс.Музыка” — сравнение пользователей двух городов</center></h1>"
   ]
  },
  {
   "cell_type": "markdown",
   "metadata": {
    "id": "VUC88oWjTJw2"
   },
   "source": [
    "# Описание задачи\n",
    "На реальных данных музыкального сервиса c помощью библиотеки Pandas и её возможностей требуется проверить данные и сравнить поведение и предпочтения пользователей двух столиц — Москвы и Санкт-Петербурга.\n",
    "  \n",
    "**Цель исследования** — проверить три гипотезы:\n",
    "* Активность пользователей зависит от дня недели и различается в Москве и Петербурге. \n",
    "* В зависимости от дня недели (понедельник, среда или пятница) и времени суток в Москве преобладают одни жанры, а в Петербурге – другие.\n",
    "* В Москве чаще слушают поп-музыку, в Петербурге — русский рэп.\n",
    "\n",
    "**Ход исследования**\n",
    "\n",
    "1. [Обзор данных.](#Обзор-данных)\n",
    "2. [Предобработка данных.](#Предобработка-данных)\n",
    "3. [Проверка гипотез.](#Проверка-гипотез)"
   ]
  },
  {
   "cell_type": "markdown",
   "metadata": {
    "id": "Ml1hmfXC_Zcs"
   },
   "source": [
    "## Обзор данных"
   ]
  },
  {
   "cell_type": "code",
   "execution_count": 1,
   "metadata": {
    "id": "AXN7PHPN_Zcs"
   },
   "outputs": [],
   "source": [
    "# Импорт библиотеки pandas\n",
    "\n",
    "import pandas as pd"
   ]
  },
  {
   "cell_type": "code",
   "execution_count": 2,
   "metadata": {
    "id": "fFVu7vqh_Zct"
   },
   "outputs": [],
   "source": [
    "# чтение файла\n",
    "\n",
    "df = pd.read_csv('/datasets/yandex_music_project.csv')"
   ]
  },
  {
   "cell_type": "code",
   "execution_count": 3,
   "metadata": {
    "id": "oWTVX3gW_Zct"
   },
   "outputs": [
    {
     "name": "stdout",
     "output_type": "stream",
     "text": [
      "     userID                        Track            artist   genre  \\\n",
      "0  FFB692EC            Kamigata To Boots  The Mass Missile    rock   \n",
      "1  55204538  Delayed Because of Accident  Andreas Rönnberg    rock   \n",
      "2    20EC38            Funiculì funiculà       Mario Lanza     pop   \n",
      "3  A3DD03C9        Dragons in the Sunset        Fire + Ice    folk   \n",
      "4  E2DC1FAE                  Soul People        Space Echo   dance   \n",
      "5  842029A1                    Преданная         IMPERVTOR  rusrap   \n",
      "6  4CB90AA5                         True      Roman Messer   dance   \n",
      "7  F03E1C1F             Feeling This Way   Polina Griffith   dance   \n",
      "8  8FA1D3BE     И вновь продолжается бой               NaN  ruspop   \n",
      "9  E772D5C0                    Pessimist               NaN   dance   \n",
      "\n",
      "             City        time        Day  \n",
      "0  Saint-Petersburg  20:28:33  Wednesday  \n",
      "1            Moscow  14:07:09     Friday  \n",
      "2  Saint-Petersburg  20:58:07  Wednesday  \n",
      "3  Saint-Petersburg  08:37:09     Monday  \n",
      "4            Moscow  08:34:34     Monday  \n",
      "5  Saint-Petersburg  13:09:41     Friday  \n",
      "6            Moscow  13:00:07  Wednesday  \n",
      "7            Moscow  20:47:49  Wednesday  \n",
      "8            Moscow  09:17:40     Friday  \n",
      "9  Saint-Petersburg  21:20:49  Wednesday  \n"
     ]
    }
   ],
   "source": [
    "# знакомство с содержанием\n",
    "\n",
    "print(df.head(10))"
   ]
  },
  {
   "cell_type": "code",
   "execution_count": 4,
   "metadata": {
    "id": "DSf2kIb-_Zct"
   },
   "outputs": [
    {
     "name": "stdout",
     "output_type": "stream",
     "text": [
      "<class 'pandas.core.frame.DataFrame'>\n",
      "RangeIndex: 65079 entries, 0 to 65078\n",
      "Data columns (total 7 columns):\n",
      " #   Column    Non-Null Count  Dtype \n",
      "---  ------    --------------  ----- \n",
      " 0     userID  65079 non-null  object\n",
      " 1   Track     63848 non-null  object\n",
      " 2   artist    57876 non-null  object\n",
      " 3   genre     63881 non-null  object\n",
      " 4     City    65079 non-null  object\n",
      " 5   time      65079 non-null  object\n",
      " 6   Day       65079 non-null  object\n",
      "dtypes: object(7)\n",
      "memory usage: 3.5+ MB\n"
     ]
    }
   ],
   "source": [
    "# получение общей информации\n",
    "\n",
    "df.info()"
   ]
  },
  {
   "cell_type": "markdown",
   "metadata": {
    "id": "TaQ2Iwbr_Zct"
   },
   "source": [
    "Из документации известно:\n",
    "\n",
    "* `userID` — идентификатор пользователя;\n",
    "* `Track` — название трека;  \n",
    "* `artist` — имя исполнителя;\n",
    "* `genre` — название жанра;\n",
    "* `City` — город пользователя;\n",
    "* `time` — время начала прослушивания;\n",
    "* `Day` — день недели.\n",
    "\n",
    "Количество значений в столбцах различается. Значит, в данных есть пропущенные значения.  \n",
    "Также в названиях колонок видны нарушения стиля:\n",
    "* Строчные буквы сочетаются с прописными.\n",
    "* Встречаются пробелы.\n",
    "* Не используется \"змеиный регистр\", вместо чего используется \"верблюжий\" в колонке userID."
   ]
  },
  {
   "cell_type": "markdown",
   "metadata": {
    "id": "MCB6-dXG_Zct"
   },
   "source": [
    "**Выводы**\n",
    "\n",
    "В каждой строке таблицы — данные о прослушанном треке. Часть колонок описывает саму композицию: название, исполнителя и жанр. Остальные данные рассказывают о пользователе: из какого он города, когда он слушал музыку. \n",
    "\n",
    "Предварительно можно утверждать, что данных достаточно для проверки гипотез. Но встречаются пропуски в данных, а в названиях колонок — расхождения с хорошим стилем.\n",
    "\n",
    "Чтобы двигаться дальше, нужно устранить проблемы в данных."
   ]
  },
  {
   "cell_type": "markdown",
   "metadata": {
    "id": "SjYF6Ub9_Zct"
   },
   "source": [
    "## Предобработка данных"
   ]
  },
  {
   "cell_type": "markdown",
   "metadata": {
    "id": "dIaKXr29_Zct",
    "tags": [
     "start_task"
    ]
   },
   "source": [
    "### Стиль заголовков"
   ]
  },
  {
   "cell_type": "code",
   "execution_count": 6,
   "metadata": {
    "id": "oKOTdF_Q_Zct",
    "scrolled": true
   },
   "outputs": [
    {
     "name": "stdout",
     "output_type": "stream",
     "text": [
      "Index(['  userID', 'Track', 'artist', 'genre', '  City  ', 'time', 'Day'], dtype='object')\n"
     ]
    }
   ],
   "source": [
    "# вывод наименований столбцов\n",
    "\n",
    "print(df.columns)"
   ]
  },
  {
   "cell_type": "code",
   "execution_count": 7,
   "metadata": {
    "id": "ISlFqs5y_Zct"
   },
   "outputs": [],
   "source": [
    "# переименуем столбцы для удобства\n",
    "\n",
    "df = df.rename(columns = {'  userID': 'user_id', 'Track': 'track', '  City  ': 'city', 'Day': 'day'})"
   ]
  },
  {
   "cell_type": "code",
   "execution_count": 8,
   "metadata": {
    "id": "d4NOAmTW_Zct"
   },
   "outputs": [
    {
     "name": "stdout",
     "output_type": "stream",
     "text": [
      "Index(['user_id', 'track', 'artist', 'genre', 'city', 'time', 'day'], dtype='object')\n"
     ]
    }
   ],
   "source": [
    "# проверка\n",
    "\n",
    "print(df.columns)"
   ]
  },
  {
   "cell_type": "markdown",
   "metadata": {
    "id": "5ISfbcfY_Zct",
    "tags": [
     "start_task"
    ]
   },
   "source": [
    "### Пропуски значений"
   ]
  },
  {
   "cell_type": "code",
   "execution_count": 9,
   "metadata": {
    "id": "RskX29qr_Zct"
   },
   "outputs": [
    {
     "name": "stdout",
     "output_type": "stream",
     "text": [
      "user_id       0\n",
      "track      1231\n",
      "artist     7203\n",
      "genre      1198\n",
      "city          0\n",
      "time          0\n",
      "day           0\n",
      "dtype: int64\n"
     ]
    }
   ],
   "source": [
    "# вывод значений пропусков в каждом столбце\n",
    "\n",
    "print(df.isna().sum())"
   ]
  },
  {
   "cell_type": "markdown",
   "metadata": {
    "id": "qubhgnlO_Zct"
   },
   "source": [
    "Не все пропущенные значения влияют на исследование. Так в `track` и `artist` пропуски не важны для вашей работы. Достаточно заменить их явными обозначениями.\n",
    "\n",
    "Но пропуски в `genre` могут помешать сравнению музыкальных вкусов в Москве и Санкт-Петербурге. На практике было бы правильно установить причину пропусков и восстановить данные. Такой возможности нет в учебном проекте. Придётся:\n",
    "* заполнить и эти пропуски явными обозначениями;\n",
    "* оценить, насколько они повредят расчётам."
   ]
  },
  {
   "cell_type": "code",
   "execution_count": 10,
   "metadata": {
    "id": "KplB5qWs_Zct"
   },
   "outputs": [],
   "source": [
    "# замена пропущенных значений на категорию unknown\n",
    "\n",
    "columns_to_replace = ['track', 'artist', 'genre']\n",
    "\n",
    "for col in columns_to_replace:\n",
    "    df[:][col] = df[:][col].fillna('unknown')"
   ]
  },
  {
   "cell_type": "code",
   "execution_count": 11,
   "metadata": {
    "id": "Tq4nYRX4_Zct",
    "scrolled": true
   },
   "outputs": [
    {
     "name": "stdout",
     "output_type": "stream",
     "text": [
      "user_id    0\n",
      "track      0\n",
      "artist     0\n",
      "genre      0\n",
      "city       0\n",
      "time       0\n",
      "day        0\n",
      "dtype: int64\n"
     ]
    }
   ],
   "source": [
    "# проверка\n",
    "\n",
    "print(df.isna().sum())"
   ]
  },
  {
   "cell_type": "markdown",
   "metadata": {
    "id": "BWKRtBJ3_Zct",
    "tags": [
     "start_task"
    ]
   },
   "source": [
    "### Дубликаты"
   ]
  },
  {
   "cell_type": "code",
   "execution_count": 12,
   "metadata": {
    "id": "36eES_S0_Zct"
   },
   "outputs": [
    {
     "data": {
      "text/plain": [
       "3826"
      ]
     },
     "execution_count": 12,
     "metadata": {},
     "output_type": "execute_result"
    }
   ],
   "source": [
    "# определение кол-ва явных дубликатов\n",
    "\n",
    "df.duplicated().sum()"
   ]
  },
  {
   "cell_type": "code",
   "execution_count": 13,
   "metadata": {
    "id": "exFHq6tt_Zct"
   },
   "outputs": [],
   "source": [
    "# удаление явных дубликатов\n",
    "\n",
    "df = df.drop_duplicates().reset_index(drop=True)"
   ]
  },
  {
   "cell_type": "code",
   "execution_count": 14,
   "metadata": {
    "id": "-8PuNWQ0_Zct"
   },
   "outputs": [
    {
     "data": {
      "text/plain": [
       "0"
      ]
     },
     "execution_count": 14,
     "metadata": {},
     "output_type": "execute_result"
    }
   ],
   "source": [
    "# проверка\n",
    "\n",
    "df.duplicated().sum()"
   ]
  },
  {
   "cell_type": "markdown",
   "metadata": {
    "id": "QlFBsxAr_Zct"
   },
   "source": [
    "Следующий шаг – избавление от неявных дубликатов. Например, название одного и того же жанра может быть записано немного по-разному. Это не допустимо и может исказить результат исследования."
   ]
  },
  {
   "cell_type": "code",
   "execution_count": 15,
   "metadata": {
    "id": "JIUcqzZN_Zct"
   },
   "outputs": [
    {
     "data": {
      "text/plain": [
       "array(['acid', 'acoustic', 'action', 'adult', 'africa', 'afrikaans',\n",
       "       'alternative', 'alternativepunk', 'ambient', 'americana',\n",
       "       'animated', 'anime', 'arabesk', 'arabic', 'arena',\n",
       "       'argentinetango', 'art', 'audiobook', 'author', 'avantgarde',\n",
       "       'axé', 'baile', 'balkan', 'beats', 'bigroom', 'black', 'bluegrass',\n",
       "       'blues', 'bollywood', 'bossa', 'brazilian', 'breakbeat', 'breaks',\n",
       "       'broadway', 'cantautori', 'cantopop', 'canzone', 'caribbean',\n",
       "       'caucasian', 'celtic', 'chamber', 'chanson', 'children', 'chill',\n",
       "       'chinese', 'choral', 'christian', 'christmas', 'classical',\n",
       "       'classicmetal', 'club', 'colombian', 'comedy', 'conjazz',\n",
       "       'contemporary', 'country', 'cuban', 'dance', 'dancehall',\n",
       "       'dancepop', 'dark', 'death', 'deep', 'deutschrock', 'deutschspr',\n",
       "       'dirty', 'disco', 'dnb', 'documentary', 'downbeat', 'downtempo',\n",
       "       'drum', 'dub', 'dubstep', 'eastern', 'easy', 'electronic',\n",
       "       'electropop', 'emo', 'entehno', 'epicmetal', 'estrada', 'ethnic',\n",
       "       'eurofolk', 'european', 'experimental', 'extrememetal', 'fado',\n",
       "       'fairytail', 'film', 'fitness', 'flamenco', 'folk', 'folklore',\n",
       "       'folkmetal', 'folkrock', 'folktronica', 'forró', 'frankreich',\n",
       "       'französisch', 'french', 'funk', 'future', 'gangsta', 'garage',\n",
       "       'german', 'ghazal', 'gitarre', 'glitch', 'gospel', 'gothic',\n",
       "       'grime', 'grunge', 'gypsy', 'handsup', \"hard'n'heavy\", 'hardcore',\n",
       "       'hardstyle', 'hardtechno', 'hip', 'hip-hop', 'hiphop',\n",
       "       'historisch', 'holiday', 'hop', 'horror', 'house', 'hymn', 'idm',\n",
       "       'independent', 'indian', 'indie', 'indipop', 'industrial',\n",
       "       'inspirational', 'instrumental', 'international', 'irish', 'jam',\n",
       "       'japanese', 'jazz', 'jewish', 'jpop', 'jungle', 'k-pop',\n",
       "       'karadeniz', 'karaoke', 'kayokyoku', 'korean', 'laiko', 'latin',\n",
       "       'latino', 'leftfield', 'local', 'lounge', 'loungeelectronic',\n",
       "       'lovers', 'malaysian', 'mandopop', 'marschmusik', 'meditative',\n",
       "       'mediterranean', 'melodic', 'metal', 'metalcore', 'mexican',\n",
       "       'middle', 'minimal', 'miscellaneous', 'modern', 'mood', 'mpb',\n",
       "       'muslim', 'native', 'neoklassik', 'neue', 'new', 'newage',\n",
       "       'newwave', 'nu', 'nujazz', 'numetal', 'oceania', 'old', 'opera',\n",
       "       'orchestral', 'other', 'piano', 'podcasts', 'pop', 'popdance',\n",
       "       'popelectronic', 'popeurodance', 'poprussian', 'post',\n",
       "       'posthardcore', 'postrock', 'power', 'progmetal', 'progressive',\n",
       "       'psychedelic', 'punjabi', 'punk', 'quebecois', 'ragga', 'ram',\n",
       "       'rancheras', 'rap', 'rave', 'reggae', 'reggaeton', 'regional',\n",
       "       'relax', 'religious', 'retro', 'rhythm', 'rnb', 'rnr', 'rock',\n",
       "       'rockabilly', 'rockalternative', 'rockindie', 'rockother',\n",
       "       'romance', 'roots', 'ruspop', 'rusrap', 'rusrock', 'russian',\n",
       "       'salsa', 'samba', 'scenic', 'schlager', 'self', 'sertanejo',\n",
       "       'shanson', 'shoegazing', 'showtunes', 'singer', 'ska', 'skarock',\n",
       "       'slow', 'smooth', 'soft', 'soul', 'soulful', 'sound', 'soundtrack',\n",
       "       'southern', 'specialty', 'speech', 'spiritual', 'sport',\n",
       "       'stonerrock', 'surf', 'swing', 'synthpop', 'synthrock',\n",
       "       'sängerportrait', 'tango', 'tanzorchester', 'taraftar', 'tatar',\n",
       "       'tech', 'techno', 'teen', 'thrash', 'top', 'traditional',\n",
       "       'tradjazz', 'trance', 'tribal', 'trip', 'triphop', 'tropical',\n",
       "       'türk', 'türkçe', 'ukrrock', 'unknown', 'urban', 'uzbek',\n",
       "       'variété', 'vi', 'videogame', 'vocal', 'western', 'world',\n",
       "       'worldbeat', 'ïîï', 'электроника'], dtype=object)"
      ]
     },
     "execution_count": 15,
     "metadata": {},
     "output_type": "execute_result"
    }
   ],
   "source": [
    "# вывод уникальных значений из столбца genre\n",
    "\n",
    "genre_sorted = df['genre'].sort_values()\n",
    "genre_sorted.unique()"
   ]
  },
  {
   "cell_type": "markdown",
   "metadata": {
    "id": "qej-Qmuo_Zct",
    "tags": [
     "start_task"
    ]
   },
   "source": [
    "Мы видим несколько разных значений которые отсылают к жанру hiphop"
   ]
  },
  {
   "cell_type": "code",
   "execution_count": 16,
   "metadata": {
    "id": "ErNDkmns_Zct"
   },
   "outputs": [],
   "source": [
    "# замена неявных дубликатов жанра hip-hop\n",
    "\n",
    "df['genre'] = df['genre'].replace(['hip', 'hop', 'hip-hop'], 'hiphop')"
   ]
  },
  {
   "cell_type": "code",
   "execution_count": 17,
   "metadata": {
    "id": "wvixALnFG15m"
   },
   "outputs": [
    {
     "name": "stdout",
     "output_type": "stream",
     "text": [
      "['acid' 'acoustic' 'action' 'adult' 'africa' 'afrikaans' 'alternative'\n",
      " 'alternativepunk' 'ambient' 'americana' 'animated' 'anime' 'arabesk'\n",
      " 'arabic' 'arena' 'argentinetango' 'art' 'audiobook' 'author' 'avantgarde'\n",
      " 'axé' 'baile' 'balkan' 'beats' 'bigroom' 'black' 'bluegrass' 'blues'\n",
      " 'bollywood' 'bossa' 'brazilian' 'breakbeat' 'breaks' 'broadway'\n",
      " 'cantautori' 'cantopop' 'canzone' 'caribbean' 'caucasian' 'celtic'\n",
      " 'chamber' 'chanson' 'children' 'chill' 'chinese' 'choral' 'christian'\n",
      " 'christmas' 'classical' 'classicmetal' 'club' 'colombian' 'comedy'\n",
      " 'conjazz' 'contemporary' 'country' 'cuban' 'dance' 'dancehall' 'dancepop'\n",
      " 'dark' 'death' 'deep' 'deutschrock' 'deutschspr' 'dirty' 'disco' 'dnb'\n",
      " 'documentary' 'downbeat' 'downtempo' 'drum' 'dub' 'dubstep' 'eastern'\n",
      " 'easy' 'electronic' 'electropop' 'emo' 'entehno' 'epicmetal' 'estrada'\n",
      " 'ethnic' 'eurofolk' 'european' 'experimental' 'extrememetal' 'fado'\n",
      " 'fairytail' 'film' 'fitness' 'flamenco' 'folk' 'folklore' 'folkmetal'\n",
      " 'folkrock' 'folktronica' 'forró' 'frankreich' 'französisch' 'french'\n",
      " 'funk' 'future' 'gangsta' 'garage' 'german' 'ghazal' 'gitarre' 'glitch'\n",
      " 'gospel' 'gothic' 'grime' 'grunge' 'gypsy' 'handsup' \"hard'n'heavy\"\n",
      " 'hardcore' 'hardstyle' 'hardtechno' 'hiphop' 'historisch' 'holiday'\n",
      " 'horror' 'house' 'hymn' 'idm' 'independent' 'indian' 'indie' 'indipop'\n",
      " 'industrial' 'inspirational' 'instrumental' 'international' 'irish' 'jam'\n",
      " 'japanese' 'jazz' 'jewish' 'jpop' 'jungle' 'k-pop' 'karadeniz' 'karaoke'\n",
      " 'kayokyoku' 'korean' 'laiko' 'latin' 'latino' 'leftfield' 'local'\n",
      " 'lounge' 'loungeelectronic' 'lovers' 'malaysian' 'mandopop' 'marschmusik'\n",
      " 'meditative' 'mediterranean' 'melodic' 'metal' 'metalcore' 'mexican'\n",
      " 'middle' 'minimal' 'miscellaneous' 'modern' 'mood' 'mpb' 'muslim'\n",
      " 'native' 'neoklassik' 'neue' 'new' 'newage' 'newwave' 'nu' 'nujazz'\n",
      " 'numetal' 'oceania' 'old' 'opera' 'orchestral' 'other' 'piano' 'podcasts'\n",
      " 'pop' 'popdance' 'popelectronic' 'popeurodance' 'poprussian' 'post'\n",
      " 'posthardcore' 'postrock' 'power' 'progmetal' 'progressive' 'psychedelic'\n",
      " 'punjabi' 'punk' 'quebecois' 'ragga' 'ram' 'rancheras' 'rap' 'rave'\n",
      " 'reggae' 'reggaeton' 'regional' 'relax' 'religious' 'retro' 'rhythm'\n",
      " 'rnb' 'rnr' 'rock' 'rockabilly' 'rockalternative' 'rockindie' 'rockother'\n",
      " 'romance' 'roots' 'ruspop' 'rusrap' 'rusrock' 'russian' 'salsa' 'samba'\n",
      " 'scenic' 'schlager' 'self' 'sertanejo' 'shanson' 'shoegazing' 'showtunes'\n",
      " 'singer' 'ska' 'skarock' 'slow' 'smooth' 'soft' 'soul' 'soulful' 'sound'\n",
      " 'soundtrack' 'southern' 'specialty' 'speech' 'spiritual' 'sport'\n",
      " 'stonerrock' 'surf' 'swing' 'synthpop' 'synthrock' 'sängerportrait'\n",
      " 'tango' 'tanzorchester' 'taraftar' 'tatar' 'tech' 'techno' 'teen'\n",
      " 'thrash' 'top' 'traditional' 'tradjazz' 'trance' 'tribal' 'trip'\n",
      " 'triphop' 'tropical' 'türk' 'türkçe' 'ukrrock' 'unknown' 'urban' 'uzbek'\n",
      " 'variété' 'vi' 'videogame' 'vocal' 'western' 'world' 'worldbeat' 'ïîï'\n",
      " 'электроника']\n"
     ]
    }
   ],
   "source": [
    "# проверка\n",
    "\n",
    "genre_sorted = df['genre'].sort_values()\n",
    "print(genre_sorted.unique())"
   ]
  },
  {
   "cell_type": "markdown",
   "metadata": {
    "id": "jz6a9-7HQUDd"
   },
   "source": [
    "**Выводы**\n",
    "\n",
    "Предобработка обнаружила три проблемы в данных:\n",
    "\n",
    "- нарушения в стиле заголовков,\n",
    "- пропущенные значения,\n",
    "- дубликаты — явные и неявные.\n",
    "\n",
    "Были исправлены заголовки для удобства работы с таблицей. Исправлена проблема дубликатов для улучшения точности исследования.\n",
    "Пропуски заменены на `'unknown'` для учёта в анализе. Ещё предстоит увидеть, не повредят ли исследованию пропуски в колонке `genre`.\n",
    "\n",
    "Переходим к проверке гипотез."
   ]
  },
  {
   "cell_type": "markdown",
   "metadata": {
    "id": "WttZHXH0SqKk"
   },
   "source": [
    "## Проверка гипотез"
   ]
  },
  {
   "cell_type": "markdown",
   "metadata": {
    "id": "Im936VVi_Zcu"
   },
   "source": [
    "### Сравнение поведения пользователей двух столиц"
   ]
  },
  {
   "cell_type": "markdown",
   "metadata": {
    "id": "nwt_MuaL_Zcu"
   },
   "source": [
    "Первая гипотеза утверждает, что пользователи по-разному слушают музыку в Москве и Санкт-Петербурге.\n",
    "Для этого следует:\n",
    "\n",
    "* Разделить пользователей Москвы и Санкт-Петербурга.\n",
    "* Сравнить, сколько треков послушала каждая группа пользователей в понедельник, среду и пятницу."
   ]
  },
  {
   "cell_type": "code",
   "execution_count": 18,
   "metadata": {
    "id": "0_Qs96oh_Zcu"
   },
   "outputs": [
    {
     "data": {
      "text/plain": [
       "city\n",
       "Moscow              42741\n",
       "Saint-Petersburg    18512\n",
       "Name: day, dtype: int64"
      ]
     },
     "execution_count": 18,
     "metadata": {},
     "output_type": "execute_result"
    }
   ],
   "source": [
    "# группируем активность по городу и подсчитываем кол-во записей\n",
    "\n",
    "city_group = df.groupby('city')['day']\n",
    "city_group.count()"
   ]
  },
  {
   "cell_type": "markdown",
   "metadata": {
    "id": "dzli3w8o_Zcu",
    "tags": [
     "start_task"
    ]
   },
   "source": [
    "В Москве прослушиваний больше, чем в Петербурге. Из этого не следует, что московские пользователи чаще слушают музыку. Просто самих пользователей в Москве больше."
   ]
  },
  {
   "cell_type": "code",
   "execution_count": 19,
   "metadata": {
    "id": "uZMKjiJz_Zcu"
   },
   "outputs": [
    {
     "name": "stdout",
     "output_type": "stream",
     "text": [
      "day\n",
      "Friday       21840\n",
      "Monday       21354\n",
      "Wednesday    18059\n",
      "Name: track, dtype: int64\n"
     ]
    }
   ],
   "source": [
    "# группировка данных и подсчёт прослушиваний по дню\n",
    "\n",
    "day_group = df.groupby('day')['track']\n",
    "print(day_group.count())"
   ]
  },
  {
   "cell_type": "markdown",
   "metadata": {
    "id": "cC2tNrlL_Zcu"
   },
   "source": [
    "В среднем пользователи из двух городов менее активны по средам. Но картина может измениться, если рассмотреть каждый город в отдельности."
   ]
  },
  {
   "cell_type": "markdown",
   "metadata": {
    "id": "POzs8bGa_Zcu",
    "tags": [
     "start_task"
    ]
   },
   "source": [
    "Для этого примените последовательную фильтрацию с логической индексацией (или сложные логические выражения в одну строку, если вы уже знакомы с ними).\n",
    "\n",
    "Затем посчитайте значения в столбце `user_id` получившейся таблицы. Результат сохраните в новую переменную. Верните эту переменную из функции."
   ]
  },
  {
   "cell_type": "code",
   "execution_count": 39,
   "metadata": {
    "id": "Nz3GdQB1_Zcu"
   },
   "outputs": [],
   "source": [
    "def number_tracks(day, city):\n",
    "'''\n",
    "Функция возвращает кол-во прослушиваний в заданном городе в конкретный день\n",
    "\n",
    "day - день недели\n",
    "city - название города\n",
    "'''\n",
    "    track_list = df[(df['day'] == day) & (df['city'] == city)] \n",
    "    track_list_count = track_list['user_id'].count()\n",
    "    print(track_list['user_id'])\n",
    "    return track_list_count"
   ]
  },
  {
   "cell_type": "markdown",
   "metadata": {},
   "source": [
    "Прогоним значения нужных дней и городов через функцию"
   ]
  },
  {
   "cell_type": "code",
   "execution_count": 40,
   "metadata": {
    "id": "rJcRATNQ_Zcu"
   },
   "outputs": [
    {
     "name": "stdout",
     "output_type": "stream",
     "text": [
      "4        E2DC1FAE\n",
      "10       BC5A3A29\n",
      "11       8B5192C0\n",
      "12       FF3FD2BD\n",
      "15       E3C5756F\n",
      "           ...   \n",
      "61213    3D9BF4F3\n",
      "61219    57B3F0CE\n",
      "61224    9656377C\n",
      "61225    85A7CFD3\n",
      "61247    83A474E7\n",
      "Name: user_id, Length: 15740, dtype: object\n"
     ]
    },
    {
     "data": {
      "text/plain": [
       "15740"
      ]
     },
     "execution_count": 40,
     "metadata": {},
     "output_type": "execute_result"
    }
   ],
   "source": [
    "number_tracks('Monday', 'Moscow') # количество прослушиваний в Москве по понедельникам "
   ]
  },
  {
   "cell_type": "code",
   "execution_count": 22,
   "metadata": {
    "id": "hq_ncZ5T_Zcu"
   },
   "outputs": [
    {
     "name": "stdout",
     "output_type": "stream",
     "text": [
      "5614\n"
     ]
    },
    {
     "data": {
      "text/plain": [
       "5614"
      ]
     },
     "execution_count": 22,
     "metadata": {},
     "output_type": "execute_result"
    }
   ],
   "source": [
    "number_tracks('Monday', 'Saint-Petersburg') # количество прослушиваний в Санкт-Петербурге по понедельникам"
   ]
  },
  {
   "cell_type": "code",
   "execution_count": 23,
   "metadata": {
    "id": "_NTy2VPU_Zcu"
   },
   "outputs": [
    {
     "name": "stdout",
     "output_type": "stream",
     "text": [
      "11056\n"
     ]
    },
    {
     "data": {
      "text/plain": [
       "11056"
      ]
     },
     "execution_count": 23,
     "metadata": {},
     "output_type": "execute_result"
    }
   ],
   "source": [
    "number_tracks('Wednesday', 'Moscow') # количество прослушиваний в Москве по средам"
   ]
  },
  {
   "cell_type": "code",
   "execution_count": 24,
   "metadata": {
    "id": "j2y3TAwo_Zcu"
   },
   "outputs": [
    {
     "name": "stdout",
     "output_type": "stream",
     "text": [
      "7003\n"
     ]
    },
    {
     "data": {
      "text/plain": [
       "7003"
      ]
     },
     "execution_count": 24,
     "metadata": {},
     "output_type": "execute_result"
    }
   ],
   "source": [
    "number_tracks('Wednesday', 'Saint-Petersburg') # количество прослушиваний в Санкт-Петербурге по средам"
   ]
  },
  {
   "cell_type": "code",
   "execution_count": 25,
   "metadata": {
    "id": "vYDw5u_K_Zcu"
   },
   "outputs": [
    {
     "name": "stdout",
     "output_type": "stream",
     "text": [
      "15945\n"
     ]
    },
    {
     "data": {
      "text/plain": [
       "15945"
      ]
     },
     "execution_count": 25,
     "metadata": {},
     "output_type": "execute_result"
    }
   ],
   "source": [
    "number_tracks('Friday', 'Moscow') # количество прослушиваний в Москве по пятницам "
   ]
  },
  {
   "cell_type": "code",
   "execution_count": 26,
   "metadata": {
    "id": "8_yzFtW3_Zcu"
   },
   "outputs": [
    {
     "name": "stdout",
     "output_type": "stream",
     "text": [
      "5895\n"
     ]
    },
    {
     "data": {
      "text/plain": [
       "5895"
      ]
     },
     "execution_count": 26,
     "metadata": {},
     "output_type": "execute_result"
    }
   ],
   "source": [
    "number_tracks('Friday', 'Saint-Petersburg') # количество прослушиваний в Санкт-Петербурге по пятницам"
   ]
  },
  {
   "cell_type": "code",
   "execution_count": 27,
   "metadata": {
    "id": "APAcLpOr_Zcu"
   },
   "outputs": [
    {
     "name": "stdout",
     "output_type": "stream",
     "text": [
      "               city  monday  wednesday  friday\n",
      "0            Moscow   15740      11056   15945\n",
      "1  Saint-Petersburg    5614       7003    5895\n"
     ]
    }
   ],
   "source": [
    "# свдоим полученные данные в таблицу\n",
    "\n",
    "track_listening = pd.DataFrame(data=[['Moscow', 15740, 11056, 15945,],\n",
    "                                    ['Saint-Petersburg', 5614, 7003, 5895]], columns=['city', 'monday', 'wednesday', 'friday'])\n",
    "print(track_listening)"
   ]
  },
  {
   "cell_type": "markdown",
   "metadata": {
    "id": "-EgPIHYu_Zcu"
   },
   "source": [
    "**Выводы**\n",
    "\n",
    "Данные показывают разницу поведения пользователей:\n",
    "\n",
    "- В Москве пик прослушиваний приходится на понедельник и пятницу, а в среду заметен спад.\n",
    "- В Петербурге, наоборот, больше слушают музыку по средам. Активность в понедельник и пятницу здесь почти в равной мере уступает среде.\n",
    "\n",
    "Значит, данные говорят в пользу первой гипотезы."
   ]
  },
  {
   "cell_type": "markdown",
   "metadata": {
    "id": "atZAxtq4_Zcu"
   },
   "source": [
    "### Музыка в начале и в конце недели"
   ]
  },
  {
   "cell_type": "markdown",
   "metadata": {
    "id": "eXrQqXFH_Zcu"
   },
   "source": [
    "Согласно второй гипотезе, утром в понедельник в Москве преобладают одни жанры, а в Петербурге — другие. Так же и вечером пятницы преобладают разные жанры — в зависимости от города."
   ]
  },
  {
   "cell_type": "code",
   "execution_count": 28,
   "metadata": {
    "id": "qeaFfM_P_Zcu"
   },
   "outputs": [],
   "source": [
    "# таблица с данными по Москве\n",
    "\n",
    "moscow_general = df[df['city'] == 'Moscow'] "
   ]
  },
  {
   "cell_type": "code",
   "execution_count": 29,
   "metadata": {
    "id": "ORaVRKto_Zcu"
   },
   "outputs": [],
   "source": [
    "# таблица с данными по Петербургу\n",
    "\n",
    "spb_general = df[df['city'] == 'Saint-Petersburg']"
   ]
  },
  {
   "cell_type": "markdown",
   "metadata": {
    "id": "MEJV-CX2_Zcu",
    "tags": [
     "start_task"
    ]
   },
   "source": [
    "Создадим функцию `genre_weekday()`"
   ]
  },
  {
   "cell_type": "code",
   "execution_count": 30,
   "metadata": {
    "id": "laJT9BYl_Zcu"
   },
   "outputs": [],
   "source": [
    "def genre_weekday(table, day, time1, time2):\n",
    "    '''\n",
    "    Функция возвращает информацию о топ-10 жанров треков, которые прослушивали в указанный день,\n",
    "    в указанном временном промежутке\n",
    "    \n",
    "    table - датафрейм\n",
    "    day - день недели\n",
    "    time1 - начальная временная метка\n",
    "    time2 - конечная временная метка\n",
    "    '''\n",
    "    \n",
    "    genre_df = table.loc[table.loc[:, 'day'] == day] \n",
    "    genre_df = genre_df.loc[genre_df.loc[:, 'time'] < time2] \n",
    "    genre_df = genre_df.loc[genre_df.loc[:, 'time'] > time1] \n",
    "    genre_df_grouped = genre_df.groupby('genre')['genre'].count() \n",
    "    genre_df_sorted = genre_df_grouped.sort_values(ascending=False) \n",
    "    \n",
    "    return genre_df_sorted[:10]"
   ]
  },
  {
   "cell_type": "markdown",
   "metadata": {
    "id": "la2s2_PF_Zcu",
    "tags": [
     "start_task"
    ]
   },
   "source": [
    "Cравним результаты функции `genre_weekday()` для Москвы и Санкт-Петербурга в понедельник утром (с 7:00 до 11:00) и в пятницу вечером (с 17:00 до 23:00):"
   ]
  },
  {
   "cell_type": "code",
   "execution_count": 31,
   "metadata": {
    "id": "yz7itPUQ_Zcu",
    "scrolled": true
   },
   "outputs": [
    {
     "name": "stdout",
     "output_type": "stream",
     "text": [
      "genre\n",
      "pop            781\n",
      "dance          549\n",
      "electronic     480\n",
      "rock           474\n",
      "hiphop         286\n",
      "ruspop         186\n",
      "world          181\n",
      "rusrap         175\n",
      "alternative    164\n",
      "unknown        161\n",
      "Name: genre, dtype: int64\n"
     ]
    }
   ],
   "source": [
    "# Москва, утро понедельника\n",
    "\n",
    "print(genre_weekday(moscow_general, 'Monday', '07:00', '11:00'))"
   ]
  },
  {
   "cell_type": "code",
   "execution_count": 32,
   "metadata": {
    "id": "kwUcHPdy_Zcu"
   },
   "outputs": [
    {
     "name": "stdout",
     "output_type": "stream",
     "text": [
      "genre\n",
      "pop            218\n",
      "dance          182\n",
      "rock           162\n",
      "electronic     147\n",
      "hiphop          80\n",
      "ruspop          64\n",
      "alternative     58\n",
      "rusrap          55\n",
      "jazz            44\n",
      "classical       40\n",
      "Name: genre, dtype: int64\n"
     ]
    }
   ],
   "source": [
    "# Петербург, утро понедельника\n",
    "\n",
    "print(genre_weekday(spb_general, 'Monday', '07:00', '11:00'))"
   ]
  },
  {
   "cell_type": "code",
   "execution_count": 33,
   "metadata": {
    "id": "EzXVRE1o_Zcu"
   },
   "outputs": [
    {
     "name": "stdout",
     "output_type": "stream",
     "text": [
      "genre\n",
      "pop            713\n",
      "rock           517\n",
      "dance          495\n",
      "electronic     482\n",
      "hiphop         273\n",
      "world          208\n",
      "ruspop         170\n",
      "alternative    163\n",
      "classical      163\n",
      "rusrap         142\n",
      "Name: genre, dtype: int64\n"
     ]
    }
   ],
   "source": [
    "# Москва, вечер пятницы\n",
    "\n",
    "print(genre_weekday(moscow_general, 'Friday', '17:00', '23:00'))"
   ]
  },
  {
   "cell_type": "code",
   "execution_count": 34,
   "metadata": {
    "id": "JZaEKu5v_Zcu"
   },
   "outputs": [
    {
     "name": "stdout",
     "output_type": "stream",
     "text": [
      "genre\n",
      "pop            256\n",
      "electronic     216\n",
      "rock           216\n",
      "dance          210\n",
      "hiphop          97\n",
      "alternative     63\n",
      "jazz            61\n",
      "classical       60\n",
      "rusrap          59\n",
      "world           54\n",
      "Name: genre, dtype: int64\n"
     ]
    }
   ],
   "source": [
    "# Петербург, вечер пятницы\n",
    "\n",
    "print(genre_weekday(spb_general, 'Friday', '17:00', '23:00'))"
   ]
  },
  {
   "cell_type": "markdown",
   "metadata": {
    "id": "wrCe4MNX_Zcu"
   },
   "source": [
    "**Выводы**\n",
    "\n",
    "Если сравнить топ-10 жанров в понедельник утром, можно сделать такие выводы:\n",
    "\n",
    "1. В Москве и Петербурге слушают похожую музыку. Единственное отличие — в московский рейтинг вошёл жанр “world”, а в петербургский — джаз и классика.\n",
    "\n",
    "2. В Москве пропущенных значений оказалось так много, что значение `'unknown'` заняло десятое место среди самых популярных жанров. Значит, пропущенные значения занимают существенную долю в данных и угрожают достоверности исследования.\n",
    "\n",
    "Вечер пятницы не меняет эту картину. Некоторые жанры поднимаются немного выше, другие спускаются, но в целом топ-10 остаётся тем же самым.\n",
    "\n",
    "Таким образом, вторая гипотеза подтвердилась лишь частично:\n",
    "* Пользователи слушают похожую музыку в начале недели и в конце.\n",
    "* Разница между Москвой и Петербургом не слишком выражена. В Москве чаще слушают русскую популярную музыку, в Петербурге — джаз.\n",
    "\n",
    "Однако пропуски в данных ставят под сомнение этот результат. В Москве их так много, что рейтинг топ-10 мог бы выглядеть иначе, если бы не утерянные  данные о жанрах."
   ]
  },
  {
   "cell_type": "markdown",
   "metadata": {
    "id": "JolODAqr_Zcu"
   },
   "source": [
    "### Жанровые предпочтения в Москве и Петербурге\n",
    "\n",
    "Гипотеза: Петербург — столица рэпа, музыку этого жанра там слушают чаще, чем в Москве.  А Москва — город контрастов, в котором, тем не менее, преобладает поп-музыка."
   ]
  },
  {
   "cell_type": "code",
   "execution_count": 35,
   "metadata": {
    "id": "r19lIPke_Zcu"
   },
   "outputs": [],
   "source": [
    "# датафрейм с сортированным списком прослушивания жанров в Москве \n",
    "\n",
    "moscow_genres = moscow_general.groupby('genre')['genre'].count().sort_values(ascending=False)"
   ]
  },
  {
   "cell_type": "code",
   "execution_count": 36,
   "metadata": {
    "id": "WhCSooF8_Zcv"
   },
   "outputs": [
    {
     "name": "stdout",
     "output_type": "stream",
     "text": [
      "genre\n",
      "pop            5892\n",
      "dance          4435\n",
      "rock           3965\n",
      "electronic     3786\n",
      "hiphop         2096\n",
      "classical      1616\n",
      "world          1432\n",
      "alternative    1379\n",
      "ruspop         1372\n",
      "rusrap         1161\n",
      "Name: genre, dtype: int64\n"
     ]
    }
   ],
   "source": [
    "# просмотр первых 10 строк moscow_genres\n",
    "\n",
    "print(moscow_genres.head(10)) "
   ]
  },
  {
   "cell_type": "code",
   "execution_count": 37,
   "metadata": {
    "id": "gluLIpE7_Zcv"
   },
   "outputs": [],
   "source": [
    "# датафрейм с сортированным списком прослушивания жанров в Петербурге\n",
    "\n",
    "spb_genres = spb_general.groupby('genre')['genre'].count().sort_values(ascending=False)"
   ]
  },
  {
   "cell_type": "code",
   "execution_count": 38,
   "metadata": {
    "id": "uaGJHjVU_Zcv"
   },
   "outputs": [
    {
     "name": "stdout",
     "output_type": "stream",
     "text": [
      "genre\n",
      "pop            2431\n",
      "dance          1932\n",
      "rock           1879\n",
      "electronic     1736\n",
      "hiphop          960\n",
      "alternative     649\n",
      "classical       646\n",
      "rusrap          564\n",
      "ruspop          538\n",
      "world           515\n",
      "Name: genre, dtype: int64\n"
     ]
    }
   ],
   "source": [
    "# просмотр первых 10 строк spb_genres\n",
    "\n",
    "print(spb_genres.head(10))"
   ]
  },
  {
   "cell_type": "markdown",
   "metadata": {
    "id": "RY51YJYu_Zcv"
   },
   "source": [
    "**Выводы**"
   ]
  },
  {
   "cell_type": "markdown",
   "metadata": {
    "id": "nVhnJEm__Zcv"
   },
   "source": [
    "Гипотеза частично подтвердилась:\n",
    "* Поп-музыка — самый популярный жанр в Москве, как и предполагала гипотеза. Более того, в топ-10 жанров встречается близкий жанр — русская популярная музыка.\n",
    "* Вопреки ожиданиям, рэп одинаково популярен в Москве и Петербурге. \n"
   ]
  },
  {
   "cell_type": "markdown",
   "metadata": {
    "id": "ykKQ0N65_Zcv"
   },
   "source": [
    "## Итоги исследования"
   ]
  },
  {
   "cell_type": "markdown",
   "metadata": {
    "id": "tjUwbHb3_Zcv"
   },
   "source": [
    "Выполнена проверка трёх гипотез и получены следующие результаты:\n",
    "\n",
    "1. День недели по-разному влияет на активность пользователей в Москве и Петербурге. \n",
    "\n",
    "Первая гипотеза полностью подтвердилась.\n",
    "\n",
    "2. Музыкальные предпочтения не сильно меняются в течение недели — будь то Москва или Петербург. Небольшие различия заметны в начале недели, по понедельникам:\n",
    "* в Москве слушают музыку жанра “world”,\n",
    "* в Петербурге — джаз и классику.\n",
    "\n",
    "Таким образом, вторая гипотеза подтвердилась лишь отчасти. Этот результат мог оказаться иным, если бы не пропуски в данных.\n",
    "\n",
    "3. Во вкусах пользователей Москвы и Петербурга больше общего чем различий. Вопреки ожиданиям, предпочтения жанров в Петербурге напоминают московские.\n",
    "\n",
    "Третья гипотеза не подтвердилась. Если различия в предпочтениях и существуют, на основной массе пользователей они незаметны.\n",
    "\n",
    "**На практике исследования содержат проверки статистических гипотез.**\n",
    "Из данных одного сервиса не всегда можно сделать вывод о всех жителях города.\n",
    "Проверки статистических гипотез покажут, насколько они достоверны, исходя из имеющихся данных."
   ]
  },
  {
   "cell_type": "code",
   "execution_count": null,
   "metadata": {},
   "outputs": [],
   "source": []
  }
 ],
 "metadata": {
  "ExecuteTimeLog": [
   {
    "duration": 390,
    "start_time": "2022-08-13T07:44:20.547Z"
   },
   {
    "duration": 485,
    "start_time": "2022-08-13T07:44:23.333Z"
   },
   {
    "duration": 18,
    "start_time": "2022-08-13T07:44:27.785Z"
   },
   {
    "duration": 33,
    "start_time": "2022-08-13T07:44:30.173Z"
   },
   {
    "duration": 416,
    "start_time": "2022-08-13T07:44:47.910Z"
   },
   {
    "duration": 199,
    "start_time": "2022-08-13T07:44:48.328Z"
   },
   {
    "duration": 20,
    "start_time": "2022-08-13T07:44:48.529Z"
   },
   {
    "duration": 46,
    "start_time": "2022-08-13T07:44:48.551Z"
   },
   {
    "duration": 3,
    "start_time": "2022-08-13T07:44:48.600Z"
   },
   {
    "duration": 16,
    "start_time": "2022-08-13T07:44:48.604Z"
   },
   {
    "duration": 6,
    "start_time": "2022-08-13T07:44:48.622Z"
   },
   {
    "duration": 9,
    "start_time": "2022-08-13T07:44:48.630Z"
   },
   {
    "duration": 13,
    "start_time": "2022-08-13T07:44:48.641Z"
   },
   {
    "duration": 9,
    "start_time": "2022-08-13T07:44:48.656Z"
   },
   {
    "duration": 14,
    "start_time": "2022-08-13T07:44:48.667Z"
   },
   {
    "duration": 17,
    "start_time": "2022-08-13T07:44:48.682Z"
   },
   {
    "duration": 9,
    "start_time": "2022-08-13T07:44:48.701Z"
   },
   {
    "duration": 8,
    "start_time": "2022-08-13T07:44:48.714Z"
   },
   {
    "duration": 30,
    "start_time": "2022-08-13T07:44:48.723Z"
   },
   {
    "duration": 8,
    "start_time": "2022-08-13T07:44:48.754Z"
   },
   {
    "duration": 10,
    "start_time": "2022-08-13T07:44:48.764Z"
   },
   {
    "duration": 7,
    "start_time": "2022-08-13T07:44:48.776Z"
   },
   {
    "duration": 6,
    "start_time": "2022-08-13T07:44:48.785Z"
   },
   {
    "duration": 17,
    "start_time": "2022-08-13T07:44:48.792Z"
   },
   {
    "duration": 14,
    "start_time": "2022-08-13T07:44:48.811Z"
   },
   {
    "duration": 7,
    "start_time": "2022-08-13T07:44:48.827Z"
   },
   {
    "duration": 16,
    "start_time": "2022-08-13T07:44:48.835Z"
   },
   {
    "duration": 21,
    "start_time": "2022-08-13T07:44:48.853Z"
   },
   {
    "duration": 21,
    "start_time": "2022-08-13T07:44:48.876Z"
   },
   {
    "duration": 9,
    "start_time": "2022-08-13T07:44:48.899Z"
   },
   {
    "duration": 12,
    "start_time": "2022-08-13T07:44:48.909Z"
   },
   {
    "duration": 16,
    "start_time": "2022-08-13T07:44:48.923Z"
   },
   {
    "duration": 12,
    "start_time": "2022-08-13T07:44:48.941Z"
   },
   {
    "duration": 76,
    "start_time": "2022-08-13T07:44:48.955Z"
   },
   {
    "duration": 0,
    "start_time": "2022-08-13T07:44:49.032Z"
   },
   {
    "duration": 0,
    "start_time": "2022-08-13T07:44:49.034Z"
   },
   {
    "duration": 0,
    "start_time": "2022-08-13T07:44:49.035Z"
   },
   {
    "duration": 0,
    "start_time": "2022-08-13T07:44:49.036Z"
   },
   {
    "duration": 0,
    "start_time": "2022-08-13T07:44:49.037Z"
   },
   {
    "duration": 0,
    "start_time": "2022-08-13T07:44:49.039Z"
   },
   {
    "duration": 0,
    "start_time": "2022-08-13T07:44:49.040Z"
   },
   {
    "duration": 0,
    "start_time": "2022-08-13T07:44:49.041Z"
   },
   {
    "duration": 69,
    "start_time": "2022-08-13T07:52:47.633Z"
   },
   {
    "duration": 9,
    "start_time": "2022-08-13T07:52:52.663Z"
   },
   {
    "duration": 8,
    "start_time": "2022-08-13T07:53:20.186Z"
   },
   {
    "duration": 9,
    "start_time": "2022-08-13T07:54:47.760Z"
   },
   {
    "duration": 9,
    "start_time": "2022-08-13T07:54:57.460Z"
   },
   {
    "duration": 11,
    "start_time": "2022-08-13T07:55:04.448Z"
   },
   {
    "duration": 3,
    "start_time": "2022-08-13T07:56:28.457Z"
   },
   {
    "duration": 4,
    "start_time": "2022-08-13T07:56:38.706Z"
   },
   {
    "duration": 4,
    "start_time": "2022-08-13T07:56:44.658Z"
   },
   {
    "duration": 437,
    "start_time": "2022-08-13T07:56:52.654Z"
   },
   {
    "duration": 185,
    "start_time": "2022-08-13T07:56:53.094Z"
   },
   {
    "duration": 21,
    "start_time": "2022-08-13T07:56:53.281Z"
   },
   {
    "duration": 34,
    "start_time": "2022-08-13T07:56:53.305Z"
   },
   {
    "duration": 13,
    "start_time": "2022-08-13T07:56:53.340Z"
   },
   {
    "duration": 19,
    "start_time": "2022-08-13T07:56:53.355Z"
   },
   {
    "duration": 15,
    "start_time": "2022-08-13T07:56:53.376Z"
   },
   {
    "duration": 21,
    "start_time": "2022-08-13T07:56:53.393Z"
   },
   {
    "duration": 55,
    "start_time": "2022-08-13T07:56:53.417Z"
   },
   {
    "duration": 36,
    "start_time": "2022-08-13T07:56:53.474Z"
   },
   {
    "duration": 28,
    "start_time": "2022-08-13T07:56:53.512Z"
   },
   {
    "duration": 29,
    "start_time": "2022-08-13T07:56:53.542Z"
   },
   {
    "duration": 23,
    "start_time": "2022-08-13T07:56:53.573Z"
   },
   {
    "duration": 126,
    "start_time": "2022-08-13T07:56:53.598Z"
   },
   {
    "duration": 40,
    "start_time": "2022-08-13T07:56:53.727Z"
   },
   {
    "duration": 38,
    "start_time": "2022-08-13T07:56:53.769Z"
   },
   {
    "duration": 19,
    "start_time": "2022-08-13T07:56:53.809Z"
   },
   {
    "duration": 19,
    "start_time": "2022-08-13T07:56:53.831Z"
   },
   {
    "duration": 49,
    "start_time": "2022-08-13T07:56:53.854Z"
   },
   {
    "duration": 20,
    "start_time": "2022-08-13T07:56:53.905Z"
   },
   {
    "duration": 61,
    "start_time": "2022-08-13T07:56:53.927Z"
   },
   {
    "duration": 82,
    "start_time": "2022-08-13T07:56:53.990Z"
   },
   {
    "duration": 53,
    "start_time": "2022-08-13T07:56:54.074Z"
   },
   {
    "duration": 21,
    "start_time": "2022-08-13T07:56:54.129Z"
   },
   {
    "duration": 44,
    "start_time": "2022-08-13T07:56:54.152Z"
   },
   {
    "duration": 31,
    "start_time": "2022-08-13T07:56:54.199Z"
   },
   {
    "duration": 59,
    "start_time": "2022-08-13T07:56:54.231Z"
   },
   {
    "duration": 36,
    "start_time": "2022-08-13T07:56:54.294Z"
   },
   {
    "duration": 53,
    "start_time": "2022-08-13T07:56:54.332Z"
   },
   {
    "duration": 75,
    "start_time": "2022-08-13T07:56:54.387Z"
   },
   {
    "duration": 0,
    "start_time": "2022-08-13T07:56:54.463Z"
   },
   {
    "duration": 0,
    "start_time": "2022-08-13T07:56:54.465Z"
   },
   {
    "duration": 0,
    "start_time": "2022-08-13T07:56:54.466Z"
   },
   {
    "duration": 0,
    "start_time": "2022-08-13T07:56:54.467Z"
   },
   {
    "duration": 0,
    "start_time": "2022-08-13T07:56:54.468Z"
   },
   {
    "duration": 1,
    "start_time": "2022-08-13T07:56:54.469Z"
   },
   {
    "duration": 0,
    "start_time": "2022-08-13T07:56:54.470Z"
   },
   {
    "duration": 0,
    "start_time": "2022-08-13T07:56:54.471Z"
   },
   {
    "duration": 5,
    "start_time": "2022-08-13T08:17:16.944Z"
   },
   {
    "duration": 489,
    "start_time": "2022-08-13T08:17:56.954Z"
   },
   {
    "duration": 190,
    "start_time": "2022-08-13T08:17:57.445Z"
   },
   {
    "duration": 27,
    "start_time": "2022-08-13T08:17:57.637Z"
   },
   {
    "duration": 60,
    "start_time": "2022-08-13T08:17:57.667Z"
   },
   {
    "duration": 11,
    "start_time": "2022-08-13T08:17:57.729Z"
   },
   {
    "duration": 10,
    "start_time": "2022-08-13T08:17:57.742Z"
   },
   {
    "duration": 18,
    "start_time": "2022-08-13T08:17:57.754Z"
   },
   {
    "duration": 22,
    "start_time": "2022-08-13T08:17:57.774Z"
   },
   {
    "duration": 9,
    "start_time": "2022-08-13T08:17:57.798Z"
   },
   {
    "duration": 12,
    "start_time": "2022-08-13T08:17:57.810Z"
   },
   {
    "duration": 14,
    "start_time": "2022-08-13T08:17:57.824Z"
   },
   {
    "duration": 12,
    "start_time": "2022-08-13T08:17:57.841Z"
   },
   {
    "duration": 26,
    "start_time": "2022-08-13T08:17:57.856Z"
   },
   {
    "duration": 25,
    "start_time": "2022-08-13T08:17:57.884Z"
   },
   {
    "duration": 24,
    "start_time": "2022-08-13T08:17:57.911Z"
   },
   {
    "duration": 19,
    "start_time": "2022-08-13T08:17:57.937Z"
   },
   {
    "duration": 35,
    "start_time": "2022-08-13T08:17:57.959Z"
   },
   {
    "duration": 12,
    "start_time": "2022-08-13T08:17:57.996Z"
   },
   {
    "duration": 13,
    "start_time": "2022-08-13T08:17:58.010Z"
   },
   {
    "duration": 17,
    "start_time": "2022-08-13T08:17:58.025Z"
   },
   {
    "duration": 24,
    "start_time": "2022-08-13T08:17:58.044Z"
   },
   {
    "duration": 13,
    "start_time": "2022-08-13T08:17:58.071Z"
   },
   {
    "duration": 9,
    "start_time": "2022-08-13T08:17:58.086Z"
   },
   {
    "duration": 14,
    "start_time": "2022-08-13T08:17:58.097Z"
   },
   {
    "duration": 22,
    "start_time": "2022-08-13T08:17:58.112Z"
   },
   {
    "duration": 9,
    "start_time": "2022-08-13T08:17:58.136Z"
   },
   {
    "duration": 17,
    "start_time": "2022-08-13T08:17:58.147Z"
   },
   {
    "duration": 6,
    "start_time": "2022-08-13T08:17:58.168Z"
   },
   {
    "duration": 15,
    "start_time": "2022-08-13T08:17:58.176Z"
   },
   {
    "duration": 76,
    "start_time": "2022-08-13T08:17:58.193Z"
   },
   {
    "duration": 0,
    "start_time": "2022-08-13T08:17:58.271Z"
   },
   {
    "duration": 0,
    "start_time": "2022-08-13T08:17:58.272Z"
   },
   {
    "duration": 0,
    "start_time": "2022-08-13T08:17:58.273Z"
   },
   {
    "duration": 0,
    "start_time": "2022-08-13T08:17:58.274Z"
   },
   {
    "duration": 0,
    "start_time": "2022-08-13T08:17:58.275Z"
   },
   {
    "duration": 0,
    "start_time": "2022-08-13T08:17:58.276Z"
   },
   {
    "duration": 0,
    "start_time": "2022-08-13T08:17:58.277Z"
   },
   {
    "duration": 0,
    "start_time": "2022-08-13T08:17:58.278Z"
   },
   {
    "duration": 36,
    "start_time": "2022-08-13T08:34:12.176Z"
   },
   {
    "duration": 26,
    "start_time": "2022-08-13T08:34:19.049Z"
   },
   {
    "duration": 26,
    "start_time": "2022-08-13T08:35:57.634Z"
   },
   {
    "duration": 79,
    "start_time": "2022-08-13T12:13:11.227Z"
   },
   {
    "duration": 83,
    "start_time": "2022-08-13T12:14:10.903Z"
   },
   {
    "duration": 14,
    "start_time": "2022-08-13T12:15:10.173Z"
   },
   {
    "duration": 10,
    "start_time": "2022-08-13T12:15:55.622Z"
   },
   {
    "duration": 4,
    "start_time": "2022-08-13T12:16:38.252Z"
   },
   {
    "duration": 7,
    "start_time": "2022-08-13T12:16:44.855Z"
   },
   {
    "duration": 8,
    "start_time": "2022-08-13T12:17:14.402Z"
   },
   {
    "duration": 11,
    "start_time": "2022-08-13T12:17:22.725Z"
   },
   {
    "duration": 15,
    "start_time": "2022-08-13T12:17:45.092Z"
   },
   {
    "duration": 12,
    "start_time": "2022-08-13T12:17:49.234Z"
   },
   {
    "duration": 62,
    "start_time": "2022-08-13T12:20:34.443Z"
   },
   {
    "duration": 30,
    "start_time": "2022-08-13T12:20:54.392Z"
   },
   {
    "duration": 61,
    "start_time": "2022-08-13T12:21:32.816Z"
   },
   {
    "duration": 82,
    "start_time": "2022-08-13T12:23:06.816Z"
   },
   {
    "duration": 56,
    "start_time": "2022-08-13T12:23:28.389Z"
   },
   {
    "duration": 79,
    "start_time": "2022-08-13T12:23:47.662Z"
   },
   {
    "duration": 65,
    "start_time": "2022-08-13T12:24:00.145Z"
   },
   {
    "duration": 73,
    "start_time": "2022-08-13T12:24:24.657Z"
   },
   {
    "duration": 109,
    "start_time": "2022-08-13T12:24:31.846Z"
   },
   {
    "duration": 429,
    "start_time": "2022-08-13T12:24:44.976Z"
   },
   {
    "duration": 171,
    "start_time": "2022-08-13T12:24:45.407Z"
   },
   {
    "duration": 16,
    "start_time": "2022-08-13T12:24:45.592Z"
   },
   {
    "duration": 33,
    "start_time": "2022-08-13T12:24:45.610Z"
   },
   {
    "duration": 3,
    "start_time": "2022-08-13T12:24:45.644Z"
   },
   {
    "duration": 7,
    "start_time": "2022-08-13T12:24:45.648Z"
   },
   {
    "duration": 16,
    "start_time": "2022-08-13T12:24:45.656Z"
   },
   {
    "duration": 19,
    "start_time": "2022-08-13T12:24:45.673Z"
   },
   {
    "duration": 24,
    "start_time": "2022-08-13T12:24:45.694Z"
   },
   {
    "duration": 56,
    "start_time": "2022-08-13T12:24:45.720Z"
   },
   {
    "duration": 33,
    "start_time": "2022-08-13T12:24:45.778Z"
   },
   {
    "duration": 83,
    "start_time": "2022-08-13T12:24:45.813Z"
   },
   {
    "duration": 4,
    "start_time": "2022-08-13T12:24:45.898Z"
   },
   {
    "duration": 6,
    "start_time": "2022-08-13T12:24:45.903Z"
   },
   {
    "duration": 7,
    "start_time": "2022-08-13T12:24:45.910Z"
   },
   {
    "duration": 6,
    "start_time": "2022-08-13T12:24:45.919Z"
   },
   {
    "duration": 7,
    "start_time": "2022-08-13T12:24:45.927Z"
   },
   {
    "duration": 5,
    "start_time": "2022-08-13T12:24:45.936Z"
   },
   {
    "duration": 6,
    "start_time": "2022-08-13T12:24:45.942Z"
   },
   {
    "duration": 6,
    "start_time": "2022-08-13T12:24:45.949Z"
   },
   {
    "duration": 12,
    "start_time": "2022-08-13T12:24:45.957Z"
   },
   {
    "duration": 14,
    "start_time": "2022-08-13T12:24:45.971Z"
   },
   {
    "duration": 15,
    "start_time": "2022-08-13T12:24:45.991Z"
   },
   {
    "duration": 17,
    "start_time": "2022-08-13T12:24:46.007Z"
   },
   {
    "duration": 12,
    "start_time": "2022-08-13T12:24:46.025Z"
   },
   {
    "duration": 9,
    "start_time": "2022-08-13T12:24:46.039Z"
   },
   {
    "duration": 11,
    "start_time": "2022-08-13T12:24:46.050Z"
   },
   {
    "duration": 7,
    "start_time": "2022-08-13T12:24:46.064Z"
   },
   {
    "duration": 8,
    "start_time": "2022-08-13T12:24:46.072Z"
   },
   {
    "duration": 261,
    "start_time": "2022-08-13T12:24:46.082Z"
   },
   {
    "duration": 0,
    "start_time": "2022-08-13T12:24:46.345Z"
   },
   {
    "duration": 0,
    "start_time": "2022-08-13T12:24:46.346Z"
   },
   {
    "duration": 0,
    "start_time": "2022-08-13T12:24:46.347Z"
   },
   {
    "duration": 0,
    "start_time": "2022-08-13T12:24:46.349Z"
   },
   {
    "duration": 0,
    "start_time": "2022-08-13T12:24:46.349Z"
   },
   {
    "duration": 0,
    "start_time": "2022-08-13T12:24:46.350Z"
   },
   {
    "duration": 0,
    "start_time": "2022-08-13T12:24:46.351Z"
   },
   {
    "duration": 0,
    "start_time": "2022-08-13T12:24:46.352Z"
   },
   {
    "duration": 41,
    "start_time": "2022-08-13T12:25:45.616Z"
   },
   {
    "duration": 24,
    "start_time": "2022-08-13T12:25:49.605Z"
   },
   {
    "duration": 417,
    "start_time": "2022-08-13T12:26:04.290Z"
   },
   {
    "duration": 175,
    "start_time": "2022-08-13T12:26:04.709Z"
   },
   {
    "duration": 21,
    "start_time": "2022-08-13T12:26:04.895Z"
   },
   {
    "duration": 58,
    "start_time": "2022-08-13T12:26:04.918Z"
   },
   {
    "duration": 10,
    "start_time": "2022-08-13T12:26:04.979Z"
   },
   {
    "duration": 29,
    "start_time": "2022-08-13T12:26:04.991Z"
   },
   {
    "duration": 20,
    "start_time": "2022-08-13T12:26:05.022Z"
   },
   {
    "duration": 38,
    "start_time": "2022-08-13T12:26:05.044Z"
   },
   {
    "duration": 46,
    "start_time": "2022-08-13T12:26:05.084Z"
   },
   {
    "duration": 52,
    "start_time": "2022-08-13T12:26:05.132Z"
   },
   {
    "duration": 25,
    "start_time": "2022-08-13T12:26:05.186Z"
   },
   {
    "duration": 105,
    "start_time": "2022-08-13T12:26:05.212Z"
   },
   {
    "duration": 3,
    "start_time": "2022-08-13T12:26:05.319Z"
   },
   {
    "duration": 12,
    "start_time": "2022-08-13T12:26:05.325Z"
   },
   {
    "duration": 28,
    "start_time": "2022-08-13T12:26:05.338Z"
   },
   {
    "duration": 20,
    "start_time": "2022-08-13T12:26:05.368Z"
   },
   {
    "duration": 13,
    "start_time": "2022-08-13T12:26:05.389Z"
   },
   {
    "duration": 33,
    "start_time": "2022-08-13T12:26:05.404Z"
   },
   {
    "duration": 17,
    "start_time": "2022-08-13T12:26:05.439Z"
   },
   {
    "duration": 34,
    "start_time": "2022-08-13T12:26:05.458Z"
   },
   {
    "duration": 44,
    "start_time": "2022-08-13T12:26:05.494Z"
   },
   {
    "duration": 21,
    "start_time": "2022-08-13T12:26:05.540Z"
   },
   {
    "duration": 32,
    "start_time": "2022-08-13T12:26:05.563Z"
   },
   {
    "duration": 14,
    "start_time": "2022-08-13T12:26:05.597Z"
   },
   {
    "duration": 35,
    "start_time": "2022-08-13T12:26:05.613Z"
   },
   {
    "duration": 19,
    "start_time": "2022-08-13T12:26:05.649Z"
   },
   {
    "duration": 21,
    "start_time": "2022-08-13T12:26:05.670Z"
   },
   {
    "duration": 23,
    "start_time": "2022-08-13T12:26:05.693Z"
   },
   {
    "duration": 17,
    "start_time": "2022-08-13T12:26:05.718Z"
   },
   {
    "duration": 105,
    "start_time": "2022-08-13T12:26:05.736Z"
   },
   {
    "duration": 0,
    "start_time": "2022-08-13T12:26:05.843Z"
   },
   {
    "duration": 0,
    "start_time": "2022-08-13T12:26:05.845Z"
   },
   {
    "duration": 0,
    "start_time": "2022-08-13T12:26:05.847Z"
   },
   {
    "duration": 0,
    "start_time": "2022-08-13T12:26:05.849Z"
   },
   {
    "duration": 0,
    "start_time": "2022-08-13T12:26:05.850Z"
   },
   {
    "duration": 0,
    "start_time": "2022-08-13T12:26:05.852Z"
   },
   {
    "duration": 0,
    "start_time": "2022-08-13T12:26:05.854Z"
   },
   {
    "duration": 0,
    "start_time": "2022-08-13T12:26:05.855Z"
   },
   {
    "duration": 21,
    "start_time": "2022-08-13T12:27:19.388Z"
   },
   {
    "duration": 24,
    "start_time": "2022-08-13T12:27:25.312Z"
   },
   {
    "duration": 376,
    "start_time": "2022-08-13T12:27:33.841Z"
   },
   {
    "duration": 175,
    "start_time": "2022-08-13T12:27:34.219Z"
   },
   {
    "duration": 17,
    "start_time": "2022-08-13T12:27:34.396Z"
   },
   {
    "duration": 32,
    "start_time": "2022-08-13T12:27:34.414Z"
   },
   {
    "duration": 9,
    "start_time": "2022-08-13T12:27:34.449Z"
   },
   {
    "duration": 17,
    "start_time": "2022-08-13T12:27:34.460Z"
   },
   {
    "duration": 21,
    "start_time": "2022-08-13T12:27:34.479Z"
   },
   {
    "duration": 5,
    "start_time": "2022-08-13T12:27:34.502Z"
   },
   {
    "duration": 29,
    "start_time": "2022-08-13T12:27:34.509Z"
   },
   {
    "duration": 21,
    "start_time": "2022-08-13T12:27:34.539Z"
   },
   {
    "duration": 41,
    "start_time": "2022-08-13T12:27:34.562Z"
   },
   {
    "duration": 73,
    "start_time": "2022-08-13T12:27:34.604Z"
   },
   {
    "duration": 12,
    "start_time": "2022-08-13T12:27:34.679Z"
   },
   {
    "duration": 2,
    "start_time": "2022-08-13T12:27:34.696Z"
   },
   {
    "duration": 9,
    "start_time": "2022-08-13T12:27:34.700Z"
   },
   {
    "duration": 7,
    "start_time": "2022-08-13T12:27:34.711Z"
   },
   {
    "duration": 6,
    "start_time": "2022-08-13T12:27:34.719Z"
   },
   {
    "duration": 8,
    "start_time": "2022-08-13T12:27:34.726Z"
   },
   {
    "duration": 6,
    "start_time": "2022-08-13T12:27:34.735Z"
   },
   {
    "duration": 5,
    "start_time": "2022-08-13T12:27:34.743Z"
   },
   {
    "duration": 6,
    "start_time": "2022-08-13T12:27:34.749Z"
   },
   {
    "duration": 4,
    "start_time": "2022-08-13T12:27:34.757Z"
   },
   {
    "duration": 4,
    "start_time": "2022-08-13T12:27:34.763Z"
   },
   {
    "duration": 5,
    "start_time": "2022-08-13T12:27:34.769Z"
   },
   {
    "duration": 17,
    "start_time": "2022-08-13T12:27:34.775Z"
   },
   {
    "duration": 5,
    "start_time": "2022-08-13T12:27:34.793Z"
   },
   {
    "duration": 5,
    "start_time": "2022-08-13T12:27:34.799Z"
   },
   {
    "duration": 5,
    "start_time": "2022-08-13T12:27:34.806Z"
   },
   {
    "duration": 5,
    "start_time": "2022-08-13T12:27:34.812Z"
   },
   {
    "duration": 130,
    "start_time": "2022-08-13T12:27:34.819Z"
   },
   {
    "duration": 0,
    "start_time": "2022-08-13T12:27:34.951Z"
   },
   {
    "duration": 0,
    "start_time": "2022-08-13T12:27:34.953Z"
   },
   {
    "duration": 0,
    "start_time": "2022-08-13T12:27:34.954Z"
   },
   {
    "duration": 0,
    "start_time": "2022-08-13T12:27:34.956Z"
   },
   {
    "duration": 0,
    "start_time": "2022-08-13T12:27:34.957Z"
   },
   {
    "duration": 0,
    "start_time": "2022-08-13T12:27:34.958Z"
   },
   {
    "duration": 0,
    "start_time": "2022-08-13T12:27:34.959Z"
   },
   {
    "duration": 0,
    "start_time": "2022-08-13T12:27:34.960Z"
   },
   {
    "duration": 404,
    "start_time": "2022-08-13T12:29:31.417Z"
   },
   {
    "duration": 206,
    "start_time": "2022-08-13T12:29:31.823Z"
   },
   {
    "duration": 22,
    "start_time": "2022-08-13T12:29:32.031Z"
   },
   {
    "duration": 51,
    "start_time": "2022-08-13T12:29:32.056Z"
   },
   {
    "duration": 4,
    "start_time": "2022-08-13T12:29:32.111Z"
   },
   {
    "duration": 26,
    "start_time": "2022-08-13T12:29:32.117Z"
   },
   {
    "duration": 30,
    "start_time": "2022-08-13T12:29:32.145Z"
   },
   {
    "duration": 39,
    "start_time": "2022-08-13T12:29:32.177Z"
   },
   {
    "duration": 40,
    "start_time": "2022-08-13T12:29:32.217Z"
   },
   {
    "duration": 34,
    "start_time": "2022-08-13T12:29:32.259Z"
   },
   {
    "duration": 35,
    "start_time": "2022-08-13T12:29:32.295Z"
   },
   {
    "duration": 77,
    "start_time": "2022-08-13T12:29:32.332Z"
   },
   {
    "duration": 2,
    "start_time": "2022-08-13T12:29:32.411Z"
   },
   {
    "duration": 30,
    "start_time": "2022-08-13T12:29:32.417Z"
   },
   {
    "duration": 17,
    "start_time": "2022-08-13T12:29:32.449Z"
   },
   {
    "duration": 41,
    "start_time": "2022-08-13T12:29:32.467Z"
   },
   {
    "duration": 14,
    "start_time": "2022-08-13T12:29:32.510Z"
   },
   {
    "duration": 16,
    "start_time": "2022-08-13T12:29:32.526Z"
   },
   {
    "duration": 25,
    "start_time": "2022-08-13T12:29:32.543Z"
   },
   {
    "duration": 19,
    "start_time": "2022-08-13T12:29:32.569Z"
   },
   {
    "duration": 24,
    "start_time": "2022-08-13T12:29:32.589Z"
   },
   {
    "duration": 20,
    "start_time": "2022-08-13T12:29:32.615Z"
   },
   {
    "duration": 21,
    "start_time": "2022-08-13T12:29:32.636Z"
   },
   {
    "duration": 23,
    "start_time": "2022-08-13T12:29:32.658Z"
   },
   {
    "duration": 33,
    "start_time": "2022-08-13T12:29:32.683Z"
   },
   {
    "duration": 41,
    "start_time": "2022-08-13T12:29:32.717Z"
   },
   {
    "duration": 24,
    "start_time": "2022-08-13T12:29:32.759Z"
   },
   {
    "duration": 19,
    "start_time": "2022-08-13T12:29:32.785Z"
   },
   {
    "duration": 17,
    "start_time": "2022-08-13T12:29:32.806Z"
   },
   {
    "duration": 86,
    "start_time": "2022-08-13T12:29:32.825Z"
   },
   {
    "duration": 0,
    "start_time": "2022-08-13T12:29:32.912Z"
   },
   {
    "duration": 0,
    "start_time": "2022-08-13T12:29:32.913Z"
   },
   {
    "duration": 0,
    "start_time": "2022-08-13T12:29:32.914Z"
   },
   {
    "duration": 0,
    "start_time": "2022-08-13T12:29:32.915Z"
   },
   {
    "duration": 0,
    "start_time": "2022-08-13T12:29:32.916Z"
   },
   {
    "duration": 1,
    "start_time": "2022-08-13T12:29:32.917Z"
   },
   {
    "duration": 0,
    "start_time": "2022-08-13T12:29:32.919Z"
   },
   {
    "duration": 0,
    "start_time": "2022-08-13T12:29:32.920Z"
   },
   {
    "duration": 454,
    "start_time": "2022-08-13T12:30:39.762Z"
   },
   {
    "duration": 215,
    "start_time": "2022-08-13T12:30:40.219Z"
   },
   {
    "duration": 20,
    "start_time": "2022-08-13T12:30:40.436Z"
   },
   {
    "duration": 47,
    "start_time": "2022-08-13T12:30:40.458Z"
   },
   {
    "duration": 3,
    "start_time": "2022-08-13T12:30:40.508Z"
   },
   {
    "duration": 6,
    "start_time": "2022-08-13T12:30:40.512Z"
   },
   {
    "duration": 18,
    "start_time": "2022-08-13T12:30:40.520Z"
   },
   {
    "duration": 8,
    "start_time": "2022-08-13T12:30:40.540Z"
   },
   {
    "duration": 46,
    "start_time": "2022-08-13T12:30:40.549Z"
   },
   {
    "duration": 37,
    "start_time": "2022-08-13T12:30:40.596Z"
   },
   {
    "duration": 26,
    "start_time": "2022-08-13T12:30:40.635Z"
   },
   {
    "duration": 95,
    "start_time": "2022-08-13T12:30:40.663Z"
   },
   {
    "duration": 3,
    "start_time": "2022-08-13T12:30:40.759Z"
   },
   {
    "duration": 13,
    "start_time": "2022-08-13T12:30:40.766Z"
   },
   {
    "duration": 14,
    "start_time": "2022-08-13T12:30:40.780Z"
   },
   {
    "duration": 19,
    "start_time": "2022-08-13T12:30:40.795Z"
   },
   {
    "duration": 14,
    "start_time": "2022-08-13T12:30:40.816Z"
   },
   {
    "duration": 18,
    "start_time": "2022-08-13T12:30:40.831Z"
   },
   {
    "duration": 8,
    "start_time": "2022-08-13T12:30:40.851Z"
   },
   {
    "duration": 8,
    "start_time": "2022-08-13T12:30:40.860Z"
   },
   {
    "duration": 11,
    "start_time": "2022-08-13T12:30:40.870Z"
   },
   {
    "duration": 5,
    "start_time": "2022-08-13T12:30:40.883Z"
   },
   {
    "duration": 5,
    "start_time": "2022-08-13T12:30:40.890Z"
   },
   {
    "duration": 6,
    "start_time": "2022-08-13T12:30:40.897Z"
   },
   {
    "duration": 13,
    "start_time": "2022-08-13T12:30:40.904Z"
   },
   {
    "duration": 11,
    "start_time": "2022-08-13T12:30:40.918Z"
   },
   {
    "duration": 8,
    "start_time": "2022-08-13T12:30:40.931Z"
   },
   {
    "duration": 5,
    "start_time": "2022-08-13T12:30:40.941Z"
   },
   {
    "duration": 4,
    "start_time": "2022-08-13T12:30:40.948Z"
   },
   {
    "duration": 97,
    "start_time": "2022-08-13T12:30:40.954Z"
   },
   {
    "duration": 0,
    "start_time": "2022-08-13T12:30:41.053Z"
   },
   {
    "duration": 0,
    "start_time": "2022-08-13T12:30:41.055Z"
   },
   {
    "duration": 0,
    "start_time": "2022-08-13T12:30:41.056Z"
   },
   {
    "duration": 0,
    "start_time": "2022-08-13T12:30:41.058Z"
   },
   {
    "duration": 0,
    "start_time": "2022-08-13T12:30:41.059Z"
   },
   {
    "duration": 0,
    "start_time": "2022-08-13T12:30:41.061Z"
   },
   {
    "duration": 0,
    "start_time": "2022-08-13T12:30:41.062Z"
   },
   {
    "duration": 0,
    "start_time": "2022-08-13T12:30:41.064Z"
   },
   {
    "duration": 27,
    "start_time": "2022-08-13T12:30:48.973Z"
   },
   {
    "duration": 20,
    "start_time": "2022-08-13T12:33:15.750Z"
   },
   {
    "duration": 65,
    "start_time": "2022-08-13T12:33:18.035Z"
   },
   {
    "duration": 444,
    "start_time": "2022-08-13T12:33:29.961Z"
   },
   {
    "duration": 180,
    "start_time": "2022-08-13T12:33:30.407Z"
   },
   {
    "duration": 17,
    "start_time": "2022-08-13T12:33:30.589Z"
   },
   {
    "duration": 31,
    "start_time": "2022-08-13T12:33:30.608Z"
   },
   {
    "duration": 13,
    "start_time": "2022-08-13T12:33:30.641Z"
   },
   {
    "duration": 14,
    "start_time": "2022-08-13T12:33:30.656Z"
   },
   {
    "duration": 23,
    "start_time": "2022-08-13T12:33:30.671Z"
   },
   {
    "duration": 24,
    "start_time": "2022-08-13T12:33:30.695Z"
   },
   {
    "duration": 30,
    "start_time": "2022-08-13T12:33:30.721Z"
   },
   {
    "duration": 24,
    "start_time": "2022-08-13T12:33:30.754Z"
   },
   {
    "duration": 146,
    "start_time": "2022-08-13T12:33:30.780Z"
   },
   {
    "duration": 0,
    "start_time": "2022-08-13T12:33:30.928Z"
   },
   {
    "duration": 0,
    "start_time": "2022-08-13T12:33:30.931Z"
   },
   {
    "duration": 0,
    "start_time": "2022-08-13T12:33:30.931Z"
   },
   {
    "duration": 0,
    "start_time": "2022-08-13T12:33:30.932Z"
   },
   {
    "duration": 1,
    "start_time": "2022-08-13T12:33:30.933Z"
   },
   {
    "duration": 0,
    "start_time": "2022-08-13T12:33:30.935Z"
   },
   {
    "duration": 0,
    "start_time": "2022-08-13T12:33:30.936Z"
   },
   {
    "duration": 0,
    "start_time": "2022-08-13T12:33:30.937Z"
   },
   {
    "duration": 1,
    "start_time": "2022-08-13T12:33:30.937Z"
   },
   {
    "duration": 0,
    "start_time": "2022-08-13T12:33:30.939Z"
   },
   {
    "duration": 0,
    "start_time": "2022-08-13T12:33:30.940Z"
   },
   {
    "duration": 0,
    "start_time": "2022-08-13T12:33:30.941Z"
   },
   {
    "duration": 0,
    "start_time": "2022-08-13T12:33:30.942Z"
   },
   {
    "duration": 0,
    "start_time": "2022-08-13T12:33:30.942Z"
   },
   {
    "duration": 0,
    "start_time": "2022-08-13T12:33:30.944Z"
   },
   {
    "duration": 0,
    "start_time": "2022-08-13T12:33:30.945Z"
   },
   {
    "duration": 0,
    "start_time": "2022-08-13T12:33:30.946Z"
   },
   {
    "duration": 0,
    "start_time": "2022-08-13T12:33:30.947Z"
   },
   {
    "duration": 0,
    "start_time": "2022-08-13T12:33:30.948Z"
   },
   {
    "duration": 0,
    "start_time": "2022-08-13T12:33:30.948Z"
   },
   {
    "duration": 0,
    "start_time": "2022-08-13T12:33:30.950Z"
   },
   {
    "duration": 0,
    "start_time": "2022-08-13T12:33:30.951Z"
   },
   {
    "duration": 0,
    "start_time": "2022-08-13T12:33:30.952Z"
   },
   {
    "duration": 0,
    "start_time": "2022-08-13T12:33:30.953Z"
   },
   {
    "duration": 0,
    "start_time": "2022-08-13T12:33:30.954Z"
   },
   {
    "duration": 0,
    "start_time": "2022-08-13T12:33:30.955Z"
   },
   {
    "duration": 0,
    "start_time": "2022-08-13T12:33:30.992Z"
   },
   {
    "duration": 25,
    "start_time": "2022-08-13T12:33:44.270Z"
   },
   {
    "duration": 66,
    "start_time": "2022-08-13T12:35:02.690Z"
   },
   {
    "duration": 88,
    "start_time": "2022-08-13T12:36:18.531Z"
   },
   {
    "duration": 66,
    "start_time": "2022-08-13T12:36:30.468Z"
   },
   {
    "duration": 75,
    "start_time": "2022-08-13T12:36:48.419Z"
   },
   {
    "duration": 63,
    "start_time": "2022-08-13T12:36:52.160Z"
   },
   {
    "duration": 10,
    "start_time": "2022-08-13T12:37:31.990Z"
   },
   {
    "duration": 10,
    "start_time": "2022-08-13T12:38:07.746Z"
   },
   {
    "duration": 10,
    "start_time": "2022-08-13T12:40:45.581Z"
   },
   {
    "duration": 10,
    "start_time": "2022-08-13T12:41:47.524Z"
   },
   {
    "duration": 8,
    "start_time": "2022-08-13T12:42:03.630Z"
   },
   {
    "duration": 6,
    "start_time": "2022-08-13T12:42:40.370Z"
   },
   {
    "duration": 7,
    "start_time": "2022-08-13T12:42:51.073Z"
   },
   {
    "duration": 90,
    "start_time": "2022-08-13T12:49:01.052Z"
   },
   {
    "duration": 10,
    "start_time": "2022-08-13T12:50:30.285Z"
   },
   {
    "duration": 40,
    "start_time": "2022-08-13T12:50:43.393Z"
   },
   {
    "duration": 7,
    "start_time": "2022-08-13T12:51:53.244Z"
   },
   {
    "duration": 7,
    "start_time": "2022-08-13T12:52:12.379Z"
   },
   {
    "duration": 6,
    "start_time": "2022-08-13T12:52:14.866Z"
   },
   {
    "duration": 9,
    "start_time": "2022-08-13T12:52:34.529Z"
   },
   {
    "duration": 6,
    "start_time": "2022-08-13T12:53:26.987Z"
   },
   {
    "duration": 5,
    "start_time": "2022-08-13T12:53:28.989Z"
   },
   {
    "duration": 7,
    "start_time": "2022-08-13T12:53:49.455Z"
   },
   {
    "duration": 3,
    "start_time": "2022-08-13T12:53:59.739Z"
   },
   {
    "duration": 446,
    "start_time": "2022-08-13T12:54:09.886Z"
   },
   {
    "duration": 185,
    "start_time": "2022-08-13T12:54:10.334Z"
   },
   {
    "duration": 17,
    "start_time": "2022-08-13T12:54:10.521Z"
   },
   {
    "duration": 30,
    "start_time": "2022-08-13T12:54:10.540Z"
   },
   {
    "duration": 20,
    "start_time": "2022-08-13T12:54:10.572Z"
   },
   {
    "duration": 8,
    "start_time": "2022-08-13T12:54:10.594Z"
   },
   {
    "duration": 20,
    "start_time": "2022-08-13T12:54:10.604Z"
   },
   {
    "duration": 15,
    "start_time": "2022-08-13T12:54:10.626Z"
   },
   {
    "duration": 26,
    "start_time": "2022-08-13T12:54:10.642Z"
   },
   {
    "duration": 23,
    "start_time": "2022-08-13T12:54:10.670Z"
   },
   {
    "duration": 24,
    "start_time": "2022-08-13T12:54:10.694Z"
   },
   {
    "duration": 83,
    "start_time": "2022-08-13T12:54:10.720Z"
   },
   {
    "duration": 87,
    "start_time": "2022-08-13T12:54:10.804Z"
   },
   {
    "duration": 61,
    "start_time": "2022-08-13T12:54:10.894Z"
   },
   {
    "duration": 53,
    "start_time": "2022-08-13T12:54:10.957Z"
   },
   {
    "duration": 104,
    "start_time": "2022-08-13T12:54:11.012Z"
   },
   {
    "duration": 3,
    "start_time": "2022-08-13T12:54:11.117Z"
   },
   {
    "duration": 10,
    "start_time": "2022-08-13T12:54:11.122Z"
   },
   {
    "duration": 8,
    "start_time": "2022-08-13T12:54:11.133Z"
   },
   {
    "duration": 5,
    "start_time": "2022-08-13T12:54:11.142Z"
   },
   {
    "duration": 7,
    "start_time": "2022-08-13T12:54:11.149Z"
   },
   {
    "duration": 6,
    "start_time": "2022-08-13T12:54:11.158Z"
   },
   {
    "duration": 6,
    "start_time": "2022-08-13T12:54:11.165Z"
   },
   {
    "duration": 6,
    "start_time": "2022-08-13T12:54:11.172Z"
   },
   {
    "duration": 13,
    "start_time": "2022-08-13T12:54:11.179Z"
   },
   {
    "duration": 5,
    "start_time": "2022-08-13T12:54:11.193Z"
   },
   {
    "duration": 5,
    "start_time": "2022-08-13T12:54:11.199Z"
   },
   {
    "duration": 5,
    "start_time": "2022-08-13T12:54:11.205Z"
   },
   {
    "duration": 5,
    "start_time": "2022-08-13T12:54:11.211Z"
   },
   {
    "duration": 137,
    "start_time": "2022-08-13T12:54:11.218Z"
   },
   {
    "duration": 0,
    "start_time": "2022-08-13T12:54:11.357Z"
   },
   {
    "duration": 0,
    "start_time": "2022-08-13T12:54:11.358Z"
   },
   {
    "duration": 0,
    "start_time": "2022-08-13T12:54:11.359Z"
   },
   {
    "duration": 0,
    "start_time": "2022-08-13T12:54:11.360Z"
   },
   {
    "duration": 0,
    "start_time": "2022-08-13T12:54:11.362Z"
   },
   {
    "duration": 0,
    "start_time": "2022-08-13T12:54:11.363Z"
   },
   {
    "duration": 0,
    "start_time": "2022-08-13T12:54:11.364Z"
   },
   {
    "duration": 0,
    "start_time": "2022-08-13T12:54:11.366Z"
   },
   {
    "duration": 15,
    "start_time": "2022-08-13T12:54:34.670Z"
   },
   {
    "duration": 3,
    "start_time": "2022-08-13T12:54:43.923Z"
   },
   {
    "duration": 5,
    "start_time": "2022-08-13T12:54:54.236Z"
   },
   {
    "duration": 8,
    "start_time": "2022-08-13T12:55:03.497Z"
   },
   {
    "duration": 6,
    "start_time": "2022-08-13T12:55:11.365Z"
   },
   {
    "duration": 67,
    "start_time": "2022-08-13T12:55:20.536Z"
   },
   {
    "duration": 6,
    "start_time": "2022-08-13T12:55:32.876Z"
   },
   {
    "duration": 7,
    "start_time": "2022-08-13T12:55:37.620Z"
   },
   {
    "duration": 7,
    "start_time": "2022-08-13T12:55:58.403Z"
   },
   {
    "duration": 16,
    "start_time": "2022-08-13T12:57:17.538Z"
   },
   {
    "duration": 7,
    "start_time": "2022-08-13T12:57:21.821Z"
   },
   {
    "duration": 11,
    "start_time": "2022-08-13T12:58:18.868Z"
   },
   {
    "duration": 7,
    "start_time": "2022-08-13T12:58:22.519Z"
   },
   {
    "duration": 6,
    "start_time": "2022-08-13T12:59:28.287Z"
   },
   {
    "duration": 451,
    "start_time": "2022-08-13T12:59:41.779Z"
   },
   {
    "duration": 180,
    "start_time": "2022-08-13T12:59:42.232Z"
   },
   {
    "duration": 16,
    "start_time": "2022-08-13T12:59:42.414Z"
   },
   {
    "duration": 30,
    "start_time": "2022-08-13T12:59:42.432Z"
   },
   {
    "duration": 2,
    "start_time": "2022-08-13T12:59:42.464Z"
   },
   {
    "duration": 27,
    "start_time": "2022-08-13T12:59:42.468Z"
   },
   {
    "duration": 17,
    "start_time": "2022-08-13T12:59:42.496Z"
   },
   {
    "duration": 10,
    "start_time": "2022-08-13T12:59:42.514Z"
   },
   {
    "duration": 39,
    "start_time": "2022-08-13T12:59:42.526Z"
   },
   {
    "duration": 28,
    "start_time": "2022-08-13T12:59:42.567Z"
   },
   {
    "duration": 27,
    "start_time": "2022-08-13T12:59:42.597Z"
   },
   {
    "duration": 87,
    "start_time": "2022-08-13T12:59:42.627Z"
   },
   {
    "duration": 86,
    "start_time": "2022-08-13T12:59:42.716Z"
   },
   {
    "duration": 59,
    "start_time": "2022-08-13T12:59:42.805Z"
   },
   {
    "duration": 56,
    "start_time": "2022-08-13T12:59:42.866Z"
   },
   {
    "duration": 10,
    "start_time": "2022-08-13T12:59:42.924Z"
   },
   {
    "duration": 7,
    "start_time": "2022-08-13T12:59:42.935Z"
   },
   {
    "duration": 4,
    "start_time": "2022-08-13T12:59:42.944Z"
   },
   {
    "duration": 5,
    "start_time": "2022-08-13T12:59:42.950Z"
   },
   {
    "duration": 5,
    "start_time": "2022-08-13T12:59:42.956Z"
   },
   {
    "duration": 29,
    "start_time": "2022-08-13T12:59:42.963Z"
   },
   {
    "duration": 6,
    "start_time": "2022-08-13T12:59:42.993Z"
   },
   {
    "duration": 5,
    "start_time": "2022-08-13T12:59:43.001Z"
   },
   {
    "duration": 7,
    "start_time": "2022-08-13T12:59:43.007Z"
   },
   {
    "duration": 6,
    "start_time": "2022-08-13T12:59:43.016Z"
   },
   {
    "duration": 4,
    "start_time": "2022-08-13T12:59:43.024Z"
   },
   {
    "duration": 5,
    "start_time": "2022-08-13T12:59:43.029Z"
   },
   {
    "duration": 4,
    "start_time": "2022-08-13T12:59:43.035Z"
   },
   {
    "duration": 5,
    "start_time": "2022-08-13T12:59:43.041Z"
   },
   {
    "duration": 73,
    "start_time": "2022-08-13T12:59:43.047Z"
   },
   {
    "duration": 0,
    "start_time": "2022-08-13T12:59:43.122Z"
   },
   {
    "duration": 0,
    "start_time": "2022-08-13T12:59:43.123Z"
   },
   {
    "duration": 0,
    "start_time": "2022-08-13T12:59:43.124Z"
   },
   {
    "duration": 0,
    "start_time": "2022-08-13T12:59:43.125Z"
   },
   {
    "duration": 1,
    "start_time": "2022-08-13T12:59:43.126Z"
   },
   {
    "duration": 0,
    "start_time": "2022-08-13T12:59:43.128Z"
   },
   {
    "duration": 0,
    "start_time": "2022-08-13T12:59:43.129Z"
   },
   {
    "duration": 0,
    "start_time": "2022-08-13T12:59:43.131Z"
   },
   {
    "duration": 4,
    "start_time": "2022-08-13T13:08:12.664Z"
   },
   {
    "duration": 5,
    "start_time": "2022-08-13T13:08:29.072Z"
   },
   {
    "duration": 46,
    "start_time": "2022-08-13T13:08:36.730Z"
   },
   {
    "duration": 24,
    "start_time": "2022-08-13T13:09:12.044Z"
   },
   {
    "duration": 72,
    "start_time": "2022-08-13T13:09:16.596Z"
   },
   {
    "duration": 13,
    "start_time": "2022-08-13T13:09:30.694Z"
   },
   {
    "duration": 10,
    "start_time": "2022-08-13T13:10:59.854Z"
   },
   {
    "duration": 259,
    "start_time": "2022-08-13T13:11:45.399Z"
   },
   {
    "duration": 12,
    "start_time": "2022-08-13T13:11:51.643Z"
   },
   {
    "duration": 13,
    "start_time": "2022-08-13T13:12:09.848Z"
   },
   {
    "duration": 3,
    "start_time": "2022-08-13T13:12:50.400Z"
   },
   {
    "duration": 12,
    "start_time": "2022-08-13T13:13:04.226Z"
   },
   {
    "duration": 3,
    "start_time": "2022-08-13T13:13:11.436Z"
   },
   {
    "duration": 8,
    "start_time": "2022-08-13T13:13:30.564Z"
   },
   {
    "duration": 11,
    "start_time": "2022-08-13T13:13:49.462Z"
   },
   {
    "duration": 12,
    "start_time": "2022-08-13T13:14:10.920Z"
   },
   {
    "duration": 373,
    "start_time": "2022-08-13T13:15:04.040Z"
   },
   {
    "duration": 184,
    "start_time": "2022-08-13T13:15:04.415Z"
   },
   {
    "duration": 18,
    "start_time": "2022-08-13T13:15:04.603Z"
   },
   {
    "duration": 42,
    "start_time": "2022-08-13T13:15:04.623Z"
   },
   {
    "duration": 14,
    "start_time": "2022-08-13T13:15:04.666Z"
   },
   {
    "duration": 26,
    "start_time": "2022-08-13T13:15:04.682Z"
   },
   {
    "duration": 30,
    "start_time": "2022-08-13T13:15:04.710Z"
   },
   {
    "duration": 24,
    "start_time": "2022-08-13T13:15:04.741Z"
   },
   {
    "duration": 51,
    "start_time": "2022-08-13T13:15:04.767Z"
   },
   {
    "duration": 46,
    "start_time": "2022-08-13T13:15:04.819Z"
   },
   {
    "duration": 33,
    "start_time": "2022-08-13T13:15:04.867Z"
   },
   {
    "duration": 89,
    "start_time": "2022-08-13T13:15:04.902Z"
   },
   {
    "duration": 85,
    "start_time": "2022-08-13T13:15:04.995Z"
   },
   {
    "duration": 65,
    "start_time": "2022-08-13T13:15:05.091Z"
   },
   {
    "duration": 55,
    "start_time": "2022-08-13T13:15:05.158Z"
   },
   {
    "duration": 12,
    "start_time": "2022-08-13T13:15:05.215Z"
   },
   {
    "duration": 36,
    "start_time": "2022-08-13T13:15:05.228Z"
   },
   {
    "duration": 24,
    "start_time": "2022-08-13T13:15:05.266Z"
   },
   {
    "duration": 27,
    "start_time": "2022-08-13T13:15:05.292Z"
   },
   {
    "duration": 10,
    "start_time": "2022-08-13T13:15:05.321Z"
   },
   {
    "duration": 35,
    "start_time": "2022-08-13T13:15:05.332Z"
   },
   {
    "duration": 17,
    "start_time": "2022-08-13T13:15:05.368Z"
   },
   {
    "duration": 20,
    "start_time": "2022-08-13T13:15:05.387Z"
   },
   {
    "duration": 10,
    "start_time": "2022-08-13T13:15:05.409Z"
   },
   {
    "duration": 24,
    "start_time": "2022-08-13T13:15:05.421Z"
   },
   {
    "duration": 45,
    "start_time": "2022-08-13T13:15:05.447Z"
   },
   {
    "duration": 44,
    "start_time": "2022-08-13T13:15:05.494Z"
   },
   {
    "duration": 32,
    "start_time": "2022-08-13T13:15:05.541Z"
   },
   {
    "duration": 13,
    "start_time": "2022-08-13T13:15:05.575Z"
   },
   {
    "duration": 128,
    "start_time": "2022-08-13T13:15:05.590Z"
   },
   {
    "duration": 0,
    "start_time": "2022-08-13T13:15:05.720Z"
   },
   {
    "duration": 0,
    "start_time": "2022-08-13T13:15:05.721Z"
   },
   {
    "duration": 0,
    "start_time": "2022-08-13T13:15:05.723Z"
   },
   {
    "duration": 0,
    "start_time": "2022-08-13T13:15:05.724Z"
   },
   {
    "duration": 0,
    "start_time": "2022-08-13T13:15:05.725Z"
   },
   {
    "duration": 0,
    "start_time": "2022-08-13T13:15:05.726Z"
   },
   {
    "duration": 0,
    "start_time": "2022-08-13T13:15:05.727Z"
   },
   {
    "duration": 0,
    "start_time": "2022-08-13T13:15:05.728Z"
   },
   {
    "duration": 12,
    "start_time": "2022-08-13T13:15:54.000Z"
   },
   {
    "duration": 32,
    "start_time": "2022-08-13T13:17:21.048Z"
   },
   {
    "duration": 12,
    "start_time": "2022-08-13T13:17:29.921Z"
   },
   {
    "duration": 13,
    "start_time": "2022-08-13T13:17:49.098Z"
   },
   {
    "duration": 15,
    "start_time": "2022-08-13T13:18:05.362Z"
   },
   {
    "duration": 53,
    "start_time": "2022-08-13T13:18:10.220Z"
   },
   {
    "duration": 22,
    "start_time": "2022-08-13T13:19:05.189Z"
   },
   {
    "duration": 12,
    "start_time": "2022-08-13T13:19:14.171Z"
   },
   {
    "duration": 18,
    "start_time": "2022-08-13T13:20:31.486Z"
   },
   {
    "duration": 13,
    "start_time": "2022-08-13T13:20:42.986Z"
   },
   {
    "duration": 3,
    "start_time": "2022-08-13T13:24:54.522Z"
   },
   {
    "duration": 4,
    "start_time": "2022-08-13T13:26:30.579Z"
   },
   {
    "duration": 75,
    "start_time": "2022-08-13T13:27:10.039Z"
   },
   {
    "duration": 14,
    "start_time": "2022-08-13T13:39:35.674Z"
   },
   {
    "duration": 12,
    "start_time": "2022-08-13T13:39:55.733Z"
   },
   {
    "duration": 13,
    "start_time": "2022-08-13T13:40:11.242Z"
   },
   {
    "duration": 12,
    "start_time": "2022-08-13T13:42:55.234Z"
   },
   {
    "duration": 14,
    "start_time": "2022-08-13T13:43:04.574Z"
   },
   {
    "duration": 431,
    "start_time": "2022-08-13T13:43:21.083Z"
   },
   {
    "duration": 182,
    "start_time": "2022-08-13T13:43:21.516Z"
   },
   {
    "duration": 18,
    "start_time": "2022-08-13T13:43:21.700Z"
   },
   {
    "duration": 32,
    "start_time": "2022-08-13T13:43:21.719Z"
   },
   {
    "duration": 3,
    "start_time": "2022-08-13T13:43:21.753Z"
   },
   {
    "duration": 7,
    "start_time": "2022-08-13T13:43:21.758Z"
   },
   {
    "duration": 39,
    "start_time": "2022-08-13T13:43:21.766Z"
   },
   {
    "duration": 11,
    "start_time": "2022-08-13T13:43:21.807Z"
   },
   {
    "duration": 51,
    "start_time": "2022-08-13T13:43:21.820Z"
   },
   {
    "duration": 37,
    "start_time": "2022-08-13T13:43:21.873Z"
   },
   {
    "duration": 38,
    "start_time": "2022-08-13T13:43:21.912Z"
   },
   {
    "duration": 108,
    "start_time": "2022-08-13T13:43:21.952Z"
   },
   {
    "duration": 106,
    "start_time": "2022-08-13T13:43:22.062Z"
   },
   {
    "duration": 71,
    "start_time": "2022-08-13T13:43:22.173Z"
   },
   {
    "duration": 54,
    "start_time": "2022-08-13T13:43:22.246Z"
   },
   {
    "duration": 12,
    "start_time": "2022-08-13T13:43:22.302Z"
   },
   {
    "duration": 8,
    "start_time": "2022-08-13T13:43:22.316Z"
   },
   {
    "duration": 14,
    "start_time": "2022-08-13T13:43:22.326Z"
   },
   {
    "duration": 13,
    "start_time": "2022-08-13T13:43:22.342Z"
   },
   {
    "duration": 48,
    "start_time": "2022-08-13T13:43:22.357Z"
   },
   {
    "duration": 5,
    "start_time": "2022-08-13T13:43:22.407Z"
   },
   {
    "duration": 8,
    "start_time": "2022-08-13T13:43:22.414Z"
   },
   {
    "duration": 6,
    "start_time": "2022-08-13T13:43:22.423Z"
   },
   {
    "duration": 6,
    "start_time": "2022-08-13T13:43:22.431Z"
   },
   {
    "duration": 5,
    "start_time": "2022-08-13T13:43:22.439Z"
   },
   {
    "duration": 6,
    "start_time": "2022-08-13T13:43:22.446Z"
   },
   {
    "duration": 4,
    "start_time": "2022-08-13T13:43:22.454Z"
   },
   {
    "duration": 7,
    "start_time": "2022-08-13T13:43:22.460Z"
   },
   {
    "duration": 23,
    "start_time": "2022-08-13T13:43:22.469Z"
   },
   {
    "duration": 75,
    "start_time": "2022-08-13T13:43:22.494Z"
   },
   {
    "duration": 0,
    "start_time": "2022-08-13T13:43:22.571Z"
   },
   {
    "duration": 0,
    "start_time": "2022-08-13T13:43:22.572Z"
   },
   {
    "duration": 0,
    "start_time": "2022-08-13T13:43:22.573Z"
   },
   {
    "duration": 0,
    "start_time": "2022-08-13T13:43:22.574Z"
   },
   {
    "duration": 0,
    "start_time": "2022-08-13T13:43:22.575Z"
   },
   {
    "duration": 0,
    "start_time": "2022-08-13T13:43:22.576Z"
   },
   {
    "duration": 0,
    "start_time": "2022-08-13T13:43:22.577Z"
   },
   {
    "duration": 0,
    "start_time": "2022-08-13T13:43:22.579Z"
   },
   {
    "duration": 20,
    "start_time": "2022-08-13T13:46:47.833Z"
   },
   {
    "duration": 17,
    "start_time": "2022-08-13T13:46:52.721Z"
   },
   {
    "duration": 14,
    "start_time": "2022-08-13T13:46:53.325Z"
   },
   {
    "duration": 16,
    "start_time": "2022-08-13T13:46:53.821Z"
   },
   {
    "duration": 14,
    "start_time": "2022-08-13T13:46:54.239Z"
   },
   {
    "duration": 19,
    "start_time": "2022-08-13T13:46:54.678Z"
   },
   {
    "duration": 15,
    "start_time": "2022-08-13T13:46:55.321Z"
   },
   {
    "duration": 64,
    "start_time": "2022-08-13T13:49:25.292Z"
   },
   {
    "duration": 19,
    "start_time": "2022-08-13T13:50:35.925Z"
   },
   {
    "duration": 4,
    "start_time": "2022-08-13T13:55:36.984Z"
   },
   {
    "duration": 4,
    "start_time": "2022-08-13T13:55:51.003Z"
   },
   {
    "duration": 9,
    "start_time": "2022-08-13T13:56:03.008Z"
   },
   {
    "duration": 11,
    "start_time": "2022-08-13T14:02:12.138Z"
   },
   {
    "duration": 10,
    "start_time": "2022-08-13T14:02:12.975Z"
   },
   {
    "duration": 448,
    "start_time": "2022-08-13T14:02:18.476Z"
   },
   {
    "duration": 176,
    "start_time": "2022-08-13T14:02:18.926Z"
   },
   {
    "duration": 18,
    "start_time": "2022-08-13T14:02:19.103Z"
   },
   {
    "duration": 32,
    "start_time": "2022-08-13T14:02:19.123Z"
   },
   {
    "duration": 4,
    "start_time": "2022-08-13T14:02:19.157Z"
   },
   {
    "duration": 22,
    "start_time": "2022-08-13T14:02:19.162Z"
   },
   {
    "duration": 31,
    "start_time": "2022-08-13T14:02:19.186Z"
   },
   {
    "duration": 9,
    "start_time": "2022-08-13T14:02:19.219Z"
   },
   {
    "duration": 35,
    "start_time": "2022-08-13T14:02:19.230Z"
   },
   {
    "duration": 26,
    "start_time": "2022-08-13T14:02:19.267Z"
   },
   {
    "duration": 33,
    "start_time": "2022-08-13T14:02:19.295Z"
   },
   {
    "duration": 97,
    "start_time": "2022-08-13T14:02:19.330Z"
   },
   {
    "duration": 82,
    "start_time": "2022-08-13T14:02:19.430Z"
   },
   {
    "duration": 60,
    "start_time": "2022-08-13T14:02:19.513Z"
   },
   {
    "duration": 51,
    "start_time": "2022-08-13T14:02:19.575Z"
   },
   {
    "duration": 14,
    "start_time": "2022-08-13T14:02:19.628Z"
   },
   {
    "duration": 13,
    "start_time": "2022-08-13T14:02:19.643Z"
   },
   {
    "duration": 12,
    "start_time": "2022-08-13T14:02:19.657Z"
   },
   {
    "duration": 29,
    "start_time": "2022-08-13T14:02:19.671Z"
   },
   {
    "duration": 5,
    "start_time": "2022-08-13T14:02:19.701Z"
   },
   {
    "duration": 24,
    "start_time": "2022-08-13T14:02:19.707Z"
   },
   {
    "duration": 15,
    "start_time": "2022-08-13T14:02:19.733Z"
   },
   {
    "duration": 42,
    "start_time": "2022-08-13T14:02:19.750Z"
   },
   {
    "duration": 21,
    "start_time": "2022-08-13T14:02:19.794Z"
   },
   {
    "duration": 17,
    "start_time": "2022-08-13T14:02:19.817Z"
   },
   {
    "duration": 16,
    "start_time": "2022-08-13T14:02:19.835Z"
   },
   {
    "duration": 39,
    "start_time": "2022-08-13T14:02:19.853Z"
   },
   {
    "duration": 16,
    "start_time": "2022-08-13T14:02:19.895Z"
   },
   {
    "duration": 9,
    "start_time": "2022-08-13T14:02:19.913Z"
   },
   {
    "duration": 85,
    "start_time": "2022-08-13T14:02:19.924Z"
   },
   {
    "duration": 0,
    "start_time": "2022-08-13T14:02:20.012Z"
   },
   {
    "duration": 0,
    "start_time": "2022-08-13T14:02:20.014Z"
   },
   {
    "duration": 0,
    "start_time": "2022-08-13T14:02:20.016Z"
   },
   {
    "duration": 0,
    "start_time": "2022-08-13T14:02:20.030Z"
   },
   {
    "duration": 0,
    "start_time": "2022-08-13T14:02:20.033Z"
   },
   {
    "duration": 0,
    "start_time": "2022-08-13T14:02:20.034Z"
   },
   {
    "duration": 0,
    "start_time": "2022-08-13T14:02:20.035Z"
   },
   {
    "duration": 0,
    "start_time": "2022-08-13T14:02:20.036Z"
   },
   {
    "duration": 79,
    "start_time": "2022-08-13T14:09:24.771Z"
   },
   {
    "duration": 5,
    "start_time": "2022-08-13T14:09:32.393Z"
   },
   {
    "duration": 65,
    "start_time": "2022-08-13T14:11:24.139Z"
   },
   {
    "duration": 7,
    "start_time": "2022-08-13T14:11:43.660Z"
   },
   {
    "duration": 10,
    "start_time": "2022-08-13T14:11:52.491Z"
   },
   {
    "duration": 42,
    "start_time": "2022-08-13T14:11:55.794Z"
   },
   {
    "duration": 19,
    "start_time": "2022-08-13T14:11:58.901Z"
   },
   {
    "duration": 30,
    "start_time": "2022-08-13T14:12:00.898Z"
   },
   {
    "duration": 22,
    "start_time": "2022-08-13T14:12:01.692Z"
   },
   {
    "duration": 37,
    "start_time": "2022-08-13T14:13:09.942Z"
   },
   {
    "duration": 18,
    "start_time": "2022-08-13T14:13:10.511Z"
   },
   {
    "duration": 25,
    "start_time": "2022-08-13T14:13:31.800Z"
   },
   {
    "duration": 20,
    "start_time": "2022-08-13T14:14:18.943Z"
   },
   {
    "duration": 31,
    "start_time": "2022-08-13T14:14:22.143Z"
   },
   {
    "duration": 18,
    "start_time": "2022-08-13T14:14:22.944Z"
   },
   {
    "duration": 44,
    "start_time": "2022-08-13T14:15:17.924Z"
   },
   {
    "duration": 18,
    "start_time": "2022-08-13T14:15:20.140Z"
   },
   {
    "duration": 31,
    "start_time": "2022-08-13T14:15:20.838Z"
   },
   {
    "duration": 18,
    "start_time": "2022-08-13T14:15:21.739Z"
   },
   {
    "duration": 73,
    "start_time": "2022-08-13T14:16:15.568Z"
   },
   {
    "duration": 27,
    "start_time": "2022-08-13T14:16:27.092Z"
   },
   {
    "duration": 17,
    "start_time": "2022-08-13T14:17:19.885Z"
   },
   {
    "duration": 18,
    "start_time": "2022-08-13T14:17:27.634Z"
   },
   {
    "duration": 19,
    "start_time": "2022-08-13T14:17:32.405Z"
   },
   {
    "duration": 20,
    "start_time": "2022-08-13T14:24:53.107Z"
   },
   {
    "duration": 20,
    "start_time": "2022-08-13T14:25:04.735Z"
   },
   {
    "duration": 12,
    "start_time": "2022-08-13T14:25:40.443Z"
   },
   {
    "duration": 11,
    "start_time": "2022-08-13T14:25:50.300Z"
   },
   {
    "duration": 10,
    "start_time": "2022-08-13T14:25:55.598Z"
   },
   {
    "duration": 5,
    "start_time": "2022-08-13T14:26:31.498Z"
   },
   {
    "duration": 48,
    "start_time": "2022-08-13T14:26:34.329Z"
   },
   {
    "duration": 5,
    "start_time": "2022-08-13T14:27:28.433Z"
   },
   {
    "duration": 50,
    "start_time": "2022-08-13T14:27:30.712Z"
   },
   {
    "duration": 7,
    "start_time": "2022-08-13T14:27:39.353Z"
   },
   {
    "duration": 33,
    "start_time": "2022-08-13T14:27:40.498Z"
   },
   {
    "duration": 5,
    "start_time": "2022-08-13T14:27:50.843Z"
   },
   {
    "duration": 32,
    "start_time": "2022-08-13T14:27:51.668Z"
   },
   {
    "duration": 4,
    "start_time": "2022-08-13T14:28:03.383Z"
   },
   {
    "duration": 55,
    "start_time": "2022-08-13T14:28:04.209Z"
   },
   {
    "duration": 52,
    "start_time": "2022-08-13T14:28:10.365Z"
   },
   {
    "duration": 28,
    "start_time": "2022-08-13T14:28:11.040Z"
   },
   {
    "duration": 44,
    "start_time": "2022-08-13T14:28:15.113Z"
   },
   {
    "duration": 30,
    "start_time": "2022-08-13T14:28:18.801Z"
   },
   {
    "duration": 5,
    "start_time": "2022-08-13T14:28:45.285Z"
   },
   {
    "duration": 46,
    "start_time": "2022-08-13T14:28:46.333Z"
   },
   {
    "duration": 4,
    "start_time": "2022-08-13T14:29:30.036Z"
   },
   {
    "duration": 4,
    "start_time": "2022-08-13T14:29:49.803Z"
   },
   {
    "duration": 46,
    "start_time": "2022-08-13T14:29:52.336Z"
   },
   {
    "duration": 30,
    "start_time": "2022-08-13T14:29:55.028Z"
   },
   {
    "duration": 49,
    "start_time": "2022-08-13T14:29:57.067Z"
   },
   {
    "duration": 33,
    "start_time": "2022-08-13T14:29:59.346Z"
   },
   {
    "duration": 4,
    "start_time": "2022-08-13T14:31:38.679Z"
   },
   {
    "duration": 50,
    "start_time": "2022-08-13T14:31:39.998Z"
   },
   {
    "duration": 29,
    "start_time": "2022-08-13T14:31:42.862Z"
   },
   {
    "duration": 45,
    "start_time": "2022-08-13T14:31:50.531Z"
   },
   {
    "duration": 27,
    "start_time": "2022-08-13T14:31:51.698Z"
   },
   {
    "duration": 27,
    "start_time": "2022-08-13T14:31:54.773Z"
   },
   {
    "duration": 46,
    "start_time": "2022-08-13T14:31:55.479Z"
   },
   {
    "duration": 27,
    "start_time": "2022-08-13T14:31:56.297Z"
   },
   {
    "duration": 4,
    "start_time": "2022-08-13T14:32:17.793Z"
   },
   {
    "duration": 28,
    "start_time": "2022-08-13T14:32:18.681Z"
   },
   {
    "duration": 18,
    "start_time": "2022-08-13T14:32:22.613Z"
   },
   {
    "duration": 30,
    "start_time": "2022-08-13T14:32:23.130Z"
   },
   {
    "duration": 18,
    "start_time": "2022-08-13T14:32:23.700Z"
   },
   {
    "duration": 5,
    "start_time": "2022-08-13T14:33:44.543Z"
   },
   {
    "duration": 31,
    "start_time": "2022-08-13T14:33:45.447Z"
   },
   {
    "duration": 18,
    "start_time": "2022-08-13T14:33:47.291Z"
   },
   {
    "duration": 29,
    "start_time": "2022-08-13T14:33:48.379Z"
   },
   {
    "duration": 18,
    "start_time": "2022-08-13T14:33:49.939Z"
   },
   {
    "duration": 6,
    "start_time": "2022-08-13T14:34:26.897Z"
   },
   {
    "duration": 31,
    "start_time": "2022-08-13T14:34:27.660Z"
   },
   {
    "duration": 19,
    "start_time": "2022-08-13T14:34:28.405Z"
   },
   {
    "duration": 28,
    "start_time": "2022-08-13T14:34:29.899Z"
   },
   {
    "duration": 18,
    "start_time": "2022-08-13T14:34:30.718Z"
   },
   {
    "duration": 4,
    "start_time": "2022-08-13T14:34:36.647Z"
   },
   {
    "duration": 34,
    "start_time": "2022-08-13T14:34:37.441Z"
   },
   {
    "duration": 18,
    "start_time": "2022-08-13T14:34:37.910Z"
   },
   {
    "duration": 30,
    "start_time": "2022-08-13T14:34:38.324Z"
   },
   {
    "duration": 19,
    "start_time": "2022-08-13T14:34:38.696Z"
   },
   {
    "duration": 5,
    "start_time": "2022-08-13T14:35:49.740Z"
   },
   {
    "duration": 29,
    "start_time": "2022-08-13T14:35:50.740Z"
   },
   {
    "duration": 18,
    "start_time": "2022-08-13T14:35:52.139Z"
   },
   {
    "duration": 30,
    "start_time": "2022-08-13T14:35:53.163Z"
   },
   {
    "duration": 19,
    "start_time": "2022-08-13T14:35:54.537Z"
   },
   {
    "duration": 4,
    "start_time": "2022-08-13T14:36:36.738Z"
   },
   {
    "duration": 29,
    "start_time": "2022-08-13T14:36:37.691Z"
   },
   {
    "duration": 4,
    "start_time": "2022-08-13T14:36:45.302Z"
   },
   {
    "duration": 28,
    "start_time": "2022-08-13T14:36:46.205Z"
   },
   {
    "duration": 27,
    "start_time": "2022-08-13T14:36:46.866Z"
   },
   {
    "duration": 8,
    "start_time": "2022-08-13T15:03:33.203Z"
   },
   {
    "duration": 11,
    "start_time": "2022-08-13T15:04:10.249Z"
   },
   {
    "duration": 8,
    "start_time": "2022-08-13T15:04:12.861Z"
   },
   {
    "duration": 30,
    "start_time": "2022-08-13T15:04:30.114Z"
   },
   {
    "duration": 1658,
    "start_time": "2022-08-13T15:05:02.201Z"
   },
   {
    "duration": 0,
    "start_time": "2022-08-13T15:05:03.861Z"
   },
   {
    "duration": 28,
    "start_time": "2022-08-13T15:05:30.281Z"
   },
   {
    "duration": 24,
    "start_time": "2022-08-13T15:05:42.175Z"
   },
   {
    "duration": 8,
    "start_time": "2022-08-13T15:05:43.260Z"
   },
   {
    "duration": 16,
    "start_time": "2022-08-13T15:11:13.389Z"
   },
   {
    "duration": 24,
    "start_time": "2022-08-13T15:11:19.932Z"
   },
   {
    "duration": 24,
    "start_time": "2022-08-13T15:12:19.841Z"
   },
   {
    "duration": 9,
    "start_time": "2022-08-13T15:12:20.962Z"
   },
   {
    "duration": 53,
    "start_time": "2022-08-13T20:04:24.781Z"
   },
   {
    "duration": 5,
    "start_time": "2022-08-13T20:07:06.751Z"
   },
   {
    "duration": 5,
    "start_time": "2022-08-13T20:07:08.524Z"
   },
   {
    "duration": 6,
    "start_time": "2022-08-13T20:07:17.057Z"
   },
   {
    "duration": 6,
    "start_time": "2022-08-13T20:07:17.596Z"
   },
   {
    "duration": 374,
    "start_time": "2022-08-13T20:07:24.936Z"
   },
   {
    "duration": 233,
    "start_time": "2022-08-13T20:07:25.312Z"
   },
   {
    "duration": 16,
    "start_time": "2022-08-13T20:07:25.547Z"
   },
   {
    "duration": 29,
    "start_time": "2022-08-13T20:07:25.565Z"
   },
   {
    "duration": 2,
    "start_time": "2022-08-13T20:07:25.595Z"
   },
   {
    "duration": 15,
    "start_time": "2022-08-13T20:07:25.598Z"
   },
   {
    "duration": 11,
    "start_time": "2022-08-13T20:07:25.615Z"
   },
   {
    "duration": 5,
    "start_time": "2022-08-13T20:07:25.628Z"
   },
   {
    "duration": 22,
    "start_time": "2022-08-13T20:07:25.634Z"
   },
   {
    "duration": 14,
    "start_time": "2022-08-13T20:07:25.659Z"
   },
   {
    "duration": 48,
    "start_time": "2022-08-13T20:07:25.674Z"
   },
   {
    "duration": 58,
    "start_time": "2022-08-13T20:07:25.724Z"
   },
   {
    "duration": 78,
    "start_time": "2022-08-13T20:07:25.783Z"
   },
   {
    "duration": 61,
    "start_time": "2022-08-13T20:07:25.862Z"
   },
   {
    "duration": 36,
    "start_time": "2022-08-13T20:07:25.925Z"
   },
   {
    "duration": 9,
    "start_time": "2022-08-13T20:07:25.963Z"
   },
   {
    "duration": 7,
    "start_time": "2022-08-13T20:07:25.973Z"
   },
   {
    "duration": 11,
    "start_time": "2022-08-13T20:07:25.981Z"
   },
   {
    "duration": 12,
    "start_time": "2022-08-13T20:07:26.014Z"
   },
   {
    "duration": 12,
    "start_time": "2022-08-13T20:07:26.028Z"
   },
   {
    "duration": 21,
    "start_time": "2022-08-13T20:07:26.042Z"
   },
   {
    "duration": 12,
    "start_time": "2022-08-13T20:07:26.065Z"
   },
   {
    "duration": 17,
    "start_time": "2022-08-13T20:07:26.078Z"
   },
   {
    "duration": 27,
    "start_time": "2022-08-13T20:07:26.096Z"
   },
   {
    "duration": 16,
    "start_time": "2022-08-13T20:07:26.125Z"
   },
   {
    "duration": 12,
    "start_time": "2022-08-13T20:07:26.143Z"
   },
   {
    "duration": 9,
    "start_time": "2022-08-13T20:07:26.156Z"
   },
   {
    "duration": 10,
    "start_time": "2022-08-13T20:07:26.168Z"
   },
   {
    "duration": 10,
    "start_time": "2022-08-13T20:07:26.180Z"
   },
   {
    "duration": 31,
    "start_time": "2022-08-13T20:07:26.191Z"
   },
   {
    "duration": 99,
    "start_time": "2022-08-13T20:07:26.224Z"
   },
   {
    "duration": 0,
    "start_time": "2022-08-13T20:07:26.325Z"
   },
   {
    "duration": 0,
    "start_time": "2022-08-13T20:07:26.326Z"
   },
   {
    "duration": 0,
    "start_time": "2022-08-13T20:07:26.328Z"
   },
   {
    "duration": 0,
    "start_time": "2022-08-13T20:07:26.329Z"
   },
   {
    "duration": 0,
    "start_time": "2022-08-13T20:07:26.330Z"
   },
   {
    "duration": 0,
    "start_time": "2022-08-13T20:07:26.332Z"
   },
   {
    "duration": 0,
    "start_time": "2022-08-13T20:07:26.333Z"
   },
   {
    "duration": 27,
    "start_time": "2022-08-13T20:08:10.546Z"
   },
   {
    "duration": 4,
    "start_time": "2022-08-13T20:08:15.345Z"
   },
   {
    "duration": 27,
    "start_time": "2022-08-13T20:08:17.348Z"
   },
   {
    "duration": 10,
    "start_time": "2022-08-13T20:08:21.940Z"
   },
   {
    "duration": 18,
    "start_time": "2022-08-13T20:08:22.510Z"
   },
   {
    "duration": 4,
    "start_time": "2022-08-13T20:08:25.084Z"
   },
   {
    "duration": 27,
    "start_time": "2022-08-13T20:08:26.467Z"
   },
   {
    "duration": 4,
    "start_time": "2022-08-13T20:09:29.774Z"
   },
   {
    "duration": 28,
    "start_time": "2022-08-13T20:09:30.731Z"
   },
   {
    "duration": 422,
    "start_time": "2022-08-13T20:09:36.001Z"
   },
   {
    "duration": 148,
    "start_time": "2022-08-13T20:09:36.425Z"
   },
   {
    "duration": 15,
    "start_time": "2022-08-13T20:09:36.575Z"
   },
   {
    "duration": 31,
    "start_time": "2022-08-13T20:09:36.592Z"
   },
   {
    "duration": 3,
    "start_time": "2022-08-13T20:09:36.625Z"
   },
   {
    "duration": 5,
    "start_time": "2022-08-13T20:09:36.630Z"
   },
   {
    "duration": 15,
    "start_time": "2022-08-13T20:09:36.637Z"
   },
   {
    "duration": 3,
    "start_time": "2022-08-13T20:09:36.654Z"
   },
   {
    "duration": 20,
    "start_time": "2022-08-13T20:09:36.659Z"
   },
   {
    "duration": 47,
    "start_time": "2022-08-13T20:09:36.681Z"
   },
   {
    "duration": 23,
    "start_time": "2022-08-13T20:09:36.729Z"
   },
   {
    "duration": 68,
    "start_time": "2022-08-13T20:09:36.754Z"
   },
   {
    "duration": 68,
    "start_time": "2022-08-13T20:09:36.824Z"
   },
   {
    "duration": 70,
    "start_time": "2022-08-13T20:09:36.894Z"
   },
   {
    "duration": 36,
    "start_time": "2022-08-13T20:09:36.965Z"
   },
   {
    "duration": 20,
    "start_time": "2022-08-13T20:09:37.002Z"
   },
   {
    "duration": 13,
    "start_time": "2022-08-13T20:09:37.024Z"
   },
   {
    "duration": 24,
    "start_time": "2022-08-13T20:09:37.039Z"
   },
   {
    "duration": 26,
    "start_time": "2022-08-13T20:09:37.064Z"
   },
   {
    "duration": 3,
    "start_time": "2022-08-13T20:09:37.093Z"
   },
   {
    "duration": 46,
    "start_time": "2022-08-13T20:09:37.098Z"
   },
   {
    "duration": 30,
    "start_time": "2022-08-13T20:09:37.146Z"
   },
   {
    "duration": 19,
    "start_time": "2022-08-13T20:09:37.178Z"
   },
   {
    "duration": 24,
    "start_time": "2022-08-13T20:09:37.199Z"
   },
   {
    "duration": 31,
    "start_time": "2022-08-13T20:09:37.224Z"
   },
   {
    "duration": 13,
    "start_time": "2022-08-13T20:09:37.256Z"
   },
   {
    "duration": 16,
    "start_time": "2022-08-13T20:09:37.271Z"
   },
   {
    "duration": 18,
    "start_time": "2022-08-13T20:09:37.288Z"
   },
   {
    "duration": 24,
    "start_time": "2022-08-13T20:09:37.307Z"
   },
   {
    "duration": 10,
    "start_time": "2022-08-13T20:09:37.333Z"
   },
   {
    "duration": 129,
    "start_time": "2022-08-13T20:09:37.344Z"
   },
   {
    "duration": 0,
    "start_time": "2022-08-13T20:09:37.475Z"
   },
   {
    "duration": 0,
    "start_time": "2022-08-13T20:09:37.476Z"
   },
   {
    "duration": 0,
    "start_time": "2022-08-13T20:09:37.477Z"
   },
   {
    "duration": 0,
    "start_time": "2022-08-13T20:09:37.478Z"
   },
   {
    "duration": 0,
    "start_time": "2022-08-13T20:09:37.479Z"
   },
   {
    "duration": 0,
    "start_time": "2022-08-13T20:09:37.480Z"
   },
   {
    "duration": 0,
    "start_time": "2022-08-13T20:09:37.480Z"
   },
   {
    "duration": 4,
    "start_time": "2022-08-13T20:09:41.134Z"
   },
   {
    "duration": 26,
    "start_time": "2022-08-13T20:09:42.131Z"
   },
   {
    "duration": 4,
    "start_time": "2022-08-13T20:10:13.885Z"
   },
   {
    "duration": 28,
    "start_time": "2022-08-13T20:10:15.870Z"
   },
   {
    "duration": 5,
    "start_time": "2022-08-13T20:10:28.658Z"
   },
   {
    "duration": 25,
    "start_time": "2022-08-13T20:10:29.639Z"
   },
   {
    "duration": 20,
    "start_time": "2022-08-13T20:10:32.404Z"
   },
   {
    "duration": 40,
    "start_time": "2022-08-13T20:10:32.782Z"
   },
   {
    "duration": 15,
    "start_time": "2022-08-13T20:10:34.640Z"
   },
   {
    "duration": 18,
    "start_time": "2022-08-13T20:10:55.644Z"
   },
   {
    "duration": 9,
    "start_time": "2022-08-13T20:10:59.632Z"
   },
   {
    "duration": 33,
    "start_time": "2022-08-13T20:12:12.295Z"
   },
   {
    "duration": 30,
    "start_time": "2022-08-13T20:12:45.193Z"
   },
   {
    "duration": 8,
    "start_time": "2022-08-13T20:12:48.124Z"
   },
   {
    "duration": 5,
    "start_time": "2022-08-13T20:13:39.900Z"
   },
   {
    "duration": 40,
    "start_time": "2022-08-13T20:13:40.923Z"
   },
   {
    "duration": 6,
    "start_time": "2022-08-13T20:13:56.726Z"
   },
   {
    "duration": 46,
    "start_time": "2022-08-13T20:13:57.601Z"
   },
   {
    "duration": 5,
    "start_time": "2022-08-13T20:14:31.628Z"
   },
   {
    "duration": 31,
    "start_time": "2022-08-13T20:14:32.547Z"
   },
   {
    "duration": 19,
    "start_time": "2022-08-13T20:14:33.443Z"
   },
   {
    "duration": 12,
    "start_time": "2022-08-13T20:14:43.907Z"
   },
   {
    "duration": 39,
    "start_time": "2022-08-13T20:14:44.918Z"
   },
   {
    "duration": 28,
    "start_time": "2022-08-13T20:14:53.142Z"
   },
   {
    "duration": 41,
    "start_time": "2022-08-13T20:15:05.086Z"
   },
   {
    "duration": 4,
    "start_time": "2022-08-13T20:15:06.583Z"
   },
   {
    "duration": 27,
    "start_time": "2022-08-13T20:15:07.368Z"
   },
   {
    "duration": 392,
    "start_time": "2022-08-13T20:15:13.532Z"
   },
   {
    "duration": 159,
    "start_time": "2022-08-13T20:15:13.926Z"
   },
   {
    "duration": 16,
    "start_time": "2022-08-13T20:15:14.087Z"
   },
   {
    "duration": 58,
    "start_time": "2022-08-13T20:15:14.105Z"
   },
   {
    "duration": 25,
    "start_time": "2022-08-13T20:15:14.164Z"
   },
   {
    "duration": 35,
    "start_time": "2022-08-13T20:15:14.191Z"
   },
   {
    "duration": 36,
    "start_time": "2022-08-13T20:15:14.227Z"
   },
   {
    "duration": 30,
    "start_time": "2022-08-13T20:15:14.264Z"
   },
   {
    "duration": 50,
    "start_time": "2022-08-13T20:15:14.295Z"
   },
   {
    "duration": 26,
    "start_time": "2022-08-13T20:15:14.348Z"
   },
   {
    "duration": 35,
    "start_time": "2022-08-13T20:15:14.376Z"
   },
   {
    "duration": 86,
    "start_time": "2022-08-13T20:15:14.422Z"
   },
   {
    "duration": 83,
    "start_time": "2022-08-13T20:15:14.509Z"
   },
   {
    "duration": 62,
    "start_time": "2022-08-13T20:15:14.594Z"
   },
   {
    "duration": 37,
    "start_time": "2022-08-13T20:15:14.657Z"
   },
   {
    "duration": 33,
    "start_time": "2022-08-13T20:15:14.695Z"
   },
   {
    "duration": 34,
    "start_time": "2022-08-13T20:15:14.730Z"
   },
   {
    "duration": 31,
    "start_time": "2022-08-13T20:15:14.766Z"
   },
   {
    "duration": 43,
    "start_time": "2022-08-13T20:15:14.799Z"
   },
   {
    "duration": 19,
    "start_time": "2022-08-13T20:15:14.844Z"
   },
   {
    "duration": 41,
    "start_time": "2022-08-13T20:15:14.864Z"
   },
   {
    "duration": 46,
    "start_time": "2022-08-13T20:15:14.906Z"
   },
   {
    "duration": 72,
    "start_time": "2022-08-13T20:15:14.954Z"
   },
   {
    "duration": 20,
    "start_time": "2022-08-13T20:15:15.028Z"
   },
   {
    "duration": 36,
    "start_time": "2022-08-13T20:15:15.050Z"
   },
   {
    "duration": 51,
    "start_time": "2022-08-13T20:15:15.087Z"
   },
   {
    "duration": 29,
    "start_time": "2022-08-13T20:15:15.139Z"
   },
   {
    "duration": 42,
    "start_time": "2022-08-13T20:15:15.171Z"
   },
   {
    "duration": 33,
    "start_time": "2022-08-13T20:15:15.222Z"
   },
   {
    "duration": 19,
    "start_time": "2022-08-13T20:15:15.257Z"
   },
   {
    "duration": 131,
    "start_time": "2022-08-13T20:15:15.278Z"
   },
   {
    "duration": 0,
    "start_time": "2022-08-13T20:15:15.410Z"
   },
   {
    "duration": 0,
    "start_time": "2022-08-13T20:15:15.411Z"
   },
   {
    "duration": 0,
    "start_time": "2022-08-13T20:15:15.412Z"
   },
   {
    "duration": 0,
    "start_time": "2022-08-13T20:15:15.412Z"
   },
   {
    "duration": 0,
    "start_time": "2022-08-13T20:15:15.413Z"
   },
   {
    "duration": 0,
    "start_time": "2022-08-13T20:15:15.413Z"
   },
   {
    "duration": 0,
    "start_time": "2022-08-13T20:15:15.414Z"
   },
   {
    "duration": 4,
    "start_time": "2022-08-13T20:15:43.829Z"
   },
   {
    "duration": 26,
    "start_time": "2022-08-13T20:15:44.670Z"
   },
   {
    "duration": 16,
    "start_time": "2022-08-13T20:15:46.858Z"
   },
   {
    "duration": 36,
    "start_time": "2022-08-13T20:15:53.810Z"
   },
   {
    "duration": 17,
    "start_time": "2022-08-13T20:15:57.166Z"
   },
   {
    "duration": 6,
    "start_time": "2022-08-13T20:16:45.988Z"
   },
   {
    "duration": 41,
    "start_time": "2022-08-13T20:16:48.824Z"
   },
   {
    "duration": 6,
    "start_time": "2022-08-13T20:17:17.135Z"
   },
   {
    "duration": 46,
    "start_time": "2022-08-13T20:17:19.922Z"
   },
   {
    "duration": 57,
    "start_time": "2022-08-13T20:17:48.934Z"
   },
   {
    "duration": 24,
    "start_time": "2022-08-13T20:17:50.040Z"
   },
   {
    "duration": 58,
    "start_time": "2022-08-13T20:17:50.974Z"
   },
   {
    "duration": 25,
    "start_time": "2022-08-13T20:17:51.734Z"
   },
   {
    "duration": 6,
    "start_time": "2022-08-13T20:18:32.334Z"
   },
   {
    "duration": 68,
    "start_time": "2022-08-13T20:18:34.870Z"
   },
   {
    "duration": 4,
    "start_time": "2022-08-13T20:18:49.940Z"
   },
   {
    "duration": 59,
    "start_time": "2022-08-13T20:18:50.669Z"
   },
   {
    "duration": 5,
    "start_time": "2022-08-13T20:19:03.951Z"
   },
   {
    "duration": 66,
    "start_time": "2022-08-13T20:19:04.664Z"
   },
   {
    "duration": 5,
    "start_time": "2022-08-13T20:19:24.636Z"
   },
   {
    "duration": 63,
    "start_time": "2022-08-13T20:19:25.583Z"
   },
   {
    "duration": 4,
    "start_time": "2022-08-13T20:19:44.888Z"
   },
   {
    "duration": 46,
    "start_time": "2022-08-13T20:19:45.930Z"
   },
   {
    "duration": 68,
    "start_time": "2022-08-13T20:20:06.110Z"
   },
   {
    "duration": 48,
    "start_time": "2022-08-13T20:20:12.033Z"
   },
   {
    "duration": 4,
    "start_time": "2022-08-13T20:20:28.432Z"
   },
   {
    "duration": 62,
    "start_time": "2022-08-13T20:20:29.390Z"
   },
   {
    "duration": 52,
    "start_time": "2022-08-13T20:20:51.937Z"
   },
   {
    "duration": 7,
    "start_time": "2022-08-13T20:20:57.837Z"
   },
   {
    "duration": 6,
    "start_time": "2022-08-13T20:21:00.135Z"
   },
   {
    "duration": 407,
    "start_time": "2022-08-13T20:21:10.395Z"
   },
   {
    "duration": 176,
    "start_time": "2022-08-13T20:21:10.804Z"
   },
   {
    "duration": 16,
    "start_time": "2022-08-13T20:21:10.981Z"
   },
   {
    "duration": 39,
    "start_time": "2022-08-13T20:21:10.998Z"
   },
   {
    "duration": 6,
    "start_time": "2022-08-13T20:21:11.039Z"
   },
   {
    "duration": 8,
    "start_time": "2022-08-13T20:21:11.047Z"
   },
   {
    "duration": 14,
    "start_time": "2022-08-13T20:21:11.056Z"
   },
   {
    "duration": 6,
    "start_time": "2022-08-13T20:21:11.071Z"
   },
   {
    "duration": 27,
    "start_time": "2022-08-13T20:21:11.078Z"
   },
   {
    "duration": 27,
    "start_time": "2022-08-13T20:21:11.107Z"
   },
   {
    "duration": 21,
    "start_time": "2022-08-13T20:21:11.139Z"
   },
   {
    "duration": 73,
    "start_time": "2022-08-13T20:21:11.162Z"
   },
   {
    "duration": 69,
    "start_time": "2022-08-13T20:21:11.237Z"
   },
   {
    "duration": 69,
    "start_time": "2022-08-13T20:21:11.308Z"
   },
   {
    "duration": 51,
    "start_time": "2022-08-13T20:21:11.378Z"
   },
   {
    "duration": 18,
    "start_time": "2022-08-13T20:21:11.430Z"
   },
   {
    "duration": 10,
    "start_time": "2022-08-13T20:21:11.450Z"
   },
   {
    "duration": 13,
    "start_time": "2022-08-13T20:21:11.462Z"
   },
   {
    "duration": 13,
    "start_time": "2022-08-13T20:21:11.476Z"
   },
   {
    "duration": 3,
    "start_time": "2022-08-13T20:21:11.491Z"
   },
   {
    "duration": 42,
    "start_time": "2022-08-13T20:21:11.496Z"
   },
   {
    "duration": 14,
    "start_time": "2022-08-13T20:21:11.539Z"
   },
   {
    "duration": 15,
    "start_time": "2022-08-13T20:21:11.554Z"
   },
   {
    "duration": 11,
    "start_time": "2022-08-13T20:21:11.571Z"
   },
   {
    "duration": 13,
    "start_time": "2022-08-13T20:21:11.584Z"
   },
   {
    "duration": 39,
    "start_time": "2022-08-13T20:21:11.598Z"
   },
   {
    "duration": 8,
    "start_time": "2022-08-13T20:21:11.640Z"
   },
   {
    "duration": 8,
    "start_time": "2022-08-13T20:21:11.651Z"
   },
   {
    "duration": 7,
    "start_time": "2022-08-13T20:21:11.661Z"
   },
   {
    "duration": 4,
    "start_time": "2022-08-13T20:21:11.669Z"
   },
   {
    "duration": 74,
    "start_time": "2022-08-13T20:21:11.674Z"
   },
   {
    "duration": 31,
    "start_time": "2022-08-13T20:21:11.750Z"
   },
   {
    "duration": 67,
    "start_time": "2022-08-13T20:21:11.783Z"
   },
   {
    "duration": 30,
    "start_time": "2022-08-13T20:21:11.851Z"
   },
   {
    "duration": 46,
    "start_time": "2022-08-13T20:21:11.883Z"
   },
   {
    "duration": 15,
    "start_time": "2022-08-13T20:21:11.935Z"
   },
   {
    "duration": 38,
    "start_time": "2022-08-13T20:21:11.951Z"
   },
   {
    "duration": 46,
    "start_time": "2022-08-13T20:21:11.990Z"
   },
   {
    "duration": 4,
    "start_time": "2022-08-13T20:21:24.963Z"
   },
   {
    "duration": 49,
    "start_time": "2022-08-13T20:21:26.554Z"
   },
   {
    "duration": 5,
    "start_time": "2022-08-13T20:22:06.092Z"
   },
   {
    "duration": 59,
    "start_time": "2022-08-13T20:22:07.178Z"
   },
   {
    "duration": 4,
    "start_time": "2022-08-13T20:25:59.891Z"
   },
   {
    "duration": 661,
    "start_time": "2022-08-13T20:26:01.174Z"
   },
   {
    "duration": 727,
    "start_time": "2022-08-13T20:26:11.840Z"
   },
   {
    "duration": 576,
    "start_time": "2022-08-13T20:26:38.006Z"
   },
   {
    "duration": 5,
    "start_time": "2022-08-13T20:27:18.269Z"
   },
   {
    "duration": 50,
    "start_time": "2022-08-13T20:27:19.235Z"
   },
   {
    "duration": 4,
    "start_time": "2022-08-13T20:27:57.973Z"
   },
   {
    "duration": 45,
    "start_time": "2022-08-13T20:27:58.892Z"
   },
   {
    "duration": 5,
    "start_time": "2022-08-13T20:29:21.236Z"
   },
   {
    "duration": 18,
    "start_time": "2022-08-13T20:29:22.353Z"
   },
   {
    "duration": 5,
    "start_time": "2022-08-13T20:31:24.324Z"
   },
   {
    "duration": 42,
    "start_time": "2022-08-13T20:31:27.024Z"
   },
   {
    "duration": 9,
    "start_time": "2022-08-13T20:31:38.738Z"
   },
   {
    "duration": 406,
    "start_time": "2022-08-13T20:31:57.505Z"
   },
   {
    "duration": 159,
    "start_time": "2022-08-13T20:31:57.913Z"
   },
   {
    "duration": 16,
    "start_time": "2022-08-13T20:31:58.073Z"
   },
   {
    "duration": 32,
    "start_time": "2022-08-13T20:31:58.091Z"
   },
   {
    "duration": 4,
    "start_time": "2022-08-13T20:31:58.125Z"
   },
   {
    "duration": 11,
    "start_time": "2022-08-13T20:31:58.132Z"
   },
   {
    "duration": 15,
    "start_time": "2022-08-13T20:31:58.145Z"
   },
   {
    "duration": 6,
    "start_time": "2022-08-13T20:31:58.161Z"
   },
   {
    "duration": 20,
    "start_time": "2022-08-13T20:31:58.168Z"
   },
   {
    "duration": 31,
    "start_time": "2022-08-13T20:31:58.190Z"
   },
   {
    "duration": 20,
    "start_time": "2022-08-13T20:31:58.223Z"
   },
   {
    "duration": 78,
    "start_time": "2022-08-13T20:31:58.245Z"
   },
   {
    "duration": 68,
    "start_time": "2022-08-13T20:31:58.324Z"
   },
   {
    "duration": 61,
    "start_time": "2022-08-13T20:31:58.394Z"
   },
   {
    "duration": 36,
    "start_time": "2022-08-13T20:31:58.456Z"
   },
   {
    "duration": 24,
    "start_time": "2022-08-13T20:31:58.493Z"
   },
   {
    "duration": 14,
    "start_time": "2022-08-13T20:31:58.522Z"
   },
   {
    "duration": 11,
    "start_time": "2022-08-13T20:31:58.537Z"
   },
   {
    "duration": 9,
    "start_time": "2022-08-13T20:31:58.549Z"
   },
   {
    "duration": 4,
    "start_time": "2022-08-13T20:31:58.559Z"
   },
   {
    "duration": 18,
    "start_time": "2022-08-13T20:31:58.564Z"
   },
   {
    "duration": 11,
    "start_time": "2022-08-13T20:31:58.584Z"
   },
   {
    "duration": 32,
    "start_time": "2022-08-13T20:31:58.596Z"
   },
   {
    "duration": 13,
    "start_time": "2022-08-13T20:31:58.629Z"
   },
   {
    "duration": 13,
    "start_time": "2022-08-13T20:31:58.644Z"
   },
   {
    "duration": 15,
    "start_time": "2022-08-13T20:31:58.659Z"
   },
   {
    "duration": 8,
    "start_time": "2022-08-13T20:31:58.675Z"
   },
   {
    "duration": 12,
    "start_time": "2022-08-13T20:31:58.720Z"
   },
   {
    "duration": 7,
    "start_time": "2022-08-13T20:31:58.734Z"
   },
   {
    "duration": 5,
    "start_time": "2022-08-13T20:31:58.742Z"
   },
   {
    "duration": 45,
    "start_time": "2022-08-13T20:31:58.748Z"
   },
   {
    "duration": 45,
    "start_time": "2022-08-13T20:31:58.794Z"
   },
   {
    "duration": 38,
    "start_time": "2022-08-13T20:31:58.840Z"
   },
   {
    "duration": 23,
    "start_time": "2022-08-13T20:31:58.879Z"
   },
   {
    "duration": 24,
    "start_time": "2022-08-13T20:31:58.910Z"
   },
   {
    "duration": 7,
    "start_time": "2022-08-13T20:31:58.935Z"
   },
   {
    "duration": 13,
    "start_time": "2022-08-13T20:31:58.944Z"
   },
   {
    "duration": 7,
    "start_time": "2022-08-13T20:31:58.959Z"
   },
   {
    "duration": 5,
    "start_time": "2022-08-13T21:28:57.297Z"
   },
   {
    "duration": 54,
    "start_time": "2022-08-13T21:28:58.553Z"
   },
   {
    "duration": 58,
    "start_time": "2022-08-13T21:29:20.966Z"
   },
   {
    "duration": 4,
    "start_time": "2022-08-13T21:29:58.260Z"
   },
   {
    "duration": 57,
    "start_time": "2022-08-13T21:29:59.730Z"
   },
   {
    "duration": 5,
    "start_time": "2022-08-13T21:30:32.191Z"
   },
   {
    "duration": 55,
    "start_time": "2022-08-13T21:30:35.984Z"
   },
   {
    "duration": 4,
    "start_time": "2022-08-13T21:30:55.901Z"
   },
   {
    "duration": 51,
    "start_time": "2022-08-13T21:30:57.127Z"
   },
   {
    "duration": 50,
    "start_time": "2022-08-13T21:31:02.127Z"
   },
   {
    "duration": 398,
    "start_time": "2022-08-13T21:31:27.224Z"
   },
   {
    "duration": 148,
    "start_time": "2022-08-13T21:31:27.624Z"
   },
   {
    "duration": 15,
    "start_time": "2022-08-13T21:31:27.774Z"
   },
   {
    "duration": 40,
    "start_time": "2022-08-13T21:31:27.791Z"
   },
   {
    "duration": 3,
    "start_time": "2022-08-13T21:31:27.834Z"
   },
   {
    "duration": 5,
    "start_time": "2022-08-13T21:31:27.838Z"
   },
   {
    "duration": 12,
    "start_time": "2022-08-13T21:31:27.845Z"
   },
   {
    "duration": 7,
    "start_time": "2022-08-13T21:31:27.859Z"
   },
   {
    "duration": 21,
    "start_time": "2022-08-13T21:31:27.867Z"
   },
   {
    "duration": 39,
    "start_time": "2022-08-13T21:31:27.890Z"
   },
   {
    "duration": 20,
    "start_time": "2022-08-13T21:31:27.931Z"
   },
   {
    "duration": 73,
    "start_time": "2022-08-13T21:31:27.952Z"
   },
   {
    "duration": 69,
    "start_time": "2022-08-13T21:31:28.027Z"
   },
   {
    "duration": 67,
    "start_time": "2022-08-13T21:31:28.100Z"
   },
   {
    "duration": 55,
    "start_time": "2022-08-13T21:31:28.168Z"
   },
   {
    "duration": 9,
    "start_time": "2022-08-13T21:31:28.225Z"
   },
   {
    "duration": 11,
    "start_time": "2022-08-13T21:31:28.235Z"
   },
   {
    "duration": 11,
    "start_time": "2022-08-13T21:31:28.247Z"
   },
   {
    "duration": 9,
    "start_time": "2022-08-13T21:31:28.260Z"
   },
   {
    "duration": 3,
    "start_time": "2022-08-13T21:31:28.270Z"
   },
   {
    "duration": 48,
    "start_time": "2022-08-13T21:31:28.275Z"
   },
   {
    "duration": 13,
    "start_time": "2022-08-13T21:31:28.325Z"
   },
   {
    "duration": 13,
    "start_time": "2022-08-13T21:31:28.340Z"
   },
   {
    "duration": 12,
    "start_time": "2022-08-13T21:31:28.354Z"
   },
   {
    "duration": 14,
    "start_time": "2022-08-13T21:31:28.367Z"
   },
   {
    "duration": 40,
    "start_time": "2022-08-13T21:31:28.382Z"
   },
   {
    "duration": 8,
    "start_time": "2022-08-13T21:31:28.424Z"
   },
   {
    "duration": 10,
    "start_time": "2022-08-13T21:31:28.433Z"
   },
   {
    "duration": 8,
    "start_time": "2022-08-13T21:31:28.444Z"
   },
   {
    "duration": 5,
    "start_time": "2022-08-13T21:31:28.453Z"
   },
   {
    "duration": 75,
    "start_time": "2022-08-13T21:31:28.459Z"
   },
   {
    "duration": 36,
    "start_time": "2022-08-13T21:31:28.535Z"
   },
   {
    "duration": 63,
    "start_time": "2022-08-13T21:31:28.572Z"
   },
   {
    "duration": 34,
    "start_time": "2022-08-13T21:31:28.636Z"
   },
   {
    "duration": 41,
    "start_time": "2022-08-13T21:31:28.672Z"
   },
   {
    "duration": 8,
    "start_time": "2022-08-13T21:31:28.723Z"
   },
   {
    "duration": 13,
    "start_time": "2022-08-13T21:31:28.732Z"
   },
   {
    "duration": 7,
    "start_time": "2022-08-13T21:31:28.747Z"
   },
   {
    "duration": 402,
    "start_time": "2022-08-13T21:32:18.224Z"
   },
   {
    "duration": 148,
    "start_time": "2022-08-13T21:32:18.628Z"
   },
   {
    "duration": 16,
    "start_time": "2022-08-13T21:32:18.778Z"
   },
   {
    "duration": 36,
    "start_time": "2022-08-13T21:32:18.795Z"
   },
   {
    "duration": 2,
    "start_time": "2022-08-13T21:32:18.833Z"
   },
   {
    "duration": 5,
    "start_time": "2022-08-13T21:32:18.836Z"
   },
   {
    "duration": 12,
    "start_time": "2022-08-13T21:32:18.842Z"
   },
   {
    "duration": 3,
    "start_time": "2022-08-13T21:32:18.855Z"
   },
   {
    "duration": 20,
    "start_time": "2022-08-13T21:32:18.860Z"
   },
   {
    "duration": 48,
    "start_time": "2022-08-13T21:32:18.881Z"
   },
   {
    "duration": 19,
    "start_time": "2022-08-13T21:32:18.931Z"
   },
   {
    "duration": 72,
    "start_time": "2022-08-13T21:32:18.951Z"
   },
   {
    "duration": 66,
    "start_time": "2022-08-13T21:32:19.024Z"
   },
   {
    "duration": 61,
    "start_time": "2022-08-13T21:32:19.093Z"
   },
   {
    "duration": 36,
    "start_time": "2022-08-13T21:32:19.155Z"
   },
   {
    "duration": 20,
    "start_time": "2022-08-13T21:32:19.193Z"
   },
   {
    "duration": 14,
    "start_time": "2022-08-13T21:32:19.214Z"
   },
   {
    "duration": 12,
    "start_time": "2022-08-13T21:32:19.230Z"
   },
   {
    "duration": 10,
    "start_time": "2022-08-13T21:32:19.244Z"
   },
   {
    "duration": 3,
    "start_time": "2022-08-13T21:32:19.256Z"
   },
   {
    "duration": 18,
    "start_time": "2022-08-13T21:32:19.260Z"
   },
   {
    "duration": 12,
    "start_time": "2022-08-13T21:32:19.279Z"
   },
   {
    "duration": 35,
    "start_time": "2022-08-13T21:32:19.292Z"
   },
   {
    "duration": 11,
    "start_time": "2022-08-13T21:32:19.329Z"
   },
   {
    "duration": 13,
    "start_time": "2022-08-13T21:32:19.342Z"
   },
   {
    "duration": 13,
    "start_time": "2022-08-13T21:32:19.357Z"
   },
   {
    "duration": 7,
    "start_time": "2022-08-13T21:32:19.371Z"
   },
   {
    "duration": 43,
    "start_time": "2022-08-13T21:32:19.379Z"
   },
   {
    "duration": 10,
    "start_time": "2022-08-13T21:32:19.423Z"
   },
   {
    "duration": 4,
    "start_time": "2022-08-13T21:32:19.435Z"
   },
   {
    "duration": 80,
    "start_time": "2022-08-13T21:32:19.441Z"
   },
   {
    "duration": 38,
    "start_time": "2022-08-13T21:32:19.523Z"
   },
   {
    "duration": 66,
    "start_time": "2022-08-13T21:32:19.562Z"
   },
   {
    "duration": 36,
    "start_time": "2022-08-13T21:32:19.630Z"
   },
   {
    "duration": 19,
    "start_time": "2022-08-13T21:32:19.668Z"
   },
   {
    "duration": 35,
    "start_time": "2022-08-13T21:32:19.689Z"
   },
   {
    "duration": 14,
    "start_time": "2022-08-13T21:32:19.726Z"
   },
   {
    "duration": 8,
    "start_time": "2022-08-13T21:32:19.742Z"
   },
   {
    "duration": 76,
    "start_time": "2022-08-13T21:33:12.504Z"
   },
   {
    "duration": 48,
    "start_time": "2022-08-13T21:34:14.856Z"
   },
   {
    "duration": 5,
    "start_time": "2022-08-13T21:35:40.683Z"
   },
   {
    "duration": 49,
    "start_time": "2022-08-13T21:35:42.123Z"
   },
   {
    "duration": 5,
    "start_time": "2022-08-13T21:36:19.224Z"
   },
   {
    "duration": 332,
    "start_time": "2022-08-13T21:36:20.600Z"
   },
   {
    "duration": 5,
    "start_time": "2022-08-13T21:37:04.496Z"
   },
   {
    "duration": 208,
    "start_time": "2022-08-13T21:37:06.071Z"
   },
   {
    "duration": 4,
    "start_time": "2022-08-13T21:37:28.647Z"
   },
   {
    "duration": 50,
    "start_time": "2022-08-13T21:37:29.725Z"
   },
   {
    "duration": 6,
    "start_time": "2022-08-13T21:38:26.853Z"
   },
   {
    "duration": 56,
    "start_time": "2022-08-13T21:38:28.095Z"
   },
   {
    "duration": 5,
    "start_time": "2022-08-13T21:38:41.998Z"
   },
   {
    "duration": 41,
    "start_time": "2022-08-13T21:38:43.035Z"
   },
   {
    "duration": 375,
    "start_time": "2022-08-13T21:38:50.288Z"
   },
   {
    "duration": 160,
    "start_time": "2022-08-13T21:38:50.664Z"
   },
   {
    "duration": 17,
    "start_time": "2022-08-13T21:38:50.826Z"
   },
   {
    "duration": 24,
    "start_time": "2022-08-13T21:38:50.845Z"
   },
   {
    "duration": 2,
    "start_time": "2022-08-13T21:38:50.872Z"
   },
   {
    "duration": 5,
    "start_time": "2022-08-13T21:38:50.875Z"
   },
   {
    "duration": 41,
    "start_time": "2022-08-13T21:38:50.882Z"
   },
   {
    "duration": 7,
    "start_time": "2022-08-13T21:38:50.924Z"
   },
   {
    "duration": 21,
    "start_time": "2022-08-13T21:38:50.933Z"
   },
   {
    "duration": 15,
    "start_time": "2022-08-13T21:38:50.956Z"
   },
   {
    "duration": 19,
    "start_time": "2022-08-13T21:38:50.972Z"
   },
   {
    "duration": 79,
    "start_time": "2022-08-13T21:38:50.992Z"
   },
   {
    "duration": 85,
    "start_time": "2022-08-13T21:38:51.073Z"
   },
   {
    "duration": 66,
    "start_time": "2022-08-13T21:38:51.160Z"
   },
   {
    "duration": 36,
    "start_time": "2022-08-13T21:38:51.228Z"
   },
   {
    "duration": 8,
    "start_time": "2022-08-13T21:38:51.265Z"
   },
   {
    "duration": 6,
    "start_time": "2022-08-13T21:38:51.275Z"
   },
   {
    "duration": 10,
    "start_time": "2022-08-13T21:38:51.282Z"
   },
   {
    "duration": 32,
    "start_time": "2022-08-13T21:38:51.293Z"
   },
   {
    "duration": 3,
    "start_time": "2022-08-13T21:38:51.327Z"
   },
   {
    "duration": 19,
    "start_time": "2022-08-13T21:38:51.331Z"
   },
   {
    "duration": 11,
    "start_time": "2022-08-13T21:38:51.352Z"
   },
   {
    "duration": 12,
    "start_time": "2022-08-13T21:38:51.365Z"
   },
   {
    "duration": 12,
    "start_time": "2022-08-13T21:38:51.378Z"
   },
   {
    "duration": 23,
    "start_time": "2022-08-13T21:38:51.410Z"
   },
   {
    "duration": 22,
    "start_time": "2022-08-13T21:38:51.435Z"
   },
   {
    "duration": 11,
    "start_time": "2022-08-13T21:38:51.459Z"
   },
   {
    "duration": 10,
    "start_time": "2022-08-13T21:38:51.472Z"
   },
   {
    "duration": 9,
    "start_time": "2022-08-13T21:38:51.483Z"
   },
   {
    "duration": 29,
    "start_time": "2022-08-13T21:38:51.493Z"
   },
   {
    "duration": 47,
    "start_time": "2022-08-13T21:38:51.524Z"
   },
   {
    "duration": 28,
    "start_time": "2022-08-13T21:38:51.573Z"
   },
   {
    "duration": 57,
    "start_time": "2022-08-13T21:38:51.603Z"
   },
   {
    "duration": 27,
    "start_time": "2022-08-13T21:38:51.661Z"
   },
   {
    "duration": 36,
    "start_time": "2022-08-13T21:38:51.690Z"
   },
   {
    "duration": 7,
    "start_time": "2022-08-13T21:38:51.728Z"
   },
   {
    "duration": 13,
    "start_time": "2022-08-13T21:38:51.736Z"
   },
   {
    "duration": 7,
    "start_time": "2022-08-13T21:38:51.751Z"
   },
   {
    "duration": 48,
    "start_time": "2022-08-13T21:39:35.387Z"
   },
   {
    "duration": 31,
    "start_time": "2022-08-13T21:39:36.028Z"
   },
   {
    "duration": 62,
    "start_time": "2022-08-13T21:39:37.398Z"
   },
   {
    "duration": 43,
    "start_time": "2022-08-13T21:39:37.602Z"
   },
   {
    "duration": 4,
    "start_time": "2022-08-13T21:40:05.547Z"
   },
   {
    "duration": 48,
    "start_time": "2022-08-13T21:40:06.599Z"
   },
   {
    "duration": 392,
    "start_time": "2022-08-13T21:40:20.825Z"
   },
   {
    "duration": 153,
    "start_time": "2022-08-13T21:40:21.219Z"
   },
   {
    "duration": 15,
    "start_time": "2022-08-13T21:40:21.374Z"
   },
   {
    "duration": 32,
    "start_time": "2022-08-13T21:40:21.390Z"
   },
   {
    "duration": 17,
    "start_time": "2022-08-13T21:40:21.424Z"
   },
   {
    "duration": 6,
    "start_time": "2022-08-13T21:40:21.443Z"
   },
   {
    "duration": 14,
    "start_time": "2022-08-13T21:40:21.451Z"
   },
   {
    "duration": 5,
    "start_time": "2022-08-13T21:40:21.467Z"
   },
   {
    "duration": 27,
    "start_time": "2022-08-13T21:40:21.474Z"
   },
   {
    "duration": 20,
    "start_time": "2022-08-13T21:40:21.502Z"
   },
   {
    "duration": 20,
    "start_time": "2022-08-13T21:40:21.524Z"
   },
   {
    "duration": 77,
    "start_time": "2022-08-13T21:40:21.546Z"
   },
   {
    "duration": 71,
    "start_time": "2022-08-13T21:40:21.625Z"
   },
   {
    "duration": 62,
    "start_time": "2022-08-13T21:40:21.698Z"
   },
   {
    "duration": 36,
    "start_time": "2022-08-13T21:40:21.762Z"
   },
   {
    "duration": 27,
    "start_time": "2022-08-13T21:40:21.800Z"
   },
   {
    "duration": 8,
    "start_time": "2022-08-13T21:40:21.829Z"
   },
   {
    "duration": 12,
    "start_time": "2022-08-13T21:40:21.838Z"
   },
   {
    "duration": 10,
    "start_time": "2022-08-13T21:40:21.852Z"
   },
   {
    "duration": 5,
    "start_time": "2022-08-13T21:40:21.864Z"
   },
   {
    "duration": 53,
    "start_time": "2022-08-13T21:40:21.870Z"
   },
   {
    "duration": 15,
    "start_time": "2022-08-13T21:40:21.924Z"
   },
   {
    "duration": 17,
    "start_time": "2022-08-13T21:40:21.941Z"
   },
   {
    "duration": 13,
    "start_time": "2022-08-13T21:40:21.960Z"
   },
   {
    "duration": 16,
    "start_time": "2022-08-13T21:40:21.974Z"
   },
   {
    "duration": 31,
    "start_time": "2022-08-13T21:40:21.992Z"
   },
   {
    "duration": 9,
    "start_time": "2022-08-13T21:40:22.025Z"
   },
   {
    "duration": 15,
    "start_time": "2022-08-13T21:40:22.035Z"
   },
   {
    "duration": 12,
    "start_time": "2022-08-13T21:40:22.052Z"
   },
   {
    "duration": 5,
    "start_time": "2022-08-13T21:40:22.065Z"
   },
   {
    "duration": 66,
    "start_time": "2022-08-13T21:40:22.072Z"
   },
   {
    "duration": 29,
    "start_time": "2022-08-13T21:40:22.139Z"
   },
   {
    "duration": 58,
    "start_time": "2022-08-13T21:40:22.169Z"
   },
   {
    "duration": 30,
    "start_time": "2022-08-13T21:40:22.229Z"
   },
   {
    "duration": 22,
    "start_time": "2022-08-13T21:40:22.261Z"
   },
   {
    "duration": 41,
    "start_time": "2022-08-13T21:40:22.285Z"
   },
   {
    "duration": 21,
    "start_time": "2022-08-13T21:40:22.328Z"
   },
   {
    "duration": 8,
    "start_time": "2022-08-13T21:40:22.351Z"
   },
   {
    "duration": 4,
    "start_time": "2022-08-13T21:41:13.376Z"
   },
   {
    "duration": 34,
    "start_time": "2022-08-13T21:41:14.365Z"
   },
   {
    "duration": 5,
    "start_time": "2022-08-13T21:41:39.124Z"
   },
   {
    "duration": 52,
    "start_time": "2022-08-13T21:41:40.370Z"
   },
   {
    "duration": 4,
    "start_time": "2022-08-13T21:41:50.964Z"
   },
   {
    "duration": 41,
    "start_time": "2022-08-13T21:41:52.911Z"
   },
   {
    "duration": 5,
    "start_time": "2022-08-13T21:42:00.902Z"
   },
   {
    "duration": 49,
    "start_time": "2022-08-13T21:42:02.238Z"
   },
   {
    "duration": 4,
    "start_time": "2022-08-13T21:42:28.163Z"
   },
   {
    "duration": 46,
    "start_time": "2022-08-13T21:42:29.183Z"
   },
   {
    "duration": 5,
    "start_time": "2022-08-13T21:42:36.889Z"
   },
   {
    "duration": 37,
    "start_time": "2022-08-13T21:42:37.633Z"
   },
   {
    "duration": 424,
    "start_time": "2022-08-13T21:42:42.324Z"
   },
   {
    "duration": 176,
    "start_time": "2022-08-13T21:42:42.750Z"
   },
   {
    "duration": 16,
    "start_time": "2022-08-13T21:42:42.927Z"
   },
   {
    "duration": 31,
    "start_time": "2022-08-13T21:42:42.945Z"
   },
   {
    "duration": 2,
    "start_time": "2022-08-13T21:42:42.978Z"
   },
   {
    "duration": 17,
    "start_time": "2022-08-13T21:42:42.982Z"
   },
   {
    "duration": 43,
    "start_time": "2022-08-13T21:42:43.000Z"
   },
   {
    "duration": 24,
    "start_time": "2022-08-13T21:42:43.044Z"
   },
   {
    "duration": 33,
    "start_time": "2022-08-13T21:42:43.069Z"
   },
   {
    "duration": 46,
    "start_time": "2022-08-13T21:42:43.103Z"
   },
   {
    "duration": 24,
    "start_time": "2022-08-13T21:42:43.151Z"
   },
   {
    "duration": 80,
    "start_time": "2022-08-13T21:42:43.176Z"
   },
   {
    "duration": 75,
    "start_time": "2022-08-13T21:42:43.257Z"
   },
   {
    "duration": 55,
    "start_time": "2022-08-13T21:42:43.334Z"
   },
   {
    "duration": 61,
    "start_time": "2022-08-13T21:42:43.390Z"
   },
   {
    "duration": 9,
    "start_time": "2022-08-13T21:42:43.453Z"
   },
   {
    "duration": 7,
    "start_time": "2022-08-13T21:42:43.463Z"
   },
   {
    "duration": 14,
    "start_time": "2022-08-13T21:42:43.472Z"
   },
   {
    "duration": 38,
    "start_time": "2022-08-13T21:42:43.488Z"
   },
   {
    "duration": 4,
    "start_time": "2022-08-13T21:42:43.528Z"
   },
   {
    "duration": 19,
    "start_time": "2022-08-13T21:42:43.534Z"
   },
   {
    "duration": 13,
    "start_time": "2022-08-13T21:42:43.555Z"
   },
   {
    "duration": 13,
    "start_time": "2022-08-13T21:42:43.570Z"
   },
   {
    "duration": 43,
    "start_time": "2022-08-13T21:42:43.584Z"
   },
   {
    "duration": 13,
    "start_time": "2022-08-13T21:42:43.629Z"
   },
   {
    "duration": 12,
    "start_time": "2022-08-13T21:42:43.644Z"
   },
   {
    "duration": 8,
    "start_time": "2022-08-13T21:42:43.657Z"
   },
   {
    "duration": 10,
    "start_time": "2022-08-13T21:42:43.666Z"
   },
   {
    "duration": 8,
    "start_time": "2022-08-13T21:42:43.678Z"
   },
   {
    "duration": 36,
    "start_time": "2022-08-13T21:42:43.687Z"
   },
   {
    "duration": 49,
    "start_time": "2022-08-13T21:42:43.725Z"
   },
   {
    "duration": 25,
    "start_time": "2022-08-13T21:42:43.775Z"
   },
   {
    "duration": 48,
    "start_time": "2022-08-13T21:42:43.801Z"
   },
   {
    "duration": 24,
    "start_time": "2022-08-13T21:42:43.850Z"
   },
   {
    "duration": 38,
    "start_time": "2022-08-13T21:42:43.875Z"
   },
   {
    "duration": 13,
    "start_time": "2022-08-13T21:42:43.915Z"
   },
   {
    "duration": 13,
    "start_time": "2022-08-13T21:42:43.929Z"
   },
   {
    "duration": 7,
    "start_time": "2022-08-13T21:42:43.944Z"
   },
   {
    "duration": 5,
    "start_time": "2022-08-13T21:42:59.269Z"
   },
   {
    "duration": 51,
    "start_time": "2022-08-13T21:43:01.910Z"
   },
   {
    "duration": 5,
    "start_time": "2022-08-13T21:43:50.678Z"
   },
   {
    "duration": 54,
    "start_time": "2022-08-13T21:43:51.890Z"
   },
   {
    "duration": 5,
    "start_time": "2022-08-13T21:54:43.495Z"
   },
   {
    "duration": 47,
    "start_time": "2022-08-13T21:54:44.700Z"
   },
   {
    "duration": 5,
    "start_time": "2022-08-13T21:55:05.694Z"
   },
   {
    "duration": 58,
    "start_time": "2022-08-13T21:55:06.865Z"
   },
   {
    "duration": 5,
    "start_time": "2022-08-13T21:55:15.148Z"
   },
   {
    "duration": 55,
    "start_time": "2022-08-13T21:55:16.281Z"
   },
   {
    "duration": 32,
    "start_time": "2022-08-13T21:55:22.943Z"
   },
   {
    "duration": 347,
    "start_time": "2022-08-13T22:05:36.675Z"
   },
   {
    "duration": 151,
    "start_time": "2022-08-13T22:05:37.024Z"
   },
   {
    "duration": 16,
    "start_time": "2022-08-13T22:05:37.176Z"
   },
   {
    "duration": 33,
    "start_time": "2022-08-13T22:05:37.194Z"
   },
   {
    "duration": 4,
    "start_time": "2022-08-13T22:05:37.229Z"
   },
   {
    "duration": 9,
    "start_time": "2022-08-13T22:05:37.234Z"
   },
   {
    "duration": 13,
    "start_time": "2022-08-13T22:05:37.244Z"
   },
   {
    "duration": 5,
    "start_time": "2022-08-13T22:05:37.259Z"
   },
   {
    "duration": 20,
    "start_time": "2022-08-13T22:05:37.265Z"
   },
   {
    "duration": 35,
    "start_time": "2022-08-13T22:05:37.287Z"
   },
   {
    "duration": 19,
    "start_time": "2022-08-13T22:05:37.324Z"
   },
   {
    "duration": 91,
    "start_time": "2022-08-13T22:05:37.344Z"
   },
   {
    "duration": 73,
    "start_time": "2022-08-13T22:05:37.437Z"
   },
   {
    "duration": 52,
    "start_time": "2022-08-13T22:05:37.526Z"
   },
   {
    "duration": 43,
    "start_time": "2022-08-13T22:05:37.580Z"
   },
   {
    "duration": 9,
    "start_time": "2022-08-13T22:05:37.625Z"
   },
   {
    "duration": 11,
    "start_time": "2022-08-13T22:05:37.635Z"
   },
   {
    "duration": 12,
    "start_time": "2022-08-13T22:05:37.647Z"
   },
   {
    "duration": 11,
    "start_time": "2022-08-13T22:05:37.661Z"
   },
   {
    "duration": 3,
    "start_time": "2022-08-13T22:05:37.673Z"
   },
   {
    "duration": 18,
    "start_time": "2022-08-13T22:05:37.677Z"
   },
   {
    "duration": 37,
    "start_time": "2022-08-13T22:05:37.697Z"
   },
   {
    "duration": 12,
    "start_time": "2022-08-13T22:05:37.736Z"
   },
   {
    "duration": 12,
    "start_time": "2022-08-13T22:05:37.749Z"
   },
   {
    "duration": 13,
    "start_time": "2022-08-13T22:05:37.762Z"
   },
   {
    "duration": 12,
    "start_time": "2022-08-13T22:05:37.776Z"
   },
   {
    "duration": 35,
    "start_time": "2022-08-13T22:05:37.789Z"
   },
   {
    "duration": 10,
    "start_time": "2022-08-13T22:05:37.828Z"
   },
   {
    "duration": 9,
    "start_time": "2022-08-13T22:05:37.840Z"
   },
   {
    "duration": 5,
    "start_time": "2022-08-13T22:05:37.850Z"
   },
   {
    "duration": 66,
    "start_time": "2022-08-13T22:05:37.857Z"
   },
   {
    "duration": 27,
    "start_time": "2022-08-13T22:05:37.925Z"
   },
   {
    "duration": 41,
    "start_time": "2022-08-13T22:05:37.954Z"
   },
   {
    "duration": 49,
    "start_time": "2022-08-13T22:05:37.997Z"
   },
   {
    "duration": 19,
    "start_time": "2022-08-13T22:05:38.047Z"
   },
   {
    "duration": 8,
    "start_time": "2022-08-13T22:05:38.067Z"
   },
   {
    "duration": 17,
    "start_time": "2022-08-13T22:05:38.076Z"
   },
   {
    "duration": 13,
    "start_time": "2022-08-13T22:05:38.114Z"
   },
   {
    "duration": 52,
    "start_time": "2022-08-13T22:08:55.877Z"
   },
   {
    "duration": 50,
    "start_time": "2022-08-13T22:09:04.694Z"
   },
   {
    "duration": 37,
    "start_time": "2022-08-13T22:09:06.010Z"
   },
   {
    "duration": 56,
    "start_time": "2022-08-14T05:47:52.836Z"
   },
   {
    "duration": 402,
    "start_time": "2022-08-14T05:48:10.714Z"
   },
   {
    "duration": 249,
    "start_time": "2022-08-14T05:48:11.118Z"
   },
   {
    "duration": 16,
    "start_time": "2022-08-14T05:48:11.369Z"
   },
   {
    "duration": 39,
    "start_time": "2022-08-14T05:48:11.387Z"
   },
   {
    "duration": 2,
    "start_time": "2022-08-14T05:48:11.428Z"
   },
   {
    "duration": 7,
    "start_time": "2022-08-14T05:48:11.432Z"
   },
   {
    "duration": 14,
    "start_time": "2022-08-14T05:48:11.440Z"
   },
   {
    "duration": 11,
    "start_time": "2022-08-14T05:48:11.456Z"
   },
   {
    "duration": 36,
    "start_time": "2022-08-14T05:48:11.468Z"
   },
   {
    "duration": 29,
    "start_time": "2022-08-14T05:48:11.507Z"
   },
   {
    "duration": 18,
    "start_time": "2022-08-14T05:48:11.537Z"
   },
   {
    "duration": 73,
    "start_time": "2022-08-14T05:48:11.557Z"
   },
   {
    "duration": 67,
    "start_time": "2022-08-14T05:48:11.631Z"
   },
   {
    "duration": 62,
    "start_time": "2022-08-14T05:48:11.699Z"
   },
   {
    "duration": 62,
    "start_time": "2022-08-14T05:48:11.763Z"
   },
   {
    "duration": 9,
    "start_time": "2022-08-14T05:48:11.827Z"
   },
   {
    "duration": 8,
    "start_time": "2022-08-14T05:48:11.838Z"
   },
   {
    "duration": 11,
    "start_time": "2022-08-14T05:48:11.847Z"
   },
   {
    "duration": 10,
    "start_time": "2022-08-14T05:48:11.859Z"
   },
   {
    "duration": 3,
    "start_time": "2022-08-14T05:48:11.870Z"
   },
   {
    "duration": 30,
    "start_time": "2022-08-14T05:48:11.875Z"
   },
   {
    "duration": 22,
    "start_time": "2022-08-14T05:48:11.918Z"
   },
   {
    "duration": 18,
    "start_time": "2022-08-14T05:48:11.941Z"
   },
   {
    "duration": 12,
    "start_time": "2022-08-14T05:48:11.961Z"
   },
   {
    "duration": 14,
    "start_time": "2022-08-14T05:48:11.975Z"
   },
   {
    "duration": 36,
    "start_time": "2022-08-14T05:48:11.990Z"
   },
   {
    "duration": 12,
    "start_time": "2022-08-14T05:48:12.028Z"
   },
   {
    "duration": 13,
    "start_time": "2022-08-14T05:48:12.042Z"
   },
   {
    "duration": 8,
    "start_time": "2022-08-14T05:48:12.057Z"
   },
   {
    "duration": 6,
    "start_time": "2022-08-14T05:48:12.066Z"
   },
   {
    "duration": 75,
    "start_time": "2022-08-14T05:48:12.073Z"
   },
   {
    "duration": 28,
    "start_time": "2022-08-14T05:48:12.149Z"
   },
   {
    "duration": 59,
    "start_time": "2022-08-14T05:48:12.179Z"
   },
   {
    "duration": 27,
    "start_time": "2022-08-14T05:48:12.240Z"
   },
   {
    "duration": 17,
    "start_time": "2022-08-14T05:48:12.269Z"
   },
   {
    "duration": 24,
    "start_time": "2022-08-14T05:48:12.288Z"
   },
   {
    "duration": 14,
    "start_time": "2022-08-14T05:48:12.316Z"
   },
   {
    "duration": 11,
    "start_time": "2022-08-14T05:48:12.331Z"
   },
   {
    "duration": 20,
    "start_time": "2022-08-14T05:48:28.285Z"
   },
   {
    "duration": 9,
    "start_time": "2022-08-14T05:48:32.020Z"
   },
   {
    "duration": 20,
    "start_time": "2022-08-14T05:48:41.310Z"
   },
   {
    "duration": 12,
    "start_time": "2022-08-14T05:48:42.772Z"
   },
   {
    "duration": 13,
    "start_time": "2022-08-14T05:52:35.010Z"
   },
   {
    "duration": 8,
    "start_time": "2022-08-14T06:06:32.593Z"
   },
   {
    "duration": 8,
    "start_time": "2022-08-14T06:08:32.599Z"
   },
   {
    "duration": 49,
    "start_time": "2022-08-14T06:09:00.238Z"
   },
   {
    "duration": 6,
    "start_time": "2022-08-14T06:12:07.082Z"
   },
   {
    "duration": 7,
    "start_time": "2022-08-14T06:12:55.964Z"
   },
   {
    "duration": 60,
    "start_time": "2022-08-14T06:16:13.146Z"
   },
   {
    "duration": 43,
    "start_time": "2022-08-14T06:16:13.839Z"
   },
   {
    "duration": 9,
    "start_time": "2022-08-14T06:16:17.837Z"
   },
   {
    "duration": 61,
    "start_time": "2022-08-14T06:16:18.906Z"
   },
   {
    "duration": 52,
    "start_time": "2022-08-14T06:16:24.993Z"
   },
   {
    "duration": 59,
    "start_time": "2022-08-14T06:16:25.594Z"
   },
   {
    "duration": 25,
    "start_time": "2022-08-14T06:16:26.250Z"
   },
   {
    "duration": 11,
    "start_time": "2022-08-14T06:17:13.711Z"
   },
   {
    "duration": 28,
    "start_time": "2022-08-14T06:17:14.769Z"
   },
   {
    "duration": 16,
    "start_time": "2022-08-14T06:17:17.239Z"
   },
   {
    "duration": 35,
    "start_time": "2022-08-14T06:17:17.843Z"
   },
   {
    "duration": 21,
    "start_time": "2022-08-14T06:17:18.381Z"
   },
   {
    "duration": 6,
    "start_time": "2022-08-14T06:17:56.786Z"
   },
   {
    "duration": 35,
    "start_time": "2022-08-14T06:17:57.773Z"
   },
   {
    "duration": 21,
    "start_time": "2022-08-14T06:17:58.903Z"
   },
   {
    "duration": 49,
    "start_time": "2022-08-14T06:17:59.598Z"
   },
   {
    "duration": 16,
    "start_time": "2022-08-14T06:18:00.673Z"
   },
   {
    "duration": 5,
    "start_time": "2022-08-14T06:26:24.043Z"
   },
   {
    "duration": 19,
    "start_time": "2022-08-14T06:26:25.028Z"
   },
   {
    "duration": 14,
    "start_time": "2022-08-14T06:26:26.728Z"
   },
   {
    "duration": 23,
    "start_time": "2022-08-14T06:26:28.285Z"
   },
   {
    "duration": 15,
    "start_time": "2022-08-14T06:26:29.288Z"
   },
   {
    "duration": 6,
    "start_time": "2022-08-14T06:26:32.738Z"
   },
   {
    "duration": 19,
    "start_time": "2022-08-14T06:26:33.758Z"
   },
   {
    "duration": 26,
    "start_time": "2022-08-14T06:26:34.604Z"
   },
   {
    "duration": 28,
    "start_time": "2022-08-14T06:26:35.379Z"
   },
   {
    "duration": 18,
    "start_time": "2022-08-14T06:26:35.955Z"
   },
   {
    "duration": 7,
    "start_time": "2022-08-14T06:27:15.343Z"
   },
   {
    "duration": 22,
    "start_time": "2022-08-14T06:27:16.532Z"
   },
   {
    "duration": 13,
    "start_time": "2022-08-14T06:27:17.254Z"
   },
   {
    "duration": 23,
    "start_time": "2022-08-14T06:27:18.084Z"
   },
   {
    "duration": 19,
    "start_time": "2022-08-14T06:27:18.810Z"
   },
   {
    "duration": 6,
    "start_time": "2022-08-14T06:29:42.274Z"
   },
   {
    "duration": 14,
    "start_time": "2022-08-14T06:29:44.124Z"
   },
   {
    "duration": 11,
    "start_time": "2022-08-14T06:29:44.943Z"
   },
   {
    "duration": 29,
    "start_time": "2022-08-14T06:29:45.608Z"
   },
   {
    "duration": 23,
    "start_time": "2022-08-14T06:29:46.224Z"
   },
   {
    "duration": 5,
    "start_time": "2022-08-14T06:31:14.389Z"
   },
   {
    "duration": 24,
    "start_time": "2022-08-14T06:31:15.226Z"
   },
   {
    "duration": 13,
    "start_time": "2022-08-14T06:31:15.637Z"
   },
   {
    "duration": 18,
    "start_time": "2022-08-14T06:31:16.080Z"
   },
   {
    "duration": 13,
    "start_time": "2022-08-14T06:31:16.546Z"
   },
   {
    "duration": 5,
    "start_time": "2022-08-14T06:31:28.556Z"
   },
   {
    "duration": 21,
    "start_time": "2022-08-14T06:31:29.226Z"
   },
   {
    "duration": 15,
    "start_time": "2022-08-14T06:31:29.465Z"
   },
   {
    "duration": 18,
    "start_time": "2022-08-14T06:31:29.927Z"
   },
   {
    "duration": 13,
    "start_time": "2022-08-14T06:31:44.050Z"
   },
   {
    "duration": 4,
    "start_time": "2022-08-14T06:31:59.994Z"
   },
   {
    "duration": 16,
    "start_time": "2022-08-14T06:32:00.736Z"
   },
   {
    "duration": 9,
    "start_time": "2022-08-14T06:32:01.147Z"
   },
   {
    "duration": 15,
    "start_time": "2022-08-14T06:32:02.025Z"
   },
   {
    "duration": 22,
    "start_time": "2022-08-14T06:32:02.601Z"
   },
   {
    "duration": 21,
    "start_time": "2022-08-14T06:34:54.944Z"
   },
   {
    "duration": 11,
    "start_time": "2022-08-14T06:34:56.036Z"
   },
   {
    "duration": 92,
    "start_time": "2022-08-14T06:37:23.411Z"
   },
   {
    "duration": 10,
    "start_time": "2022-08-14T06:37:32.650Z"
   },
   {
    "duration": 7,
    "start_time": "2022-08-14T06:37:36.124Z"
   },
   {
    "duration": 9,
    "start_time": "2022-08-14T06:37:54.076Z"
   },
   {
    "duration": 8,
    "start_time": "2022-08-14T06:37:55.142Z"
   },
   {
    "duration": 8,
    "start_time": "2022-08-14T06:38:25.571Z"
   },
   {
    "duration": 8,
    "start_time": "2022-08-14T06:38:26.377Z"
   },
   {
    "duration": 4,
    "start_time": "2022-08-14T06:38:44.693Z"
   },
   {
    "duration": 7,
    "start_time": "2022-08-14T06:39:51.740Z"
   },
   {
    "duration": 9,
    "start_time": "2022-08-14T06:39:56.421Z"
   },
   {
    "duration": 4,
    "start_time": "2022-08-14T06:39:57.224Z"
   },
   {
    "duration": 8,
    "start_time": "2022-08-14T06:40:22.250Z"
   },
   {
    "duration": 6,
    "start_time": "2022-08-14T06:40:22.867Z"
   },
   {
    "duration": 20,
    "start_time": "2022-08-14T06:40:41.602Z"
   },
   {
    "duration": 5,
    "start_time": "2022-08-14T06:40:42.384Z"
   },
   {
    "duration": 9,
    "start_time": "2022-08-14T06:40:52.375Z"
   },
   {
    "duration": 5,
    "start_time": "2022-08-14T06:40:53.339Z"
   },
   {
    "duration": 6,
    "start_time": "2022-08-14T06:41:33.784Z"
   },
   {
    "duration": 4,
    "start_time": "2022-08-14T06:41:34.686Z"
   },
   {
    "duration": 3,
    "start_time": "2022-08-14T06:43:00.860Z"
   },
   {
    "duration": 6,
    "start_time": "2022-08-14T06:43:01.942Z"
   },
   {
    "duration": 4,
    "start_time": "2022-08-14T06:43:03.389Z"
   },
   {
    "duration": 8,
    "start_time": "2022-08-14T06:43:30.048Z"
   },
   {
    "duration": 5,
    "start_time": "2022-08-14T06:43:30.926Z"
   },
   {
    "duration": 9,
    "start_time": "2022-08-14T09:56:44.043Z"
   },
   {
    "duration": 43,
    "start_time": "2022-08-14T09:56:45.358Z"
   },
   {
    "duration": 405,
    "start_time": "2022-08-14T09:57:02.772Z"
   },
   {
    "duration": 207,
    "start_time": "2022-08-14T09:57:03.179Z"
   },
   {
    "duration": 7,
    "start_time": "2022-08-14T09:57:03.388Z"
   },
   {
    "duration": 21,
    "start_time": "2022-08-14T09:57:03.396Z"
   },
   {
    "duration": 2,
    "start_time": "2022-08-14T09:57:03.419Z"
   },
   {
    "duration": 5,
    "start_time": "2022-08-14T09:57:03.422Z"
   },
   {
    "duration": 14,
    "start_time": "2022-08-14T09:57:03.429Z"
   },
   {
    "duration": 4,
    "start_time": "2022-08-14T09:57:03.444Z"
   },
   {
    "duration": 20,
    "start_time": "2022-08-14T09:57:03.449Z"
   },
   {
    "duration": 31,
    "start_time": "2022-08-14T09:57:03.471Z"
   },
   {
    "duration": 18,
    "start_time": "2022-08-14T09:57:03.504Z"
   },
   {
    "duration": 75,
    "start_time": "2022-08-14T09:57:03.523Z"
   },
   {
    "duration": 63,
    "start_time": "2022-08-14T09:57:03.600Z"
   },
   {
    "duration": 63,
    "start_time": "2022-08-14T09:57:03.664Z"
   },
   {
    "duration": 35,
    "start_time": "2022-08-14T09:57:03.728Z"
   },
   {
    "duration": 9,
    "start_time": "2022-08-14T09:57:03.764Z"
   },
   {
    "duration": 54,
    "start_time": "2022-08-14T09:57:03.774Z"
   },
   {
    "duration": 12,
    "start_time": "2022-08-14T09:57:03.830Z"
   },
   {
    "duration": 11,
    "start_time": "2022-08-14T09:57:03.843Z"
   },
   {
    "duration": 4,
    "start_time": "2022-08-14T09:57:03.855Z"
   },
   {
    "duration": 41,
    "start_time": "2022-08-14T09:57:03.860Z"
   },
   {
    "duration": 13,
    "start_time": "2022-08-14T09:57:03.902Z"
   },
   {
    "duration": 18,
    "start_time": "2022-08-14T09:57:03.916Z"
   },
   {
    "duration": 15,
    "start_time": "2022-08-14T09:57:03.935Z"
   },
   {
    "duration": 47,
    "start_time": "2022-08-14T09:57:03.951Z"
   },
   {
    "duration": 14,
    "start_time": "2022-08-14T09:57:04.000Z"
   },
   {
    "duration": 6,
    "start_time": "2022-08-14T09:57:04.016Z"
   },
   {
    "duration": 10,
    "start_time": "2022-08-14T09:57:04.024Z"
   },
   {
    "duration": 9,
    "start_time": "2022-08-14T09:57:04.035Z"
   },
   {
    "duration": 6,
    "start_time": "2022-08-14T09:57:04.046Z"
   },
   {
    "duration": 47,
    "start_time": "2022-08-14T09:57:04.053Z"
   },
   {
    "duration": 13,
    "start_time": "2022-08-14T09:57:04.101Z"
   },
   {
    "duration": 15,
    "start_time": "2022-08-14T09:57:04.116Z"
   },
   {
    "duration": 9,
    "start_time": "2022-08-14T09:57:04.132Z"
   },
   {
    "duration": 10,
    "start_time": "2022-08-14T09:57:04.142Z"
   },
   {
    "duration": 2,
    "start_time": "2022-08-14T09:57:04.154Z"
   },
   {
    "duration": 20,
    "start_time": "2022-08-14T09:57:04.158Z"
   },
   {
    "duration": 19,
    "start_time": "2022-08-14T09:57:04.179Z"
   },
   {
    "duration": 3,
    "start_time": "2022-08-14T09:57:27.026Z"
   },
   {
    "duration": 15,
    "start_time": "2022-08-14T09:57:27.763Z"
   }
  ],
  "colab": {
   "collapsed_sections": [
    "E0vqbgi9ay0H",
    "VUC88oWjTJw2"
   ],
   "name": "automatization_template_upd4.ipynb",
   "provenance": []
  },
  "kernelspec": {
   "display_name": "Python 3 (ipykernel)",
   "language": "python",
   "name": "python3"
  },
  "language_info": {
   "codemirror_mode": {
    "name": "ipython",
    "version": 3
   },
   "file_extension": ".py",
   "mimetype": "text/x-python",
   "name": "python",
   "nbconvert_exporter": "python",
   "pygments_lexer": "ipython3",
   "version": "3.11.4"
  },
  "toc": {
   "base_numbering": 1,
   "nav_menu": {
    "height": "215px",
    "width": "403px"
   },
   "number_sections": false,
   "sideBar": true,
   "skip_h1_title": false,
   "title_cell": "Table of Contents",
   "title_sidebar": "Contents",
   "toc_cell": false,
   "toc_position": {
    "height": "calc(100% - 180px)",
    "left": "10px",
    "top": "150px",
    "width": "285.812px"
   },
   "toc_section_display": true,
   "toc_window_display": false
  }
 },
 "nbformat": 4,
 "nbformat_minor": 1
}
