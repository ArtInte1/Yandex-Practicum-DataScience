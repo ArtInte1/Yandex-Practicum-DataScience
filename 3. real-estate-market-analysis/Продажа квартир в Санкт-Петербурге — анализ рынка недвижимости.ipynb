{
 "cells": [
  {
   "cell_type": "markdown",
   "metadata": {
    "ExecuteTime": {
     "end_time": "2023-10-24T19:00:32.223814Z",
     "start_time": "2023-10-24T19:00:32.199989Z"
    }
   },
   "source": [
    "<h1><center>Исследование объявлений о продаже квартир</center></h1>"
   ]
  },
  {
   "cell_type": "markdown",
   "metadata": {},
   "source": [
    "На основе данных из архива объявлений о продаже квартир в Санкт-Петербурге и соседних населённых пунктов за несколько лет нужно научиться определять рыночную стоимость объектов недвижимости. Задачей проекта явлется выяснение параметров, влияющих на стоимость квартиры, которые позволят построить автоматизированную систему: она отследит аномалии и мошенническую деятельность. \n",
    "\n",
    "По каждой квартире на продажу доступны два вида данных. Первые вписаны пользователем, вторые — получены автоматически на основе картографических данных. Например, расстояние до центра, аэропорта, ближайшего парка и водоёма.   \n",
    "\n",
    "**Цель исследования** — установить параметры, влияющие на рыночную стоимость квартир.  \n",
    "\n",
    "**Ход исследования**\n",
    "\n",
    "1. [Обзор данных](#Обзор-данных)\n",
    "2. [Предобработка данных](#Предобработка-данных)\n",
    "3. [Исследование данных](#Исследование-данных)\n",
    "4. [Вывод](#Общий-вывод)"
   ]
  },
  {
   "cell_type": "markdown",
   "metadata": {},
   "source": [
    "## Обзор данных"
   ]
  },
  {
   "cell_type": "code",
   "execution_count": 1,
   "metadata": {},
   "outputs": [],
   "source": [
    "import pandas as pd\n",
    "import matplotlib.pyplot as plt\n",
    "import numpy as np"
   ]
  },
  {
   "cell_type": "code",
   "execution_count": 2,
   "metadata": {},
   "outputs": [],
   "source": [
    "data = pd.read_csv('/datasets/real_estate_data.csv', sep='\\t', decimal='.')"
   ]
  },
  {
   "cell_type": "code",
   "execution_count": 3,
   "metadata": {},
   "outputs": [],
   "source": [
    "# выключил ограничение отображения таблиц для личного удобства\n",
    "\n",
    "pd.set_option('display.max_rows', None)\n",
    "pd.set_option('display.max_columns', None)"
   ]
  },
  {
   "cell_type": "code",
   "execution_count": 4,
   "metadata": {},
   "outputs": [
    {
     "data": {
      "text/html": [
       "<div>\n",
       "<style scoped>\n",
       "    .dataframe tbody tr th:only-of-type {\n",
       "        vertical-align: middle;\n",
       "    }\n",
       "\n",
       "    .dataframe tbody tr th {\n",
       "        vertical-align: top;\n",
       "    }\n",
       "\n",
       "    .dataframe thead th {\n",
       "        text-align: right;\n",
       "    }\n",
       "</style>\n",
       "<table border=\"1\" class=\"dataframe\">\n",
       "  <thead>\n",
       "    <tr style=\"text-align: right;\">\n",
       "      <th></th>\n",
       "      <th>total_images</th>\n",
       "      <th>last_price</th>\n",
       "      <th>total_area</th>\n",
       "      <th>first_day_exposition</th>\n",
       "      <th>rooms</th>\n",
       "      <th>ceiling_height</th>\n",
       "      <th>floors_total</th>\n",
       "      <th>living_area</th>\n",
       "      <th>floor</th>\n",
       "      <th>is_apartment</th>\n",
       "      <th>studio</th>\n",
       "      <th>open_plan</th>\n",
       "      <th>kitchen_area</th>\n",
       "      <th>balcony</th>\n",
       "      <th>locality_name</th>\n",
       "      <th>airports_nearest</th>\n",
       "      <th>cityCenters_nearest</th>\n",
       "      <th>parks_around3000</th>\n",
       "      <th>parks_nearest</th>\n",
       "      <th>ponds_around3000</th>\n",
       "      <th>ponds_nearest</th>\n",
       "      <th>days_exposition</th>\n",
       "    </tr>\n",
       "  </thead>\n",
       "  <tbody>\n",
       "    <tr>\n",
       "      <th>0</th>\n",
       "      <td>20</td>\n",
       "      <td>13000000.0</td>\n",
       "      <td>108.0</td>\n",
       "      <td>2019-03-07T00:00:00</td>\n",
       "      <td>3</td>\n",
       "      <td>2.70</td>\n",
       "      <td>16.0</td>\n",
       "      <td>51.0</td>\n",
       "      <td>8</td>\n",
       "      <td>NaN</td>\n",
       "      <td>False</td>\n",
       "      <td>False</td>\n",
       "      <td>25.0</td>\n",
       "      <td>NaN</td>\n",
       "      <td>Санкт-Петербург</td>\n",
       "      <td>18863.0</td>\n",
       "      <td>16028.0</td>\n",
       "      <td>1.0</td>\n",
       "      <td>482.0</td>\n",
       "      <td>2.0</td>\n",
       "      <td>755.0</td>\n",
       "      <td>NaN</td>\n",
       "    </tr>\n",
       "    <tr>\n",
       "      <th>1</th>\n",
       "      <td>7</td>\n",
       "      <td>3350000.0</td>\n",
       "      <td>40.4</td>\n",
       "      <td>2018-12-04T00:00:00</td>\n",
       "      <td>1</td>\n",
       "      <td>NaN</td>\n",
       "      <td>11.0</td>\n",
       "      <td>18.6</td>\n",
       "      <td>1</td>\n",
       "      <td>NaN</td>\n",
       "      <td>False</td>\n",
       "      <td>False</td>\n",
       "      <td>11.0</td>\n",
       "      <td>2.0</td>\n",
       "      <td>посёлок Шушары</td>\n",
       "      <td>12817.0</td>\n",
       "      <td>18603.0</td>\n",
       "      <td>0.0</td>\n",
       "      <td>NaN</td>\n",
       "      <td>0.0</td>\n",
       "      <td>NaN</td>\n",
       "      <td>81.0</td>\n",
       "    </tr>\n",
       "    <tr>\n",
       "      <th>2</th>\n",
       "      <td>10</td>\n",
       "      <td>5196000.0</td>\n",
       "      <td>56.0</td>\n",
       "      <td>2015-08-20T00:00:00</td>\n",
       "      <td>2</td>\n",
       "      <td>NaN</td>\n",
       "      <td>5.0</td>\n",
       "      <td>34.3</td>\n",
       "      <td>4</td>\n",
       "      <td>NaN</td>\n",
       "      <td>False</td>\n",
       "      <td>False</td>\n",
       "      <td>8.3</td>\n",
       "      <td>0.0</td>\n",
       "      <td>Санкт-Петербург</td>\n",
       "      <td>21741.0</td>\n",
       "      <td>13933.0</td>\n",
       "      <td>1.0</td>\n",
       "      <td>90.0</td>\n",
       "      <td>2.0</td>\n",
       "      <td>574.0</td>\n",
       "      <td>558.0</td>\n",
       "    </tr>\n",
       "    <tr>\n",
       "      <th>3</th>\n",
       "      <td>0</td>\n",
       "      <td>64900000.0</td>\n",
       "      <td>159.0</td>\n",
       "      <td>2015-07-24T00:00:00</td>\n",
       "      <td>3</td>\n",
       "      <td>NaN</td>\n",
       "      <td>14.0</td>\n",
       "      <td>NaN</td>\n",
       "      <td>9</td>\n",
       "      <td>NaN</td>\n",
       "      <td>False</td>\n",
       "      <td>False</td>\n",
       "      <td>NaN</td>\n",
       "      <td>0.0</td>\n",
       "      <td>Санкт-Петербург</td>\n",
       "      <td>28098.0</td>\n",
       "      <td>6800.0</td>\n",
       "      <td>2.0</td>\n",
       "      <td>84.0</td>\n",
       "      <td>3.0</td>\n",
       "      <td>234.0</td>\n",
       "      <td>424.0</td>\n",
       "    </tr>\n",
       "    <tr>\n",
       "      <th>4</th>\n",
       "      <td>2</td>\n",
       "      <td>10000000.0</td>\n",
       "      <td>100.0</td>\n",
       "      <td>2018-06-19T00:00:00</td>\n",
       "      <td>2</td>\n",
       "      <td>3.03</td>\n",
       "      <td>14.0</td>\n",
       "      <td>32.0</td>\n",
       "      <td>13</td>\n",
       "      <td>NaN</td>\n",
       "      <td>False</td>\n",
       "      <td>False</td>\n",
       "      <td>41.0</td>\n",
       "      <td>NaN</td>\n",
       "      <td>Санкт-Петербург</td>\n",
       "      <td>31856.0</td>\n",
       "      <td>8098.0</td>\n",
       "      <td>2.0</td>\n",
       "      <td>112.0</td>\n",
       "      <td>1.0</td>\n",
       "      <td>48.0</td>\n",
       "      <td>121.0</td>\n",
       "    </tr>\n",
       "  </tbody>\n",
       "</table>\n",
       "</div>"
      ],
      "text/plain": [
       "   total_images  last_price  total_area first_day_exposition  rooms  \\\n",
       "0            20  13000000.0       108.0  2019-03-07T00:00:00      3   \n",
       "1             7   3350000.0        40.4  2018-12-04T00:00:00      1   \n",
       "2            10   5196000.0        56.0  2015-08-20T00:00:00      2   \n",
       "3             0  64900000.0       159.0  2015-07-24T00:00:00      3   \n",
       "4             2  10000000.0       100.0  2018-06-19T00:00:00      2   \n",
       "\n",
       "   ceiling_height  floors_total  living_area  floor is_apartment  studio  \\\n",
       "0            2.70          16.0         51.0      8          NaN   False   \n",
       "1             NaN          11.0         18.6      1          NaN   False   \n",
       "2             NaN           5.0         34.3      4          NaN   False   \n",
       "3             NaN          14.0          NaN      9          NaN   False   \n",
       "4            3.03          14.0         32.0     13          NaN   False   \n",
       "\n",
       "   open_plan  kitchen_area  balcony    locality_name  airports_nearest  \\\n",
       "0      False          25.0      NaN  Санкт-Петербург           18863.0   \n",
       "1      False          11.0      2.0   посёлок Шушары           12817.0   \n",
       "2      False           8.3      0.0  Санкт-Петербург           21741.0   \n",
       "3      False           NaN      0.0  Санкт-Петербург           28098.0   \n",
       "4      False          41.0      NaN  Санкт-Петербург           31856.0   \n",
       "\n",
       "   cityCenters_nearest  parks_around3000  parks_nearest  ponds_around3000  \\\n",
       "0              16028.0               1.0          482.0               2.0   \n",
       "1              18603.0               0.0            NaN               0.0   \n",
       "2              13933.0               1.0           90.0               2.0   \n",
       "3               6800.0               2.0           84.0               3.0   \n",
       "4               8098.0               2.0          112.0               1.0   \n",
       "\n",
       "   ponds_nearest  days_exposition  \n",
       "0          755.0              NaN  \n",
       "1            NaN             81.0  \n",
       "2          574.0            558.0  \n",
       "3          234.0            424.0  \n",
       "4           48.0            121.0  "
      ]
     },
     "execution_count": 4,
     "metadata": {},
     "output_type": "execute_result"
    }
   ],
   "source": [
    "data.head()"
   ]
  },
  {
   "cell_type": "code",
   "execution_count": 5,
   "metadata": {},
   "outputs": [
    {
     "name": "stdout",
     "output_type": "stream",
     "text": [
      "<class 'pandas.core.frame.DataFrame'>\n",
      "RangeIndex: 23699 entries, 0 to 23698\n",
      "Data columns (total 22 columns):\n",
      " #   Column                Non-Null Count  Dtype  \n",
      "---  ------                --------------  -----  \n",
      " 0   total_images          23699 non-null  int64  \n",
      " 1   last_price            23699 non-null  float64\n",
      " 2   total_area            23699 non-null  float64\n",
      " 3   first_day_exposition  23699 non-null  object \n",
      " 4   rooms                 23699 non-null  int64  \n",
      " 5   ceiling_height        14504 non-null  float64\n",
      " 6   floors_total          23613 non-null  float64\n",
      " 7   living_area           21796 non-null  float64\n",
      " 8   floor                 23699 non-null  int64  \n",
      " 9   is_apartment          2775 non-null   object \n",
      " 10  studio                23699 non-null  bool   \n",
      " 11  open_plan             23699 non-null  bool   \n",
      " 12  kitchen_area          21421 non-null  float64\n",
      " 13  balcony               12180 non-null  float64\n",
      " 14  locality_name         23650 non-null  object \n",
      " 15  airports_nearest      18157 non-null  float64\n",
      " 16  cityCenters_nearest   18180 non-null  float64\n",
      " 17  parks_around3000      18181 non-null  float64\n",
      " 18  parks_nearest         8079 non-null   float64\n",
      " 19  ponds_around3000      18181 non-null  float64\n",
      " 20  ponds_nearest         9110 non-null   float64\n",
      " 21  days_exposition       20518 non-null  float64\n",
      "dtypes: bool(2), float64(14), int64(3), object(3)\n",
      "memory usage: 3.7+ MB\n"
     ]
    }
   ],
   "source": [
    "data.info()"
   ]
  },
  {
   "cell_type": "code",
   "execution_count": 6,
   "metadata": {},
   "outputs": [
    {
     "data": {
      "image/png": "[encoded data removed]",
      "text/plain": [
       "<Figure size 1080x1440 with 20 Axes>"
      ]
     },
     "metadata": {
      "needs_background": "light"
     },
     "output_type": "display_data"
    }
   ],
   "source": [
    "# распределения числовых данных\n",
    "\n",
    "data.hist(figsize=(15, 20))\n",
    "plt.show()"
   ]
  },
  {
   "cell_type": "markdown",
   "metadata": {},
   "source": [
    "**Вывод:** В ходе предварительного знакомства с данными было установлено, что имеется 14 колонок с пропусками. Судя по гистограммам 8 колонок имеют существенные выбросы или в определённых диапазонах недостаёт данных, все данные имеют разные типы распределений. 4 колонки с категориальными данными, одна содержит даты. Типы данных неверные - колонка с датами имеет тип object, колонки которые по логике должны содержать только целочисленные значения (например floors_total, сомневаюсь что можно встретить дом где 2.5 этажа) имеют тип float64."
   ]
  },
  {
   "cell_type": "markdown",
   "metadata": {},
   "source": [
    "## Предобработка данных"
   ]
  },
  {
   "cell_type": "code",
   "execution_count": 7,
   "metadata": {},
   "outputs": [
    {
     "data": {
      "text/plain": [
       "Index(['total_images', 'last_price', 'total_area', 'first_day_exposition',\n",
       "       'rooms', 'ceiling_height', 'floors_total', 'living_area', 'floor',\n",
       "       'is_apartment', 'studio', 'open_plan', 'kitchen_area', 'balcony',\n",
       "       'locality_name', 'airports_nearest', 'cityCenters_nearest',\n",
       "       'parks_around3000', 'parks_nearest', 'ponds_around3000',\n",
       "       'ponds_nearest', 'days_exposition'],\n",
       "      dtype='object')"
      ]
     },
     "execution_count": 7,
     "metadata": {},
     "output_type": "execute_result"
    }
   ],
   "source": [
    "# изучаем названия столбцов\n",
    "\n",
    "data.columns"
   ]
  },
  {
   "cell_type": "code",
   "execution_count": 8,
   "metadata": {},
   "outputs": [],
   "source": [
    "# приведение названия столбцов к \"snake_case\"\n",
    "\n",
    "data = data.rename(columns={'cityCenters_nearest': 'city_centers_nearest',\n",
    "                            'parks_around3000': 'parks_around_3000',\n",
    "                            'ponds_around3000': 'ponds_around_3000'})"
   ]
  },
  {
   "cell_type": "markdown",
   "metadata": {},
   "source": [
    "**Обработка пропусков**"
   ]
  },
  {
   "cell_type": "markdown",
   "metadata": {},
   "source": [
    "В ходе знакомства с данными было установлено что пропуски имеются в 14 столбцах:\n",
    "\n",
    "* ceiling_height - высота потолков | полностью случайные пропуски\n",
    "* floors_total - кол-во этажей | полностью случайные пропуски\n",
    "* living_area - жилая площадь | случайные пропуски\n",
    "* kitchen_area - площадь кухни | случайные пропуски\n",
    "* is_apartment - тип 'апартаменты' | полностью случайные пропуски\n",
    "* balcony - наличие балкона | случайные пропуски\n",
    "* locality_name - местоположение | полностью случайные пропуски\n",
    "* airports_nearest - расстояние до ближайшего аэропорта | случайные пропуски\n",
    "* city_centers_nearest - расстояние до центра | возможны неслучайные пропуски (если квартира в центре)\n",
    "* parks_around_3000 - кол-во парков в радиусе 3 км | возможны случайные пропуски (например если ближайший парк дальше чем за 3 км)\n",
    "* parks_nearest - расстояние до ближайшего парка | возможны случайные пропуски\n",
    "* ponds_around_3000 - кол-во водоёмов в радиусе 3 км | возможны случайные пропуски\n",
    "* ponds_nearest - расстояние до ближайшего водоёма | возможны случайные пропуски\n",
    "* days_exposition - время до снятия объявления (в днях) | полностью случайные пропуски"
   ]
  },
  {
   "cell_type": "code",
   "execution_count": 9,
   "metadata": {},
   "outputs": [],
   "source": [
    "# пропуски немногочисленны, поэтому избавляемся от них\n",
    "\n",
    "data.dropna(subset=['locality_name'], inplace=True)"
   ]
  },
  {
   "cell_type": "code",
   "execution_count": 10,
   "metadata": {},
   "outputs": [
    {
     "data": {
      "text/plain": [
       "9160"
      ]
     },
     "execution_count": 10,
     "metadata": {},
     "output_type": "execute_result"
    }
   ],
   "source": [
    "# кол-во пропусков в ceiling_height\n",
    "\n",
    "data['ceiling_height'].isna().sum()"
   ]
  },
  {
   "cell_type": "code",
   "execution_count": 11,
   "metadata": {},
   "outputs": [],
   "source": [
    "# заменяем пропуски в значении потолков медианным значением для каждой группы\n",
    "\n",
    "data[\"ceiling_height\"] = data[\"ceiling_height\"].fillna(\n",
    "    data.groupby(\"floors_total\")[\"ceiling_height\"].transform(\"median\")\n",
    ")"
   ]
  },
  {
   "cell_type": "code",
   "execution_count": 12,
   "metadata": {},
   "outputs": [
    {
     "data": {
      "text/plain": [
       "77"
      ]
     },
     "execution_count": 12,
     "metadata": {},
     "output_type": "execute_result"
    }
   ],
   "source": [
    "# проверяем\n",
    "\n",
    "data['ceiling_height'].isna().sum()"
   ]
  },
  {
   "cell_type": "code",
   "execution_count": 13,
   "metadata": {},
   "outputs": [
    {
     "data": {
      "text/plain": [
       "85"
      ]
     },
     "execution_count": 13,
     "metadata": {},
     "output_type": "execute_result"
    }
   ],
   "source": [
    "# кол-во пропусков в floors_total\n",
    "\n",
    "data['floors_total'].isna().sum()"
   ]
  },
  {
   "cell_type": "code",
   "execution_count": 14,
   "metadata": {},
   "outputs": [],
   "source": [
    "# исключаем пропуски в столбце с кол-вом этажей\n",
    "\n",
    "data.dropna(subset=['floors_total'], inplace=True)"
   ]
  },
  {
   "cell_type": "code",
   "execution_count": 15,
   "metadata": {},
   "outputs": [
    {
     "data": {
      "text/plain": [
       "0.25"
      ]
     },
     "execution_count": 15,
     "metadata": {},
     "output_type": "execute_result"
    }
   ],
   "source": [
    "# изучим какой процент от общей площади чаще всего лежит за суммой площади кухни и жилплощади\n",
    "\n",
    "((data['total_area'] - (data['living_area'] + data['kitchen_area'])) / data['total_area']).median()"
   ]
  },
  {
   "cell_type": "code",
   "execution_count": 16,
   "metadata": {},
   "outputs": [],
   "source": [
    "# 1 - 0.25 = 0.75, 75% в основном от общей площади занимают кухня и жилплощадь, заполним недостающие значения\n",
    "\n",
    "data.loc[data['living_area'].isna(), 'living_area'] = (data['total_area'] * 0.75) - data['kitchen_area']"
   ]
  },
  {
   "cell_type": "code",
   "execution_count": 17,
   "metadata": {},
   "outputs": [],
   "source": [
    "# то же для кухни\n",
    "\n",
    "data.loc[data['kitchen_area'].isna(), 'kitchen_area'] = (data['total_area'] * 0.75) - data['living_area']"
   ]
  },
  {
   "cell_type": "code",
   "execution_count": 18,
   "metadata": {},
   "outputs": [],
   "source": [
    "# замена пропусков в колонке с кол-вом балконов на 0, полагаем что пропуск означает что балкона нет\n",
    "\n",
    "data['balcony'] = data['balcony'].fillna(0)"
   ]
  },
  {
   "cell_type": "code",
   "execution_count": 19,
   "metadata": {},
   "outputs": [
    {
     "data": {
      "text/plain": [
       "5524"
      ]
     },
     "execution_count": 19,
     "metadata": {},
     "output_type": "execute_result"
    }
   ],
   "source": [
    "# airports_nearest возможно вблизи данного пункта нет аэропортов\n",
    "\n",
    "data['airports_nearest'].isna().sum()"
   ]
  },
  {
   "cell_type": "code",
   "execution_count": 20,
   "metadata": {},
   "outputs": [
    {
     "data": {
      "text/plain": [
       "5501"
      ]
     },
     "execution_count": 20,
     "metadata": {},
     "output_type": "execute_result"
    }
   ],
   "source": [
    "# city_centers_nearest возможно квартира находится в центре\n",
    "\n",
    "data['city_centers_nearest'].isna().sum()"
   ]
  },
  {
   "cell_type": "code",
   "execution_count": 21,
   "metadata": {},
   "outputs": [],
   "source": [
    "# возможно пропуски означают отсутствие парков с радиусе 3 км\n",
    "\n",
    "data['parks_around_3000'].fillna(0, inplace=True)"
   ]
  },
  {
   "cell_type": "code",
   "execution_count": 22,
   "metadata": {},
   "outputs": [
    {
     "data": {
      "text/plain": [
       "15535"
      ]
     },
     "execution_count": 22,
     "metadata": {},
     "output_type": "execute_result"
    }
   ],
   "source": [
    "# parks_nearest в этой колонке пропуски могли возникнуть потому что в округе нет парков\n",
    "\n",
    "data['parks_nearest'].isna().sum()"
   ]
  },
  {
   "cell_type": "code",
   "execution_count": 23,
   "metadata": {},
   "outputs": [],
   "source": [
    "# возможно пропуски означают отсутствие водоёмов с радиусе 3 км\n",
    "\n",
    "data['ponds_around_3000'].fillna(0, inplace=True)"
   ]
  },
  {
   "cell_type": "code",
   "execution_count": 24,
   "metadata": {},
   "outputs": [
    {
     "data": {
      "text/plain": [
       "14529"
      ]
     },
     "execution_count": 24,
     "metadata": {},
     "output_type": "execute_result"
    }
   ],
   "source": [
    "# ponds_nearest в этой колонке пропуски могли возникнуть потому что в округе нет водоёмов\n",
    "\n",
    "data['ponds_nearest'].isna().sum()"
   ]
  },
  {
   "cell_type": "code",
   "execution_count": 25,
   "metadata": {},
   "outputs": [],
   "source": [
    "# days_exposition заменяем на -1 для преобразования типа данных\n",
    "\n",
    "data['days_exposition'] = data['days_exposition'].replace(np.nan, '-1')"
   ]
  },
  {
   "cell_type": "markdown",
   "metadata": {},
   "source": [
    "**Обработка типов данных**"
   ]
  },
  {
   "cell_type": "markdown",
   "metadata": {},
   "source": [
    "Типы данных в данной работе изменяются мной в случаях, когда мы имеем дело с датой или когда определённая колонка содержит значения которые могут измеряться только целыми числами. Числа с плавающей точкой хранятся в памяти машины с определённой точностью, что может привести, например, к неверному (неожиданному) результату сравнения двух чисел, в связи с чем желательно приводить типы данных к целочисленными там где это возможно."
   ]
  },
  {
   "cell_type": "code",
   "execution_count": 26,
   "metadata": {},
   "outputs": [],
   "source": [
    "# изменение типа данных в столбце с датой подачи объявления\n",
    "\n",
    "data['total_images'] = data['total_images'].astype(np.int64)"
   ]
  },
  {
   "cell_type": "code",
   "execution_count": 27,
   "metadata": {},
   "outputs": [],
   "source": [
    "# изменение типа данных в столбце с датой подачи объявления\n",
    "\n",
    "data['first_day_exposition'] = pd.to_datetime(data['first_day_exposition'], format='%Y-%m-%dT%H:%M:%S')"
   ]
  },
  {
   "cell_type": "code",
   "execution_count": 28,
   "metadata": {},
   "outputs": [],
   "source": [
    "# изменение типа данных в столбце с кол-вом этажей \n",
    "\n",
    "data['floors_total'] = data['floors_total'].astype(np.int64)"
   ]
  },
  {
   "cell_type": "code",
   "execution_count": 29,
   "metadata": {},
   "outputs": [],
   "source": [
    "# изменение типа данных в столбце с кол-вом балконов\n",
    "\n",
    "data['balcony'] = data['balcony'].astype(np.int64)"
   ]
  },
  {
   "cell_type": "code",
   "execution_count": 30,
   "metadata": {},
   "outputs": [],
   "source": [
    "# замена типа данных столбца parks_around_3000\n",
    "\n",
    "data['parks_around_3000'] = data['parks_around_3000'].astype(np.int64)"
   ]
  },
  {
   "cell_type": "code",
   "execution_count": 31,
   "metadata": {},
   "outputs": [],
   "source": [
    "# замена типа данных столбца ponds_around_3000\n",
    "\n",
    "data['ponds_around_3000'] = data['ponds_around_3000'].astype(np.int64)"
   ]
  },
  {
   "cell_type": "code",
   "execution_count": 32,
   "metadata": {},
   "outputs": [],
   "source": [
    "# замена типа данных столбца days_exposition\n",
    "\n",
    "data['days_exposition'] = data['days_exposition'].astype(np.int64)"
   ]
  },
  {
   "cell_type": "code",
   "execution_count": 33,
   "metadata": {},
   "outputs": [],
   "source": [
    "# замена типа данных столбца last_price\n",
    "\n",
    "data['last_price'] = data['last_price'].astype(np.int64)"
   ]
  },
  {
   "cell_type": "code",
   "execution_count": 34,
   "metadata": {},
   "outputs": [],
   "source": [
    "# сброс индексов после операций с удалением строк\n",
    "\n",
    "data.reset_index(drop=True, inplace=True)"
   ]
  },
  {
   "cell_type": "markdown",
   "metadata": {},
   "source": [
    "**Обработка дубликатов**"
   ]
  },
  {
   "cell_type": "code",
   "execution_count": 35,
   "metadata": {},
   "outputs": [
    {
     "name": "stdout",
     "output_type": "stream",
     "text": [
      "Unique names: 364\n"
     ]
    }
   ],
   "source": [
    "# кол-во уникальных значений до обработки\n",
    "\n",
    "print('Unique names:', len(data['locality_name'].sort_values().unique()))"
   ]
  },
  {
   "cell_type": "code",
   "execution_count": 36,
   "metadata": {},
   "outputs": [],
   "source": [
    "# приведение строк к нижнему регистру\n",
    "\n",
    "data['locality_name'] = data['locality_name'].str.lower()"
   ]
  },
  {
   "cell_type": "code",
   "execution_count": 37,
   "metadata": {},
   "outputs": [],
   "source": [
    "# описание функции замены неявных дубликатов \n",
    "\n",
    "def dup_replacing(row):\n",
    "    if 'ё' in row:\n",
    "        row = row.replace('ё', 'е')\n",
    "        \n",
    "    if 'посел' in row:\n",
    "        correted_list = []\n",
    "        list_of_words = row.split()\n",
    "        for word in list_of_words:\n",
    "            if 'городск' in word or 'типа' in word or 'коттедж' in word or 'при' in word or 'железнодор' in word:\n",
    "                continue\n",
    "            else:\n",
    "                correted_list.append(word)\n",
    "        row = ' '.join(correted_list)\n",
    "    return row"
   ]
  },
  {
   "cell_type": "code",
   "execution_count": 38,
   "metadata": {},
   "outputs": [],
   "source": [
    "# применение функции\n",
    "\n",
    "data['locality_name'] = data['locality_name'].apply(dup_replacing)"
   ]
  },
  {
   "cell_type": "code",
   "execution_count": 39,
   "metadata": {},
   "outputs": [
    {
     "name": "stdout",
     "output_type": "stream",
     "text": [
      "Unique names: 318\n"
     ]
    }
   ],
   "source": [
    "# кол-во уникальных значений после обработки\n",
    "\n",
    "print('Unique names:', len(data['locality_name'].unique()))"
   ]
  },
  {
   "cell_type": "code",
   "execution_count": 40,
   "metadata": {},
   "outputs": [
    {
     "data": {
      "text/plain": [
       "(23565, 22)"
      ]
     },
     "execution_count": 40,
     "metadata": {},
     "output_type": "execute_result"
    }
   ],
   "source": [
    "# смотрим на кол-во оставшихся данных\n",
    "\n",
    "data.shape"
   ]
  },
  {
   "cell_type": "markdown",
   "metadata": {},
   "source": [
    "**Обработка аномальных значений**"
   ]
  },
  {
   "cell_type": "code",
   "execution_count": 41,
   "metadata": {},
   "outputs": [
    {
     "data": {
      "text/plain": [
       "75"
      ]
     },
     "execution_count": 41,
     "metadata": {},
     "output_type": "execute_result"
    }
   ],
   "source": [
    "# просмотрим кол-во значений больше 20 в колонке 'total_images'\n",
    "\n",
    "data.query('total_images > 20')['total_images'].count()"
   ]
  },
  {
   "cell_type": "code",
   "execution_count": 42,
   "metadata": {},
   "outputs": [],
   "source": [
    "# отбросим значения которых мало в колонке 'total_images'\n",
    "\n",
    "data = data.query('total_images <= 20')"
   ]
  },
  {
   "cell_type": "code",
   "execution_count": 43,
   "metadata": {},
   "outputs": [],
   "source": [
    "# можно предположить что цены отличающиеся на порядок были установлены случайно; разделим на 10\n",
    "\n",
    "data.loc[data['last_price'] >= 1e8, 'last_price'] = data['last_price'] / 10"
   ]
  },
  {
   "cell_type": "code",
   "execution_count": 44,
   "metadata": {},
   "outputs": [
    {
     "data": {
      "text/plain": [
       "146"
      ]
     },
     "execution_count": 44,
     "metadata": {},
     "output_type": "execute_result"
    }
   ],
   "source": [
    "# редкие значения\n",
    "\n",
    "data.query('last_price > 4e7')['last_price'].count()"
   ]
  },
  {
   "cell_type": "code",
   "execution_count": 45,
   "metadata": {},
   "outputs": [],
   "source": [
    "# удалим совсем редкие значения\n",
    "\n",
    "data = data.query('last_price <= 4e7')"
   ]
  },
  {
   "cell_type": "code",
   "execution_count": 46,
   "metadata": {},
   "outputs": [
    {
     "data": {
      "text/plain": [
       "67"
      ]
     },
     "execution_count": 46,
     "metadata": {},
     "output_type": "execute_result"
    }
   ],
   "source": [
    "# редкие значения\n",
    "\n",
    "data.query('total_area > 250')['total_area'].count() "
   ]
  },
  {
   "cell_type": "code",
   "execution_count": 47,
   "metadata": {},
   "outputs": [],
   "source": [
    "# избавляемся от редких значений\n",
    "\n",
    "data = data.query('total_area <= 250') "
   ]
  },
  {
   "cell_type": "code",
   "execution_count": 48,
   "metadata": {},
   "outputs": [
    {
     "data": {
      "text/plain": [
       "192"
      ]
     },
     "execution_count": 48,
     "metadata": {},
     "output_type": "execute_result"
    }
   ],
   "source": [
    "# аномальные значения\n",
    "\n",
    "data.query('rooms == 0')['rooms'].count()"
   ]
  },
  {
   "cell_type": "code",
   "execution_count": 49,
   "metadata": {},
   "outputs": [],
   "source": [
    "# заменяем аномальные значения\n",
    "\n",
    "data.loc[data['rooms'] == 0, 'rooms'] = 1"
   ]
  },
  {
   "cell_type": "code",
   "execution_count": 50,
   "metadata": {},
   "outputs": [],
   "source": [
    "# 14 комнат? офигеть - не встать\n",
    "\n",
    "data = data.query('rooms < 9')"
   ]
  },
  {
   "cell_type": "code",
   "execution_count": 51,
   "metadata": {},
   "outputs": [],
   "source": [
    "# избавляемся от выбросов\n",
    "\n",
    "data = data.query('floors_total <= 30')"
   ]
  },
  {
   "cell_type": "code",
   "execution_count": 52,
   "metadata": {},
   "outputs": [],
   "source": [
    "# замена аномальных значений в колонке с высотой\n",
    "\n",
    "data.loc[data['ceiling_height'] >= 10, 'ceiling_height'] = data['ceiling_height'] / 10"
   ]
  },
  {
   "cell_type": "code",
   "execution_count": 53,
   "metadata": {},
   "outputs": [],
   "source": [
    "# замена невозможных (по версии гугла) значений высоты потолка в квартире\n",
    "\n",
    "data.loc[data['ceiling_height'] < 2.5, 'ceiling_height'] = 2.5"
   ]
  },
  {
   "cell_type": "code",
   "execution_count": 54,
   "metadata": {},
   "outputs": [
    {
     "data": {
      "text/plain": [
       "41"
      ]
     },
     "execution_count": 54,
     "metadata": {},
     "output_type": "execute_result"
    }
   ],
   "source": [
    "# значений мало, следовательно выводы на них особо не сделаешь\n",
    "\n",
    "data.query('ceiling_height > 4')['ceiling_height'].count()"
   ]
  },
  {
   "cell_type": "code",
   "execution_count": 55,
   "metadata": {},
   "outputs": [],
   "source": [
    "# удаляем строки с редкими данными\n",
    "\n",
    "data = data.query('ceiling_height <= 4')"
   ]
  },
  {
   "cell_type": "code",
   "execution_count": 56,
   "metadata": {},
   "outputs": [
    {
     "name": "stdout",
     "output_type": "stream",
     "text": [
      "62\n"
     ]
    }
   ],
   "source": [
    "# кол-во аномальных строк не удовлетворябщих логике\n",
    "\n",
    "print(len(data.query('total_area < (kitchen_area + living_area)')))"
   ]
  },
  {
   "cell_type": "code",
   "execution_count": 57,
   "metadata": {},
   "outputs": [],
   "source": [
    "# на основе рассуждений выше (t = 0.75(k+l)) корректируем неверную площадь\n",
    "\n",
    "data.loc[data['total_area'] < (data['kitchen_area'] + data['living_area']), 'total_area'] = \\\n",
    "(data['kitchen_area'] + data['living_area']) / 0.75"
   ]
  },
  {
   "cell_type": "code",
   "execution_count": 58,
   "metadata": {},
   "outputs": [
    {
     "data": {
      "text/plain": [
       "29"
      ]
     },
     "execution_count": 58,
     "metadata": {},
     "output_type": "execute_result"
    }
   ],
   "source": [
    "# редкие значения\n",
    "\n",
    "data.query('kitchen_area > 48')['kitchen_area'].count()"
   ]
  },
  {
   "cell_type": "code",
   "execution_count": 59,
   "metadata": {},
   "outputs": [],
   "source": [
    "# избавляемся от строк с редкими значениями\n",
    "\n",
    "data = data.query('kitchen_area <= 48')"
   ]
  },
  {
   "cell_type": "code",
   "execution_count": 60,
   "metadata": {},
   "outputs": [],
   "source": [
    "# избавляемся от отрицательных значений\n",
    "\n",
    "data.loc[data['kitchen_area'] < 0, 'kitchen_area'] = data.query('kitchen_area < 0')['kitchen_area'] * (-1)"
   ]
  },
  {
   "cell_type": "code",
   "execution_count": 61,
   "metadata": {},
   "outputs": [],
   "source": [
    "# согласно нормативам (по версии гугла) площадь кухни не может быть меньше 6 кв. м.\n",
    "\n",
    "data.loc[data['kitchen_area'] < 6, 'kitchen_area'] = 6"
   ]
  },
  {
   "cell_type": "code",
   "execution_count": 62,
   "metadata": {},
   "outputs": [
    {
     "data": {
      "text/plain": [
       "1"
      ]
     },
     "execution_count": 62,
     "metadata": {},
     "output_type": "execute_result"
    }
   ],
   "source": [
    "# редкие значения\n",
    "\n",
    "data.query('living_area > 200')['living_area'].count()"
   ]
  },
  {
   "cell_type": "code",
   "execution_count": 63,
   "metadata": {},
   "outputs": [],
   "source": [
    "# избавляемся от строк с редкими значениями\n",
    "\n",
    "data = data.query('living_area <= 200')"
   ]
  },
  {
   "cell_type": "code",
   "execution_count": 64,
   "metadata": {},
   "outputs": [
    {
     "data": {
      "text/plain": [
       "324"
      ]
     },
     "execution_count": 64,
     "metadata": {},
     "output_type": "execute_result"
    }
   ],
   "source": [
    "# кол-во неудовлетворяющих нормативам строк датафрейма\n",
    "\n",
    "len(data.query('living_area < 14'))"
   ]
  },
  {
   "cell_type": "code",
   "execution_count": 65,
   "metadata": {},
   "outputs": [],
   "source": [
    "# согласно нормативам (по версии гугла) жилая площадь не может быть меньше 14 кв. м. \n",
    "# Заполним медианными значениями от сгруппированных по этажности\n",
    "\n",
    "data.loc[data['living_area'] < 14, 'living_area'] = data.groupby(\"floors_total\")[\"living_area\"].transform(\"median\")"
   ]
  },
  {
   "cell_type": "code",
   "execution_count": 66,
   "metadata": {},
   "outputs": [
    {
     "data": {
      "text/plain": [
       "29"
      ]
     },
     "execution_count": 66,
     "metadata": {},
     "output_type": "execute_result"
    }
   ],
   "source": [
    "# редкие значения\n",
    "\n",
    "data.query('days_exposition > 1350')['days_exposition'].count()"
   ]
  },
  {
   "cell_type": "code",
   "execution_count": 67,
   "metadata": {},
   "outputs": [],
   "source": [
    "# избавляемся от строк с редкими значениям\n",
    "\n",
    "data = data.query('days_exposition <= 1350')"
   ]
  },
  {
   "cell_type": "code",
   "execution_count": 68,
   "metadata": {},
   "outputs": [],
   "source": [
    "# сброс индексов после операций с удалением строк\n",
    "\n",
    "data.reset_index(drop=True, inplace=True)"
   ]
  },
  {
   "cell_type": "code",
   "execution_count": 69,
   "metadata": {},
   "outputs": [
    {
     "data": {
      "text/plain": [
       "(21737, 22)"
      ]
     },
     "execution_count": 69,
     "metadata": {},
     "output_type": "execute_result"
    }
   ],
   "source": [
    "# смотрим на кол-во данных после предобработки\n",
    "\n",
    "data.shape"
   ]
  },
  {
   "cell_type": "markdown",
   "metadata": {},
   "source": [
    "В ходе изучения аномалий в данных были обнаружены значения которые сильно превышают ожидаемые и отличаются своей немногочисленностью, значения которые неудовлетворяют логике самих значений (ситуация с площадями), значения которые не согласуются с установленными нормативами (высота потолков и площадь кухни) и отрицательные значения в местах где они невозможны. "
   ]
  },
  {
   "cell_type": "markdown",
   "metadata": {},
   "source": [
    "**Посчитайте и добавьте в таблицу новые столбцы**"
   ]
  },
  {
   "cell_type": "code",
   "execution_count": 70,
   "metadata": {},
   "outputs": [],
   "source": [
    "# цена квадратного метра\n",
    "\n",
    "data['unit_price'] = data['last_price'] / data['total_area']"
   ]
  },
  {
   "cell_type": "code",
   "execution_count": 71,
   "metadata": {},
   "outputs": [],
   "source": [
    "# день публикации\n",
    "\n",
    "data['exposition_day'] = data['first_day_exposition'].dt.weekday"
   ]
  },
  {
   "cell_type": "code",
   "execution_count": 72,
   "metadata": {},
   "outputs": [],
   "source": [
    "# месяц публикации\n",
    "\n",
    "data['exposition_month'] = data['first_day_exposition'].dt.month"
   ]
  },
  {
   "cell_type": "code",
   "execution_count": 73,
   "metadata": {},
   "outputs": [],
   "source": [
    "# год публикации\n",
    "\n",
    "data['exposition_year'] = data['first_day_exposition'].dt.year"
   ]
  },
  {
   "cell_type": "code",
   "execution_count": 74,
   "metadata": {},
   "outputs": [],
   "source": [
    "# описание функции определения типа этажа квартиры\n",
    "\n",
    "def flat_floor_type(row):\n",
    "    if row['floor'] == 1:\n",
    "        return 'первый'\n",
    "    elif row['floors_total'] == row['floor']:\n",
    "        return 'последний'\n",
    "    else:\n",
    "        return 'другой'"
   ]
  },
  {
   "cell_type": "code",
   "execution_count": 75,
   "metadata": {},
   "outputs": [],
   "source": [
    "# тип этажа квартиры\n",
    "\n",
    "data['floor_type'] = data.apply(flat_floor_type, axis=1)"
   ]
  },
  {
   "cell_type": "code",
   "execution_count": 76,
   "metadata": {},
   "outputs": [],
   "source": [
    "# расстояние до центра города в км\n",
    "\n",
    "data['to_center_km'] = (data['city_centers_nearest'] / 1000).round()"
   ]
  },
  {
   "cell_type": "code",
   "execution_count": 77,
   "metadata": {},
   "outputs": [],
   "source": [
    "# сброс индексов после операций с удалением строк\n",
    "\n",
    "data.reset_index(drop=True, inplace=True)"
   ]
  },
  {
   "cell_type": "markdown",
   "metadata": {},
   "source": [
    "## Исследование данных"
   ]
  },
  {
   "cell_type": "markdown",
   "metadata": {},
   "source": [
    "**Изучение некоторых параметров объектов**"
   ]
  },
  {
   "cell_type": "code",
   "execution_count": 78,
   "metadata": {},
   "outputs": [],
   "source": [
    "# таблица для анализа\n",
    "\n",
    "analysis = data.loc[:, [\n",
    "    'total_area',\n",
    "    'living_area',\n",
    "    'kitchen_area',\n",
    "    'last_price',\n",
    "    'rooms',\n",
    "    'ceiling_height',\n",
    "    'floor',\n",
    "    'floor_type',\n",
    "    'floors_total',\n",
    "    'city_centers_nearest',\n",
    "    'airports_nearest',\n",
    "    'parks_nearest',\n",
    "    'exposition_day',\n",
    "    'exposition_month',\n",
    "    ]]"
   ]
  },
  {
   "cell_type": "code",
   "execution_count": 79,
   "metadata": {},
   "outputs": [
    {
     "data": {
      "image/png": "[encoded data removed]",
      "text/plain": [
       "<Figure size 504x504 with 1 Axes>"
      ]
     },
     "metadata": {
      "needs_background": "light"
     },
     "output_type": "display_data"
    },
    {
     "data": {
      "text/plain": [
       "count    21737.000000\n",
       "mean        58.261723\n",
       "std         27.351189\n",
       "min         12.000000\n",
       "25%         40.000000\n",
       "50%         51.700000\n",
       "75%         68.500000\n",
       "max        250.000000\n",
       "Name: total_area, dtype: float64"
      ]
     },
     "execution_count": 79,
     "metadata": {},
     "output_type": "execute_result"
    }
   ],
   "source": [
    "# строим распределение общей площади\n",
    "\n",
    "analysis['total_area'].plot(kind='hist', bins=100, figsize=(7, 7), title='total_area', grid=True)\n",
    "plt.show()\n",
    "analysis['total_area'].describe()"
   ]
  },
  {
   "cell_type": "code",
   "execution_count": 80,
   "metadata": {},
   "outputs": [
    {
     "data": {
      "image/png": "[encoded data removed]",
      "text/plain": [
       "<Figure size 504x504 with 1 Axes>"
      ]
     },
     "metadata": {
      "needs_background": "light"
     },
     "output_type": "display_data"
    },
    {
     "data": {
      "text/plain": [
       "count    21737.000000\n",
       "mean        33.636210\n",
       "std         18.024881\n",
       "min         14.000000\n",
       "25%         19.000000\n",
       "50%         30.000000\n",
       "75%         42.000000\n",
       "max        184.000000\n",
       "Name: living_area, dtype: float64"
      ]
     },
     "execution_count": 80,
     "metadata": {},
     "output_type": "execute_result"
    }
   ],
   "source": [
    "# строим распределение жилплощадей\n",
    "\n",
    "analysis['living_area'].plot(kind='hist', bins=100, figsize=(7, 7), title='living_area', grid=True)\n",
    "plt.show()\n",
    "analysis['living_area'].describe()"
   ]
  },
  {
   "cell_type": "code",
   "execution_count": 81,
   "metadata": {},
   "outputs": [
    {
     "data": {
      "image/png": "[encoded data removed]",
      "text/plain": [
       "<Figure size 504x504 with 1 Axes>"
      ]
     },
     "metadata": {
      "needs_background": "light"
     },
     "output_type": "display_data"
    },
    {
     "data": {
      "text/plain": [
       "count    21737.000000\n",
       "mean        10.286375\n",
       "std          4.903216\n",
       "min          6.000000\n",
       "25%          7.000000\n",
       "50%          9.000000\n",
       "75%         11.800000\n",
       "max         48.000000\n",
       "Name: kitchen_area, dtype: float64"
      ]
     },
     "execution_count": 81,
     "metadata": {},
     "output_type": "execute_result"
    }
   ],
   "source": [
    "# строим распределение площадей кухни\n",
    "\n",
    "analysis['kitchen_area'].plot(kind='hist', bins=50, figsize=(7, 7), title='kitchen_area', grid=True)\n",
    "plt.show()\n",
    "analysis['kitchen_area'].describe()"
   ]
  },
  {
   "cell_type": "code",
   "execution_count": 82,
   "metadata": {},
   "outputs": [
    {
     "data": {
      "image/png": "[encoded data removed]",
      "text/plain": [
       "<Figure size 504x504 with 1 Axes>"
      ]
     },
     "metadata": {
      "needs_background": "light"
     },
     "output_type": "display_data"
    },
    {
     "data": {
      "text/plain": [
       "count    2.173700e+04\n",
       "mean     5.824364e+06\n",
       "std      4.377798e+06\n",
       "min      1.219000e+04\n",
       "25%      3.420000e+06\n",
       "50%      4.600000e+06\n",
       "75%      6.650000e+06\n",
       "max      4.000000e+07\n",
       "Name: last_price, dtype: float64"
      ]
     },
     "execution_count": 82,
     "metadata": {},
     "output_type": "execute_result"
    }
   ],
   "source": [
    "# строим распределение цен\n",
    "\n",
    "analysis['last_price'].plot(kind='hist', bins=100, figsize=(7, 7), title='last_price', grid=True)\n",
    "plt.show()\n",
    "analysis['last_price'].describe()"
   ]
  },
  {
   "cell_type": "code",
   "execution_count": 83,
   "metadata": {},
   "outputs": [
    {
     "data": {
      "image/png": "[encoded data removed]",
      "text/plain": [
       "<Figure size 504x504 with 1 Axes>"
      ]
     },
     "metadata": {
      "needs_background": "light"
     },
     "output_type": "display_data"
    },
    {
     "data": {
      "text/plain": [
       "count    21737.000000\n",
       "mean         2.047845\n",
       "std          0.997103\n",
       "min          1.000000\n",
       "25%          1.000000\n",
       "50%          2.000000\n",
       "75%          3.000000\n",
       "max          8.000000\n",
       "Name: rooms, dtype: float64"
      ]
     },
     "execution_count": 83,
     "metadata": {},
     "output_type": "execute_result"
    }
   ],
   "source": [
    "# строим распределение данных в столбце с кол-вом комнат\n",
    "\n",
    "analysis['rooms'].plot(kind='hist', bins=70, figsize=(7, 7), title='rooms', grid=True)\n",
    "plt.show()\n",
    "analysis['rooms'].describe()"
   ]
  },
  {
   "cell_type": "code",
   "execution_count": 84,
   "metadata": {},
   "outputs": [
    {
     "data": {
      "image/png": "[encoded data removed]",
      "text/plain": [
       "<Figure size 504x504 with 1 Axes>"
      ]
     },
     "metadata": {
      "needs_background": "light"
     },
     "output_type": "display_data"
    },
    {
     "data": {
      "text/plain": [
       "count    21737.000000\n",
       "mean         2.700992\n",
       "std          0.215427\n",
       "min          2.500000\n",
       "25%          2.550000\n",
       "50%          2.650000\n",
       "75%          2.750000\n",
       "max          4.000000\n",
       "Name: ceiling_height, dtype: float64"
      ]
     },
     "execution_count": 84,
     "metadata": {},
     "output_type": "execute_result"
    }
   ],
   "source": [
    "# строим распределение высоты квартир\n",
    "\n",
    "analysis['ceiling_height'].plot(kind='hist', bins=100, figsize=(7, 7), title='ceiling_height', grid=True)\n",
    "plt.show()\n",
    "analysis['ceiling_height'].describe()"
   ]
  },
  {
   "cell_type": "code",
   "execution_count": 85,
   "metadata": {},
   "outputs": [
    {
     "data": {
      "image/png": "[encoded data removed]",
      "text/plain": [
       "<Figure size 504x504 with 1 Axes>"
      ]
     },
     "metadata": {
      "needs_background": "light"
     },
     "output_type": "display_data"
    },
    {
     "data": {
      "text/plain": [
       "count    21737.000000\n",
       "mean         5.879652\n",
       "std          4.842406\n",
       "min          1.000000\n",
       "25%          2.000000\n",
       "50%          4.000000\n",
       "75%          8.000000\n",
       "max         27.000000\n",
       "Name: floor, dtype: float64"
      ]
     },
     "execution_count": 85,
     "metadata": {},
     "output_type": "execute_result"
    }
   ],
   "source": [
    "# строим распределение по этажам\n",
    "\n",
    "analysis['floor'].plot(kind='hist', bins=100, figsize=(7, 7), title='floor', grid=True)\n",
    "plt.show()\n",
    "analysis['floor'].describe()"
   ]
  },
  {
   "cell_type": "code",
   "execution_count": 86,
   "metadata": {},
   "outputs": [
    {
     "data": {
      "image/png": "[encoded data removed]",
      "text/plain": [
       "<Figure size 504x504 with 1 Axes>"
      ]
     },
     "metadata": {
      "needs_background": "light"
     },
     "output_type": "display_data"
    },
    {
     "data": {
      "text/plain": [
       "count    21737.000000\n",
       "mean        10.676772\n",
       "std          6.517159\n",
       "min          1.000000\n",
       "25%          5.000000\n",
       "50%          9.000000\n",
       "75%         16.000000\n",
       "max         29.000000\n",
       "Name: floors_total, dtype: float64"
      ]
     },
     "execution_count": 86,
     "metadata": {},
     "output_type": "execute_result"
    }
   ],
   "source": [
    "# строим распределение по этажности домов\n",
    "\n",
    "analysis['floors_total'].plot(kind='hist', bins=100, figsize=(7, 7), title='floors_total', grid=True)\n",
    "plt.show()\n",
    "analysis['floors_total'].describe()"
   ]
  },
  {
   "cell_type": "code",
   "execution_count": 87,
   "metadata": {},
   "outputs": [
    {
     "data": {
      "image/png": "[encoded data removed]",
      "text/plain": [
       "<Figure size 504x504 with 1 Axes>"
      ]
     },
     "metadata": {
      "needs_background": "light"
     },
     "output_type": "display_data"
    },
    {
     "data": {
      "text/plain": [
       "count    16724.000000\n",
       "mean     14335.397752\n",
       "std       8641.834515\n",
       "min        181.000000\n",
       "25%       9508.000000\n",
       "50%      13162.000000\n",
       "75%      16296.000000\n",
       "max      65968.000000\n",
       "Name: city_centers_nearest, dtype: float64"
      ]
     },
     "execution_count": 87,
     "metadata": {},
     "output_type": "execute_result"
    }
   ],
   "source": [
    "# строим распределение по расстоянию до центра\n",
    "\n",
    "analysis['city_centers_nearest'].plot(kind='hist', bins=100, figsize=(7, 7), title='city_centers_nearest', grid=True)\n",
    "plt.show()\n",
    "analysis['city_centers_nearest'].describe()"
   ]
  },
  {
   "cell_type": "code",
   "execution_count": 88,
   "metadata": {},
   "outputs": [
    {
     "data": {
      "image/png": "[encoded data removed]",
      "text/plain": [
       "<Figure size 504x504 with 1 Axes>"
      ]
     },
     "metadata": {
      "needs_background": "light"
     },
     "output_type": "display_data"
    },
    {
     "data": {
      "text/plain": [
       "count    16706.000000\n",
       "mean     28850.272417\n",
       "std      12707.226958\n",
       "min          0.000000\n",
       "25%      18472.000000\n",
       "50%      26876.000000\n",
       "75%      37407.000000\n",
       "max      84869.000000\n",
       "Name: airports_nearest, dtype: float64"
      ]
     },
     "execution_count": 88,
     "metadata": {},
     "output_type": "execute_result"
    }
   ],
   "source": [
    "# строим распределение по расстоянию до ближайшего аэропорта\n",
    "\n",
    "analysis['airports_nearest'].plot(kind='hist', bins=50, figsize=(7, 7), title='airports_nearest', grid=True)\n",
    "plt.show()\n",
    "analysis['airports_nearest'].describe()"
   ]
  },
  {
   "cell_type": "code",
   "execution_count": 89,
   "metadata": {},
   "outputs": [
    {
     "data": {
      "image/png": "[encoded data removed]",
      "text/plain": [
       "<Figure size 504x504 with 1 Axes>"
      ]
     },
     "metadata": {
      "needs_background": "light"
     },
     "output_type": "display_data"
    },
    {
     "data": {
      "text/plain": [
       "count    7359.000000\n",
       "mean      490.240114\n",
       "std       339.242570\n",
       "min         1.000000\n",
       "25%       288.000000\n",
       "50%       455.000000\n",
       "75%       612.000000\n",
       "max      3190.000000\n",
       "Name: parks_nearest, dtype: float64"
      ]
     },
     "execution_count": 89,
     "metadata": {},
     "output_type": "execute_result"
    }
   ],
   "source": [
    "# строим распределение по расстоянию до ближайшего парка\n",
    "\n",
    "analysis['parks_nearest'].plot(kind='hist', bins=50, figsize=(7, 7), title='parks_nearest', grid=True)\n",
    "plt.show()\n",
    "analysis['parks_nearest'].describe()"
   ]
  },
  {
   "cell_type": "code",
   "execution_count": 90,
   "metadata": {},
   "outputs": [
    {
     "data": {
      "image/png": "[encoded data removed]",
      "text/plain": [
       "<Figure size 504x504 with 1 Axes>"
      ]
     },
     "metadata": {
      "needs_background": "light"
     },
     "output_type": "display_data"
    },
    {
     "data": {
      "text/plain": [
       "count    21737.000000\n",
       "mean         2.549662\n",
       "std          1.783851\n",
       "min          0.000000\n",
       "25%          1.000000\n",
       "50%          2.000000\n",
       "75%          4.000000\n",
       "max          6.000000\n",
       "Name: exposition_day, dtype: float64"
      ]
     },
     "execution_count": 90,
     "metadata": {},
     "output_type": "execute_result"
    }
   ],
   "source": [
    "# строим распределение по дню размещения\n",
    "\n",
    "analysis['exposition_day'].plot(kind='hist', bins=30, figsize=(7, 7), title='exposition_day', grid=True)\n",
    "plt.show()\n",
    "analysis['exposition_day'].describe()"
   ]
  },
  {
   "cell_type": "code",
   "execution_count": 91,
   "metadata": {},
   "outputs": [
    {
     "data": {
      "image/png": "[encoded data removed]",
      "text/plain": [
       "<Figure size 504x504 with 1 Axes>"
      ]
     },
     "metadata": {
      "needs_background": "light"
     },
     "output_type": "display_data"
    },
    {
     "data": {
      "text/plain": [
       "count    21737.000000\n",
       "mean         6.410820\n",
       "std          3.460895\n",
       "min          1.000000\n",
       "25%          3.000000\n",
       "50%          6.000000\n",
       "75%         10.000000\n",
       "max         12.000000\n",
       "Name: exposition_month, dtype: float64"
      ]
     },
     "execution_count": 91,
     "metadata": {},
     "output_type": "execute_result"
    }
   ],
   "source": [
    "# строим распределение по месяцу размещения\n",
    "\n",
    "analysis['exposition_month'].plot(kind='hist', bins=30, figsize=(7, 7), title='exposition_month', grid=True)\n",
    "plt.show()\n",
    "analysis['exposition_month'].describe()"
   ]
  },
  {
   "cell_type": "markdown",
   "metadata": {},
   "source": [
    "**1. Пики на гистограммах с высотой потолков, жилплощадью и площадью кухни свидетельствуют о большом количестве однотипных квартир в определённых диапазонах.**\n",
    " - Среднее арифметическое (выс. пот.): 2.7 \n",
    " - Медиана (выс. пот.): 2.65  \n",
    " - Среднее арифметическое (жилплощадь): 33.64   \n",
    " - Медиана (жилплощадь): 30 \n",
    " - Среднее арифметическое (кухня): 10.29 \n",
    " - Медиана (кухня): 9  \n",
    " \n",
    "**2. Объявления о продаже квартиры чаще всего размещают по будням и неохотно размещают летом или под новый год.**  \n",
    "\n",
    "**3. Гистограмма с этажом квартиры имеет пик в диапазоне от 0 до 5 что может указывать на продажу квартир в пятиэтажных домах (кол-во которых велико).**\n",
    " - Среднее арифметическое: 5.88\n",
    " - Медиана: 4  \n",
    " \n",
    "**4. Гистограмма с общим кол-вом этажей имеет два пика в области наиболее часто встречающихся домов (5 и 9 этажей).** \n",
    " - Среднее арифметическое: 10.68\n",
    " - Медиана: 9  \n",
    " \n",
    "**5. Гистограммы с расстоянием до центра, ближайшего аэропорта и ближайшего парка имеют уменьшенный частотный масштаб. Это может происходить в следствие того что квартира находится в центре, в данном населённом пункте нет аэропорта или парка.**  \n",
    "\n",
    "**Центр**\n",
    " - Среднее арифметическое: 14335.4\n",
    " - Медиана: 13162  \n",
    " \n",
    "**Аэропорт**\n",
    " - Среднее арифметическое: 28850.27\n",
    " - Медиана: 26876  \n",
    " \n",
    "**Парк**\n",
    " - Среднее арифметическое: 490.24\n",
    " - Медиана: 455"
   ]
  },
  {
   "cell_type": "markdown",
   "metadata": {},
   "source": [
    "**Изучение скорости продажи квартиры**"
   ]
  },
  {
   "cell_type": "code",
   "execution_count": 92,
   "metadata": {},
   "outputs": [
    {
     "data": {
      "image/png": "[encoded data removed]",
      "text/plain": [
       "<Figure size 432x288 with 1 Axes>"
      ]
     },
     "metadata": {
      "needs_background": "light"
     },
     "output_type": "display_data"
    }
   ],
   "source": [
    "# вводим переменную clear_data чтобы отсечь отрицательные значения и строим гистограмму\n",
    "\n",
    "len(data.query('days_exposition > 730')) # KFAWJFNWAFA\n",
    "clear_data = data.query('days_exposition > 0')\n",
    "\n",
    "# гистограмма\n",
    "\n",
    "clear_data['days_exposition'].hist(bins=50)\n",
    "plt.show()"
   ]
  },
  {
   "cell_type": "code",
   "execution_count": 93,
   "metadata": {},
   "outputs": [],
   "source": [
    "clear_data.reset_index(drop=True, inplace=True)"
   ]
  },
  {
   "cell_type": "code",
   "execution_count": 94,
   "metadata": {},
   "outputs": [
    {
     "name": "stdout",
     "output_type": "stream",
     "text": [
      "Среднее арифметическое = 181.85109901835253\n",
      "Медиана = 100.0\n"
     ]
    }
   ],
   "source": [
    "print(\n",
    "    'Среднее арифметическое = ',\n",
    "    clear_data['days_exposition'].describe()['mean'],\n",
    "    '\\n',\n",
    "    'Медиана = ',\n",
    "    clear_data['days_exposition'].describe()['50%'],\n",
    "    sep='',\n",
    ")"
   ]
  },
  {
   "cell_type": "code",
   "execution_count": 95,
   "metadata": {},
   "outputs": [
    {
     "data": {
      "text/plain": [
       "count    18744.000000\n",
       "mean       181.851099\n",
       "std        215.528327\n",
       "min          1.000000\n",
       "25%         44.000000\n",
       "50%        100.000000\n",
       "75%        235.000000\n",
       "max       1350.000000\n",
       "Name: days_exposition, dtype: float64"
      ]
     },
     "execution_count": 95,
     "metadata": {},
     "output_type": "execute_result"
    }
   ],
   "source": [
    "# посмотрим статистику\n",
    "\n",
    "clear_data['days_exposition'].describe()"
   ]
  },
  {
   "cell_type": "markdown",
   "metadata": {},
   "source": [
    "На основе анализа колонки с кол-вом дней с размещённым объявлением было установлено, что быстрыми продажами можно считать те, которые осуществлялись меньше чем за 43 дня, необычно длинные - которые занимали более 215 дней, обычно продажа занимает около 95 дней. "
   ]
  },
  {
   "cell_type": "code",
   "execution_count": 96,
   "metadata": {},
   "outputs": [
    {
     "data": {
      "image/png": "[encoded data removed]",
      "text/plain": [
       "<Figure size 432x288 with 1 Axes>"
      ]
     },
     "metadata": {
      "needs_background": "light"
     },
     "output_type": "display_data"
    }
   ],
   "source": [
    "clear_data['days_exposition'].hist(bins=50, range=(0, 100))\n",
    "plt.show()"
   ]
  },
  {
   "cell_type": "markdown",
   "metadata": {},
   "source": [
    "Причина появления аномальных пиков здесь заключается в том, что в эти дни платформа снимает объявления."
   ]
  },
  {
   "cell_type": "markdown",
   "metadata": {},
   "source": [
    "**Визуализация влияния факторов на стоимость объекта.**"
   ]
  },
  {
   "cell_type": "code",
   "execution_count": 97,
   "metadata": {},
   "outputs": [
    {
     "name": "stdout",
     "output_type": "stream",
     "text": [
      "Корреляция: 78.18%\n"
     ]
    },
    {
     "data": {
      "image/png": "[encoded data removed]",
      "text/plain": [
       "<Figure size 432x288 with 1 Axes>"
      ]
     },
     "metadata": {
      "needs_background": "light"
     },
     "output_type": "display_data"
    }
   ],
   "source": [
    "# Зависимость цены от общей площади\n",
    "\n",
    "data.pivot_table(index='total_area', values='last_price').plot(grid=True, style='o')\n",
    "print(f'Корреляция: {data[\"total_area\"].corr(data[\"last_price\"]):.2%}')"
   ]
  },
  {
   "cell_type": "code",
   "execution_count": 98,
   "metadata": {},
   "outputs": [
    {
     "data": {
      "image/png": "[encoded data removed]",
      "text/plain": [
       "<Figure size 432x288 with 1 Axes>"
      ]
     },
     "metadata": {
      "needs_background": "light"
     },
     "output_type": "display_data"
    },
    {
     "name": "stdout",
     "output_type": "stream",
     "text": [
      "Корреляция: 67.96%\n"
     ]
    }
   ],
   "source": [
    "# Зависимость цены от жилой площади\n",
    "\n",
    "data.pivot_table(index=\"living_area\", values=\"last_price\").plot(grid=True, style=\"o\")\n",
    "plt.show()\n",
    "print(f'Корреляция: {data[\"living_area\"].corr(data[\"last_price\"]):.2%}')"
   ]
  },
  {
   "cell_type": "code",
   "execution_count": 99,
   "metadata": {},
   "outputs": [
    {
     "data": {
      "image/png": "[encoded data removed]",
      "text/plain": [
       "<Figure size 432x288 with 1 Axes>"
      ]
     },
     "metadata": {
      "needs_background": "light"
     },
     "output_type": "display_data"
    },
    {
     "name": "stdout",
     "output_type": "stream",
     "text": [
      "Корреляция: 59.61%\n"
     ]
    }
   ],
   "source": [
    "# Зависимость цены от площади кухни\n",
    "\n",
    "data.pivot_table(index=\"kitchen_area\", values=\"last_price\", aggfunc=\"median\").plot(\n",
    "    grid=True, style=\"o\"\n",
    ")\n",
    "plt.show()\n",
    "\n",
    "print(f'Корреляция: {data[\"kitchen_area\"].corr(data[\"last_price\"]):.2%}')"
   ]
  },
  {
   "cell_type": "code",
   "execution_count": 100,
   "metadata": {},
   "outputs": [
    {
     "data": {
      "image/png": "[encoded data removed]",
      "text/plain": [
       "<Figure size 432x288 with 1 Axes>"
      ]
     },
     "metadata": {
      "needs_background": "light"
     },
     "output_type": "display_data"
    },
    {
     "name": "stdout",
     "output_type": "stream",
     "text": [
      "Корреляция: 50.77%\n"
     ]
    }
   ],
   "source": [
    "# Зависимость цены от кол-ва комнат\n",
    "\n",
    "data.pivot_table(index=\"rooms\", values=\"last_price\", aggfunc=\"median\").plot(\n",
    "    grid=True, style=\"o\"\n",
    ")\n",
    "plt.show()\n",
    "\n",
    "print(f'Корреляция: {data[\"rooms\"].corr(data[\"last_price\"]):.2%}')"
   ]
  },
  {
   "cell_type": "code",
   "execution_count": 101,
   "metadata": {},
   "outputs": [
    {
     "data": {
      "image/png": "[encoded data removed]",
      "text/plain": [
       "<Figure size 432x288 with 1 Axes>"
      ]
     },
     "metadata": {
      "needs_background": "light"
     },
     "output_type": "display_data"
    }
   ],
   "source": [
    "# Зависимость цены от типа этажа\n",
    "\n",
    "data.pivot_table(index=\"floor_type\", values=\"last_price\", aggfunc=\"median\").plot(\n",
    "    grid=True, style=\"o\"\n",
    ")\n",
    "\n",
    "plt.show()"
   ]
  },
  {
   "cell_type": "code",
   "execution_count": 102,
   "metadata": {},
   "outputs": [
    {
     "data": {
      "image/png": "[encoded data removed]",
      "text/plain": [
       "<Figure size 720x504 with 1 Axes>"
      ]
     },
     "metadata": {
      "needs_background": "light"
     },
     "output_type": "display_data"
    }
   ],
   "source": [
    "# Зависимость цены от дня размещения объявления\n",
    "\n",
    "data.pivot_table(\n",
    "    index=\"exposition_day\", values=\"last_price\", aggfunc=\"median\"\n",
    ").plot(grid=True, style=\"o\", figsize=(10, 7))\n",
    "\n",
    "plt.show()"
   ]
  },
  {
   "cell_type": "code",
   "execution_count": 103,
   "metadata": {},
   "outputs": [
    {
     "data": {
      "image/png": "[encoded data removed]",
      "text/plain": [
       "<Figure size 720x504 with 1 Axes>"
      ]
     },
     "metadata": {
      "needs_background": "light"
     },
     "output_type": "display_data"
    }
   ],
   "source": [
    "# Зависимость цены от месяца размещения объявления\n",
    "\n",
    "data.pivot_table(\n",
    "    index=\"exposition_month\", values=\"last_price\", aggfunc=\"median\"\n",
    ").plot(grid=True, style=\"o\", figsize=(10, 7))\n",
    "\n",
    "plt.show()"
   ]
  },
  {
   "cell_type": "code",
   "execution_count": 104,
   "metadata": {},
   "outputs": [
    {
     "data": {
      "image/png": "[encoded data removed]",
      "text/plain": [
       "<Figure size 720x504 with 1 Axes>"
      ]
     },
     "metadata": {
      "needs_background": "light"
     },
     "output_type": "display_data"
    }
   ],
   "source": [
    "# Зависимость цены от года размещения объявления\n",
    "\n",
    "data.pivot_table(\n",
    "    index=\"exposition_year\", values=\"last_price\", aggfunc=\"median\"\n",
    ").plot(grid=True, style=\"o\", figsize=(10, 7))\n",
    "\n",
    "plt.show()"
   ]
  },
  {
   "cell_type": "markdown",
   "metadata": {},
   "source": [
    "**Определение 10 пунктов с наибольшим числом объявлений и вычсиление средней цены квадратного метра.**"
   ]
  },
  {
   "cell_type": "code",
   "execution_count": 105,
   "metadata": {},
   "outputs": [],
   "source": [
    "# используем сводную таблицу для определения регионов с наибольшим числом объявлений\n",
    "\n",
    "exposition_counts = clear_data.pivot_table(index='locality_name',\n",
    "        values='first_day_exposition', aggfunc='count'\n",
    "        ).sort_values(by='first_day_exposition', ascending=False)"
   ]
  },
  {
   "cell_type": "code",
   "execution_count": 106,
   "metadata": {},
   "outputs": [],
   "source": [
    "# создание сводной таблицы для расчёта средней цены квадратного метра\n",
    "\n",
    "local_area_and_price = clear_data.pivot_table(index='locality_name',\n",
    "        values=['last_price', 'total_area'])"
   ]
  },
  {
   "cell_type": "code",
   "execution_count": 107,
   "metadata": {},
   "outputs": [],
   "source": [
    "# создаём столбец в исходной таблице\n",
    "\n",
    "exposition_counts['unit_price'] = local_area_and_price['last_price'] \\\n",
    "    / local_area_and_price['total_area']"
   ]
  },
  {
   "cell_type": "code",
   "execution_count": 108,
   "metadata": {},
   "outputs": [],
   "source": [
    "# топ 10 пунктов по количеству объявлений\n",
    "\n",
    "top_10_loc_exp = exposition_counts.head(10)"
   ]
  },
  {
   "cell_type": "code",
   "execution_count": 109,
   "metadata": {},
   "outputs": [],
   "source": [
    "# топ 10 пунктов по медианной цене квартир\n",
    "\n",
    "top_10_loc_price = top_10_loc_exp.sort_values(by='unit_price', ascending=False).head(10)"
   ]
  },
  {
   "cell_type": "code",
   "execution_count": 110,
   "metadata": {},
   "outputs": [
    {
     "data": {
      "text/html": [
       "<div>\n",
       "<style scoped>\n",
       "    .dataframe tbody tr th:only-of-type {\n",
       "        vertical-align: middle;\n",
       "    }\n",
       "\n",
       "    .dataframe tbody tr th {\n",
       "        vertical-align: top;\n",
       "    }\n",
       "\n",
       "    .dataframe thead th {\n",
       "        text-align: right;\n",
       "    }\n",
       "</style>\n",
       "<table border=\"1\" class=\"dataframe\">\n",
       "  <thead>\n",
       "    <tr style=\"text-align: right;\">\n",
       "      <th></th>\n",
       "      <th>first_day_exposition</th>\n",
       "      <th>unit_price</th>\n",
       "    </tr>\n",
       "    <tr>\n",
       "      <th>locality_name</th>\n",
       "      <th></th>\n",
       "      <th></th>\n",
       "    </tr>\n",
       "  </thead>\n",
       "  <tbody>\n",
       "    <tr>\n",
       "      <th>санкт-петербург</th>\n",
       "      <td>12516</td>\n",
       "      <td>110652.303570</td>\n",
       "    </tr>\n",
       "    <tr>\n",
       "      <th>поселок мурино</th>\n",
       "      <td>506</td>\n",
       "      <td>83432.778327</td>\n",
       "    </tr>\n",
       "    <tr>\n",
       "      <th>поселок шушары</th>\n",
       "      <td>378</td>\n",
       "      <td>75651.783072</td>\n",
       "    </tr>\n",
       "    <tr>\n",
       "      <th>всеволожск</th>\n",
       "      <td>311</td>\n",
       "      <td>67376.976838</td>\n",
       "    </tr>\n",
       "    <tr>\n",
       "      <th>колпино</th>\n",
       "      <td>297</td>\n",
       "      <td>72879.397126</td>\n",
       "    </tr>\n",
       "    <tr>\n",
       "      <th>пушкин</th>\n",
       "      <td>277</td>\n",
       "      <td>103414.445854</td>\n",
       "    </tr>\n",
       "    <tr>\n",
       "      <th>поселок парголово</th>\n",
       "      <td>276</td>\n",
       "      <td>87022.908583</td>\n",
       "    </tr>\n",
       "    <tr>\n",
       "      <th>деревня кудрово</th>\n",
       "      <td>263</td>\n",
       "      <td>90683.335551</td>\n",
       "    </tr>\n",
       "    <tr>\n",
       "      <th>гатчина</th>\n",
       "      <td>256</td>\n",
       "      <td>66499.651345</td>\n",
       "    </tr>\n",
       "    <tr>\n",
       "      <th>выборг</th>\n",
       "      <td>174</td>\n",
       "      <td>56474.004395</td>\n",
       "    </tr>\n",
       "  </tbody>\n",
       "</table>\n",
       "</div>"
      ],
      "text/plain": [
       "                   first_day_exposition     unit_price\n",
       "locality_name                                         \n",
       "санкт-петербург                   12516  110652.303570\n",
       "поселок мурино                      506   83432.778327\n",
       "поселок шушары                      378   75651.783072\n",
       "всеволожск                          311   67376.976838\n",
       "колпино                             297   72879.397126\n",
       "пушкин                              277  103414.445854\n",
       "поселок парголово                   276   87022.908583\n",
       "деревня кудрово                     263   90683.335551\n",
       "гатчина                             256   66499.651345\n",
       "выборг                              174   56474.004395"
      ]
     },
     "metadata": {},
     "output_type": "display_data"
    }
   ],
   "source": [
    "# топ по кол-ву объявлений\n",
    "\n",
    "display(top_10_loc_exp)"
   ]
  },
  {
   "cell_type": "code",
   "execution_count": 111,
   "metadata": {},
   "outputs": [
    {
     "data": {
      "text/html": [
       "<div>\n",
       "<style scoped>\n",
       "    .dataframe tbody tr th:only-of-type {\n",
       "        vertical-align: middle;\n",
       "    }\n",
       "\n",
       "    .dataframe tbody tr th {\n",
       "        vertical-align: top;\n",
       "    }\n",
       "\n",
       "    .dataframe thead th {\n",
       "        text-align: right;\n",
       "    }\n",
       "</style>\n",
       "<table border=\"1\" class=\"dataframe\">\n",
       "  <thead>\n",
       "    <tr style=\"text-align: right;\">\n",
       "      <th></th>\n",
       "      <th>first_day_exposition</th>\n",
       "      <th>unit_price</th>\n",
       "    </tr>\n",
       "    <tr>\n",
       "      <th>locality_name</th>\n",
       "      <th></th>\n",
       "      <th></th>\n",
       "    </tr>\n",
       "  </thead>\n",
       "  <tbody>\n",
       "    <tr>\n",
       "      <th>санкт-петербург</th>\n",
       "      <td>12516</td>\n",
       "      <td>110652.303570</td>\n",
       "    </tr>\n",
       "    <tr>\n",
       "      <th>пушкин</th>\n",
       "      <td>277</td>\n",
       "      <td>103414.445854</td>\n",
       "    </tr>\n",
       "    <tr>\n",
       "      <th>деревня кудрово</th>\n",
       "      <td>263</td>\n",
       "      <td>90683.335551</td>\n",
       "    </tr>\n",
       "    <tr>\n",
       "      <th>поселок парголово</th>\n",
       "      <td>276</td>\n",
       "      <td>87022.908583</td>\n",
       "    </tr>\n",
       "    <tr>\n",
       "      <th>поселок мурино</th>\n",
       "      <td>506</td>\n",
       "      <td>83432.778327</td>\n",
       "    </tr>\n",
       "    <tr>\n",
       "      <th>поселок шушары</th>\n",
       "      <td>378</td>\n",
       "      <td>75651.783072</td>\n",
       "    </tr>\n",
       "    <tr>\n",
       "      <th>колпино</th>\n",
       "      <td>297</td>\n",
       "      <td>72879.397126</td>\n",
       "    </tr>\n",
       "    <tr>\n",
       "      <th>всеволожск</th>\n",
       "      <td>311</td>\n",
       "      <td>67376.976838</td>\n",
       "    </tr>\n",
       "    <tr>\n",
       "      <th>гатчина</th>\n",
       "      <td>256</td>\n",
       "      <td>66499.651345</td>\n",
       "    </tr>\n",
       "    <tr>\n",
       "      <th>выборг</th>\n",
       "      <td>174</td>\n",
       "      <td>56474.004395</td>\n",
       "    </tr>\n",
       "  </tbody>\n",
       "</table>\n",
       "</div>"
      ],
      "text/plain": [
       "                   first_day_exposition     unit_price\n",
       "locality_name                                         \n",
       "санкт-петербург                   12516  110652.303570\n",
       "пушкин                              277  103414.445854\n",
       "деревня кудрово                     263   90683.335551\n",
       "поселок парголово                   276   87022.908583\n",
       "поселок мурино                      506   83432.778327\n",
       "поселок шушары                      378   75651.783072\n",
       "колпино                             297   72879.397126\n",
       "всеволожск                          311   67376.976838\n",
       "гатчина                             256   66499.651345\n",
       "выборг                              174   56474.004395"
      ]
     },
     "metadata": {},
     "output_type": "display_data"
    }
   ],
   "source": [
    "# топ по цене (в регионах из прошлого топа)\n",
    "\n",
    "display(top_10_loc_price)"
   ]
  },
  {
   "cell_type": "code",
   "execution_count": 112,
   "metadata": {},
   "outputs": [
    {
     "name": "stdout",
     "output_type": "stream",
     "text": [
      "Наибольшая цена в регионе - САНКТ-ПЕТЕРБУРГ составляет: 110652.30 \n",
      "Наименьшая цена в регионе - ВЫБОРГ составляет: 56474.00\n"
     ]
    }
   ],
   "source": [
    "# Определяем граничные показатели (таблица отсортирована)\n",
    "\n",
    "print(\n",
    "f'Наибольшая цена в регионе - {top_10_loc_exp.index[0].upper()} \\\n",
    "составляет: {top_10_loc_exp.loc[\"санкт-петербург\", \"unit_price\"]:.2f} \\\n",
    "\\nНаименьшая цена в регионе - {top_10_loc_exp.index[9].upper()} \\\n",
    "составляет: {top_10_loc_exp.loc[\"выборг\", \"unit_price\"]:.2f}'\n",
    ")"
   ]
  },
  {
   "cell_type": "markdown",
   "metadata": {},
   "source": [
    "**Определение цены 1 км по расстоянию до центра.**"
   ]
  },
  {
   "cell_type": "code",
   "execution_count": 113,
   "metadata": {},
   "outputs": [],
   "source": [
    "# создание среза по пункту \"санкт-петербург\"\n",
    "\n",
    "spb_distance_to_center = data.query(\n",
    "    'locality_name == \"санкт-петербург\" and to_center_km.isna() == False and to_center_km != 0'\n",
    ")[[\"last_price\", \"to_center_km\"]]\n",
    "\n",
    "# вызов этих условий понадобился чтобы устранить ошибку при подсчёте среднего значения, в ходе которого возникало значение inf"
   ]
  },
  {
   "cell_type": "code",
   "execution_count": 114,
   "metadata": {},
   "outputs": [
    {
     "data": {
      "text/plain": [
       "'Средняя цена за км до центра: 1037565.71'"
      ]
     },
     "metadata": {},
     "output_type": "display_data"
    }
   ],
   "source": [
    "# вычисление стоимости 1 км\n",
    "\n",
    "spb_distance_to_center['distance_unit_price'] = spb_distance_to_center['last_price'] \\\n",
    "/ spb_distance_to_center['to_center_km']\n",
    "\n",
    "display(f'Средняя цена за км до центра: {spb_distance_to_center[\"distance_unit_price\"].mean():.2f}')"
   ]
  },
  {
   "cell_type": "code",
   "execution_count": 115,
   "metadata": {},
   "outputs": [
    {
     "data": {
      "image/png": "[encoded data removed]",
      "text/plain": [
       "<Figure size 720x720 with 1 Axes>"
      ]
     },
     "metadata": {
      "needs_background": "light"
     },
     "output_type": "display_data"
    }
   ],
   "source": [
    "# визуализация зависимости цены от расстояния до центра \n",
    "\n",
    "spb_distance_to_center.plot(x='to_center_km', y='last_price', style='o', figsize=(10, 10))\n",
    "plt.show()"
   ]
  },
  {
   "cell_type": "code",
   "execution_count": 116,
   "metadata": {},
   "outputs": [
    {
     "name": "stdout",
     "output_type": "stream",
     "text": [
      "Коэффициент корреляции: -0.4\n"
     ]
    }
   ],
   "source": [
    "# коэффициент корреляции\n",
    "\n",
    "print(f'Коэффициент корреляции: {spb_distance_to_center[\"last_price\"].corr(spb_distance_to_center[\"to_center_km\"]):.1f}')"
   ]
  },
  {
   "cell_type": "markdown",
   "metadata": {},
   "source": [
    "**Вывод:** Коэффициент корреляции отрицательный, что говорит нам об уменьшении цены жилья при увеличении расстояния до центра населённого пункта."
   ]
  },
  {
   "cell_type": "markdown",
   "metadata": {},
   "source": [
    "## Общий вывод"
   ]
  },
  {
   "cell_type": "markdown",
   "metadata": {},
   "source": [
    "В ходе данного исследования были установлены следующие факты: \n",
    "* продаётся большое кол-во однотипного жилья как по площади, так и по кол-ву этажей (преобладают 5- и 9-этажки)\n",
    "* объявления о продаже квартиры чаще всего размещают с понедельника по пятницу, меньше всего объявлений появляется в мае, январе и декабре (вероятно люди не желают заниматься продажей в преддверии лета или в новогодние праздники).\n",
    "* продажа зачастую занимает 95 дней, четверть квартир продаётся менее чем за 43 дня, время необычно долгих продаж составляет более 215 дней\n",
    "* существует положительная зависимость между ценой и площадью квартиры, ценой и кол-вом комнат\n",
    "* существует отрицательная зависимость между расстоянием до центра населённого пункта и ценой, чем больше расстояние, тем ниже цена квартиры\n",
    "* выше всего цена квартир которые находятся на этажах отличных от первого и последнего, ниже всего цена первых этажей\n",
    "* разброс цен уменьшался с каждым годом и стремился к 5 000 000\n",
    "* больше всего объявлений было размещено в Санкт-Петербурге - 10 826 по сравнению с поселком Мурино (на 2 месте) - 408\n",
    "* средняя цена квадратного метра выше всего в Санкт-Петербурге - 108 220, на втором месте Пушкин - 104 098, наименее дорогой (из топ 10 пунктов) - Выборг - 56 099\n",
    "* медианные значения цены выше всего при размещении объявления во вторник и среду, ниже всего в субботу и воскресение"
   ]
  },
  {
   "cell_type": "code",
   "execution_count": null,
   "metadata": {},
   "outputs": [],
   "source": []
  }
 ],
 "metadata": {
  "ExecuteTimeLog": [
   {
    "duration": 327,
    "start_time": "2022-09-12T22:02:24.865Z"
   },
   {
    "duration": 117,
    "start_time": "2022-09-12T22:02:25.426Z"
   },
   {
    "duration": 628,
    "start_time": "2022-09-12T22:03:53.825Z"
   },
   {
    "duration": 47,
    "start_time": "2022-09-12T22:05:06.072Z"
   },
   {
    "duration": 40,
    "start_time": "2022-09-12T22:05:56.297Z"
   },
   {
    "duration": 791,
    "start_time": "2022-09-25T09:30:37.529Z"
   },
   {
    "duration": 101,
    "start_time": "2022-09-25T09:30:38.322Z"
   },
   {
    "duration": 0,
    "start_time": "2022-09-25T09:30:38.426Z"
   },
   {
    "duration": 0,
    "start_time": "2022-09-25T09:30:38.427Z"
   },
   {
    "duration": 0,
    "start_time": "2022-09-25T09:30:38.428Z"
   },
   {
    "duration": 0,
    "start_time": "2022-09-25T09:30:38.429Z"
   },
   {
    "duration": 0,
    "start_time": "2022-09-25T09:30:38.430Z"
   },
   {
    "duration": 0,
    "start_time": "2022-09-25T09:30:38.431Z"
   },
   {
    "duration": 0,
    "start_time": "2022-09-25T09:30:38.433Z"
   },
   {
    "duration": 0,
    "start_time": "2022-09-25T09:30:38.434Z"
   },
   {
    "duration": 0,
    "start_time": "2022-09-25T09:30:38.435Z"
   },
   {
    "duration": 0,
    "start_time": "2022-09-25T09:30:38.436Z"
   },
   {
    "duration": 0,
    "start_time": "2022-09-25T09:30:38.438Z"
   },
   {
    "duration": 0,
    "start_time": "2022-09-25T09:30:38.439Z"
   },
   {
    "duration": 0,
    "start_time": "2022-09-25T09:30:38.441Z"
   },
   {
    "duration": 0,
    "start_time": "2022-09-25T09:30:38.442Z"
   },
   {
    "duration": 0,
    "start_time": "2022-09-25T09:30:38.443Z"
   },
   {
    "duration": 0,
    "start_time": "2022-09-25T09:30:38.444Z"
   },
   {
    "duration": 0,
    "start_time": "2022-09-25T09:30:38.445Z"
   },
   {
    "duration": 0,
    "start_time": "2022-09-25T09:30:38.446Z"
   },
   {
    "duration": 0,
    "start_time": "2022-09-25T09:30:38.447Z"
   },
   {
    "duration": 0,
    "start_time": "2022-09-25T09:30:38.448Z"
   },
   {
    "duration": 0,
    "start_time": "2022-09-25T09:30:38.450Z"
   },
   {
    "duration": 0,
    "start_time": "2022-09-25T09:30:38.451Z"
   },
   {
    "duration": 0,
    "start_time": "2022-09-25T09:30:38.452Z"
   },
   {
    "duration": 0,
    "start_time": "2022-09-25T09:30:38.453Z"
   },
   {
    "duration": 0,
    "start_time": "2022-09-25T09:30:38.455Z"
   },
   {
    "duration": 0,
    "start_time": "2022-09-25T09:30:38.455Z"
   },
   {
    "duration": 0,
    "start_time": "2022-09-25T09:30:38.456Z"
   },
   {
    "duration": 0,
    "start_time": "2022-09-25T09:30:38.457Z"
   },
   {
    "duration": 0,
    "start_time": "2022-09-25T09:30:38.458Z"
   },
   {
    "duration": 0,
    "start_time": "2022-09-25T09:30:38.459Z"
   },
   {
    "duration": 0,
    "start_time": "2022-09-25T09:30:38.460Z"
   },
   {
    "duration": 0,
    "start_time": "2022-09-25T09:30:38.461Z"
   },
   {
    "duration": 0,
    "start_time": "2022-09-25T09:30:38.462Z"
   },
   {
    "duration": 0,
    "start_time": "2022-09-25T09:30:38.463Z"
   },
   {
    "duration": 0,
    "start_time": "2022-09-25T09:30:38.464Z"
   },
   {
    "duration": 0,
    "start_time": "2022-09-25T09:30:38.522Z"
   },
   {
    "duration": 0,
    "start_time": "2022-09-25T09:30:38.523Z"
   },
   {
    "duration": 0,
    "start_time": "2022-09-25T09:30:38.524Z"
   },
   {
    "duration": 0,
    "start_time": "2022-09-25T09:30:38.526Z"
   },
   {
    "duration": 0,
    "start_time": "2022-09-25T09:30:38.526Z"
   },
   {
    "duration": 0,
    "start_time": "2022-09-25T09:30:38.528Z"
   },
   {
    "duration": 0,
    "start_time": "2022-09-25T09:30:38.528Z"
   },
   {
    "duration": 0,
    "start_time": "2022-09-25T09:30:38.529Z"
   },
   {
    "duration": 0,
    "start_time": "2022-09-25T09:30:38.531Z"
   },
   {
    "duration": 0,
    "start_time": "2022-09-25T09:30:38.531Z"
   },
   {
    "duration": 0,
    "start_time": "2022-09-25T09:30:38.532Z"
   },
   {
    "duration": 1,
    "start_time": "2022-09-25T09:30:38.533Z"
   },
   {
    "duration": 0,
    "start_time": "2022-09-25T09:30:38.535Z"
   },
   {
    "duration": 0,
    "start_time": "2022-09-25T09:30:38.536Z"
   },
   {
    "duration": 0,
    "start_time": "2022-09-25T09:30:38.537Z"
   },
   {
    "duration": 0,
    "start_time": "2022-09-25T09:30:38.539Z"
   },
   {
    "duration": 0,
    "start_time": "2022-09-25T09:30:38.540Z"
   },
   {
    "duration": 0,
    "start_time": "2022-09-25T09:30:38.541Z"
   },
   {
    "duration": 0,
    "start_time": "2022-09-25T09:30:38.542Z"
   },
   {
    "duration": 0,
    "start_time": "2022-09-25T09:30:38.543Z"
   },
   {
    "duration": 0,
    "start_time": "2022-09-25T09:30:38.545Z"
   },
   {
    "duration": 0,
    "start_time": "2022-09-25T09:30:38.545Z"
   },
   {
    "duration": 0,
    "start_time": "2022-09-25T09:30:38.546Z"
   },
   {
    "duration": 0,
    "start_time": "2022-09-25T09:30:38.547Z"
   },
   {
    "duration": 0,
    "start_time": "2022-09-25T09:30:38.548Z"
   },
   {
    "duration": 0,
    "start_time": "2022-09-25T09:30:38.549Z"
   },
   {
    "duration": 0,
    "start_time": "2022-09-25T09:30:38.550Z"
   },
   {
    "duration": 0,
    "start_time": "2022-09-25T09:30:38.551Z"
   },
   {
    "duration": 0,
    "start_time": "2022-09-25T09:30:38.552Z"
   },
   {
    "duration": 0,
    "start_time": "2022-09-25T09:30:38.553Z"
   },
   {
    "duration": 0,
    "start_time": "2022-09-25T09:30:38.554Z"
   },
   {
    "duration": 0,
    "start_time": "2022-09-25T09:30:38.555Z"
   },
   {
    "duration": 0,
    "start_time": "2022-09-25T09:30:38.556Z"
   },
   {
    "duration": 0,
    "start_time": "2022-09-25T09:30:38.557Z"
   },
   {
    "duration": 0,
    "start_time": "2022-09-25T09:30:38.621Z"
   },
   {
    "duration": 0,
    "start_time": "2022-09-25T09:30:38.622Z"
   },
   {
    "duration": 1,
    "start_time": "2022-09-25T09:30:38.623Z"
   },
   {
    "duration": 0,
    "start_time": "2022-09-25T09:30:38.624Z"
   },
   {
    "duration": 0,
    "start_time": "2022-09-25T09:30:38.626Z"
   },
   {
    "duration": 0,
    "start_time": "2022-09-25T09:30:38.627Z"
   },
   {
    "duration": 0,
    "start_time": "2022-09-25T09:30:38.628Z"
   },
   {
    "duration": 0,
    "start_time": "2022-09-25T09:30:38.629Z"
   },
   {
    "duration": 0,
    "start_time": "2022-09-25T09:30:38.630Z"
   },
   {
    "duration": 0,
    "start_time": "2022-09-25T09:30:38.631Z"
   },
   {
    "duration": 0,
    "start_time": "2022-09-25T09:30:38.632Z"
   },
   {
    "duration": 0,
    "start_time": "2022-09-25T09:30:38.634Z"
   },
   {
    "duration": 0,
    "start_time": "2022-09-25T09:30:38.635Z"
   },
   {
    "duration": 0,
    "start_time": "2022-09-25T09:30:38.636Z"
   },
   {
    "duration": 0,
    "start_time": "2022-09-25T09:30:38.638Z"
   },
   {
    "duration": 0,
    "start_time": "2022-09-25T09:30:38.639Z"
   },
   {
    "duration": 0,
    "start_time": "2022-09-25T09:30:38.640Z"
   },
   {
    "duration": 0,
    "start_time": "2022-09-25T09:30:38.641Z"
   },
   {
    "duration": 0,
    "start_time": "2022-09-25T09:30:38.643Z"
   },
   {
    "duration": 603,
    "start_time": "2022-09-25T09:31:05.976Z"
   },
   {
    "duration": 129,
    "start_time": "2022-09-25T09:31:06.580Z"
   },
   {
    "duration": 2,
    "start_time": "2022-09-25T09:31:06.711Z"
   },
   {
    "duration": 28,
    "start_time": "2022-09-25T09:31:06.714Z"
   },
   {
    "duration": 13,
    "start_time": "2022-09-25T09:31:06.744Z"
   },
   {
    "duration": 1734,
    "start_time": "2022-09-25T09:31:06.758Z"
   },
   {
    "duration": 4,
    "start_time": "2022-09-25T09:31:08.494Z"
   },
   {
    "duration": 34,
    "start_time": "2022-09-25T09:31:08.499Z"
   },
   {
    "duration": 29,
    "start_time": "2022-09-25T09:31:08.534Z"
   },
   {
    "duration": 28,
    "start_time": "2022-09-25T09:31:08.564Z"
   },
   {
    "duration": 24,
    "start_time": "2022-09-25T09:31:08.593Z"
   },
   {
    "duration": 22,
    "start_time": "2022-09-25T09:31:08.619Z"
   },
   {
    "duration": 13,
    "start_time": "2022-09-25T09:31:08.643Z"
   },
   {
    "duration": 25,
    "start_time": "2022-09-25T09:31:08.659Z"
   },
   {
    "duration": 18,
    "start_time": "2022-09-25T09:31:08.685Z"
   },
   {
    "duration": 9,
    "start_time": "2022-09-25T09:31:08.704Z"
   },
   {
    "duration": 8,
    "start_time": "2022-09-25T09:31:08.714Z"
   },
   {
    "duration": 5,
    "start_time": "2022-09-25T09:31:08.723Z"
   },
   {
    "duration": 9,
    "start_time": "2022-09-25T09:31:08.729Z"
   },
   {
    "duration": 10,
    "start_time": "2022-09-25T09:31:08.739Z"
   },
   {
    "duration": 6,
    "start_time": "2022-09-25T09:31:08.751Z"
   },
   {
    "duration": 8,
    "start_time": "2022-09-25T09:31:08.759Z"
   },
   {
    "duration": 20,
    "start_time": "2022-09-25T09:31:08.769Z"
   },
   {
    "duration": 28,
    "start_time": "2022-09-25T09:31:08.790Z"
   },
   {
    "duration": 11,
    "start_time": "2022-09-25T09:31:08.820Z"
   },
   {
    "duration": 12,
    "start_time": "2022-09-25T09:31:08.832Z"
   },
   {
    "duration": 7,
    "start_time": "2022-09-25T09:31:08.845Z"
   },
   {
    "duration": 7,
    "start_time": "2022-09-25T09:31:08.853Z"
   },
   {
    "duration": 8,
    "start_time": "2022-09-25T09:31:08.862Z"
   },
   {
    "duration": 7,
    "start_time": "2022-09-25T09:31:08.871Z"
   },
   {
    "duration": 5,
    "start_time": "2022-09-25T09:31:08.879Z"
   },
   {
    "duration": 17,
    "start_time": "2022-09-25T09:31:08.885Z"
   },
   {
    "duration": 11,
    "start_time": "2022-09-25T09:31:08.903Z"
   },
   {
    "duration": 6,
    "start_time": "2022-09-25T09:31:08.915Z"
   },
   {
    "duration": 11,
    "start_time": "2022-09-25T09:31:08.923Z"
   },
   {
    "duration": 6,
    "start_time": "2022-09-25T09:31:08.935Z"
   },
   {
    "duration": 12,
    "start_time": "2022-09-25T09:31:08.942Z"
   },
   {
    "duration": 8,
    "start_time": "2022-09-25T09:31:08.955Z"
   },
   {
    "duration": 6,
    "start_time": "2022-09-25T09:31:08.965Z"
   },
   {
    "duration": 4,
    "start_time": "2022-09-25T09:31:08.972Z"
   },
   {
    "duration": 7,
    "start_time": "2022-09-25T09:31:08.980Z"
   },
   {
    "duration": 7,
    "start_time": "2022-09-25T09:31:08.988Z"
   },
   {
    "duration": 30,
    "start_time": "2022-09-25T09:31:08.996Z"
   },
   {
    "duration": 6,
    "start_time": "2022-09-25T09:31:09.027Z"
   },
   {
    "duration": 15,
    "start_time": "2022-09-25T09:31:09.034Z"
   },
   {
    "duration": 5,
    "start_time": "2022-09-25T09:31:09.050Z"
   },
   {
    "duration": 9,
    "start_time": "2022-09-25T09:31:09.056Z"
   },
   {
    "duration": 10,
    "start_time": "2022-09-25T09:31:09.066Z"
   },
   {
    "duration": 7,
    "start_time": "2022-09-25T09:31:09.077Z"
   },
   {
    "duration": 25,
    "start_time": "2022-09-25T09:31:09.086Z"
   },
   {
    "duration": 14,
    "start_time": "2022-09-25T09:31:09.113Z"
   },
   {
    "duration": 19,
    "start_time": "2022-09-25T09:31:09.128Z"
   },
   {
    "duration": 9,
    "start_time": "2022-09-25T09:31:09.149Z"
   },
   {
    "duration": 10,
    "start_time": "2022-09-25T09:31:09.160Z"
   },
   {
    "duration": 5,
    "start_time": "2022-09-25T09:31:09.172Z"
   },
   {
    "duration": 24,
    "start_time": "2022-09-25T09:31:09.178Z"
   },
   {
    "duration": 12,
    "start_time": "2022-09-25T09:31:09.204Z"
   },
   {
    "duration": 9,
    "start_time": "2022-09-25T09:31:09.217Z"
   },
   {
    "duration": 6,
    "start_time": "2022-09-25T09:31:09.228Z"
   },
   {
    "duration": 4,
    "start_time": "2022-09-25T09:31:09.235Z"
   },
   {
    "duration": 5,
    "start_time": "2022-09-25T09:31:09.241Z"
   },
   {
    "duration": 6,
    "start_time": "2022-09-25T09:31:09.247Z"
   },
   {
    "duration": 7,
    "start_time": "2022-09-25T09:31:09.254Z"
   },
   {
    "duration": 7,
    "start_time": "2022-09-25T09:31:09.263Z"
   },
   {
    "duration": 9,
    "start_time": "2022-09-25T09:31:09.271Z"
   },
   {
    "duration": 11,
    "start_time": "2022-09-25T09:31:09.281Z"
   },
   {
    "duration": 244,
    "start_time": "2022-09-25T09:31:09.293Z"
   },
   {
    "duration": 3,
    "start_time": "2022-09-25T09:31:09.539Z"
   },
   {
    "duration": 9,
    "start_time": "2022-09-25T09:31:09.544Z"
   },
   {
    "duration": 16,
    "start_time": "2022-09-25T09:31:09.555Z"
   },
   {
    "duration": 2853,
    "start_time": "2022-09-25T09:31:09.572Z"
   },
   {
    "duration": 174,
    "start_time": "2022-09-25T09:31:12.427Z"
   },
   {
    "duration": 2,
    "start_time": "2022-09-25T09:31:12.603Z"
   },
   {
    "duration": 34,
    "start_time": "2022-09-25T09:31:12.606Z"
   },
   {
    "duration": 12,
    "start_time": "2022-09-25T09:31:12.641Z"
   },
   {
    "duration": 134,
    "start_time": "2022-09-25T09:31:12.654Z"
   },
   {
    "duration": 136,
    "start_time": "2022-09-25T09:31:12.789Z"
   },
   {
    "duration": 145,
    "start_time": "2022-09-25T09:31:12.927Z"
   },
   {
    "duration": 276,
    "start_time": "2022-09-25T09:31:13.073Z"
   },
   {
    "duration": 137,
    "start_time": "2022-09-25T09:31:13.351Z"
   },
   {
    "duration": 307,
    "start_time": "2022-09-25T09:31:13.490Z"
   },
   {
    "duration": 10,
    "start_time": "2022-09-25T09:31:13.799Z"
   },
   {
    "duration": 16,
    "start_time": "2022-09-25T09:31:13.811Z"
   },
   {
    "duration": 9,
    "start_time": "2022-09-25T09:31:13.828Z"
   },
   {
    "duration": 14,
    "start_time": "2022-09-25T09:31:13.839Z"
   },
   {
    "duration": 6,
    "start_time": "2022-09-25T09:31:13.854Z"
   },
   {
    "duration": 117,
    "start_time": "2022-09-25T09:31:13.862Z"
   },
   {
    "duration": 5,
    "start_time": "2022-09-25T09:31:13.981Z"
   },
   {
    "duration": 208,
    "start_time": "2022-09-25T09:31:13.987Z"
   },
   {
    "duration": 4,
    "start_time": "2022-09-25T09:31:14.197Z"
   },
   {
    "duration": 7,
    "start_time": "2022-09-25T09:31:37.900Z"
   },
   {
    "duration": 855,
    "start_time": "2022-10-06T20:18:14.403Z"
   },
   {
    "duration": 115,
    "start_time": "2022-10-06T20:18:15.260Z"
   },
   {
    "duration": 0,
    "start_time": "2022-10-06T20:18:15.379Z"
   },
   {
    "duration": 0,
    "start_time": "2022-10-06T20:18:15.380Z"
   },
   {
    "duration": 0,
    "start_time": "2022-10-06T20:18:15.381Z"
   },
   {
    "duration": 0,
    "start_time": "2022-10-06T20:18:15.382Z"
   },
   {
    "duration": 0,
    "start_time": "2022-10-06T20:18:15.383Z"
   },
   {
    "duration": 0,
    "start_time": "2022-10-06T20:18:15.384Z"
   },
   {
    "duration": 0,
    "start_time": "2022-10-06T20:18:15.385Z"
   },
   {
    "duration": 0,
    "start_time": "2022-10-06T20:18:15.386Z"
   },
   {
    "duration": 0,
    "start_time": "2022-10-06T20:18:15.386Z"
   },
   {
    "duration": 0,
    "start_time": "2022-10-06T20:18:15.387Z"
   },
   {
    "duration": 0,
    "start_time": "2022-10-06T20:18:15.388Z"
   },
   {
    "duration": 0,
    "start_time": "2022-10-06T20:18:15.389Z"
   },
   {
    "duration": 0,
    "start_time": "2022-10-06T20:18:15.389Z"
   },
   {
    "duration": 0,
    "start_time": "2022-10-06T20:18:15.390Z"
   },
   {
    "duration": 0,
    "start_time": "2022-10-06T20:18:15.391Z"
   },
   {
    "duration": 0,
    "start_time": "2022-10-06T20:18:15.392Z"
   },
   {
    "duration": 0,
    "start_time": "2022-10-06T20:18:15.393Z"
   },
   {
    "duration": 0,
    "start_time": "2022-10-06T20:18:15.393Z"
   },
   {
    "duration": 0,
    "start_time": "2022-10-06T20:18:15.394Z"
   },
   {
    "duration": 0,
    "start_time": "2022-10-06T20:18:15.410Z"
   },
   {
    "duration": 0,
    "start_time": "2022-10-06T20:18:15.412Z"
   },
   {
    "duration": 0,
    "start_time": "2022-10-06T20:18:15.413Z"
   },
   {
    "duration": 0,
    "start_time": "2022-10-06T20:18:15.414Z"
   },
   {
    "duration": 0,
    "start_time": "2022-10-06T20:18:15.416Z"
   },
   {
    "duration": 0,
    "start_time": "2022-10-06T20:18:15.417Z"
   },
   {
    "duration": 1,
    "start_time": "2022-10-06T20:18:15.417Z"
   },
   {
    "duration": 0,
    "start_time": "2022-10-06T20:18:15.424Z"
   },
   {
    "duration": 0,
    "start_time": "2022-10-06T20:18:15.425Z"
   },
   {
    "duration": 0,
    "start_time": "2022-10-06T20:18:15.425Z"
   },
   {
    "duration": 0,
    "start_time": "2022-10-06T20:18:15.426Z"
   },
   {
    "duration": 0,
    "start_time": "2022-10-06T20:18:15.426Z"
   },
   {
    "duration": 0,
    "start_time": "2022-10-06T20:18:15.432Z"
   },
   {
    "duration": 0,
    "start_time": "2022-10-06T20:18:15.433Z"
   },
   {
    "duration": 0,
    "start_time": "2022-10-06T20:18:15.434Z"
   },
   {
    "duration": 0,
    "start_time": "2022-10-06T20:18:15.435Z"
   },
   {
    "duration": 0,
    "start_time": "2022-10-06T20:18:15.436Z"
   },
   {
    "duration": 0,
    "start_time": "2022-10-06T20:18:15.437Z"
   },
   {
    "duration": 0,
    "start_time": "2022-10-06T20:18:15.438Z"
   },
   {
    "duration": 0,
    "start_time": "2022-10-06T20:18:15.439Z"
   },
   {
    "duration": 0,
    "start_time": "2022-10-06T20:18:15.440Z"
   },
   {
    "duration": 0,
    "start_time": "2022-10-06T20:18:15.441Z"
   },
   {
    "duration": 0,
    "start_time": "2022-10-06T20:18:15.442Z"
   },
   {
    "duration": 0,
    "start_time": "2022-10-06T20:18:15.443Z"
   },
   {
    "duration": 0,
    "start_time": "2022-10-06T20:18:15.444Z"
   },
   {
    "duration": 0,
    "start_time": "2022-10-06T20:18:15.445Z"
   },
   {
    "duration": 0,
    "start_time": "2022-10-06T20:18:15.446Z"
   },
   {
    "duration": 0,
    "start_time": "2022-10-06T20:18:15.447Z"
   },
   {
    "duration": 0,
    "start_time": "2022-10-06T20:18:15.448Z"
   },
   {
    "duration": 0,
    "start_time": "2022-10-06T20:18:15.449Z"
   },
   {
    "duration": 0,
    "start_time": "2022-10-06T20:18:15.450Z"
   },
   {
    "duration": 0,
    "start_time": "2022-10-06T20:18:15.452Z"
   },
   {
    "duration": 0,
    "start_time": "2022-10-06T20:18:15.452Z"
   },
   {
    "duration": 0,
    "start_time": "2022-10-06T20:18:15.454Z"
   },
   {
    "duration": 0,
    "start_time": "2022-10-06T20:18:15.455Z"
   },
   {
    "duration": 0,
    "start_time": "2022-10-06T20:18:15.523Z"
   },
   {
    "duration": 0,
    "start_time": "2022-10-06T20:18:15.524Z"
   },
   {
    "duration": 0,
    "start_time": "2022-10-06T20:18:15.525Z"
   },
   {
    "duration": 0,
    "start_time": "2022-10-06T20:18:15.526Z"
   },
   {
    "duration": 0,
    "start_time": "2022-10-06T20:18:15.528Z"
   },
   {
    "duration": 0,
    "start_time": "2022-10-06T20:18:15.529Z"
   },
   {
    "duration": 0,
    "start_time": "2022-10-06T20:18:15.530Z"
   },
   {
    "duration": 0,
    "start_time": "2022-10-06T20:18:15.531Z"
   },
   {
    "duration": 0,
    "start_time": "2022-10-06T20:18:15.532Z"
   },
   {
    "duration": 0,
    "start_time": "2022-10-06T20:18:15.533Z"
   },
   {
    "duration": 0,
    "start_time": "2022-10-06T20:18:15.534Z"
   },
   {
    "duration": 0,
    "start_time": "2022-10-06T20:18:15.535Z"
   },
   {
    "duration": 0,
    "start_time": "2022-10-06T20:18:15.536Z"
   },
   {
    "duration": 0,
    "start_time": "2022-10-06T20:18:15.538Z"
   },
   {
    "duration": 0,
    "start_time": "2022-10-06T20:18:15.539Z"
   },
   {
    "duration": 0,
    "start_time": "2022-10-06T20:18:15.540Z"
   },
   {
    "duration": 0,
    "start_time": "2022-10-06T20:18:15.541Z"
   },
   {
    "duration": 0,
    "start_time": "2022-10-06T20:18:15.542Z"
   },
   {
    "duration": 0,
    "start_time": "2022-10-06T20:18:15.543Z"
   },
   {
    "duration": 0,
    "start_time": "2022-10-06T20:18:15.544Z"
   },
   {
    "duration": 0,
    "start_time": "2022-10-06T20:18:15.545Z"
   },
   {
    "duration": 0,
    "start_time": "2022-10-06T20:18:15.546Z"
   },
   {
    "duration": 0,
    "start_time": "2022-10-06T20:18:15.547Z"
   },
   {
    "duration": 0,
    "start_time": "2022-10-06T20:18:15.548Z"
   },
   {
    "duration": 0,
    "start_time": "2022-10-06T20:18:15.549Z"
   },
   {
    "duration": 0,
    "start_time": "2022-10-06T20:18:15.550Z"
   },
   {
    "duration": 0,
    "start_time": "2022-10-06T20:18:15.552Z"
   },
   {
    "duration": 0,
    "start_time": "2022-10-06T20:18:15.553Z"
   },
   {
    "duration": 0,
    "start_time": "2022-10-06T20:18:15.554Z"
   },
   {
    "duration": 0,
    "start_time": "2022-10-06T20:18:15.555Z"
   },
   {
    "duration": 0,
    "start_time": "2022-10-06T20:18:15.613Z"
   },
   {
    "duration": 0,
    "start_time": "2022-10-06T20:18:15.614Z"
   },
   {
    "duration": 0,
    "start_time": "2022-10-06T20:18:15.623Z"
   },
   {
    "duration": 0,
    "start_time": "2022-10-06T20:18:15.624Z"
   },
   {
    "duration": 0,
    "start_time": "2022-10-06T20:18:15.624Z"
   },
   {
    "duration": 0,
    "start_time": "2022-10-06T20:18:15.625Z"
   },
   {
    "duration": 0,
    "start_time": "2022-10-06T20:18:15.625Z"
   },
   {
    "duration": 0,
    "start_time": "2022-10-06T20:18:15.626Z"
   },
   {
    "duration": 0,
    "start_time": "2022-10-06T20:18:15.627Z"
   },
   {
    "duration": 0,
    "start_time": "2022-10-06T20:18:15.629Z"
   },
   {
    "duration": 0,
    "start_time": "2022-10-06T20:18:15.630Z"
   },
   {
    "duration": 0,
    "start_time": "2022-10-06T20:18:15.632Z"
   },
   {
    "duration": 0,
    "start_time": "2022-10-06T20:18:15.633Z"
   },
   {
    "duration": 0,
    "start_time": "2022-10-06T20:18:15.634Z"
   },
   {
    "duration": 0,
    "start_time": "2022-10-06T20:18:15.635Z"
   },
   {
    "duration": 0,
    "start_time": "2022-10-06T20:18:15.636Z"
   },
   {
    "duration": 0,
    "start_time": "2022-10-06T20:18:15.638Z"
   },
   {
    "duration": 0,
    "start_time": "2022-10-06T20:18:15.639Z"
   },
   {
    "duration": 0,
    "start_time": "2022-10-06T20:18:15.640Z"
   },
   {
    "duration": 0,
    "start_time": "2022-10-06T20:18:15.641Z"
   },
   {
    "duration": 0,
    "start_time": "2022-10-06T20:18:15.642Z"
   },
   {
    "duration": 0,
    "start_time": "2022-10-06T20:18:15.644Z"
   },
   {
    "duration": 0,
    "start_time": "2022-10-06T20:18:15.644Z"
   },
   {
    "duration": 0,
    "start_time": "2022-10-06T20:18:15.645Z"
   },
   {
    "duration": 0,
    "start_time": "2022-10-06T20:18:15.646Z"
   },
   {
    "duration": 0,
    "start_time": "2022-10-06T20:18:15.648Z"
   },
   {
    "duration": 0,
    "start_time": "2022-10-06T20:18:15.648Z"
   },
   {
    "duration": 0,
    "start_time": "2022-10-06T20:18:15.649Z"
   },
   {
    "duration": 0,
    "start_time": "2022-10-06T20:18:15.650Z"
   },
   {
    "duration": 0,
    "start_time": "2022-10-06T20:18:15.651Z"
   },
   {
    "duration": 608,
    "start_time": "2022-10-06T20:19:41.674Z"
   },
   {
    "duration": 356,
    "start_time": "2022-10-06T20:19:42.286Z"
   },
   {
    "duration": 3,
    "start_time": "2022-10-06T20:19:42.644Z"
   },
   {
    "duration": 25,
    "start_time": "2022-10-06T20:19:42.649Z"
   },
   {
    "duration": 15,
    "start_time": "2022-10-06T20:19:42.675Z"
   },
   {
    "duration": 1831,
    "start_time": "2022-10-06T20:19:42.692Z"
   },
   {
    "duration": 6,
    "start_time": "2022-10-06T20:19:44.525Z"
   },
   {
    "duration": 9,
    "start_time": "2022-10-06T20:19:44.533Z"
   },
   {
    "duration": 15,
    "start_time": "2022-10-06T20:19:44.544Z"
   },
   {
    "duration": 5,
    "start_time": "2022-10-06T20:19:44.563Z"
   },
   {
    "duration": 10,
    "start_time": "2022-10-06T20:19:44.569Z"
   },
   {
    "duration": 6,
    "start_time": "2022-10-06T20:19:44.582Z"
   },
   {
    "duration": 34,
    "start_time": "2022-10-06T20:19:44.590Z"
   },
   {
    "duration": 15,
    "start_time": "2022-10-06T20:19:44.626Z"
   },
   {
    "duration": 14,
    "start_time": "2022-10-06T20:19:44.642Z"
   },
   {
    "duration": 6,
    "start_time": "2022-10-06T20:19:44.658Z"
   },
   {
    "duration": 14,
    "start_time": "2022-10-06T20:19:44.666Z"
   },
   {
    "duration": 15,
    "start_time": "2022-10-06T20:19:44.682Z"
   },
   {
    "duration": 16,
    "start_time": "2022-10-06T20:19:44.699Z"
   },
   {
    "duration": 25,
    "start_time": "2022-10-06T20:19:44.723Z"
   },
   {
    "duration": 7,
    "start_time": "2022-10-06T20:19:44.750Z"
   },
   {
    "duration": 14,
    "start_time": "2022-10-06T20:19:44.759Z"
   },
   {
    "duration": 4,
    "start_time": "2022-10-06T20:19:44.774Z"
   },
   {
    "duration": 8,
    "start_time": "2022-10-06T20:19:44.780Z"
   },
   {
    "duration": 7,
    "start_time": "2022-10-06T20:19:44.790Z"
   },
   {
    "duration": 4,
    "start_time": "2022-10-06T20:19:44.798Z"
   },
   {
    "duration": 21,
    "start_time": "2022-10-06T20:19:44.804Z"
   },
   {
    "duration": 5,
    "start_time": "2022-10-06T20:19:44.830Z"
   },
   {
    "duration": 3,
    "start_time": "2022-10-06T20:19:44.836Z"
   },
   {
    "duration": 4,
    "start_time": "2022-10-06T20:19:44.841Z"
   },
   {
    "duration": 10,
    "start_time": "2022-10-06T20:19:44.847Z"
   },
   {
    "duration": 6,
    "start_time": "2022-10-06T20:19:44.858Z"
   },
   {
    "duration": 6,
    "start_time": "2022-10-06T20:19:44.866Z"
   },
   {
    "duration": 8,
    "start_time": "2022-10-06T20:19:44.873Z"
   },
   {
    "duration": 37,
    "start_time": "2022-10-06T20:19:44.882Z"
   },
   {
    "duration": 12,
    "start_time": "2022-10-06T20:19:44.921Z"
   },
   {
    "duration": 7,
    "start_time": "2022-10-06T20:19:44.934Z"
   },
   {
    "duration": 14,
    "start_time": "2022-10-06T20:19:44.942Z"
   },
   {
    "duration": 6,
    "start_time": "2022-10-06T20:19:44.958Z"
   },
   {
    "duration": 5,
    "start_time": "2022-10-06T20:19:44.965Z"
   },
   {
    "duration": 10,
    "start_time": "2022-10-06T20:19:44.971Z"
   },
   {
    "duration": 40,
    "start_time": "2022-10-06T20:19:44.983Z"
   },
   {
    "duration": 6,
    "start_time": "2022-10-06T20:19:45.025Z"
   },
   {
    "duration": 8,
    "start_time": "2022-10-06T20:19:45.032Z"
   },
   {
    "duration": 7,
    "start_time": "2022-10-06T20:19:45.041Z"
   },
   {
    "duration": 7,
    "start_time": "2022-10-06T20:19:45.050Z"
   },
   {
    "duration": 6,
    "start_time": "2022-10-06T20:19:45.058Z"
   },
   {
    "duration": 6,
    "start_time": "2022-10-06T20:19:45.066Z"
   },
   {
    "duration": 4,
    "start_time": "2022-10-06T20:19:45.074Z"
   },
   {
    "duration": 40,
    "start_time": "2022-10-06T20:19:45.079Z"
   },
   {
    "duration": 19,
    "start_time": "2022-10-06T20:19:45.120Z"
   },
   {
    "duration": 4,
    "start_time": "2022-10-06T20:19:45.141Z"
   },
   {
    "duration": 7,
    "start_time": "2022-10-06T20:19:45.146Z"
   },
   {
    "duration": 11,
    "start_time": "2022-10-06T20:19:45.154Z"
   },
   {
    "duration": 6,
    "start_time": "2022-10-06T20:19:45.166Z"
   },
   {
    "duration": 5,
    "start_time": "2022-10-06T20:19:45.173Z"
   },
   {
    "duration": 4,
    "start_time": "2022-10-06T20:19:45.180Z"
   },
   {
    "duration": 29,
    "start_time": "2022-10-06T20:19:45.186Z"
   },
   {
    "duration": 18,
    "start_time": "2022-10-06T20:19:45.216Z"
   },
   {
    "duration": 7,
    "start_time": "2022-10-06T20:19:45.236Z"
   },
   {
    "duration": 3,
    "start_time": "2022-10-06T20:19:45.244Z"
   },
   {
    "duration": 9,
    "start_time": "2022-10-06T20:19:45.249Z"
   },
   {
    "duration": 7,
    "start_time": "2022-10-06T20:19:45.259Z"
   },
   {
    "duration": 15,
    "start_time": "2022-10-06T20:19:45.267Z"
   },
   {
    "duration": 8,
    "start_time": "2022-10-06T20:19:45.283Z"
   },
   {
    "duration": 28,
    "start_time": "2022-10-06T20:19:45.292Z"
   },
   {
    "duration": 6,
    "start_time": "2022-10-06T20:19:45.324Z"
   },
   {
    "duration": 3,
    "start_time": "2022-10-06T20:19:45.332Z"
   },
   {
    "duration": 5,
    "start_time": "2022-10-06T20:19:45.336Z"
   },
   {
    "duration": 4,
    "start_time": "2022-10-06T20:19:45.343Z"
   },
   {
    "duration": 6,
    "start_time": "2022-10-06T20:19:45.348Z"
   },
   {
    "duration": 4,
    "start_time": "2022-10-06T20:19:45.355Z"
   },
   {
    "duration": 5,
    "start_time": "2022-10-06T20:19:45.361Z"
   },
   {
    "duration": 3,
    "start_time": "2022-10-06T20:19:45.367Z"
   },
   {
    "duration": 354,
    "start_time": "2022-10-06T20:19:45.372Z"
   },
   {
    "duration": 3,
    "start_time": "2022-10-06T20:19:45.728Z"
   },
   {
    "duration": 4,
    "start_time": "2022-10-06T20:19:45.733Z"
   },
   {
    "duration": 9,
    "start_time": "2022-10-06T20:19:45.739Z"
   },
   {
    "duration": 280,
    "start_time": "2022-10-06T20:19:45.750Z"
   },
   {
    "duration": 324,
    "start_time": "2022-10-06T20:19:46.032Z"
   },
   {
    "duration": 193,
    "start_time": "2022-10-06T20:19:46.358Z"
   },
   {
    "duration": 275,
    "start_time": "2022-10-06T20:19:46.556Z"
   },
   {
    "duration": 213,
    "start_time": "2022-10-06T20:19:46.832Z"
   },
   {
    "duration": 285,
    "start_time": "2022-10-06T20:19:47.047Z"
   },
   {
    "duration": 246,
    "start_time": "2022-10-06T20:19:47.334Z"
   },
   {
    "duration": 305,
    "start_time": "2022-10-06T20:19:47.581Z"
   },
   {
    "duration": 256,
    "start_time": "2022-10-06T20:19:47.888Z"
   },
   {
    "duration": 177,
    "start_time": "2022-10-06T20:19:48.145Z"
   },
   {
    "duration": 205,
    "start_time": "2022-10-06T20:19:48.326Z"
   },
   {
    "duration": 170,
    "start_time": "2022-10-06T20:19:48.532Z"
   },
   {
    "duration": 161,
    "start_time": "2022-10-06T20:19:48.709Z"
   },
   {
    "duration": 170,
    "start_time": "2022-10-06T20:19:48.871Z"
   },
   {
    "duration": 3,
    "start_time": "2022-10-06T20:19:49.043Z"
   },
   {
    "duration": 12,
    "start_time": "2022-10-06T20:19:49.047Z"
   },
   {
    "duration": 8,
    "start_time": "2022-10-06T20:19:49.061Z"
   },
   {
    "duration": 202,
    "start_time": "2022-10-06T20:19:49.071Z"
   },
   {
    "duration": 216,
    "start_time": "2022-10-06T20:19:49.274Z"
   },
   {
    "duration": 161,
    "start_time": "2022-10-06T20:19:49.491Z"
   },
   {
    "duration": 143,
    "start_time": "2022-10-06T20:19:49.654Z"
   },
   {
    "duration": 156,
    "start_time": "2022-10-06T20:19:49.798Z"
   },
   {
    "duration": 139,
    "start_time": "2022-10-06T20:19:49.956Z"
   },
   {
    "duration": 170,
    "start_time": "2022-10-06T20:19:50.097Z"
   },
   {
    "duration": 160,
    "start_time": "2022-10-06T20:19:50.268Z"
   },
   {
    "duration": 150,
    "start_time": "2022-10-06T20:19:50.429Z"
   },
   {
    "duration": 11,
    "start_time": "2022-10-06T20:19:50.580Z"
   },
   {
    "duration": 31,
    "start_time": "2022-10-06T20:19:50.592Z"
   },
   {
    "duration": 16,
    "start_time": "2022-10-06T20:19:50.625Z"
   },
   {
    "duration": 28,
    "start_time": "2022-10-06T20:19:50.642Z"
   },
   {
    "duration": 18,
    "start_time": "2022-10-06T20:19:50.671Z"
   },
   {
    "duration": 25,
    "start_time": "2022-10-06T20:19:50.690Z"
   },
   {
    "duration": 25,
    "start_time": "2022-10-06T20:19:50.716Z"
   },
   {
    "duration": 16,
    "start_time": "2022-10-06T20:19:50.742Z"
   },
   {
    "duration": 165,
    "start_time": "2022-10-06T20:19:50.759Z"
   },
   {
    "duration": 6,
    "start_time": "2022-10-06T20:19:50.925Z"
   },
   {
    "duration": 203,
    "start_time": "2022-10-06T20:19:50.933Z"
   },
   {
    "duration": 5,
    "start_time": "2022-10-06T20:19:51.137Z"
   },
   {
    "duration": 686,
    "start_time": "2022-10-06T20:19:58.101Z"
   },
   {
    "duration": 99,
    "start_time": "2022-10-06T20:19:58.788Z"
   },
   {
    "duration": 4,
    "start_time": "2022-10-06T20:19:58.888Z"
   },
   {
    "duration": 35,
    "start_time": "2022-10-06T20:19:58.894Z"
   },
   {
    "duration": 21,
    "start_time": "2022-10-06T20:19:58.931Z"
   },
   {
    "duration": 1830,
    "start_time": "2022-10-06T20:19:58.954Z"
   },
   {
    "duration": 4,
    "start_time": "2022-10-06T20:20:00.786Z"
   },
   {
    "duration": 27,
    "start_time": "2022-10-06T20:20:00.792Z"
   },
   {
    "duration": 21,
    "start_time": "2022-10-06T20:20:00.821Z"
   },
   {
    "duration": 4,
    "start_time": "2022-10-06T20:20:00.845Z"
   },
   {
    "duration": 19,
    "start_time": "2022-10-06T20:20:00.850Z"
   },
   {
    "duration": 9,
    "start_time": "2022-10-06T20:20:00.870Z"
   },
   {
    "duration": 26,
    "start_time": "2022-10-06T20:20:00.880Z"
   },
   {
    "duration": 41,
    "start_time": "2022-10-06T20:20:00.908Z"
   },
   {
    "duration": 14,
    "start_time": "2022-10-06T20:20:00.950Z"
   },
   {
    "duration": 13,
    "start_time": "2022-10-06T20:20:00.966Z"
   },
   {
    "duration": 9,
    "start_time": "2022-10-06T20:20:00.980Z"
   },
   {
    "duration": 32,
    "start_time": "2022-10-06T20:20:00.990Z"
   },
   {
    "duration": 24,
    "start_time": "2022-10-06T20:20:01.024Z"
   },
   {
    "duration": 14,
    "start_time": "2022-10-06T20:20:01.050Z"
   },
   {
    "duration": 19,
    "start_time": "2022-10-06T20:20:01.066Z"
   },
   {
    "duration": 53,
    "start_time": "2022-10-06T20:20:01.086Z"
   },
   {
    "duration": 13,
    "start_time": "2022-10-06T20:20:01.140Z"
   },
   {
    "duration": 23,
    "start_time": "2022-10-06T20:20:01.155Z"
   },
   {
    "duration": 24,
    "start_time": "2022-10-06T20:20:01.180Z"
   },
   {
    "duration": 29,
    "start_time": "2022-10-06T20:20:01.205Z"
   },
   {
    "duration": 21,
    "start_time": "2022-10-06T20:20:01.235Z"
   },
   {
    "duration": 25,
    "start_time": "2022-10-06T20:20:01.262Z"
   },
   {
    "duration": 18,
    "start_time": "2022-10-06T20:20:01.288Z"
   },
   {
    "duration": 25,
    "start_time": "2022-10-06T20:20:01.308Z"
   },
   {
    "duration": 19,
    "start_time": "2022-10-06T20:20:01.335Z"
   },
   {
    "duration": 17,
    "start_time": "2022-10-06T20:20:01.356Z"
   },
   {
    "duration": 22,
    "start_time": "2022-10-06T20:20:01.374Z"
   },
   {
    "duration": 28,
    "start_time": "2022-10-06T20:20:01.397Z"
   },
   {
    "duration": 29,
    "start_time": "2022-10-06T20:20:01.426Z"
   },
   {
    "duration": 18,
    "start_time": "2022-10-06T20:20:01.457Z"
   },
   {
    "duration": 26,
    "start_time": "2022-10-06T20:20:01.477Z"
   },
   {
    "duration": 39,
    "start_time": "2022-10-06T20:20:01.504Z"
   },
   {
    "duration": 32,
    "start_time": "2022-10-06T20:20:01.544Z"
   },
   {
    "duration": 12,
    "start_time": "2022-10-06T20:20:01.578Z"
   },
   {
    "duration": 40,
    "start_time": "2022-10-06T20:20:01.592Z"
   },
   {
    "duration": 11,
    "start_time": "2022-10-06T20:20:01.634Z"
   },
   {
    "duration": 6,
    "start_time": "2022-10-06T20:20:01.647Z"
   },
   {
    "duration": 11,
    "start_time": "2022-10-06T20:20:01.654Z"
   },
   {
    "duration": 7,
    "start_time": "2022-10-06T20:20:01.666Z"
   },
   {
    "duration": 11,
    "start_time": "2022-10-06T20:20:01.674Z"
   },
   {
    "duration": 17,
    "start_time": "2022-10-06T20:20:01.687Z"
   },
   {
    "duration": 32,
    "start_time": "2022-10-06T20:20:01.706Z"
   },
   {
    "duration": 11,
    "start_time": "2022-10-06T20:20:01.740Z"
   },
   {
    "duration": 12,
    "start_time": "2022-10-06T20:20:01.753Z"
   },
   {
    "duration": 16,
    "start_time": "2022-10-06T20:20:01.767Z"
   },
   {
    "duration": 7,
    "start_time": "2022-10-06T20:20:01.785Z"
   },
   {
    "duration": 13,
    "start_time": "2022-10-06T20:20:01.793Z"
   },
   {
    "duration": 35,
    "start_time": "2022-10-06T20:20:01.807Z"
   },
   {
    "duration": 8,
    "start_time": "2022-10-06T20:20:01.843Z"
   },
   {
    "duration": 10,
    "start_time": "2022-10-06T20:20:01.853Z"
   },
   {
    "duration": 6,
    "start_time": "2022-10-06T20:20:01.864Z"
   },
   {
    "duration": 23,
    "start_time": "2022-10-06T20:20:01.872Z"
   },
   {
    "duration": 31,
    "start_time": "2022-10-06T20:20:01.896Z"
   },
   {
    "duration": 23,
    "start_time": "2022-10-06T20:20:01.929Z"
   },
   {
    "duration": 12,
    "start_time": "2022-10-06T20:20:01.955Z"
   },
   {
    "duration": 33,
    "start_time": "2022-10-06T20:20:01.969Z"
   },
   {
    "duration": 21,
    "start_time": "2022-10-06T20:20:02.004Z"
   },
   {
    "duration": 18,
    "start_time": "2022-10-06T20:20:02.029Z"
   },
   {
    "duration": 38,
    "start_time": "2022-10-06T20:20:02.049Z"
   },
   {
    "duration": 40,
    "start_time": "2022-10-06T20:20:02.089Z"
   },
   {
    "duration": 25,
    "start_time": "2022-10-06T20:20:02.131Z"
   },
   {
    "duration": 45,
    "start_time": "2022-10-06T20:20:02.157Z"
   },
   {
    "duration": 23,
    "start_time": "2022-10-06T20:20:02.204Z"
   },
   {
    "duration": 26,
    "start_time": "2022-10-06T20:20:02.228Z"
   },
   {
    "duration": 45,
    "start_time": "2022-10-06T20:20:02.255Z"
   },
   {
    "duration": 76,
    "start_time": "2022-10-06T20:20:02.302Z"
   },
   {
    "duration": 18,
    "start_time": "2022-10-06T20:20:02.379Z"
   },
   {
    "duration": 13,
    "start_time": "2022-10-06T20:20:02.398Z"
   },
   {
    "duration": 326,
    "start_time": "2022-10-06T20:20:02.420Z"
   },
   {
    "duration": 5,
    "start_time": "2022-10-06T20:20:02.748Z"
   },
   {
    "duration": 5,
    "start_time": "2022-10-06T20:20:02.755Z"
   },
   {
    "duration": 27,
    "start_time": "2022-10-06T20:20:02.761Z"
   },
   {
    "duration": 242,
    "start_time": "2022-10-06T20:20:02.790Z"
   },
   {
    "duration": 310,
    "start_time": "2022-10-06T20:20:03.033Z"
   },
   {
    "duration": 187,
    "start_time": "2022-10-06T20:20:03.345Z"
   },
   {
    "duration": 252,
    "start_time": "2022-10-06T20:20:03.537Z"
   },
   {
    "duration": 237,
    "start_time": "2022-10-06T20:20:03.790Z"
   },
   {
    "duration": 248,
    "start_time": "2022-10-06T20:20:04.028Z"
   },
   {
    "duration": 293,
    "start_time": "2022-10-06T20:20:04.277Z"
   },
   {
    "duration": 353,
    "start_time": "2022-10-06T20:20:04.572Z"
   },
   {
    "duration": 239,
    "start_time": "2022-10-06T20:20:04.927Z"
   },
   {
    "duration": 186,
    "start_time": "2022-10-06T20:20:05.167Z"
   },
   {
    "duration": 200,
    "start_time": "2022-10-06T20:20:05.356Z"
   },
   {
    "duration": 182,
    "start_time": "2022-10-06T20:20:05.558Z"
   },
   {
    "duration": 153,
    "start_time": "2022-10-06T20:20:05.742Z"
   },
   {
    "duration": 182,
    "start_time": "2022-10-06T20:20:05.896Z"
   },
   {
    "duration": 3,
    "start_time": "2022-10-06T20:20:06.079Z"
   },
   {
    "duration": 10,
    "start_time": "2022-10-06T20:20:06.083Z"
   },
   {
    "duration": 24,
    "start_time": "2022-10-06T20:20:06.095Z"
   },
   {
    "duration": 166,
    "start_time": "2022-10-06T20:20:06.120Z"
   },
   {
    "duration": 211,
    "start_time": "2022-10-06T20:20:06.288Z"
   },
   {
    "duration": 180,
    "start_time": "2022-10-06T20:20:06.500Z"
   },
   {
    "duration": 155,
    "start_time": "2022-10-06T20:20:06.682Z"
   },
   {
    "duration": 150,
    "start_time": "2022-10-06T20:20:06.839Z"
   },
   {
    "duration": 136,
    "start_time": "2022-10-06T20:20:06.990Z"
   },
   {
    "duration": 163,
    "start_time": "2022-10-06T20:20:07.129Z"
   },
   {
    "duration": 157,
    "start_time": "2022-10-06T20:20:07.294Z"
   },
   {
    "duration": 150,
    "start_time": "2022-10-06T20:20:07.452Z"
   },
   {
    "duration": 21,
    "start_time": "2022-10-06T20:20:07.603Z"
   },
   {
    "duration": 16,
    "start_time": "2022-10-06T20:20:07.625Z"
   },
   {
    "duration": 4,
    "start_time": "2022-10-06T20:20:07.643Z"
   },
   {
    "duration": 3,
    "start_time": "2022-10-06T20:20:07.649Z"
   },
   {
    "duration": 5,
    "start_time": "2022-10-06T20:20:07.654Z"
   },
   {
    "duration": 12,
    "start_time": "2022-10-06T20:20:07.660Z"
   },
   {
    "duration": 9,
    "start_time": "2022-10-06T20:20:07.673Z"
   },
   {
    "duration": 5,
    "start_time": "2022-10-06T20:20:07.683Z"
   },
   {
    "duration": 178,
    "start_time": "2022-10-06T20:20:07.689Z"
   },
   {
    "duration": 5,
    "start_time": "2022-10-06T20:20:07.869Z"
   },
   {
    "duration": 208,
    "start_time": "2022-10-06T20:20:07.875Z"
   },
   {
    "duration": 5,
    "start_time": "2022-10-06T20:20:08.085Z"
   }
  ],
  "kernelspec": {
   "display_name": "Python 3 (ipykernel)",
   "language": "python",
   "name": "python3"
  },
  "language_info": {
   "codemirror_mode": {
    "name": "ipython",
    "version": 3
   },
   "file_extension": ".py",
   "mimetype": "text/x-python",
   "name": "python",
   "nbconvert_exporter": "python",
   "pygments_lexer": "ipython3",
   "version": "3.11.4"
  },
  "toc": {
   "base_numbering": 1,
   "nav_menu": {},
   "number_sections": false,
   "sideBar": true,
   "skip_h1_title": false,
   "title_cell": "Table of Contents",
   "title_sidebar": "Contents",
   "toc_cell": false,
   "toc_position": {
    "height": "calc(100% - 180px)",
    "left": "10px",
    "top": "150px",
    "width": "191.594px"
   },
   "toc_section_display": true,
   "toc_window_display": false
  }
 },
 "nbformat": 4,
 "nbformat_minor": 2
}
