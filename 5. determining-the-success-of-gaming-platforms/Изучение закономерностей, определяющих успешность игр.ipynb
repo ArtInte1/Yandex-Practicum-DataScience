{
 "cells": [
  {
   "cell_type": "markdown",
   "id": "968791b2",
   "metadata": {},
   "source": [
    "<h1><center>АНАЛИЗ РЫНКА И ПРОГНОЗИРОВАНИЕ ПРОДАЖ КОМПЬЮТЕРНЫХ ИГР ДЛЯ ИНТЕРНЕТ-МАГАЗИНА \"СТРИМЧИК\"</center></h1>"
   ]
  },
  {
   "cell_type": "markdown",
   "id": "d867fc05",
   "metadata": {},
   "source": [
    "Интернет-магазине «Стримчик», который продаёт по всему миру компьютерные игры, требуется выявить определяющие успешность игры закономерности. Из открытых источников доступны исторические данные о продажах игр, оценки пользователей и экспертов, жанры и платформы (например, Xbox или PlayStation).  Это позволит сделать ставку на потенциально популярный продукт и спланировать рекламные кампании. Для исследования доступны данные до 2016 года. Представим, что сейчас декабрь 2016 г., и вы планируете кампанию на 2017-й.\n",
    "\n",
    "**ESRB*** (Entertainment Software Rating Board) — это ассоциация, определяющая возрастной рейтинг компьютерных игр. ESRB оценивает игровой контент и присваивает ему подходящую возрастную категорию, например, «Для взрослых», «Для детей младшего возраста» или «Для подростков».\n",
    "\n",
    "**Целью работы** является изучение датасета содержащего информацию о продаваемых в интернет-магазине компьютерных играх с целью выявления закономерностей успешности и составления рекламной кампании на 2017 год.\n",
    "\n",
    "Для достижения цели поставлены следующие **задачи**:\n",
    "\n",
    "\n",
    "**1. [Изучение общей инфорации](#Обзор-данных)**\n",
    "\n",
    "**2. [Предобработка данных](#Предобработка-данных)**\n",
    "\n",
    "**3. [Проведение исследовательского анализа данных](#Исследовательский-анализ-данных)**\n",
    "\n",
    "   * Построение распределения общих продаж по датам\n",
    "   * Определение срока существования игровых платформ\n",
    "   * Определение актуального периода\n",
    "   * Определение платформ лидирующих по продажам\n",
    "   * Построение диаграммы размаха глобальных продаж в зависимости от платформы\n",
    "   * Определение корреляции между продажами и оценками пользователей и критиков для наиболее популярной платформы\n",
    "   * Построение распределеня игр по жанрам, выявление прибыльных жанров\n",
    "    \n",
    "    \n",
    "**4. [Составление портрета пользователя для каждого региона](#Портрет-пользователя-в-регионе)**\n",
    "\n",
    "   * Самые популярные платформы (топ-5)\n",
    "   * Самые популярные жанры (топ-5)\n",
    "   * Влияние рейтинга ESRB на продажи в отдельном регионе\n",
    "\n",
    "**5. [Проверка гипотез](#Проверка-гипотез)** \n",
    "\n",
    "* Средние пользовательские рейтинги платформ Xbox One и PC одинаковые;\n",
    "* Средние пользовательские рейтинги жанров Action (англ. «действие», экшен-игры) и Sports (англ. «спортивные соревнования») разные.\n",
    "\n",
    "**6. [Общий вывод](#Общий-вывод)**\n",
    "\n",
    "**Описание данных** \n",
    "\n",
    "* Name — название игры\n",
    "* Platform — платформа\n",
    "* Year_of_Release — год выпуска\n",
    "* Genre — жанр игры\n",
    "* NA_sales — продажи в Северной Америке (миллионы проданных копий)\n",
    "* EU_sales — продажи в Европе (миллионы проданных копий)\n",
    "* JP_sales — продажи в Японии (миллионы проданных копий)\n",
    "* Other_sales — продажи в других странах (миллионы проданных копий)\n",
    "* Critic_Score — оценка критиков (максимум 100)\n",
    "* User_Score — оценка пользователей (максимум 10)\n",
    "* Rating — рейтинг от организации ESRB (англ. Entertainment Software Rating Board). Эта ассоциация определяет рейтинг компьютерных игр и присваивает им подходящую возрастную категорию.\n",
    "\n",
    "Данные за 2016 год могут быть неполными."
   ]
  },
  {
   "cell_type": "markdown",
   "id": "643fdf43",
   "metadata": {},
   "source": [
    "## Обзор данных"
   ]
  },
  {
   "cell_type": "code",
   "execution_count": 1,
   "id": "4c8588d0",
   "metadata": {},
   "outputs": [],
   "source": [
    "import pandas as pd\n",
    "import matplotlib.pyplot as plt\n",
    "import numpy as np\n",
    "import seaborn as sns\n",
    "from scipy import stats as st"
   ]
  },
  {
   "cell_type": "code",
   "execution_count": 2,
   "id": "2af05fe3",
   "metadata": {},
   "outputs": [],
   "source": [
    "try:\n",
    "    games = pd.read_csv(r'C:\\Users\\Jemiah\\Documents\\Jupyter_Data\\games.csv')\n",
    "except:\n",
    "    games = pd.read_csv('/datasets/games.csv')"
   ]
  },
  {
   "cell_type": "code",
   "execution_count": 3,
   "id": "41cce8d6",
   "metadata": {},
   "outputs": [
    {
     "name": "stdout",
     "output_type": "stream",
     "text": [
      "<class 'pandas.core.frame.DataFrame'>\n",
      "RangeIndex: 16715 entries, 0 to 16714\n",
      "Data columns (total 11 columns):\n",
      " #   Column           Non-Null Count  Dtype  \n",
      "---  ------           --------------  -----  \n",
      " 0   Name             16713 non-null  object \n",
      " 1   Platform         16715 non-null  object \n",
      " 2   Year_of_Release  16446 non-null  float64\n",
      " 3   Genre            16713 non-null  object \n",
      " 4   NA_sales         16715 non-null  float64\n",
      " 5   EU_sales         16715 non-null  float64\n",
      " 6   JP_sales         16715 non-null  float64\n",
      " 7   Other_sales      16715 non-null  float64\n",
      " 8   Critic_Score     8137 non-null   float64\n",
      " 9   User_Score       10014 non-null  object \n",
      " 10  Rating           9949 non-null   object \n",
      "dtypes: float64(6), object(5)\n",
      "memory usage: 1.4+ MB\n"
     ]
    }
   ],
   "source": [
    "games.info()"
   ]
  },
  {
   "cell_type": "code",
   "execution_count": 4,
   "id": "ab78dfbc",
   "metadata": {},
   "outputs": [],
   "source": [
    "# для оценки размера датафрейма\n",
    "\n",
    "start_len = games.shape[0]"
   ]
  },
  {
   "cell_type": "code",
   "execution_count": 5,
   "id": "297edf20",
   "metadata": {},
   "outputs": [
    {
     "data": {
      "text/html": [
       "<div>\n",
       "<style scoped>\n",
       "    .dataframe tbody tr th:only-of-type {\n",
       "        vertical-align: middle;\n",
       "    }\n",
       "\n",
       "    .dataframe tbody tr th {\n",
       "        vertical-align: top;\n",
       "    }\n",
       "\n",
       "    .dataframe thead th {\n",
       "        text-align: right;\n",
       "    }\n",
       "</style>\n",
       "<table border=\"1\" class=\"dataframe\">\n",
       "  <thead>\n",
       "    <tr style=\"text-align: right;\">\n",
       "      <th></th>\n",
       "      <th>Name</th>\n",
       "      <th>Platform</th>\n",
       "      <th>Year_of_Release</th>\n",
       "      <th>Genre</th>\n",
       "      <th>NA_sales</th>\n",
       "      <th>EU_sales</th>\n",
       "      <th>JP_sales</th>\n",
       "      <th>Other_sales</th>\n",
       "      <th>Critic_Score</th>\n",
       "      <th>User_Score</th>\n",
       "      <th>Rating</th>\n",
       "    </tr>\n",
       "  </thead>\n",
       "  <tbody>\n",
       "    <tr>\n",
       "      <th>0</th>\n",
       "      <td>Wii Sports</td>\n",
       "      <td>Wii</td>\n",
       "      <td>2006.0</td>\n",
       "      <td>Sports</td>\n",
       "      <td>41.36</td>\n",
       "      <td>28.96</td>\n",
       "      <td>3.77</td>\n",
       "      <td>8.45</td>\n",
       "      <td>76.0</td>\n",
       "      <td>8</td>\n",
       "      <td>E</td>\n",
       "    </tr>\n",
       "    <tr>\n",
       "      <th>1</th>\n",
       "      <td>Super Mario Bros.</td>\n",
       "      <td>NES</td>\n",
       "      <td>1985.0</td>\n",
       "      <td>Platform</td>\n",
       "      <td>29.08</td>\n",
       "      <td>3.58</td>\n",
       "      <td>6.81</td>\n",
       "      <td>0.77</td>\n",
       "      <td>NaN</td>\n",
       "      <td>NaN</td>\n",
       "      <td>NaN</td>\n",
       "    </tr>\n",
       "    <tr>\n",
       "      <th>2</th>\n",
       "      <td>Mario Kart Wii</td>\n",
       "      <td>Wii</td>\n",
       "      <td>2008.0</td>\n",
       "      <td>Racing</td>\n",
       "      <td>15.68</td>\n",
       "      <td>12.76</td>\n",
       "      <td>3.79</td>\n",
       "      <td>3.29</td>\n",
       "      <td>82.0</td>\n",
       "      <td>8.3</td>\n",
       "      <td>E</td>\n",
       "    </tr>\n",
       "    <tr>\n",
       "      <th>3</th>\n",
       "      <td>Wii Sports Resort</td>\n",
       "      <td>Wii</td>\n",
       "      <td>2009.0</td>\n",
       "      <td>Sports</td>\n",
       "      <td>15.61</td>\n",
       "      <td>10.93</td>\n",
       "      <td>3.28</td>\n",
       "      <td>2.95</td>\n",
       "      <td>80.0</td>\n",
       "      <td>8</td>\n",
       "      <td>E</td>\n",
       "    </tr>\n",
       "    <tr>\n",
       "      <th>4</th>\n",
       "      <td>Pokemon Red/Pokemon Blue</td>\n",
       "      <td>GB</td>\n",
       "      <td>1996.0</td>\n",
       "      <td>Role-Playing</td>\n",
       "      <td>11.27</td>\n",
       "      <td>8.89</td>\n",
       "      <td>10.22</td>\n",
       "      <td>1.00</td>\n",
       "      <td>NaN</td>\n",
       "      <td>NaN</td>\n",
       "      <td>NaN</td>\n",
       "    </tr>\n",
       "  </tbody>\n",
       "</table>\n",
       "</div>"
      ],
      "text/plain": [
       "                       Name Platform  Year_of_Release         Genre  NA_sales  \\\n",
       "0                Wii Sports      Wii           2006.0        Sports     41.36   \n",
       "1         Super Mario Bros.      NES           1985.0      Platform     29.08   \n",
       "2            Mario Kart Wii      Wii           2008.0        Racing     15.68   \n",
       "3         Wii Sports Resort      Wii           2009.0        Sports     15.61   \n",
       "4  Pokemon Red/Pokemon Blue       GB           1996.0  Role-Playing     11.27   \n",
       "\n",
       "   EU_sales  JP_sales  Other_sales  Critic_Score User_Score Rating  \n",
       "0     28.96      3.77         8.45          76.0          8      E  \n",
       "1      3.58      6.81         0.77           NaN        NaN    NaN  \n",
       "2     12.76      3.79         3.29          82.0        8.3      E  \n",
       "3     10.93      3.28         2.95          80.0          8      E  \n",
       "4      8.89     10.22         1.00           NaN        NaN    NaN  "
      ]
     },
     "execution_count": 5,
     "metadata": {},
     "output_type": "execute_result"
    }
   ],
   "source": [
    "games.head()"
   ]
  },
  {
   "cell_type": "markdown",
   "id": "c1395802",
   "metadata": {},
   "source": [
    "## Предобработка данных"
   ]
  },
  {
   "cell_type": "markdown",
   "id": "7d43b624",
   "metadata": {},
   "source": [
    "**Обработка пропусков и типов данных**"
   ]
  },
  {
   "cell_type": "code",
   "execution_count": 6,
   "id": "aee8447e",
   "metadata": {},
   "outputs": [],
   "source": [
    "# приведение названий столбцов к нижнему регистру\n",
    "\n",
    "games.columns = games.columns.str.lower()"
   ]
  },
  {
   "cell_type": "markdown",
   "id": "c1e58dcb",
   "metadata": {},
   "source": [
    "**NAME**"
   ]
  },
  {
   "cell_type": "code",
   "execution_count": 7,
   "id": "19224616",
   "metadata": {},
   "outputs": [],
   "source": [
    "# приведение названий к нижнему регистру для избежания ошибок приводящих к дублированию\n",
    "\n",
    "games['platform'] = games['platform'].str.lower()\n",
    "games['name'] = games['name'].str.lower()"
   ]
  },
  {
   "cell_type": "code",
   "execution_count": 8,
   "id": "4a1e493b",
   "metadata": {},
   "outputs": [],
   "source": [
    "# удаление строк не содержащих название\n",
    "\n",
    "games.dropna(subset=['name'], inplace=True)"
   ]
  },
  {
   "cell_type": "markdown",
   "id": "e5063945",
   "metadata": {},
   "source": [
    "**YEAR**"
   ]
  },
  {
   "cell_type": "code",
   "execution_count": 9,
   "id": "1c94675c",
   "metadata": {},
   "outputs": [
    {
     "data": {
      "text/html": [
       "<div>\n",
       "<style scoped>\n",
       "    .dataframe tbody tr th:only-of-type {\n",
       "        vertical-align: middle;\n",
       "    }\n",
       "\n",
       "    .dataframe tbody tr th {\n",
       "        vertical-align: top;\n",
       "    }\n",
       "\n",
       "    .dataframe thead th {\n",
       "        text-align: right;\n",
       "    }\n",
       "</style>\n",
       "<table border=\"1\" class=\"dataframe\">\n",
       "  <thead>\n",
       "    <tr style=\"text-align: right;\">\n",
       "      <th></th>\n",
       "      <th>min</th>\n",
       "      <th>max</th>\n",
       "      <th>years_of_life</th>\n",
       "    </tr>\n",
       "    <tr>\n",
       "      <th>platform</th>\n",
       "      <th></th>\n",
       "      <th></th>\n",
       "      <th></th>\n",
       "    </tr>\n",
       "  </thead>\n",
       "  <tbody>\n",
       "    <tr>\n",
       "      <th>pc</th>\n",
       "      <td>1985.0</td>\n",
       "      <td>2016.0</td>\n",
       "      <td>31.0</td>\n",
       "    </tr>\n",
       "    <tr>\n",
       "      <th>ds</th>\n",
       "      <td>1985.0</td>\n",
       "      <td>2013.0</td>\n",
       "      <td>28.0</td>\n",
       "    </tr>\n",
       "    <tr>\n",
       "      <th>gb</th>\n",
       "      <td>1988.0</td>\n",
       "      <td>2001.0</td>\n",
       "      <td>13.0</td>\n",
       "    </tr>\n",
       "    <tr>\n",
       "      <th>x360</th>\n",
       "      <td>2005.0</td>\n",
       "      <td>2016.0</td>\n",
       "      <td>11.0</td>\n",
       "    </tr>\n",
       "    <tr>\n",
       "      <th>psp</th>\n",
       "      <td>2004.0</td>\n",
       "      <td>2015.0</td>\n",
       "      <td>11.0</td>\n",
       "    </tr>\n",
       "    <tr>\n",
       "      <th>ps2</th>\n",
       "      <td>2000.0</td>\n",
       "      <td>2011.0</td>\n",
       "      <td>11.0</td>\n",
       "    </tr>\n",
       "    <tr>\n",
       "      <th>nes</th>\n",
       "      <td>1983.0</td>\n",
       "      <td>1994.0</td>\n",
       "      <td>11.0</td>\n",
       "    </tr>\n",
       "    <tr>\n",
       "      <th>dc</th>\n",
       "      <td>1998.0</td>\n",
       "      <td>2008.0</td>\n",
       "      <td>10.0</td>\n",
       "    </tr>\n",
       "    <tr>\n",
       "      <th>wii</th>\n",
       "      <td>2006.0</td>\n",
       "      <td>2016.0</td>\n",
       "      <td>10.0</td>\n",
       "    </tr>\n",
       "    <tr>\n",
       "      <th>ps3</th>\n",
       "      <td>2006.0</td>\n",
       "      <td>2016.0</td>\n",
       "      <td>10.0</td>\n",
       "    </tr>\n",
       "    <tr>\n",
       "      <th>2600</th>\n",
       "      <td>1980.0</td>\n",
       "      <td>1989.0</td>\n",
       "      <td>9.0</td>\n",
       "    </tr>\n",
       "    <tr>\n",
       "      <th>snes</th>\n",
       "      <td>1990.0</td>\n",
       "      <td>1999.0</td>\n",
       "      <td>9.0</td>\n",
       "    </tr>\n",
       "    <tr>\n",
       "      <th>ps</th>\n",
       "      <td>1994.0</td>\n",
       "      <td>2003.0</td>\n",
       "      <td>9.0</td>\n",
       "    </tr>\n",
       "    <tr>\n",
       "      <th>xb</th>\n",
       "      <td>2000.0</td>\n",
       "      <td>2008.0</td>\n",
       "      <td>8.0</td>\n",
       "    </tr>\n",
       "    <tr>\n",
       "      <th>gba</th>\n",
       "      <td>2000.0</td>\n",
       "      <td>2007.0</td>\n",
       "      <td>7.0</td>\n",
       "    </tr>\n",
       "    <tr>\n",
       "      <th>gc</th>\n",
       "      <td>2001.0</td>\n",
       "      <td>2007.0</td>\n",
       "      <td>6.0</td>\n",
       "    </tr>\n",
       "    <tr>\n",
       "      <th>n64</th>\n",
       "      <td>1996.0</td>\n",
       "      <td>2002.0</td>\n",
       "      <td>6.0</td>\n",
       "    </tr>\n",
       "    <tr>\n",
       "      <th>3ds</th>\n",
       "      <td>2011.0</td>\n",
       "      <td>2016.0</td>\n",
       "      <td>5.0</td>\n",
       "    </tr>\n",
       "    <tr>\n",
       "      <th>psv</th>\n",
       "      <td>2011.0</td>\n",
       "      <td>2016.0</td>\n",
       "      <td>5.0</td>\n",
       "    </tr>\n",
       "    <tr>\n",
       "      <th>sat</th>\n",
       "      <td>1994.0</td>\n",
       "      <td>1999.0</td>\n",
       "      <td>5.0</td>\n",
       "    </tr>\n",
       "    <tr>\n",
       "      <th>wiiu</th>\n",
       "      <td>2012.0</td>\n",
       "      <td>2016.0</td>\n",
       "      <td>4.0</td>\n",
       "    </tr>\n",
       "    <tr>\n",
       "      <th>gen</th>\n",
       "      <td>1990.0</td>\n",
       "      <td>1994.0</td>\n",
       "      <td>4.0</td>\n",
       "    </tr>\n",
       "    <tr>\n",
       "      <th>ng</th>\n",
       "      <td>1993.0</td>\n",
       "      <td>1996.0</td>\n",
       "      <td>3.0</td>\n",
       "    </tr>\n",
       "    <tr>\n",
       "      <th>xone</th>\n",
       "      <td>2013.0</td>\n",
       "      <td>2016.0</td>\n",
       "      <td>3.0</td>\n",
       "    </tr>\n",
       "    <tr>\n",
       "      <th>ps4</th>\n",
       "      <td>2013.0</td>\n",
       "      <td>2016.0</td>\n",
       "      <td>3.0</td>\n",
       "    </tr>\n",
       "    <tr>\n",
       "      <th>ws</th>\n",
       "      <td>1999.0</td>\n",
       "      <td>2001.0</td>\n",
       "      <td>2.0</td>\n",
       "    </tr>\n",
       "    <tr>\n",
       "      <th>3do</th>\n",
       "      <td>1994.0</td>\n",
       "      <td>1995.0</td>\n",
       "      <td>1.0</td>\n",
       "    </tr>\n",
       "    <tr>\n",
       "      <th>scd</th>\n",
       "      <td>1993.0</td>\n",
       "      <td>1994.0</td>\n",
       "      <td>1.0</td>\n",
       "    </tr>\n",
       "    <tr>\n",
       "      <th>tg16</th>\n",
       "      <td>1995.0</td>\n",
       "      <td>1995.0</td>\n",
       "      <td>0.0</td>\n",
       "    </tr>\n",
       "    <tr>\n",
       "      <th>pcfx</th>\n",
       "      <td>1996.0</td>\n",
       "      <td>1996.0</td>\n",
       "      <td>0.0</td>\n",
       "    </tr>\n",
       "    <tr>\n",
       "      <th>gg</th>\n",
       "      <td>1992.0</td>\n",
       "      <td>1992.0</td>\n",
       "      <td>0.0</td>\n",
       "    </tr>\n",
       "  </tbody>\n",
       "</table>\n",
       "</div>"
      ],
      "text/plain": [
       "             min     max  years_of_life\n",
       "platform                               \n",
       "pc        1985.0  2016.0           31.0\n",
       "ds        1985.0  2013.0           28.0\n",
       "gb        1988.0  2001.0           13.0\n",
       "x360      2005.0  2016.0           11.0\n",
       "psp       2004.0  2015.0           11.0\n",
       "ps2       2000.0  2011.0           11.0\n",
       "nes       1983.0  1994.0           11.0\n",
       "dc        1998.0  2008.0           10.0\n",
       "wii       2006.0  2016.0           10.0\n",
       "ps3       2006.0  2016.0           10.0\n",
       "2600      1980.0  1989.0            9.0\n",
       "snes      1990.0  1999.0            9.0\n",
       "ps        1994.0  2003.0            9.0\n",
       "xb        2000.0  2008.0            8.0\n",
       "gba       2000.0  2007.0            7.0\n",
       "gc        2001.0  2007.0            6.0\n",
       "n64       1996.0  2002.0            6.0\n",
       "3ds       2011.0  2016.0            5.0\n",
       "psv       2011.0  2016.0            5.0\n",
       "sat       1994.0  1999.0            5.0\n",
       "wiiu      2012.0  2016.0            4.0\n",
       "gen       1990.0  1994.0            4.0\n",
       "ng        1993.0  1996.0            3.0\n",
       "xone      2013.0  2016.0            3.0\n",
       "ps4       2013.0  2016.0            3.0\n",
       "ws        1999.0  2001.0            2.0\n",
       "3do       1994.0  1995.0            1.0\n",
       "scd       1993.0  1994.0            1.0\n",
       "tg16      1995.0  1995.0            0.0\n",
       "pcfx      1996.0  1996.0            0.0\n",
       "gg        1992.0  1992.0            0.0"
      ]
     },
     "execution_count": 9,
     "metadata": {},
     "output_type": "execute_result"
    }
   ],
   "source": [
    "# жизненный срок платформы\n",
    "\n",
    "years_of_life = games.pivot_table(index='platform',values='year',aggfunc=['min','max'])\n",
    "years_of_life.columns=['min','max']\n",
    "years_of_life['years_of_life']=years_of_life['max']-years_of_life['min']\n",
    "years_of_life\n",
    "\n",
    "years_of_life.sort_values(by = 'years_of_life', ascending = False)"
   ]
  },
  {
   "cell_type": "code",
   "execution_count": 10,
   "id": "3d0636bf",
   "metadata": {},
   "outputs": [
    {
     "data": {
      "text/html": [
       "<div>\n",
       "<style scoped>\n",
       "    .dataframe tbody tr th:only-of-type {\n",
       "        vertical-align: middle;\n",
       "    }\n",
       "\n",
       "    .dataframe tbody tr th {\n",
       "        vertical-align: top;\n",
       "    }\n",
       "\n",
       "    .dataframe thead th {\n",
       "        text-align: right;\n",
       "    }\n",
       "</style>\n",
       "<table border=\"1\" class=\"dataframe\">\n",
       "  <thead>\n",
       "    <tr style=\"text-align: right;\">\n",
       "      <th></th>\n",
       "      <th>min</th>\n",
       "      <th>max</th>\n",
       "      <th>years_of_life</th>\n",
       "    </tr>\n",
       "    <tr>\n",
       "      <th>platform</th>\n",
       "      <th></th>\n",
       "      <th></th>\n",
       "      <th></th>\n",
       "    </tr>\n",
       "  </thead>\n",
       "  <tbody>\n",
       "    <tr>\n",
       "      <th>pc</th>\n",
       "      <td>1985.0</td>\n",
       "      <td>2016.0</td>\n",
       "      <td>31.0</td>\n",
       "    </tr>\n",
       "    <tr>\n",
       "      <th>ds</th>\n",
       "      <td>1985.0</td>\n",
       "      <td>2013.0</td>\n",
       "      <td>28.0</td>\n",
       "    </tr>\n",
       "    <tr>\n",
       "      <th>gb</th>\n",
       "      <td>1988.0</td>\n",
       "      <td>2001.0</td>\n",
       "      <td>13.0</td>\n",
       "    </tr>\n",
       "    <tr>\n",
       "      <th>x360</th>\n",
       "      <td>2005.0</td>\n",
       "      <td>2016.0</td>\n",
       "      <td>11.0</td>\n",
       "    </tr>\n",
       "    <tr>\n",
       "      <th>psp</th>\n",
       "      <td>2004.0</td>\n",
       "      <td>2015.0</td>\n",
       "      <td>11.0</td>\n",
       "    </tr>\n",
       "    <tr>\n",
       "      <th>ps2</th>\n",
       "      <td>2000.0</td>\n",
       "      <td>2011.0</td>\n",
       "      <td>11.0</td>\n",
       "    </tr>\n",
       "    <tr>\n",
       "      <th>nes</th>\n",
       "      <td>1983.0</td>\n",
       "      <td>1994.0</td>\n",
       "      <td>11.0</td>\n",
       "    </tr>\n",
       "    <tr>\n",
       "      <th>dc</th>\n",
       "      <td>1998.0</td>\n",
       "      <td>2008.0</td>\n",
       "      <td>10.0</td>\n",
       "    </tr>\n",
       "    <tr>\n",
       "      <th>wii</th>\n",
       "      <td>2006.0</td>\n",
       "      <td>2016.0</td>\n",
       "      <td>10.0</td>\n",
       "    </tr>\n",
       "    <tr>\n",
       "      <th>ps3</th>\n",
       "      <td>2006.0</td>\n",
       "      <td>2016.0</td>\n",
       "      <td>10.0</td>\n",
       "    </tr>\n",
       "    <tr>\n",
       "      <th>2600</th>\n",
       "      <td>1980.0</td>\n",
       "      <td>1989.0</td>\n",
       "      <td>9.0</td>\n",
       "    </tr>\n",
       "    <tr>\n",
       "      <th>snes</th>\n",
       "      <td>1990.0</td>\n",
       "      <td>1999.0</td>\n",
       "      <td>9.0</td>\n",
       "    </tr>\n",
       "    <tr>\n",
       "      <th>ps</th>\n",
       "      <td>1994.0</td>\n",
       "      <td>2003.0</td>\n",
       "      <td>9.0</td>\n",
       "    </tr>\n",
       "    <tr>\n",
       "      <th>xb</th>\n",
       "      <td>2000.0</td>\n",
       "      <td>2008.0</td>\n",
       "      <td>8.0</td>\n",
       "    </tr>\n",
       "    <tr>\n",
       "      <th>gba</th>\n",
       "      <td>2000.0</td>\n",
       "      <td>2007.0</td>\n",
       "      <td>7.0</td>\n",
       "    </tr>\n",
       "    <tr>\n",
       "      <th>gc</th>\n",
       "      <td>2001.0</td>\n",
       "      <td>2007.0</td>\n",
       "      <td>6.0</td>\n",
       "    </tr>\n",
       "    <tr>\n",
       "      <th>n64</th>\n",
       "      <td>1996.0</td>\n",
       "      <td>2002.0</td>\n",
       "      <td>6.0</td>\n",
       "    </tr>\n",
       "    <tr>\n",
       "      <th>3ds</th>\n",
       "      <td>2011.0</td>\n",
       "      <td>2016.0</td>\n",
       "      <td>5.0</td>\n",
       "    </tr>\n",
       "    <tr>\n",
       "      <th>psv</th>\n",
       "      <td>2011.0</td>\n",
       "      <td>2016.0</td>\n",
       "      <td>5.0</td>\n",
       "    </tr>\n",
       "    <tr>\n",
       "      <th>sat</th>\n",
       "      <td>1994.0</td>\n",
       "      <td>1999.0</td>\n",
       "      <td>5.0</td>\n",
       "    </tr>\n",
       "    <tr>\n",
       "      <th>wiiu</th>\n",
       "      <td>2012.0</td>\n",
       "      <td>2016.0</td>\n",
       "      <td>4.0</td>\n",
       "    </tr>\n",
       "    <tr>\n",
       "      <th>gen</th>\n",
       "      <td>1990.0</td>\n",
       "      <td>1994.0</td>\n",
       "      <td>4.0</td>\n",
       "    </tr>\n",
       "    <tr>\n",
       "      <th>ng</th>\n",
       "      <td>1993.0</td>\n",
       "      <td>1996.0</td>\n",
       "      <td>3.0</td>\n",
       "    </tr>\n",
       "    <tr>\n",
       "      <th>xone</th>\n",
       "      <td>2013.0</td>\n",
       "      <td>2016.0</td>\n",
       "      <td>3.0</td>\n",
       "    </tr>\n",
       "    <tr>\n",
       "      <th>ps4</th>\n",
       "      <td>2013.0</td>\n",
       "      <td>2016.0</td>\n",
       "      <td>3.0</td>\n",
       "    </tr>\n",
       "    <tr>\n",
       "      <th>ws</th>\n",
       "      <td>1999.0</td>\n",
       "      <td>2001.0</td>\n",
       "      <td>2.0</td>\n",
       "    </tr>\n",
       "    <tr>\n",
       "      <th>3do</th>\n",
       "      <td>1994.0</td>\n",
       "      <td>1995.0</td>\n",
       "      <td>1.0</td>\n",
       "    </tr>\n",
       "    <tr>\n",
       "      <th>scd</th>\n",
       "      <td>1993.0</td>\n",
       "      <td>1994.0</td>\n",
       "      <td>1.0</td>\n",
       "    </tr>\n",
       "    <tr>\n",
       "      <th>tg16</th>\n",
       "      <td>1995.0</td>\n",
       "      <td>1995.0</td>\n",
       "      <td>0.0</td>\n",
       "    </tr>\n",
       "    <tr>\n",
       "      <th>pcfx</th>\n",
       "      <td>1996.0</td>\n",
       "      <td>1996.0</td>\n",
       "      <td>0.0</td>\n",
       "    </tr>\n",
       "    <tr>\n",
       "      <th>gg</th>\n",
       "      <td>1992.0</td>\n",
       "      <td>1992.0</td>\n",
       "      <td>0.0</td>\n",
       "    </tr>\n",
       "  </tbody>\n",
       "</table>\n",
       "</div>"
      ],
      "text/plain": [
       "             min     max  years_of_life\n",
       "platform                               \n",
       "pc        1985.0  2016.0           31.0\n",
       "ds        1985.0  2013.0           28.0\n",
       "gb        1988.0  2001.0           13.0\n",
       "x360      2005.0  2016.0           11.0\n",
       "psp       2004.0  2015.0           11.0\n",
       "ps2       2000.0  2011.0           11.0\n",
       "nes       1983.0  1994.0           11.0\n",
       "dc        1998.0  2008.0           10.0\n",
       "wii       2006.0  2016.0           10.0\n",
       "ps3       2006.0  2016.0           10.0\n",
       "2600      1980.0  1989.0            9.0\n",
       "snes      1990.0  1999.0            9.0\n",
       "ps        1994.0  2003.0            9.0\n",
       "xb        2000.0  2008.0            8.0\n",
       "gba       2000.0  2007.0            7.0\n",
       "gc        2001.0  2007.0            6.0\n",
       "n64       1996.0  2002.0            6.0\n",
       "3ds       2011.0  2016.0            5.0\n",
       "psv       2011.0  2016.0            5.0\n",
       "sat       1994.0  1999.0            5.0\n",
       "wiiu      2012.0  2016.0            4.0\n",
       "gen       1990.0  1994.0            4.0\n",
       "ng        1993.0  1996.0            3.0\n",
       "xone      2013.0  2016.0            3.0\n",
       "ps4       2013.0  2016.0            3.0\n",
       "ws        1999.0  2001.0            2.0\n",
       "3do       1994.0  1995.0            1.0\n",
       "scd       1993.0  1994.0            1.0\n",
       "tg16      1995.0  1995.0            0.0\n",
       "pcfx      1996.0  1996.0            0.0\n",
       "gg        1992.0  1992.0            0.0"
      ]
     },
     "execution_count": 10,
     "metadata": {},
     "output_type": "execute_result"
    }
   ],
   "source": [
    "# жизненный срок платформы\n",
    "\n",
    "years_of_life = games.pivot_table(index='platform',values='year',aggfunc=['min','max'])\n",
    "years_of_life.columns=['min','max']\n",
    "years_of_life['years_of_life']=years_of_life['max']-years_of_life['min']\n",
    "years_of_life\n",
    "\n",
    "years_of_life.sort_values(by = 'years_of_life', ascending = False)"
   ]
  },
  {
   "cell_type": "code",
   "execution_count": 11,
   "id": "2a411e86",
   "metadata": {},
   "outputs": [
    {
     "name": "stdout",
     "output_type": "stream",
     "text": [
      "['ps2' 'wii' '2600' 'x360' 'gba' 'pc' 'ps3' 'ps' 'psp' 'xb' 'gb' 'ds' 'gc'\n",
      " '3ds' 'n64' 'psv']\n"
     ]
    }
   ],
   "source": [
    "# избавляемся от строк с пропущенымми годами\n",
    "\n",
    "print(games.query('year.isna()==True')['platform'].unique())\n",
    "games = games.query('year.isna() == False')"
   ]
  },
  {
   "cell_type": "code",
   "execution_count": 12,
   "id": "e572ddf4",
   "metadata": {},
   "outputs": [],
   "source": [
    "# изменение типа данных на datetime\n",
    "\n",
    "games['year'] = games['year'].astype(np.int64)"
   ]
  },
  {
   "cell_type": "markdown",
   "id": "00ca9250",
   "metadata": {},
   "source": [
    "**CRITIC SCORE**"
   ]
  },
  {
   "cell_type": "code",
   "execution_count": 13,
   "id": "9392b482",
   "metadata": {},
   "outputs": [],
   "source": [
    "# замена отсуствующей оценки критиков средней оценкой для каждой игры\n",
    "\n",
    "games['critic_score'] = games['critic_score'].fillna(\n",
    "    games.groupby('name')['critic_score'].transform('mean')\n",
    ")"
   ]
  },
  {
   "cell_type": "markdown",
   "id": "092a7840",
   "metadata": {},
   "source": [
    "**USER SCORE**"
   ]
  },
  {
   "cell_type": "code",
   "execution_count": 14,
   "id": "ccbdaf70",
   "metadata": {},
   "outputs": [],
   "source": [
    "# замена tbd на NaN\n",
    "\n",
    "games.loc[games['user_score'] == 'tbd', 'user_score'] = np.nan"
   ]
  },
  {
   "cell_type": "code",
   "execution_count": 15,
   "id": "5ca29887",
   "metadata": {},
   "outputs": [],
   "source": [
    "# изменение типа данных на float\n",
    "\n",
    "games['user_score'] = games['user_score'].astype(np.float64)"
   ]
  },
  {
   "cell_type": "code",
   "execution_count": 16,
   "id": "918b7065",
   "metadata": {},
   "outputs": [],
   "source": [
    "# замена отсуствующей оценки пользователей средней оценкой для каждой игры\n",
    "\n",
    "games['user_score'] = games['user_score'].fillna(\n",
    "    games.groupby('name')['user_score'].transform('mean')\n",
    ")"
   ]
  },
  {
   "cell_type": "markdown",
   "id": "5f865520",
   "metadata": {
    "code_folding": []
   },
   "source": [
    "**RATING**"
   ]
  },
  {
   "cell_type": "code",
   "execution_count": 17,
   "id": "ec65e662",
   "metadata": {},
   "outputs": [
    {
     "name": "stdout",
     "output_type": "stream",
     "text": [
      "8\n",
      "3\n",
      "1\n",
      "1\n"
     ]
    }
   ],
   "source": [
    "# cоздание словаря с индексами строк по названиям где пропущен рейтинг\n",
    "\n",
    "print(\n",
    "    len(games.query('rating == \"EC\"')), '\\n',\n",
    "    len(games.query('rating == \"K-A\"')), '\\n',\n",
    "    len(games.query('rating == \"RP\"')), '\\n',\n",
    "    len(games.query('rating == \"AO\"')), sep=''\n",
    ")\n",
    "\n",
    "games.loc[games['rating'].isna()==True, 'rating'] = 'unknown'"
   ]
  },
  {
   "cell_type": "code",
   "execution_count": 18,
   "id": "b7bddbe6",
   "metadata": {},
   "outputs": [],
   "source": [
    "# сброс индексов после удалений строк\n",
    "\n",
    "games.reset_index(drop=True, inplace=True)"
   ]
  },
  {
   "cell_type": "markdown",
   "id": "2235685a",
   "metadata": {},
   "source": [
    "* Пропуски в столбце **name** были удалены из-за незначительного кол-ва | Характер - полностью случайный\n",
    "* Пропуски в столбце **critic_score** и **user_score** были по возможности заменены на среднее для каждой группы | Характер - случайный\n",
    "* Пропуски в столбце **rating** и **year** были частично заполнены на основе поиска схожих данных в других строках | Характер - случайный\n",
    "* Значение **tbd** было заменено на пропуск, т.к. эта аббревиатура означает отсутствие данных (to be determined - будет определено)\n",
    "* Типы данных заменены в столбцах **year** (в этом столбце сохранены даты для которых есть специальный тип данных datetime), **user_score** (в этом столбце сохранены оценки от 1 до 10, которые можно адекватно обрабатывать если они имеют числовой тип данных, в данном случае float)"
   ]
  },
  {
   "cell_type": "code",
   "execution_count": 19,
   "id": "03e9229c",
   "metadata": {},
   "outputs": [
    {
     "name": "stdout",
     "output_type": "stream",
     "text": [
      "<class 'pandas.core.frame.DataFrame'>\n",
      "RangeIndex: 16444 entries, 0 to 16443\n",
      "Data columns (total 11 columns):\n",
      " #   Column        Non-Null Count  Dtype  \n",
      "---  ------        --------------  -----  \n",
      " 0   name          16444 non-null  object \n",
      " 1   platform      16444 non-null  object \n",
      " 2   year          16444 non-null  int64  \n",
      " 3   genre         16444 non-null  object \n",
      " 4   na_sales      16444 non-null  float64\n",
      " 5   eu_sales      16444 non-null  float64\n",
      " 6   jp_sales      16444 non-null  float64\n",
      " 7   other_sales   16444 non-null  float64\n",
      " 8   critic_score  8922 non-null   float64\n",
      " 9   user_score    8524 non-null   float64\n",
      " 10  rating        16444 non-null  object \n",
      "dtypes: float64(6), int64(1), object(4)\n",
      "memory usage: 1.4+ MB\n"
     ]
    }
   ],
   "source": [
    "# check\n",
    "\n",
    "games.info()"
   ]
  },
  {
   "cell_type": "markdown",
   "id": "c944d980",
   "metadata": {},
   "source": [
    "**Обработка аномальных значений**"
   ]
  },
  {
   "cell_type": "code",
   "execution_count": 20,
   "id": "1d515d3f",
   "metadata": {},
   "outputs": [
    {
     "data": {
      "image/png": "[encoded data removed]",
      "text/plain": [
       "<Figure size 864x864 with 9 Axes>"
      ]
     },
     "metadata": {
      "needs_background": "light"
     },
     "output_type": "display_data"
    }
   ],
   "source": [
    "games.hist(figsize=(12,12), bins=30)\n",
    "plt.show()"
   ]
  },
  {
   "cell_type": "code",
   "execution_count": 21,
   "id": "34bebd08",
   "metadata": {},
   "outputs": [
    {
     "name": "stdout",
     "output_type": "stream",
     "text": [
      "Доля изначального размера датафрейма: 98.38%\n"
     ]
    }
   ],
   "source": [
    "print(f'Доля изначального размера датафрейма: {games.shape[0] / start_len:0.2%}')"
   ]
  },
  {
   "cell_type": "markdown",
   "id": "d48046e7",
   "metadata": {},
   "source": [
    "**RATING**"
   ]
  },
  {
   "cell_type": "code",
   "execution_count": 22,
   "id": "50603396",
   "metadata": {},
   "outputs": [
    {
     "data": {
      "text/plain": [
       "array(['E', 'unknown', 'M', 'T', 'E10+', 'K-A', 'AO', 'EC', 'RP'],\n",
       "      dtype=object)"
      ]
     },
     "execution_count": 22,
     "metadata": {},
     "output_type": "execute_result"
    }
   ],
   "source": [
    "games['rating'].unique()"
   ]
  },
  {
   "cell_type": "code",
   "execution_count": 23,
   "id": "f8aaf9c6",
   "metadata": {},
   "outputs": [],
   "source": [
    "# формирование столбца суммарных продаж\n",
    "\n",
    "games['total_sales'] = games[['na_sales','eu_sales','jp_sales', 'other_sales']].sum(axis=1)"
   ]
  },
  {
   "cell_type": "code",
   "execution_count": 24,
   "id": "ee58eede",
   "metadata": {},
   "outputs": [
    {
     "data": {
      "image/png": "[encoded data removed]",
      "text/plain": [
       "<Figure size 864x864 with 9 Axes>"
      ]
     },
     "metadata": {
      "needs_background": "light"
     },
     "output_type": "display_data"
    }
   ],
   "source": [
    "games.hist(figsize=(12,12))\n",
    "plt.show()"
   ]
  },
  {
   "cell_type": "code",
   "execution_count": 25,
   "id": "699b6d48",
   "metadata": {},
   "outputs": [
    {
     "name": "stdout",
     "output_type": "stream",
     "text": [
      "Доля изначального размера датафрейма: 98.38%\n"
     ]
    }
   ],
   "source": [
    "print(f'Доля изначального размера датафрейма: {games.shape[0] / start_len:0.2%}')"
   ]
  },
  {
   "cell_type": "code",
   "execution_count": 26,
   "id": "0a44b162",
   "metadata": {},
   "outputs": [],
   "source": [
    "games.reset_index(drop=True, inplace=True)"
   ]
  },
  {
   "cell_type": "code",
   "execution_count": 27,
   "id": "1b300534",
   "metadata": {},
   "outputs": [
    {
     "name": "stdout",
     "output_type": "stream",
     "text": [
      "<class 'pandas.core.frame.DataFrame'>\n",
      "RangeIndex: 16444 entries, 0 to 16443\n",
      "Data columns (total 12 columns):\n",
      " #   Column        Non-Null Count  Dtype  \n",
      "---  ------        --------------  -----  \n",
      " 0   name          16444 non-null  object \n",
      " 1   platform      16444 non-null  object \n",
      " 2   year          16444 non-null  int64  \n",
      " 3   genre         16444 non-null  object \n",
      " 4   na_sales      16444 non-null  float64\n",
      " 5   eu_sales      16444 non-null  float64\n",
      " 6   jp_sales      16444 non-null  float64\n",
      " 7   other_sales   16444 non-null  float64\n",
      " 8   critic_score  8922 non-null   float64\n",
      " 9   user_score    8524 non-null   float64\n",
      " 10  rating        16444 non-null  object \n",
      " 11  total_sales   16444 non-null  float64\n",
      "dtypes: float64(7), int64(1), object(4)\n",
      "memory usage: 1.5+ MB\n"
     ]
    }
   ],
   "source": [
    "# check\n",
    "games.info()"
   ]
  },
  {
   "cell_type": "markdown",
   "id": "9228e6e4",
   "metadata": {},
   "source": [
    "## Исследовательский анализ данных"
   ]
  },
  {
   "cell_type": "markdown",
   "id": "06695a34",
   "metadata": {},
   "source": [
    "**Кол-во игр выпускавшихся в каждом году**"
   ]
  },
  {
   "cell_type": "code",
   "execution_count": 28,
   "id": "4ef14aff",
   "metadata": {},
   "outputs": [
    {
     "data": {
      "image/png": "[encoded data removed]",
      "text/plain": [
       "<Figure size 1080x576 with 1 Axes>"
      ]
     },
     "metadata": {},
     "output_type": "display_data"
    }
   ],
   "source": [
    "sns.set(style='whitegrid', rc={\"figure.figsize\":(15 , 8)})\n",
    "sns.histplot(games['year']).set_title('Распределение кол-ва игр по году выпуска', fontsize=20)\n",
    "plt.xticks(np.arange(1980, 2017), rotation=90)\n",
    "\n",
    "plt.show()"
   ]
  },
  {
   "cell_type": "markdown",
   "id": "7315b465",
   "metadata": {},
   "source": [
    "Больше всего игр выпускалось в 2008 - 2009 г., после чего идёт снижение производства до 2013 г. где разработка снова начинает понемногу расти. Данные за 2016 год неполны, поэтому тут нельзя судить снилизлось ли производство или нет."
   ]
  },
  {
   "cell_type": "markdown",
   "id": "3d61eb85",
   "metadata": {},
   "source": [
    "**Характерный период существования платформы**"
   ]
  },
  {
   "cell_type": "code",
   "execution_count": 29,
   "id": "7f27deea",
   "metadata": {},
   "outputs": [
    {
     "name": "stdout",
     "output_type": "stream",
     "text": [
      "          total_sales\n",
      "platform             \n",
      "ps2           1233.56\n",
      "x360           961.24\n",
      "ps3            931.34\n",
      "wii            891.18\n",
      "ds             802.78\n",
      "ps             727.58\n",
      "ps4            314.14\n",
      "gba            312.88\n",
      "psp            289.53\n",
      "3ds            257.81\n"
     ]
    }
   ],
   "source": [
    "# составление топа платформ по суммарным продажам\n",
    "\n",
    "top_platforms = (\n",
    "    games.pivot_table(index=\"platform\", values=\"total_sales\", aggfunc=\"sum\")\n",
    "    .sort_values(by=\"total_sales\", ascending=False)\n",
    "    .head(10)\n",
    ")\n",
    "\n",
    "print(top_platforms)"
   ]
  },
  {
   "cell_type": "markdown",
   "id": "a1f9acf9",
   "metadata": {},
   "source": [
    "Из составленного рейтина видно что первые 6 платформ имееют наивысшие показатели продаж.Топ-1 PlayStation 2"
   ]
  },
  {
   "cell_type": "code",
   "execution_count": 30,
   "id": "060abefa",
   "metadata": {},
   "outputs": [
    {
     "data": {
      "image/png": "[encoded data removed]",
      "text/plain": [
       "<Figure size 864x576 with 1 Axes>"
      ]
     },
     "metadata": {},
     "output_type": "display_data"
    }
   ],
   "source": [
    "# %matplotlib notebook\n",
    "\n",
    "sns.set(style='whitegrid', rc={\"figure.figsize\":(12 , 8)})\n",
    "\n",
    "# список платформ с наибольшим числом продаж\n",
    "\n",
    "num_of_plat = 6 # число платформ\n",
    "\n",
    "top_platforms_list = list(\n",
    "    games.pivot_table(index=[\"platform\"], values=[\"total_sales\"], aggfunc=\"sum\")\n",
    "    .sort_values(by=\"total_sales\", ascending=False)\n",
    "    .head(num_of_plat)\n",
    "    .index\n",
    ")\n",
    "\n",
    "# таблица для построения распределения (eda - Exploratory Data Analysis)\n",
    "\n",
    "eda = pd.concat(\n",
    "    [games[\"platform\"], \n",
    "     games[\"year\"], \n",
    "     games[\"total_sales\"], \n",
    "     games['user_score'], \n",
    "     games['critic_score'],\n",
    "     games['genre']], \n",
    "    axis=1\n",
    ")\n",
    "\n",
    "# отсеиваем не попавшие в топ платформы\n",
    "\n",
    "year_distr = eda.query(\"platform in @top_platforms_list\")\n",
    "\n",
    "# построение графика\n",
    "\n",
    "year_distr.groupby([\"year\", \"platform\"])[\"total_sales\"].sum().unstack().plot(\n",
    "    kind=\"line\", xlim=(1993, 2016), linewidth=5\n",
    ")\n",
    "\n",
    "plt.xticks(np.arange(1993,2016))\n",
    "\n",
    "plt.show()"
   ]
  },
  {
   "cell_type": "markdown",
   "id": "2c447145",
   "metadata": {},
   "source": [
    "Крупные платформы проявляют жизнеспособность на протяжении ~10 лет."
   ]
  },
  {
   "cell_type": "markdown",
   "id": "862c349a",
   "metadata": {},
   "source": [
    "**Актуальный период**\n",
    "\n",
    "Поскольку период существования платформ составляет 10 лет, а одной из целей работы является прогноз продаж на 2017 год нас будут интересовать такие платформы которые только зарождаются или находятся на пике своего существования."
   ]
  },
  {
   "cell_type": "code",
   "execution_count": 31,
   "id": "db62cf34",
   "metadata": {},
   "outputs": [],
   "source": [
    "actual_period = games.query('year > 2013')\n",
    "actual_period.head().sort_values(by='year')\n",
    "actual_period.reset_index(drop=True, inplace=True)"
   ]
  },
  {
   "cell_type": "code",
   "execution_count": 32,
   "id": "a4800656",
   "metadata": {},
   "outputs": [
    {
     "data": {
      "image/png": "[encoded data removed]",
      "text/plain": [
       "<Figure size 1152x864 with 1 Axes>"
      ]
     },
     "metadata": {},
     "output_type": "display_data"
    },
    {
     "data": {
      "image/png": "[encoded data removed]",
      "text/plain": [
       "<Figure size 1152x864 with 1 Axes>"
      ]
     },
     "metadata": {},
     "output_type": "display_data"
    }
   ],
   "source": [
    "# распределение продаж платформ по годам за актуальный период\n",
    "\n",
    "year_distr_model = actual_period.pivot_table(\n",
    "    index='year', \n",
    "    columns='platform', \n",
    "    values='total_sales', \n",
    "    aggfunc='sum')\n",
    "\n",
    "# график 1\n",
    "\n",
    "sns.set(style='whitegrid', rc={\"figure.figsize\":(16 , 12)})\n",
    "year_distr_model.reset_index().plot(x='year', kind='bar', width=0.9)\n",
    "plt.title('Общие продажи платформ за год', fontsize=20)\n",
    "plt.show()\n",
    "\n",
    "actual_total_sales = actual_period.groupby('platform', as_index=False)['total_sales'].sum().sort_values(by='total_sales')\n",
    "\n",
    "# график 2\n",
    "\n",
    "sns.set(style='whitegrid', rc={\"figure.figsize\":(16 , 12)})\n",
    "actual_total_sales.plot(x='platform', kind='bar', width=0.9, color='green')\n",
    "plt.title('Суммарные продажи платформ за актуальный период', fontsize=20)\n",
    "plt.show()"
   ]
  },
  {
   "cell_type": "code",
   "execution_count": 33,
   "id": "c92f3bb7",
   "metadata": {},
   "outputs": [
    {
     "data": {
      "image/png": "[encoded data removed]",
      "text/plain": [
       "<Figure size 1152x864 with 1 Axes>"
      ]
     },
     "metadata": {},
     "output_type": "display_data"
    }
   ],
   "source": [
    "# корректитировка (удаляем часть платформ с упавшими продажами)\n",
    "\n",
    "year_dm_corected = year_distr_model.drop(columns=['psp', 'wii', 'x360', 'ps3']).unstack().reset_index()\n",
    "actual_platforms = list(year_dm_corected.columns)\n",
    "\n",
    "sns.set(style='whitegrid', rc={\"figure.figsize\":(16 , 12)})\n",
    "year_dm_corected.columns = ['platform', 'year', 'total_sales']\n",
    "sns.barplot(x='year', y='total_sales', hue='platform', data=year_dm_corected)\n",
    "plt.show()"
   ]
  },
  {
   "cell_type": "markdown",
   "id": "eb52bdbe",
   "metadata": {},
   "source": [
    "На основе изучения продаж за актуальный период установлены потенциально перспективные платформы: **PS4, XOne, 3DS, PC, PSV**. PS3 удалена в связи с тем что срок её существования подходит к концу равно как X360 и Wii. Платформа PC существующая около 30 лет, до сих пор держится на плаву, а 3DS и PSV существуют всего 5 лет и вероятно ещё не израсходовали свой потенциал."
   ]
  },
  {
   "cell_type": "markdown",
   "id": "55bd11db",
   "metadata": {},
   "source": [
    "**Ящик с усами**"
   ]
  },
  {
   "cell_type": "code",
   "execution_count": 34,
   "id": "41ad9749",
   "metadata": {
    "scrolled": false
   },
   "outputs": [
    {
     "data": {
      "image/png": "[encoded data removed]",
      "text/plain": [
       "<Figure size 864x864 with 1 Axes>"
      ]
     },
     "metadata": {},
     "output_type": "display_data"
    }
   ],
   "source": [
    "top_platforms = (\n",
    "    actual_period.pivot_table(index=\"platform\", values=\"total_sales\", aggfunc=\"sum\")\n",
    "    .sort_values(by=\"total_sales\", ascending=False)\n",
    "    .head(10)\n",
    ")\n",
    "\n",
    "boxplot_top_list = list(top_platforms.index)\n",
    "global_sales = actual_period.query(\"platform in @boxplot_top_list\") \n",
    "\n",
    "sns.set(style='whitegrid', rc={\"figure.figsize\":(12 , 12)})\n",
    "sns.boxplot(x='platform', y='total_sales', data=global_sales)\n",
    "plt.ylim(0, 2)\n",
    "plt.show()"
   ]
  },
  {
   "cell_type": "markdown",
   "id": "a7d62d19",
   "metadata": {},
   "source": [
    "Платформа популярна если её игры в общей сложности хорошо продаются. На данных диаграммах разамха их можно отличить благодаря более вытянутому межквартильному размаху и более низкому расположениею второго квартиля (Q2, медианы), что будет означать: более 50% данных об общих продажах расположены выше значения Q2."
   ]
  },
  {
   "cell_type": "markdown",
   "id": "8471b52e",
   "metadata": {},
   "source": [
    "**Влияние отзывов пользователей и критиков на продажи**"
   ]
  },
  {
   "cell_type": "code",
   "execution_count": 35,
   "id": "856b2385",
   "metadata": {},
   "outputs": [
    {
     "name": "stdout",
     "output_type": "stream",
     "text": [
      "          total_sales\n",
      "platform             \n",
      "ps4            288.15\n",
      "xone           140.36\n",
      "3ds             86.68\n",
      "ps3             68.18\n",
      "x360            48.22\n",
      "wiiu            42.98\n",
      "pc              27.05\n",
      "psv             22.40\n",
      "wii              5.07\n",
      "psp              0.36\n",
      "Critic score correlation: 0.39\n",
      "User score correlation: -0.03\n"
     ]
    },
    {
     "data": {
      "image/png": "[encoded data removed]",
      "text/plain": [
       "<Figure size 576x360 with 1 Axes>"
      ]
     },
     "metadata": {},
     "output_type": "display_data"
    },
    {
     "data": {
      "image/png": "[encoded data removed]",
      "text/plain": [
       "<Figure size 576x360 with 1 Axes>"
      ]
     },
     "metadata": {},
     "output_type": "display_data"
    }
   ],
   "source": [
    "# топ платформ за актуальный период\n",
    "\n",
    "print(top_platforms)\n",
    "\n",
    "# фильтр по платформам\n",
    "\n",
    "ps4_data = actual_period.query('platform == \"ps4\"')\n",
    "\n",
    "# корреляция\n",
    "\n",
    "print('Critic score correlation:', round(ps4_data['total_sales'].corr(ps4_data['critic_score']), 2))\n",
    "print('User score correlation:', round(ps4_data['total_sales'].corr(ps4_data['user_score']), 2))\n",
    "\n",
    "sns.set(style='whitegrid', rc={\"figure.figsize\":(8 , 5)})\n",
    "\n",
    "ps4_data.plot(kind='scatter', x='critic_score', y='total_sales', title='PS4 | Critic score', color='green')\n",
    "ps4_data.plot(kind='scatter', x='user_score', y='total_sales', title='PS4 | User score', color='blue')\n",
    "plt.show()"
   ]
  },
  {
   "cell_type": "code",
   "execution_count": 36,
   "id": "fdd68fea",
   "metadata": {},
   "outputs": [
    {
     "name": "stdout",
     "output_type": "stream",
     "text": [
      "User XONE: -0.09\n",
      "Critic XONE: 0.38\n",
      "User PC: -0.07\n",
      "Critic PC: 0.18\n",
      "User 3DS: 0.24\n",
      "Critic 3DS: 0.28\n"
     ]
    }
   ],
   "source": [
    "print('User XONE:', round(actual_period.query('platform == \"xone\"')['total_sales'].corr(actual_period.query('platform == \"xone\"')['user_score']), 2))\n",
    "print('Critic XONE:', round(actual_period.query('platform == \"xone\"')['total_sales'].corr(actual_period.query('platform == \"xone\"')['critic_score']), 2))\n",
    "print('User PC:', round(actual_period.query('platform == \"pc\"')['total_sales'].corr(actual_period.query('platform == \"pc\"')['user_score']), 2))\n",
    "print('Critic PC:', round(actual_period.query('platform == \"pc\"')['total_sales'].corr(actual_period.query('platform == \"pc\"')['critic_score']), 2))\n",
    "print('User 3DS:', round(actual_period.query('platform == \"3ds\"')['total_sales'].corr(actual_period.query('platform == \"3ds\"')['user_score']), 2))\n",
    "print('Critic 3DS:', round(actual_period.query('platform == \"3ds\"')['total_sales'].corr(actual_period.query('platform == \"3ds\"')['critic_score']), 2))"
   ]
  },
  {
   "cell_type": "markdown",
   "id": "fe0fe72b",
   "metadata": {},
   "source": [
    "Анализ (для самомой популярной платформы) показывает что присуствует взаимосвязь между оценками и продажами. Оценки критиков умеренно коррелируют с продажами (корреляция 0.39), оценки пользователей обладают слабой отрицательной корреляцией -0.03, что можно списать на ошибку или погрешность. Однако от платформы к платформе показатели могут разниться например у 3DS корреляции продаж с пользовательскими оценками и оценками критиков примерно равны, но являются слабыми."
   ]
  },
  {
   "cell_type": "markdown",
   "id": "f8fec3c7",
   "metadata": {},
   "source": [
    "**Распределение игр по жанрам**"
   ]
  },
  {
   "cell_type": "code",
   "execution_count": 37,
   "id": "0394d1cf",
   "metadata": {},
   "outputs": [
    {
     "data": {
      "image/png": "[encoded data removed]",
      "text/plain": [
       "<Figure size 1080x504 with 1 Axes>"
      ]
     },
     "metadata": {},
     "output_type": "display_data"
    },
    {
     "data": {
      "image/png": "[encoded data removed]",
      "text/plain": [
       "<Figure size 1080x504 with 1 Axes>"
      ]
     },
     "metadata": {},
     "output_type": "display_data"
    }
   ],
   "source": [
    "# создание серий для расчётов и построения графиков\n",
    "\n",
    "genre_sales = actual_period.groupby('genre')['total_sales'].sum()\n",
    "genre_count = actual_period.groupby('genre')['total_sales'].count()\n",
    "\n",
    "ratio = genre_sales / genre_count\n",
    "\n",
    "sns.set(style='whitegrid', rc={\"figure.figsize\":(15 , 7)})\n",
    "\n",
    "# график общих продаж жанров за актуальный период\n",
    "\n",
    "genre_sales.sort_values().plot(kind='bar')\n",
    "plt.title('Общие продажи жанров за актуальный период', fontsize=20)\n",
    "plt.show()\n",
    "\n",
    "genre_count.sort_values().plot(kind='bar',  color='orange')\n",
    "plt.title('Общее кол-во игр в жанре за актуальный период', fontsize=20)\n",
    "plt.show()"
   ]
  },
  {
   "cell_type": "code",
   "execution_count": 38,
   "id": "745fc68c",
   "metadata": {},
   "outputs": [
    {
     "data": {
      "image/png": "[encoded data removed]",
      "text/plain": [
       "<Figure size 1080x504 with 1 Axes>"
      ]
     },
     "metadata": {},
     "output_type": "display_data"
    },
    {
     "data": {
      "image/png": "[encoded data removed]",
      "text/plain": [
       "<Figure size 1080x504 with 1 Axes>"
      ]
     },
     "metadata": {},
     "output_type": "display_data"
    },
    {
     "name": "stdout",
     "output_type": "stream",
     "text": [
      "Средние продажи для пердставителя жанра: \n",
      "genre\n",
      "Shooter         1.335469\n",
      "Sports          0.680000\n",
      "Platform        0.476053\n",
      "Fighting        0.470333\n",
      "Role-Playing    0.459005\n",
      "Racing          0.398841\n",
      "Misc            0.332301\n",
      "Action          0.322068\n",
      "Simulation      0.298409\n",
      "Puzzle          0.157857\n",
      "Strategy        0.107027\n",
      "Adventure       0.094865\n",
      "Name: total_sales, dtype: float64 \n",
      "==================================\n",
      "Медианы продаж по жанрам: \n",
      "genre\n",
      "Shooter         0.515\n",
      "Sports          0.180\n",
      "Platform        0.140\n",
      "Fighting        0.125\n",
      "Role-Playing    0.110\n",
      "Simulation      0.100\n",
      "Action          0.090\n",
      "Misc            0.090\n",
      "Racing          0.090\n",
      "Strategy        0.060\n",
      "Puzzle          0.045\n",
      "Adventure       0.030\n",
      "Name: total_sales, dtype: float64\n"
     ]
    }
   ],
   "source": [
    "sns.boxplot(data=actual_period, x='genre', y='total_sales').set(title='lalala')\n",
    "plt.title('Диаграмма размаха', fontsize=20)\n",
    "plt.show()\n",
    "\n",
    "sns.boxplot(data=actual_period, x='genre', y='total_sales')\n",
    "plt.title('Диаграмма размаха (увеличенный масштаб)', fontsize=20)\n",
    "plt.ylim(0, 1.7)\n",
    "plt.show()\n",
    "\n",
    "print(f'Средние продажи для пердставителя жанра: \\n{ratio.sort_values(ascending=False)}', \n",
    "      '\\n==================================')\n",
    "print(f'Медианы продаж по жанрам: \\n{actual_period.groupby(\"genre\")[\"total_sales\"].median().sort_values(ascending=False)}')"
   ]
  },
  {
   "cell_type": "code",
   "execution_count": 39,
   "id": "7945cfc9",
   "metadata": {},
   "outputs": [
    {
     "data": {
      "image/png": "[encoded data removed]",
      "text/plain": [
       "<Figure size 1152x648 with 1 Axes>"
      ]
     },
     "metadata": {},
     "output_type": "display_data"
    }
   ],
   "source": [
    "median_stability = actual_period.pivot_table(\n",
    "    index='year', \n",
    "    columns='genre', \n",
    "    values='total_sales', \n",
    "    aggfunc='median')\n",
    "\n",
    "ms_corected = median_stability.drop(columns=['Adventure', 'Puzzle', 'Strategy'])\n",
    "\n",
    "sns.set(style='whitegrid', rc={\"figure.figsize\":(16 , 9)})\n",
    "ms_corected.reset_index().plot(x='year', kind='bar', width=0.9)\n",
    "plt.title('Вариьирование медианных продаж', fontsize=20)\n",
    "plt.show()"
   ]
  },
  {
   "cell_type": "code",
   "execution_count": 40,
   "id": "87342255",
   "metadata": {},
   "outputs": [
    {
     "data": {
      "image/png": "[encoded data removed]",
      "text/plain": [
       "<Figure size 1152x648 with 1 Axes>"
      ]
     },
     "metadata": {},
     "output_type": "display_data"
    }
   ],
   "source": [
    "# график разности 0.75 и 0.5 квантилей для оценки успешности\n",
    "\n",
    "success = {}\n",
    "\n",
    "for gen in actual_period['genre'].unique():\n",
    "    success[gen] = round(actual_period.query('genre == @gen').quantile(q=0.75, axis=0)['total_sales'] - \\\n",
    "                            actual_period.query('genre == @gen').quantile(q=0.5, axis=0)['total_sales'], 2)\n",
    "suc = pd.Series(index=success.keys(), data=list(success.values())).sort_values()\n",
    "                \n",
    "plt.bar(suc.index, suc, align='center')   \n",
    "plt.title('Жанровая разность квартилей Q3 и Q2', fontsize=20)\n",
    "plt.show()"
   ]
  },
  {
   "cell_type": "markdown",
   "id": "e03b1829",
   "metadata": {},
   "source": [
    "* Медианные продажи за актуальные период следующие (топ-5): **shooter = 0.515, sports = 0.18, platform = 0.14, fighting = 0.125, role-playing = 0.11**\n",
    "* Среднее кол-во продаж у представителей жанра **Shooter** = 1.335\n",
    "* Стабильность медианных продаж (за исключением 2016 года из-за неполноты данных) проявляют такие жанры **shooter, role-playing misc, racing, simulation.**\n",
    "* Ряды успешно продающихся игр наиболее высоки у жанров: **shooter, sports, platform, role-playing, simulation.**\n",
    "\n",
    "**Вывод:** Самым прибильными жанром является **Shooter**, больше всего игр выпущено и продано в жанре **Action**."
   ]
  },
  {
   "cell_type": "markdown",
   "id": "33006f82",
   "metadata": {},
   "source": [
    "## Портрет пользователя в регионе"
   ]
  },
  {
   "cell_type": "markdown",
   "id": "d8f49ede",
   "metadata": {},
   "source": [
    "**Топ-5 платформ**"
   ]
  },
  {
   "cell_type": "code",
   "execution_count": 41,
   "id": "82ddb44c",
   "metadata": {
    "scrolled": false
   },
   "outputs": [
    {
     "name": "stdout",
     "output_type": "stream",
     "text": [
      "Регион: NA | Топ: ['ps4', 'xone', 'x360', '3ds', 'ps3'] | Доля: 89.02%\n",
      "Регион: EU | Топ: ['ps4', 'xone', 'ps3', 'pc', '3ds'] | Доля: 87.16%\n",
      "Регион: JP | Топ: ['3ds', 'ps4', 'psv', 'ps3', 'wiiu'] | Доля: 99.18%\n"
     ]
    },
    {
     "name": "stderr",
     "output_type": "stream",
     "text": [
      "/tmp/ipykernel_1597/1174025473.py:53: UserWarning: FixedFormatter should only be used together with FixedLocator\n",
      "  ax_1.set_xticklabels(labels=graph.sort_values(by='NA').index, rotation=90)\n",
      "/tmp/ipykernel_1597/1174025473.py:54: UserWarning: FixedFormatter should only be used together with FixedLocator\n",
      "  ax_2.set_xticklabels(labels=graph.sort_values(by='EU').index, rotation=90)\n",
      "/tmp/ipykernel_1597/1174025473.py:55: UserWarning: FixedFormatter should only be used together with FixedLocator\n",
      "  ax_3.set_xticklabels(labels=graph.sort_values(by='JP').index, rotation=90)\n"
     ]
    },
    {
     "data": {
      "image/png": "[encoded data removed]",
      "text/plain": [
       "<Figure size 1224x360 with 3 Axes>"
      ]
     },
     "metadata": {},
     "output_type": "display_data"
    }
   ],
   "source": [
    "region_platform_data = actual_period.pivot_table(\n",
    "    index=\"platform\", \n",
    "    values=[\"na_sales\", \"eu_sales\", \"jp_sales\", \"total_sales\"], \n",
    "    aggfunc=\"sum\"\n",
    ")\n",
    "\n",
    "# создание колонок для вычисления долей от общих продаж в регионе\n",
    "\n",
    "platforms_distr = pd.DataFrame()\n",
    "\n",
    "platforms_distr['part_na'] = region_platform_data['na_sales'] / actual_period['na_sales'].sum()\n",
    "platforms_distr['part_eu'] = region_platform_data['eu_sales'] / actual_period['eu_sales'].sum()\n",
    "platforms_distr['part_jp'] = region_platform_data['jp_sales'] / actual_period['jp_sales'].sum()\n",
    "\n",
    "dict = {'part_na': 'NA', 'part_eu': 'EU', 'part_jp': 'JP'}\n",
    "\n",
    "platforms = platforms_distr.index\n",
    "\n",
    "# цикл для создания и распечатки статистики\n",
    "\n",
    "for reg in [\"part_na\", \"part_eu\", \"part_jp\"]:\n",
    "    reg_top = [i for i in platforms_distr[reg].sort_values(ascending=False).head().index]\n",
    "    print(f\"Регион: {dict[reg]} | Топ: {reg_top} | Доля: {platforms_distr.loc[reg_top, reg].sum():.2%}\")\n",
    "    \n",
    "    # цикл для выделения топовых категорий\n",
    "    \n",
    "    for index in reg_top:\n",
    "        platforms_distr.loc[index, dict[reg]] = platforms_distr.loc[index, reg]\n",
    "        \n",
    "    # выделение НЕ топовых категорий в остальные\n",
    "    \n",
    "    platforms_distr.loc['Other', dict[reg]] = platforms_distr.loc[set(platforms)-set(reg_top), reg].sum(axis=0)\n",
    "    \n",
    "# построение графиков\n",
    "\n",
    "# таблица без НЕ входящих в топ жанров\n",
    "\n",
    "graph = platforms_distr.drop('Other', axis=0)\n",
    "\n",
    "sns.set(style='whitegrid', rc={\"figure.figsize\":(17 , 5)})\n",
    "\n",
    "fig = plt.figure()\n",
    "fig.suptitle('Топ - 5 платформ для каждого региона', fontsize=16)\n",
    "\n",
    "ax_1 = fig.add_subplot(1, 3, 1)\n",
    "ax_2 = fig.add_subplot(1, 3, 2)\n",
    "ax_3 = fig.add_subplot(1, 3, 3)\n",
    "\n",
    "ax_1.set(title = 'NA')\n",
    "ax_2.set(title = 'EU')\n",
    "ax_3.set(title = 'JP')\n",
    "\n",
    "ax_1.set_xticklabels(labels=graph.sort_values(by='NA').index, rotation=90)\n",
    "ax_2.set_xticklabels(labels=graph.sort_values(by='EU').index, rotation=90)\n",
    "ax_3.set_xticklabels(labels=graph.sort_values(by='JP').index, rotation=90)\n",
    "\n",
    "ax_1.bar(x=graph.index, height='NA', data=graph.sort_values(by='NA'), color='red')\n",
    "ax_2.bar(x=graph.index, height='EU', data=graph.sort_values(by='EU'), color='green')\n",
    "ax_3.bar(x=graph.index, height='JP', data=graph.sort_values(by='JP'), color='blue')\n",
    "\n",
    "plt.show()"
   ]
  },
  {
   "cell_type": "markdown",
   "id": "f5ee5ab6",
   "metadata": {},
   "source": [
    "В топ популярных платформ входят **PS4, XOne, 3DS, PS3** из-за присутствия во всех регионах. Топы Америки и Европы различаются преобладающими **X360 и PC**. В Японии наиболее популярна **3DS**"
   ]
  },
  {
   "cell_type": "markdown",
   "id": "48f64c1c",
   "metadata": {},
   "source": [
    "**Топ-5 жанров**"
   ]
  },
  {
   "cell_type": "code",
   "execution_count": 42,
   "id": "7c236c98",
   "metadata": {},
   "outputs": [
    {
     "name": "stdout",
     "output_type": "stream",
     "text": [
      "Регион: NA | Топ: ['Shooter', 'Action', 'Sports', 'Role-Playing', 'Misc'] | Доля: 86.67%\n",
      "Регион: EU | Топ: ['Action', 'Shooter', 'Sports', 'Role-Playing', 'Racing'] | Доля: 84.32%\n",
      "Регион: JP | Топ: ['Role-Playing', 'Action', 'Fighting', 'Misc', 'Shooter'] | Доля: 83.35%\n"
     ]
    },
    {
     "name": "stderr",
     "output_type": "stream",
     "text": [
      "/tmp/ipykernel_1597/3431062431.py:51: UserWarning: FixedFormatter should only be used together with FixedLocator\n",
      "  ax_1.set_xticklabels(labels=graph.sort_values(by='NA').index, rotation=90)\n",
      "/tmp/ipykernel_1597/3431062431.py:52: UserWarning: FixedFormatter should only be used together with FixedLocator\n",
      "  ax_2.set_xticklabels(labels=graph.sort_values(by='EU').index, rotation=90)\n",
      "/tmp/ipykernel_1597/3431062431.py:53: UserWarning: FixedFormatter should only be used together with FixedLocator\n",
      "  ax_3.set_xticklabels(labels=graph.sort_values(by='JP').index, rotation=90)\n"
     ]
    },
    {
     "data": {
      "image/png": "[encoded data removed]",
      "text/plain": [
       "<Figure size 1224x360 with 3 Axes>"
      ]
     },
     "metadata": {},
     "output_type": "display_data"
    }
   ],
   "source": [
    "region_genre_data = actual_period.pivot_table(\n",
    "    index=\"genre\", \n",
    "    values=[\"na_sales\", \"eu_sales\", \"jp_sales\", \"total_sales\"], \n",
    "    aggfunc=\"sum\"\n",
    ")\n",
    "\n",
    "# создание колонок для вычисления долей от общих продаж в регионе\n",
    "\n",
    "genre_distr = pd.DataFrame()\n",
    "\n",
    "genre_distr['part_na'] = region_genre_data['na_sales'] / actual_period['na_sales'].sum()\n",
    "genre_distr['part_eu'] = region_genre_data['eu_sales'] / actual_period['eu_sales'].sum()\n",
    "genre_distr['part_jp'] = region_genre_data['jp_sales'] / actual_period['jp_sales'].sum()\n",
    "\n",
    "genres = genre_distr.index\n",
    "\n",
    "# цикл для создания и распечатки статистики\n",
    "\n",
    "for reg in [\"part_na\", \"part_eu\", \"part_jp\"]:\n",
    "    reg_top = [i for i in genre_distr[reg].sort_values(ascending=False).head().index]\n",
    "    print(f\"Регион: {dict[reg]} | Топ: {reg_top} | Доля: {genre_distr.loc[reg_top, reg].sum():.2%}\")\n",
    "    \n",
    "    # цикл для выделения топовых категорий\n",
    "    \n",
    "    for index in reg_top:\n",
    "        genre_distr.loc[index, dict[reg]] = genre_distr.loc[index, reg]\n",
    "        \n",
    "    # выделение НЕ топовых категорий в остальные\n",
    "    \n",
    "    genre_distr.loc['Other', dict[reg]] = genre_distr.loc[set(genres)-set(reg_top), reg].sum(axis=0)\n",
    "    \n",
    "# построение графиков\n",
    "\n",
    "# таблица без НЕ входящих в топ жанров\n",
    "\n",
    "graph = genre_distr.drop('Other', axis=0)\n",
    "\n",
    "sns.set(style='whitegrid', rc={\"figure.figsize\":(17 , 5)})\n",
    "\n",
    "fig = plt.figure()\n",
    "fig.suptitle('Топ - 5 жанров для каждого региона', fontsize=16)\n",
    "\n",
    "ax_1 = fig.add_subplot(1, 3, 1)\n",
    "ax_2 = fig.add_subplot(1, 3, 2)\n",
    "ax_3 = fig.add_subplot(1, 3, 3)\n",
    "\n",
    "ax_1.set(title = 'NA')\n",
    "ax_2.set(title = 'EU')\n",
    "ax_3.set(title = 'JP')\n",
    "\n",
    "ax_1.set_xticklabels(labels=graph.sort_values(by='NA').index, rotation=90)\n",
    "ax_2.set_xticklabels(labels=graph.sort_values(by='EU').index, rotation=90)\n",
    "ax_3.set_xticklabels(labels=graph.sort_values(by='JP').index, rotation=90)\n",
    "\n",
    "ax_1.bar(x=graph.index, height='NA', data=graph.sort_values(by='NA'), color='red')\n",
    "ax_2.bar(x=graph.index, height='EU', data=graph.sort_values(by='EU'), color='green')\n",
    "ax_3.bar(x=graph.index, height='JP', data=graph.sort_values(by='JP'), color='blue')\n",
    "\n",
    "plt.show()"
   ]
  },
  {
   "cell_type": "markdown",
   "id": "ea60a797",
   "metadata": {},
   "source": [
    "Жанры в Америке и Европе так же схожи за исключением **Misc** (NA) и **Racing** (EU). Самый популярный жанр в совокупности: **Action.**"
   ]
  },
  {
   "cell_type": "markdown",
   "id": "d3a066a6",
   "metadata": {},
   "source": [
    "**Влияние рейтинга ESRB на продажи в отдельном регионе**\n",
    "\n",
    "Описание значений в колонке с рейтингом:  \n",
    "**T** - (Teen) для подростков  \n",
    "**M** - (Mature) для взрослых  \n",
    "**E** - (Everyone) для всех  \n",
    "**E10+** - (Everyone 10 and older) для всех старше 10 лет"
   ]
  },
  {
   "cell_type": "code",
   "execution_count": 43,
   "id": "fac310f0",
   "metadata": {},
   "outputs": [
    {
     "name": "stdout",
     "output_type": "stream",
     "text": [
      "    rating  eu_sales  jp_sales  na_sales        na        eu        jp\n",
      "0        E     58.06      8.94     50.74  0.526239  0.621361  0.157118\n",
      "1     E10+     26.16      4.46     33.23  0.344638  0.279966  0.078383\n",
      "2        M     93.44      8.01     96.42  1.000000  1.000000  0.140773\n",
      "3        T     34.07     14.78     38.95  0.403962  0.364619  0.259754\n",
      "4  unknown     58.95     56.90     64.72  0.671230  0.630886  1.000000 \n",
      "============================\n",
      "    rating  count     ratio\n",
      "0        E    219  0.292390\n",
      "1     E10+    185  0.246996\n",
      "2        M    265  0.353805\n",
      "3        T    271  0.361816\n",
      "4  unknown    749  1.000000\n"
     ]
    },
    {
     "data": {
      "image/png": "[encoded data removed]",
      "text/plain": [
       "<Figure size 1080x504 with 1 Axes>"
      ]
     },
     "metadata": {},
     "output_type": "display_data"
    }
   ],
   "source": [
    "region_esrb_data = actual_period.pivot_table(index=\"rating\",\n",
    "                                             values=[\"na_sales\", \"eu_sales\", \"jp_sales\"], \n",
    "                                             aggfunc=\"sum\").reset_index()\n",
    "\n",
    "freq = actual_period.pivot_table(index=\"rating\",\n",
    "                      values='total_sales', \n",
    "                      aggfunc='count').reset_index()\n",
    "\n",
    "freq['ratio'] = freq['total_sales'] / freq['total_sales'].max()\n",
    "freq.columns = ['rating', 'count', 'ratio']\n",
    "\n",
    "region_esrb_data['na'] = region_esrb_data['na_sales'] / max(region_esrb_data['na_sales'])\n",
    "region_esrb_data['eu'] = region_esrb_data['eu_sales'] / max(region_esrb_data['eu_sales'])\n",
    "region_esrb_data['jp'] = region_esrb_data['jp_sales'] / max(region_esrb_data['jp_sales'])\n",
    "\n",
    "print(region_esrb_data, '\\n============================')\n",
    "print(freq)\n",
    "\n",
    "sns.set(style='whitegrid', rc={\"figure.figsize\":(15 , 7)})\n",
    "\n",
    "freq.plot(x='rating', y='ratio', kind='bar')\n",
    "plt.title('Нормированный график частоты игр определённого рейтинга', fontsize=20)\n",
    "plt.show()"
   ]
  },
  {
   "cell_type": "code",
   "execution_count": 44,
   "id": "23966af9",
   "metadata": {},
   "outputs": [
    {
     "data": {
      "image/png": "[encoded data removed]",
      "text/plain": [
       "<Figure size 1080x360 with 1 Axes>"
      ]
     },
     "metadata": {},
     "output_type": "display_data"
    }
   ],
   "source": [
    "sns.set(style='whitegrid', rc={\"figure.figsize\":(15 , 5)})\n",
    "region_esrb_data.plot(x='rating', y=['na', 'eu', 'jp'], kind='bar')\n",
    "plt.title('Нормированный график региональных продаж в зависимости от рейтинга', fontsize=20)\n",
    "plt.xticks(rotation=0)\n",
    "plt.show()"
   ]
  },
  {
   "cell_type": "markdown",
   "id": "aeb6d22b",
   "metadata": {},
   "source": [
    "Рейтинг ESRB влияет на продажу. Так игры с рейтингом **M** продаются лучше всего в Северной Америке и Европе. В Японии лучше всего продаются игры с рейтингом **T**, однако рекорд по продажам расположен в категории **unknown** в которую входят игры со случайно пропущеным рейтингом или не имеющие рейтинга ESRB."
   ]
  },
  {
   "cell_type": "markdown",
   "id": "e61dcb20",
   "metadata": {},
   "source": [
    "## Проверка гипотез"
   ]
  },
  {
   "cell_type": "markdown",
   "id": "99367396",
   "metadata": {},
   "source": [
    "* Нулевая гипотеза №1 => Средние пользовательские рейтинги платформ **XBox One** и **PC** равны\n",
    "* Альтернативная гипотеза №1 => Средние пользовательские рейтинги платформ **XBox One** и **PC** НЕ равны\n",
    "\n",
    "\n",
    "* Нулевая гипотеза №2 => Средние пользовательские рейтинги жанров **action** и **sports** равны\n",
    "* Альтернативная гипотеза №2 => Средние пользовательские рейтинги жанров **action** и **sports** НЕ равны\n",
    "\n",
    "Для проверки гипотез будем использовать метод scipy.stats.ttest_ind(), использующийся для сравнения средних двух независимых генеральных совокупностей по взятым из них выборкам."
   ]
  },
  {
   "cell_type": "markdown",
   "id": "f7037790",
   "metadata": {},
   "source": [
    "**Гипотеза №1**"
   ]
  },
  {
   "cell_type": "code",
   "execution_count": 45,
   "id": "b780343a",
   "metadata": {},
   "outputs": [
    {
     "name": "stdout",
     "output_type": "stream",
     "text": [
      "p-значение: 0.04669916402848308\n",
      "Не получилось отвергнуть нулевую гипотезу\n"
     ]
    }
   ],
   "source": [
    "# форммирование серий для проверки гипотез\n",
    "\n",
    "pc = actual_period.query('platform == \"pc\" and user_score.isna() == False')['user_score']\n",
    "xone = actual_period.query('platform == \"xone\" and user_score.isna() == False')['user_score']\n",
    "\n",
    "# критический уровень статистической значимости\n",
    "\n",
    "alpha = 0.01\n",
    "\n",
    "results = st.ttest_ind(pc, xone, equal_var=False)\n",
    "\n",
    "print('p-значение:', results.pvalue)\n",
    "\n",
    "if results.pvalue < alpha:\n",
    "    print(\"Отвергаем нулевую гипотезу\")\n",
    "else:\n",
    "    print(\"Не получилось отвергнуть нулевую гипотезу\")"
   ]
  },
  {
   "cell_type": "markdown",
   "id": "b61d57b1",
   "metadata": {},
   "source": [
    "**Гипотеза №2**"
   ]
  },
  {
   "cell_type": "code",
   "execution_count": 46,
   "id": "9f2b248d",
   "metadata": {},
   "outputs": [
    {
     "name": "stdout",
     "output_type": "stream",
     "text": [
      "p-значение: 1.0380665060277228e-17\n",
      "Отвергаем нулевую гипотезу\n"
     ]
    }
   ],
   "source": [
    "# формирование серий для проверки гипотез\n",
    "\n",
    "action = actual_period.query('genre == \"Action\" and user_score.isna() == False')['user_score']\n",
    "sports = actual_period.query('genre == \"Sports\" and user_score.isna() == False')['user_score']\n",
    "\n",
    "results = st.ttest_ind(action, sports, equal_var=False)\n",
    "\n",
    "print('p-значение:', results.pvalue)\n",
    "\n",
    "if results.pvalue < alpha:\n",
    "    print(\"Отвергаем нулевую гипотезу\")\n",
    "else:\n",
    "    print(\"Не получилось отвергнуть нулевую гипотезу\")"
   ]
  },
  {
   "cell_type": "markdown",
   "id": "08bee7dc",
   "metadata": {},
   "source": [
    "**Вывод:** \n",
    "* средние значения пользовательских оценок **XBox One** и **PC** равны\n",
    "* средние значения пользовательских оценок **Action** и **Sports** не равны"
   ]
  },
  {
   "cell_type": "markdown",
   "id": "547233ae",
   "metadata": {},
   "source": [
    "## Общий вывод"
   ]
  },
  {
   "cell_type": "markdown",
   "id": "8197045a",
   "metadata": {},
   "source": [
    "На основе анализа данных предоставленных интернет-магазином по продаже компьютерных игр за промежуток времени с 1980 по 2016 год был выбран актуальный промежуток времени с 2014 по 2016 год с целью прогнозирования продаж на 2017 год и установлены следующие факты:\n",
    "\n",
    "* Характерный период существования платформы составляет в среднем 10 лет\n",
    "* Существует умеренная корреляция между оценками критиков и продажами игр.\n",
    "* Жанр с самым высоким спросом: **action**\n",
    "* Самый прибыльный в расчёте на единицу жанр: **shooter**\n",
    "* Определили потенциально прибыльные платформы: **PS4, XOne, 3DS, PC, PSV**\n",
    "* Самые популярные платформы в регионах: \n",
    "    - **Северная Америка:** Топ: PS4, XOne, X360, 3DS, PS3 **|**Доля **89.02%**\n",
    "    - **Европа:** Топ: PS4, XOne, PS3, PC, 3DS **|** Доля **87.16%**\n",
    "    - **Япония:** Топ: 3DS, PS4, PSV, PS3, Wii U **|** Доля **99.18%**\n",
    "* Самые популярные жанры в регионах:\n",
    "    - **Северная Америка:** Shooter, Action, Sports, Role-Playing, Misc **|** Доля **86.67%**\n",
    "    - **Европа:** Action, Shooter, Sports, Role-Playing, Racing **|** Доля **84.32%**\n",
    "    - **Япония:** Role-Playing, Action, Fighting, Misc, Shooter **|** Доля **83.35%**\n",
    "* Рейтинг ESRB влияет на региональные продажи: Рекордные продажи игр в Америке и Европе имеют рейтинг **M**.\n",
    "* Средние значения пользовательских рейтингов платформ **XOne** и **PC** примерно однаковые\n",
    "* Отвергнута гипотеза о сравнестве средних значений оценок для жанров **Action** и **Sports**"
   ]
  }
 ],
 "metadata": {
  "ExecuteTimeLog": [
   {
    "duration": 48,
    "start_time": "2022-10-11T21:08:09.241Z"
   },
   {
    "duration": 1364,
    "start_time": "2022-10-11T21:08:19.761Z"
   },
   {
    "duration": 58,
    "start_time": "2022-10-11T21:08:21.128Z"
   },
   {
    "duration": 2,
    "start_time": "2022-10-11T21:08:21.188Z"
   },
   {
    "duration": 25,
    "start_time": "2022-10-11T21:08:21.192Z"
   },
   {
    "duration": 3,
    "start_time": "2022-10-11T21:08:21.219Z"
   },
   {
    "duration": 18,
    "start_time": "2022-10-11T21:08:21.224Z"
   },
   {
    "duration": 4,
    "start_time": "2022-10-11T21:08:21.244Z"
   },
   {
    "duration": 15,
    "start_time": "2022-10-11T21:08:21.250Z"
   },
   {
    "duration": 35,
    "start_time": "2022-10-11T21:08:21.266Z"
   },
   {
    "duration": 118,
    "start_time": "2022-10-11T21:08:21.302Z"
   },
   {
    "duration": 0,
    "start_time": "2022-10-11T21:08:21.424Z"
   },
   {
    "duration": 0,
    "start_time": "2022-10-11T21:08:21.425Z"
   },
   {
    "duration": 0,
    "start_time": "2022-10-11T21:08:21.426Z"
   },
   {
    "duration": 0,
    "start_time": "2022-10-11T21:08:21.427Z"
   },
   {
    "duration": 0,
    "start_time": "2022-10-11T21:08:21.428Z"
   },
   {
    "duration": 0,
    "start_time": "2022-10-11T21:08:21.429Z"
   },
   {
    "duration": 0,
    "start_time": "2022-10-11T21:08:21.430Z"
   },
   {
    "duration": 0,
    "start_time": "2022-10-11T21:08:21.431Z"
   },
   {
    "duration": 0,
    "start_time": "2022-10-11T21:08:21.432Z"
   },
   {
    "duration": 0,
    "start_time": "2022-10-11T21:08:21.433Z"
   },
   {
    "duration": 0,
    "start_time": "2022-10-11T21:08:21.434Z"
   },
   {
    "duration": 0,
    "start_time": "2022-10-11T21:08:21.434Z"
   },
   {
    "duration": 0,
    "start_time": "2022-10-11T21:08:21.436Z"
   },
   {
    "duration": 0,
    "start_time": "2022-10-11T21:08:21.436Z"
   },
   {
    "duration": 0,
    "start_time": "2022-10-11T21:08:21.438Z"
   },
   {
    "duration": 0,
    "start_time": "2022-10-11T21:08:21.439Z"
   },
   {
    "duration": 0,
    "start_time": "2022-10-11T21:08:21.440Z"
   },
   {
    "duration": 0,
    "start_time": "2022-10-11T21:08:21.441Z"
   },
   {
    "duration": 0,
    "start_time": "2022-10-11T21:08:21.442Z"
   },
   {
    "duration": 0,
    "start_time": "2022-10-11T21:08:21.443Z"
   },
   {
    "duration": 0,
    "start_time": "2022-10-11T21:08:21.444Z"
   },
   {
    "duration": 0,
    "start_time": "2022-10-11T21:08:21.445Z"
   },
   {
    "duration": 0,
    "start_time": "2022-10-11T21:08:21.446Z"
   },
   {
    "duration": 0,
    "start_time": "2022-10-11T21:08:21.447Z"
   },
   {
    "duration": 0,
    "start_time": "2022-10-11T21:08:21.448Z"
   },
   {
    "duration": 0,
    "start_time": "2022-10-11T21:08:21.449Z"
   },
   {
    "duration": 0,
    "start_time": "2022-10-11T21:08:21.450Z"
   },
   {
    "duration": 0,
    "start_time": "2022-10-11T21:08:21.496Z"
   },
   {
    "duration": 0,
    "start_time": "2022-10-11T21:08:21.498Z"
   },
   {
    "duration": 0,
    "start_time": "2022-10-11T21:08:21.499Z"
   },
   {
    "duration": 0,
    "start_time": "2022-10-11T21:08:21.500Z"
   },
   {
    "duration": 0,
    "start_time": "2022-10-11T21:08:21.501Z"
   },
   {
    "duration": 0,
    "start_time": "2022-10-11T21:08:21.502Z"
   },
   {
    "duration": 0,
    "start_time": "2022-10-11T21:08:21.503Z"
   },
   {
    "duration": 0,
    "start_time": "2022-10-11T21:08:21.504Z"
   },
   {
    "duration": 0,
    "start_time": "2022-10-11T21:08:21.505Z"
   },
   {
    "duration": 0,
    "start_time": "2022-10-11T21:08:21.506Z"
   },
   {
    "duration": 0,
    "start_time": "2022-10-11T21:08:21.507Z"
   },
   {
    "duration": 0,
    "start_time": "2022-10-11T21:08:21.508Z"
   },
   {
    "duration": 0,
    "start_time": "2022-10-11T21:08:21.509Z"
   },
   {
    "duration": 0,
    "start_time": "2022-10-11T21:08:21.510Z"
   },
   {
    "duration": 1320,
    "start_time": "2022-10-11T21:09:42.537Z"
   },
   {
    "duration": 52,
    "start_time": "2022-10-11T21:09:43.859Z"
   },
   {
    "duration": 3,
    "start_time": "2022-10-11T21:09:43.912Z"
   },
   {
    "duration": 24,
    "start_time": "2022-10-11T21:09:43.917Z"
   },
   {
    "duration": 5,
    "start_time": "2022-10-11T21:09:43.943Z"
   },
   {
    "duration": 19,
    "start_time": "2022-10-11T21:09:43.949Z"
   },
   {
    "duration": 5,
    "start_time": "2022-10-11T21:09:43.970Z"
   },
   {
    "duration": 15,
    "start_time": "2022-10-11T21:09:43.997Z"
   },
   {
    "duration": 13,
    "start_time": "2022-10-11T21:09:44.014Z"
   },
   {
    "duration": 35,
    "start_time": "2022-10-11T21:09:44.029Z"
   },
   {
    "duration": 231,
    "start_time": "2022-10-11T21:09:44.066Z"
   },
   {
    "duration": 6,
    "start_time": "2022-10-11T21:09:44.298Z"
   },
   {
    "duration": 43,
    "start_time": "2022-10-11T21:09:44.305Z"
   },
   {
    "duration": 30,
    "start_time": "2022-10-11T21:09:44.350Z"
   },
   {
    "duration": 13,
    "start_time": "2022-10-11T21:09:44.382Z"
   },
   {
    "duration": 42,
    "start_time": "2022-10-11T21:09:44.397Z"
   },
   {
    "duration": 41,
    "start_time": "2022-10-11T21:09:44.441Z"
   },
   {
    "duration": 323,
    "start_time": "2022-10-11T21:09:44.485Z"
   },
   {
    "duration": 3,
    "start_time": "2022-10-11T21:09:44.810Z"
   },
   {
    "duration": 1070,
    "start_time": "2022-10-11T21:09:44.815Z"
   },
   {
    "duration": 706,
    "start_time": "2022-10-11T21:09:45.887Z"
   },
   {
    "duration": 11,
    "start_time": "2022-10-11T21:09:46.596Z"
   },
   {
    "duration": 221,
    "start_time": "2022-10-11T21:09:46.609Z"
   },
   {
    "duration": 10,
    "start_time": "2022-10-11T21:09:46.832Z"
   },
   {
    "duration": 37,
    "start_time": "2022-10-11T21:09:46.844Z"
   },
   {
    "duration": 32,
    "start_time": "2022-10-11T21:09:46.883Z"
   },
   {
    "duration": 9,
    "start_time": "2022-10-11T21:09:46.917Z"
   },
   {
    "duration": 35,
    "start_time": "2022-10-11T21:09:46.928Z"
   },
   {
    "duration": 19,
    "start_time": "2022-10-11T21:09:46.965Z"
   },
   {
    "duration": 51,
    "start_time": "2022-10-11T21:09:46.986Z"
   },
   {
    "duration": 14,
    "start_time": "2022-10-11T21:09:47.038Z"
   },
   {
    "duration": 1340,
    "start_time": "2022-10-11T21:09:47.054Z"
   },
   {
    "duration": 4,
    "start_time": "2022-10-11T21:09:48.397Z"
   },
   {
    "duration": 19,
    "start_time": "2022-10-11T21:09:48.403Z"
   },
   {
    "duration": 374,
    "start_time": "2022-10-11T21:09:48.424Z"
   },
   {
    "duration": 15,
    "start_time": "2022-10-11T21:09:48.799Z"
   },
   {
    "duration": 381,
    "start_time": "2022-10-11T21:09:48.816Z"
   },
   {
    "duration": 8,
    "start_time": "2022-10-11T21:09:49.199Z"
   },
   {
    "duration": 36,
    "start_time": "2022-10-11T21:09:49.208Z"
   },
   {
    "duration": 316,
    "start_time": "2022-10-11T21:09:49.246Z"
   },
   {
    "duration": 235,
    "start_time": "2022-10-11T21:09:49.566Z"
   },
   {
    "duration": 297,
    "start_time": "2022-10-11T21:09:49.803Z"
   },
   {
    "duration": 378,
    "start_time": "2022-10-11T21:09:50.102Z"
   },
   {
    "duration": 404,
    "start_time": "2022-10-11T21:09:50.482Z"
   },
   {
    "duration": 466,
    "start_time": "2022-10-11T21:09:50.888Z"
   },
   {
    "duration": 20,
    "start_time": "2022-10-11T21:09:51.356Z"
   },
   {
    "duration": 36,
    "start_time": "2022-10-11T21:09:51.378Z"
   },
   {
    "duration": 239,
    "start_time": "2022-10-11T21:09:51.415Z"
   },
   {
    "duration": 3,
    "start_time": "2022-10-11T21:09:51.656Z"
   },
   {
    "duration": 15,
    "start_time": "2022-10-11T21:09:51.660Z"
   },
   {
    "duration": 26,
    "start_time": "2022-10-11T21:09:51.676Z"
   },
   {
    "duration": 1357,
    "start_time": "2022-10-11T21:14:10.981Z"
   },
   {
    "duration": 52,
    "start_time": "2022-10-11T21:14:12.340Z"
   },
   {
    "duration": 2,
    "start_time": "2022-10-11T21:14:12.394Z"
   },
   {
    "duration": 23,
    "start_time": "2022-10-11T21:14:12.398Z"
   },
   {
    "duration": 2,
    "start_time": "2022-10-11T21:14:12.423Z"
   },
   {
    "duration": 19,
    "start_time": "2022-10-11T21:14:12.427Z"
   },
   {
    "duration": 4,
    "start_time": "2022-10-11T21:14:12.447Z"
   },
   {
    "duration": 17,
    "start_time": "2022-10-11T21:14:12.453Z"
   },
   {
    "duration": 27,
    "start_time": "2022-10-11T21:14:12.472Z"
   },
   {
    "duration": 27,
    "start_time": "2022-10-11T21:14:12.501Z"
   },
   {
    "duration": 204,
    "start_time": "2022-10-11T21:14:12.530Z"
   },
   {
    "duration": 28,
    "start_time": "2022-10-11T21:14:12.736Z"
   },
   {
    "duration": 5,
    "start_time": "2022-10-11T21:14:12.766Z"
   },
   {
    "duration": 35,
    "start_time": "2022-10-11T21:14:12.773Z"
   },
   {
    "duration": 4,
    "start_time": "2022-10-11T21:14:12.810Z"
   },
   {
    "duration": 7,
    "start_time": "2022-10-11T21:14:12.816Z"
   },
   {
    "duration": 19,
    "start_time": "2022-10-11T21:14:12.824Z"
   },
   {
    "duration": 275,
    "start_time": "2022-10-11T21:14:12.844Z"
   },
   {
    "duration": 2,
    "start_time": "2022-10-11T21:14:13.121Z"
   },
   {
    "duration": 1040,
    "start_time": "2022-10-11T21:14:13.124Z"
   },
   {
    "duration": 745,
    "start_time": "2022-10-11T21:14:14.166Z"
   },
   {
    "duration": 11,
    "start_time": "2022-10-11T21:14:14.912Z"
   },
   {
    "duration": 220,
    "start_time": "2022-10-11T21:14:14.925Z"
   },
   {
    "duration": 9,
    "start_time": "2022-10-11T21:14:15.147Z"
   },
   {
    "duration": 13,
    "start_time": "2022-10-11T21:14:15.158Z"
   },
   {
    "duration": 9,
    "start_time": "2022-10-11T21:14:15.196Z"
   },
   {
    "duration": 5,
    "start_time": "2022-10-11T21:14:15.207Z"
   },
   {
    "duration": 6,
    "start_time": "2022-10-11T21:14:15.213Z"
   },
   {
    "duration": 7,
    "start_time": "2022-10-11T21:14:15.220Z"
   },
   {
    "duration": 26,
    "start_time": "2022-10-11T21:14:15.229Z"
   },
   {
    "duration": 5,
    "start_time": "2022-10-11T21:14:15.256Z"
   },
   {
    "duration": 1250,
    "start_time": "2022-10-11T21:14:15.263Z"
   },
   {
    "duration": 3,
    "start_time": "2022-10-11T21:14:16.515Z"
   },
   {
    "duration": 7,
    "start_time": "2022-10-11T21:14:16.521Z"
   },
   {
    "duration": 332,
    "start_time": "2022-10-11T21:14:16.530Z"
   },
   {
    "duration": 15,
    "start_time": "2022-10-11T21:14:16.864Z"
   },
   {
    "duration": 389,
    "start_time": "2022-10-11T21:14:16.881Z"
   },
   {
    "duration": 7,
    "start_time": "2022-10-11T21:14:17.271Z"
   },
   {
    "duration": 31,
    "start_time": "2022-10-11T21:14:17.279Z"
   },
   {
    "duration": 303,
    "start_time": "2022-10-11T21:14:17.312Z"
   },
   {
    "duration": 228,
    "start_time": "2022-10-11T21:14:17.619Z"
   },
   {
    "duration": 347,
    "start_time": "2022-10-11T21:14:17.849Z"
   },
   {
    "duration": 390,
    "start_time": "2022-10-11T21:14:18.199Z"
   },
   {
    "duration": 388,
    "start_time": "2022-10-11T21:14:18.591Z"
   },
   {
    "duration": 433,
    "start_time": "2022-10-11T21:14:18.981Z"
   },
   {
    "duration": 17,
    "start_time": "2022-10-11T21:14:19.416Z"
   },
   {
    "duration": 18,
    "start_time": "2022-10-11T21:14:19.435Z"
   },
   {
    "duration": 235,
    "start_time": "2022-10-11T21:14:19.456Z"
   },
   {
    "duration": 3,
    "start_time": "2022-10-11T21:14:19.696Z"
   },
   {
    "duration": 15,
    "start_time": "2022-10-11T21:14:19.700Z"
   },
   {
    "duration": 15,
    "start_time": "2022-10-11T21:14:19.716Z"
   },
   {
    "duration": 18,
    "start_time": "2022-10-11T21:22:54.333Z"
   },
   {
    "duration": 19,
    "start_time": "2022-10-11T23:06:34.429Z"
   },
   {
    "duration": 20,
    "start_time": "2022-10-11T23:07:08.485Z"
   },
   {
    "duration": 15,
    "start_time": "2022-10-11T23:11:10.268Z"
   },
   {
    "duration": 20,
    "start_time": "2022-10-11T23:21:03.037Z"
   },
   {
    "duration": 1337,
    "start_time": "2022-10-11T23:28:16.072Z"
   },
   {
    "duration": 50,
    "start_time": "2022-10-11T23:28:17.411Z"
   },
   {
    "duration": 2,
    "start_time": "2022-10-11T23:28:17.462Z"
   },
   {
    "duration": 24,
    "start_time": "2022-10-11T23:28:17.466Z"
   },
   {
    "duration": 2,
    "start_time": "2022-10-11T23:28:17.492Z"
   },
   {
    "duration": 22,
    "start_time": "2022-10-11T23:28:17.496Z"
   },
   {
    "duration": 5,
    "start_time": "2022-10-11T23:28:17.520Z"
   },
   {
    "duration": 19,
    "start_time": "2022-10-11T23:28:17.526Z"
   },
   {
    "duration": 11,
    "start_time": "2022-10-11T23:28:17.546Z"
   },
   {
    "duration": 46,
    "start_time": "2022-10-11T23:28:17.560Z"
   },
   {
    "duration": 200,
    "start_time": "2022-10-11T23:28:17.608Z"
   },
   {
    "duration": 28,
    "start_time": "2022-10-11T23:28:17.810Z"
   },
   {
    "duration": 6,
    "start_time": "2022-10-11T23:28:17.839Z"
   },
   {
    "duration": 21,
    "start_time": "2022-10-11T23:28:17.846Z"
   },
   {
    "duration": 4,
    "start_time": "2022-10-11T23:28:17.869Z"
   },
   {
    "duration": 26,
    "start_time": "2022-10-11T23:28:17.875Z"
   },
   {
    "duration": 25,
    "start_time": "2022-10-11T23:28:17.903Z"
   },
   {
    "duration": 303,
    "start_time": "2022-10-11T23:28:17.930Z"
   },
   {
    "duration": 3,
    "start_time": "2022-10-11T23:28:18.234Z"
   },
   {
    "duration": 25,
    "start_time": "2022-10-11T23:28:18.239Z"
   },
   {
    "duration": 1039,
    "start_time": "2022-10-11T23:28:18.266Z"
   },
   {
    "duration": 665,
    "start_time": "2022-10-11T23:28:19.307Z"
   },
   {
    "duration": 10,
    "start_time": "2022-10-11T23:28:19.973Z"
   },
   {
    "duration": 202,
    "start_time": "2022-10-11T23:28:19.984Z"
   },
   {
    "duration": 12,
    "start_time": "2022-10-11T23:28:20.188Z"
   },
   {
    "duration": 12,
    "start_time": "2022-10-11T23:28:20.202Z"
   },
   {
    "duration": 6,
    "start_time": "2022-10-11T23:28:20.216Z"
   },
   {
    "duration": 4,
    "start_time": "2022-10-11T23:28:20.225Z"
   },
   {
    "duration": 17,
    "start_time": "2022-10-11T23:28:20.231Z"
   },
   {
    "duration": 8,
    "start_time": "2022-10-11T23:28:20.249Z"
   },
   {
    "duration": 43,
    "start_time": "2022-10-11T23:28:20.259Z"
   },
   {
    "duration": 4,
    "start_time": "2022-10-11T23:28:20.304Z"
   },
   {
    "duration": 1214,
    "start_time": "2022-10-11T23:28:20.309Z"
   },
   {
    "duration": 3,
    "start_time": "2022-10-11T23:28:21.524Z"
   },
   {
    "duration": 11,
    "start_time": "2022-10-11T23:28:21.529Z"
   },
   {
    "duration": 24,
    "start_time": "2022-10-11T23:28:21.542Z"
   },
   {
    "duration": 318,
    "start_time": "2022-10-11T23:28:21.568Z"
   },
   {
    "duration": 12,
    "start_time": "2022-10-11T23:28:21.897Z"
   },
   {
    "duration": 358,
    "start_time": "2022-10-11T23:28:21.910Z"
   },
   {
    "duration": 7,
    "start_time": "2022-10-11T23:28:22.270Z"
   },
   {
    "duration": 29,
    "start_time": "2022-10-11T23:28:22.278Z"
   },
   {
    "duration": 281,
    "start_time": "2022-10-11T23:28:22.309Z"
   },
   {
    "duration": 222,
    "start_time": "2022-10-11T23:28:22.591Z"
   },
   {
    "duration": 286,
    "start_time": "2022-10-11T23:28:22.814Z"
   },
   {
    "duration": 357,
    "start_time": "2022-10-11T23:28:23.101Z"
   },
   {
    "duration": 357,
    "start_time": "2022-10-11T23:28:23.459Z"
   },
   {
    "duration": 424,
    "start_time": "2022-10-11T23:28:23.818Z"
   },
   {
    "duration": 17,
    "start_time": "2022-10-11T23:28:24.244Z"
   },
   {
    "duration": 16,
    "start_time": "2022-10-11T23:28:24.262Z"
   },
   {
    "duration": 233,
    "start_time": "2022-10-11T23:28:24.297Z"
   },
   {
    "duration": 3,
    "start_time": "2022-10-11T23:28:24.532Z"
   },
   {
    "duration": 21,
    "start_time": "2022-10-11T23:28:24.536Z"
   },
   {
    "duration": 14,
    "start_time": "2022-10-11T23:28:24.560Z"
   },
   {
    "duration": 44,
    "start_time": "2022-10-14T02:38:15.436Z"
   },
   {
    "duration": 1122,
    "start_time": "2022-10-14T02:38:21.359Z"
   },
   {
    "duration": 173,
    "start_time": "2022-10-14T02:38:22.483Z"
   },
   {
    "duration": 0,
    "start_time": "2022-10-14T02:38:22.658Z"
   },
   {
    "duration": 0,
    "start_time": "2022-10-14T02:38:22.659Z"
   },
   {
    "duration": 0,
    "start_time": "2022-10-14T02:38:22.661Z"
   },
   {
    "duration": 0,
    "start_time": "2022-10-14T02:38:22.662Z"
   },
   {
    "duration": 0,
    "start_time": "2022-10-14T02:38:22.663Z"
   },
   {
    "duration": 0,
    "start_time": "2022-10-14T02:38:22.664Z"
   },
   {
    "duration": 0,
    "start_time": "2022-10-14T02:38:22.665Z"
   },
   {
    "duration": 0,
    "start_time": "2022-10-14T02:38:22.666Z"
   },
   {
    "duration": 0,
    "start_time": "2022-10-14T02:38:22.666Z"
   },
   {
    "duration": 0,
    "start_time": "2022-10-14T02:38:22.667Z"
   },
   {
    "duration": 0,
    "start_time": "2022-10-14T02:38:22.668Z"
   },
   {
    "duration": 0,
    "start_time": "2022-10-14T02:38:22.669Z"
   },
   {
    "duration": 0,
    "start_time": "2022-10-14T02:38:22.670Z"
   },
   {
    "duration": 0,
    "start_time": "2022-10-14T02:38:22.670Z"
   },
   {
    "duration": 0,
    "start_time": "2022-10-14T02:38:22.671Z"
   },
   {
    "duration": 0,
    "start_time": "2022-10-14T02:38:22.672Z"
   },
   {
    "duration": 0,
    "start_time": "2022-10-14T02:38:22.673Z"
   },
   {
    "duration": 0,
    "start_time": "2022-10-14T02:38:22.695Z"
   },
   {
    "duration": 0,
    "start_time": "2022-10-14T02:38:22.695Z"
   },
   {
    "duration": 0,
    "start_time": "2022-10-14T02:38:22.696Z"
   },
   {
    "duration": 0,
    "start_time": "2022-10-14T02:38:22.697Z"
   },
   {
    "duration": 0,
    "start_time": "2022-10-14T02:38:22.698Z"
   },
   {
    "duration": 0,
    "start_time": "2022-10-14T02:38:22.699Z"
   },
   {
    "duration": 0,
    "start_time": "2022-10-14T02:38:22.700Z"
   },
   {
    "duration": 0,
    "start_time": "2022-10-14T02:38:22.701Z"
   },
   {
    "duration": 0,
    "start_time": "2022-10-14T02:38:22.702Z"
   },
   {
    "duration": 0,
    "start_time": "2022-10-14T02:38:22.703Z"
   },
   {
    "duration": 0,
    "start_time": "2022-10-14T02:38:22.704Z"
   },
   {
    "duration": 0,
    "start_time": "2022-10-14T02:38:22.705Z"
   },
   {
    "duration": 0,
    "start_time": "2022-10-14T02:38:22.706Z"
   },
   {
    "duration": 0,
    "start_time": "2022-10-14T02:38:22.707Z"
   },
   {
    "duration": 0,
    "start_time": "2022-10-14T02:38:22.708Z"
   },
   {
    "duration": 0,
    "start_time": "2022-10-14T02:38:22.709Z"
   },
   {
    "duration": 0,
    "start_time": "2022-10-14T02:38:22.710Z"
   },
   {
    "duration": 0,
    "start_time": "2022-10-14T02:38:22.710Z"
   },
   {
    "duration": 0,
    "start_time": "2022-10-14T02:38:22.711Z"
   },
   {
    "duration": 0,
    "start_time": "2022-10-14T02:38:22.712Z"
   },
   {
    "duration": 0,
    "start_time": "2022-10-14T02:38:22.713Z"
   },
   {
    "duration": 0,
    "start_time": "2022-10-14T02:38:22.714Z"
   },
   {
    "duration": 0,
    "start_time": "2022-10-14T02:38:22.715Z"
   },
   {
    "duration": 0,
    "start_time": "2022-10-14T02:38:22.715Z"
   },
   {
    "duration": 0,
    "start_time": "2022-10-14T02:38:22.716Z"
   },
   {
    "duration": 0,
    "start_time": "2022-10-14T02:38:22.717Z"
   },
   {
    "duration": 0,
    "start_time": "2022-10-14T02:38:22.718Z"
   },
   {
    "duration": 0,
    "start_time": "2022-10-14T02:38:22.719Z"
   },
   {
    "duration": 0,
    "start_time": "2022-10-14T02:38:22.720Z"
   },
   {
    "duration": 0,
    "start_time": "2022-10-14T02:38:22.721Z"
   },
   {
    "duration": 0,
    "start_time": "2022-10-14T02:38:22.721Z"
   },
   {
    "duration": 0,
    "start_time": "2022-10-14T02:38:22.722Z"
   },
   {
    "duration": 0,
    "start_time": "2022-10-14T02:38:22.723Z"
   },
   {
    "duration": 0,
    "start_time": "2022-10-14T02:38:22.724Z"
   },
   {
    "duration": 0,
    "start_time": "2022-10-14T02:38:22.725Z"
   },
   {
    "duration": 90,
    "start_time": "2022-10-14T02:40:10.433Z"
   },
   {
    "duration": 1047,
    "start_time": "2022-10-14T02:40:17.832Z"
   },
   {
    "duration": 87,
    "start_time": "2022-10-14T02:40:18.881Z"
   },
   {
    "duration": 13,
    "start_time": "2022-10-14T02:40:18.970Z"
   },
   {
    "duration": 6,
    "start_time": "2022-10-14T02:40:18.985Z"
   },
   {
    "duration": 21,
    "start_time": "2022-10-14T02:40:18.993Z"
   },
   {
    "duration": 6,
    "start_time": "2022-10-14T02:40:19.016Z"
   },
   {
    "duration": 17,
    "start_time": "2022-10-14T02:40:19.024Z"
   },
   {
    "duration": 114,
    "start_time": "2022-10-14T02:40:19.042Z"
   },
   {
    "duration": 0,
    "start_time": "2022-10-14T02:40:19.159Z"
   },
   {
    "duration": 0,
    "start_time": "2022-10-14T02:40:19.160Z"
   },
   {
    "duration": 0,
    "start_time": "2022-10-14T02:40:19.162Z"
   },
   {
    "duration": 0,
    "start_time": "2022-10-14T02:40:19.163Z"
   },
   {
    "duration": 0,
    "start_time": "2022-10-14T02:40:19.164Z"
   },
   {
    "duration": 0,
    "start_time": "2022-10-14T02:40:19.165Z"
   },
   {
    "duration": 0,
    "start_time": "2022-10-14T02:40:19.166Z"
   },
   {
    "duration": 0,
    "start_time": "2022-10-14T02:40:19.167Z"
   },
   {
    "duration": 0,
    "start_time": "2022-10-14T02:40:19.168Z"
   },
   {
    "duration": 0,
    "start_time": "2022-10-14T02:40:19.170Z"
   },
   {
    "duration": 0,
    "start_time": "2022-10-14T02:40:19.195Z"
   },
   {
    "duration": 0,
    "start_time": "2022-10-14T02:40:19.196Z"
   },
   {
    "duration": 0,
    "start_time": "2022-10-14T02:40:19.198Z"
   },
   {
    "duration": 0,
    "start_time": "2022-10-14T02:40:19.199Z"
   },
   {
    "duration": 0,
    "start_time": "2022-10-14T02:40:19.201Z"
   },
   {
    "duration": 0,
    "start_time": "2022-10-14T02:40:19.202Z"
   },
   {
    "duration": 0,
    "start_time": "2022-10-14T02:40:19.204Z"
   },
   {
    "duration": 0,
    "start_time": "2022-10-14T02:40:19.205Z"
   },
   {
    "duration": 0,
    "start_time": "2022-10-14T02:40:19.207Z"
   },
   {
    "duration": 0,
    "start_time": "2022-10-14T02:40:19.208Z"
   },
   {
    "duration": 0,
    "start_time": "2022-10-14T02:40:19.209Z"
   },
   {
    "duration": 0,
    "start_time": "2022-10-14T02:40:19.210Z"
   },
   {
    "duration": 0,
    "start_time": "2022-10-14T02:40:19.211Z"
   },
   {
    "duration": 0,
    "start_time": "2022-10-14T02:40:19.212Z"
   },
   {
    "duration": 0,
    "start_time": "2022-10-14T02:40:19.214Z"
   },
   {
    "duration": 0,
    "start_time": "2022-10-14T02:40:19.214Z"
   },
   {
    "duration": 0,
    "start_time": "2022-10-14T02:40:19.216Z"
   },
   {
    "duration": 0,
    "start_time": "2022-10-14T02:40:19.217Z"
   },
   {
    "duration": 0,
    "start_time": "2022-10-14T02:40:19.218Z"
   },
   {
    "duration": 0,
    "start_time": "2022-10-14T02:40:19.219Z"
   },
   {
    "duration": 0,
    "start_time": "2022-10-14T02:40:19.220Z"
   },
   {
    "duration": 0,
    "start_time": "2022-10-14T02:40:19.221Z"
   },
   {
    "duration": 0,
    "start_time": "2022-10-14T02:40:19.222Z"
   },
   {
    "duration": 0,
    "start_time": "2022-10-14T02:40:19.223Z"
   },
   {
    "duration": 0,
    "start_time": "2022-10-14T02:40:19.224Z"
   },
   {
    "duration": 0,
    "start_time": "2022-10-14T02:40:19.225Z"
   },
   {
    "duration": 0,
    "start_time": "2022-10-14T02:40:19.227Z"
   },
   {
    "duration": 0,
    "start_time": "2022-10-14T02:40:19.228Z"
   },
   {
    "duration": 1,
    "start_time": "2022-10-14T02:40:19.228Z"
   },
   {
    "duration": 0,
    "start_time": "2022-10-14T02:40:19.230Z"
   },
   {
    "duration": 0,
    "start_time": "2022-10-14T02:40:19.230Z"
   },
   {
    "duration": 0,
    "start_time": "2022-10-14T02:40:19.294Z"
   },
   {
    "duration": 0,
    "start_time": "2022-10-14T02:40:19.296Z"
   },
   {
    "duration": 1,
    "start_time": "2022-10-14T02:40:19.296Z"
   },
   {
    "duration": 0,
    "start_time": "2022-10-14T02:40:19.298Z"
   },
   {
    "duration": 0,
    "start_time": "2022-10-14T02:40:19.299Z"
   },
   {
    "duration": 9,
    "start_time": "2022-10-14T02:43:38.687Z"
   },
   {
    "duration": 1085,
    "start_time": "2022-10-14T02:43:43.702Z"
   },
   {
    "duration": 106,
    "start_time": "2022-10-14T02:43:44.789Z"
   },
   {
    "duration": 13,
    "start_time": "2022-10-14T02:43:44.897Z"
   },
   {
    "duration": 6,
    "start_time": "2022-10-14T02:43:44.912Z"
   },
   {
    "duration": 16,
    "start_time": "2022-10-14T02:43:44.921Z"
   },
   {
    "duration": 4,
    "start_time": "2022-10-14T02:43:44.939Z"
   },
   {
    "duration": 14,
    "start_time": "2022-10-14T02:43:44.945Z"
   },
   {
    "duration": 7,
    "start_time": "2022-10-14T02:43:44.960Z"
   },
   {
    "duration": 51,
    "start_time": "2022-10-14T02:43:44.969Z"
   },
   {
    "duration": 27,
    "start_time": "2022-10-14T02:43:45.022Z"
   },
   {
    "duration": 12,
    "start_time": "2022-10-14T02:43:45.051Z"
   },
   {
    "duration": 31,
    "start_time": "2022-10-14T02:43:45.065Z"
   },
   {
    "duration": 15,
    "start_time": "2022-10-14T02:43:45.098Z"
   },
   {
    "duration": 4,
    "start_time": "2022-10-14T02:43:45.115Z"
   },
   {
    "duration": 7,
    "start_time": "2022-10-14T02:43:45.121Z"
   },
   {
    "duration": 14,
    "start_time": "2022-10-14T02:43:45.130Z"
   },
   {
    "duration": 14,
    "start_time": "2022-10-14T02:43:45.145Z"
   },
   {
    "duration": 2,
    "start_time": "2022-10-14T02:43:45.161Z"
   },
   {
    "duration": 37,
    "start_time": "2022-10-14T02:43:45.164Z"
   },
   {
    "duration": 877,
    "start_time": "2022-10-14T02:43:45.202Z"
   },
   {
    "duration": 3,
    "start_time": "2022-10-14T02:43:46.081Z"
   },
   {
    "duration": 9,
    "start_time": "2022-10-14T02:43:46.085Z"
   },
   {
    "duration": 5,
    "start_time": "2022-10-14T02:43:46.098Z"
   },
   {
    "duration": 919,
    "start_time": "2022-10-14T02:43:46.104Z"
   },
   {
    "duration": 3,
    "start_time": "2022-10-14T02:43:47.024Z"
   },
   {
    "duration": 8,
    "start_time": "2022-10-14T02:43:47.029Z"
   },
   {
    "duration": 14,
    "start_time": "2022-10-14T02:43:47.039Z"
   },
   {
    "duration": 425,
    "start_time": "2022-10-14T02:43:47.054Z"
   },
   {
    "duration": 17,
    "start_time": "2022-10-14T02:43:47.481Z"
   },
   {
    "duration": 323,
    "start_time": "2022-10-14T02:43:47.499Z"
   },
   {
    "duration": 8,
    "start_time": "2022-10-14T02:43:47.824Z"
   },
   {
    "duration": 523,
    "start_time": "2022-10-14T02:43:47.834Z"
   },
   {
    "duration": 254,
    "start_time": "2022-10-14T02:43:48.359Z"
   },
   {
    "duration": 276,
    "start_time": "2022-10-14T02:43:48.615Z"
   },
   {
    "duration": 460,
    "start_time": "2022-10-14T02:43:48.894Z"
   },
   {
    "duration": 38,
    "start_time": "2022-10-14T02:43:49.356Z"
   },
   {
    "duration": 418,
    "start_time": "2022-10-14T02:43:49.396Z"
   },
   {
    "duration": 587,
    "start_time": "2022-10-14T02:43:49.816Z"
   },
   {
    "duration": 263,
    "start_time": "2022-10-14T02:43:50.404Z"
   },
   {
    "duration": 255,
    "start_time": "2022-10-14T02:43:50.669Z"
   },
   {
    "duration": 388,
    "start_time": "2022-10-14T02:43:50.928Z"
   },
   {
    "duration": 505,
    "start_time": "2022-10-14T02:43:51.318Z"
   },
   {
    "duration": 184,
    "start_time": "2022-10-14T02:43:51.825Z"
   },
   {
    "duration": 200,
    "start_time": "2022-10-14T02:43:52.011Z"
   },
   {
    "duration": 13,
    "start_time": "2022-10-14T02:43:52.213Z"
   },
   {
    "duration": 16,
    "start_time": "2022-10-14T02:43:52.228Z"
   },
   {
    "duration": 50,
    "start_time": "2022-10-14T02:43:52.246Z"
   },
   {
    "duration": 3,
    "start_time": "2022-10-14T02:43:52.298Z"
   },
   {
    "duration": 14,
    "start_time": "2022-10-14T02:43:52.302Z"
   },
   {
    "duration": 10,
    "start_time": "2022-10-14T02:43:52.318Z"
   },
   {
    "duration": 12,
    "start_time": "2022-10-14T02:43:52.329Z"
   },
   {
    "duration": 7,
    "start_time": "2022-10-14T02:43:52.342Z"
   },
   {
    "duration": 7,
    "start_time": "2022-10-14T02:43:52.351Z"
   },
   {
    "duration": 564,
    "start_time": "2022-10-14T02:43:52.360Z"
   },
   {
    "duration": 1074,
    "start_time": "2022-10-14T02:48:23.861Z"
   },
   {
    "duration": 7,
    "start_time": "2022-10-14T02:48:38.849Z"
   },
   {
    "duration": 558,
    "start_time": "2022-10-14T02:48:39.351Z"
   },
   {
    "duration": 691,
    "start_time": "2022-10-14T02:48:39.910Z"
   },
   {
    "duration": 626,
    "start_time": "2022-10-14T02:48:40.603Z"
   }
  ],
  "kernelspec": {
   "display_name": "Python 3 (ipykernel)",
   "language": "python",
   "name": "python3"
  },
  "language_info": {
   "codemirror_mode": {
    "name": "ipython",
    "version": 3
   },
   "file_extension": ".py",
   "mimetype": "text/x-python",
   "name": "python",
   "nbconvert_exporter": "python",
   "pygments_lexer": "ipython3",
   "version": "3.11.4"
  },
  "toc": {
   "base_numbering": "",
   "nav_menu": {},
   "number_sections": false,
   "sideBar": true,
   "skip_h1_title": false,
   "title_cell": "Table of Contents",
   "title_sidebar": "Contents",
   "toc_cell": false,
   "toc_position": {
    "height": "calc(100% - 180px)",
    "left": "10px",
    "top": "150px",
    "width": "284px"
   },
   "toc_section_display": true,
   "toc_window_display": true
  },
  "varInspector": {
   "cols": {
    "lenName": 16,
    "lenType": 16,
    "lenVar": 40
   },
   "kernels_config": {
    "python": {
     "delete_cmd_postfix": "",
     "delete_cmd_prefix": "del ",
     "library": "var_list.py",
     "varRefreshCmd": "print(var_dic_list())"
    },
    "r": {
     "delete_cmd_postfix": ") ",
     "delete_cmd_prefix": "rm(",
     "library": "var_list.r",
     "varRefreshCmd": "cat(var_dic_list()) "
    }
   },
   "types_to_exclude": [
    "module",
    "function",
    "builtin_function_or_method",
    "instance",
    "_Feature"
   ],
   "window_display": false
  }
 },
 "nbformat": 4,
 "nbformat_minor": 5
}
