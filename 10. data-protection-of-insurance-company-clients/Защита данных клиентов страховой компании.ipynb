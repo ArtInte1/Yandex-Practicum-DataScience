{
 "cells": [
  {
   "cell_type": "markdown",
   "metadata": {},
   "source": [
    "<h1><center>Защита данных клиентов страховой компании</center></h1>"
   ]
  },
  {
   "cell_type": "markdown",
   "metadata": {},
   "source": [
    "Страховой компании «Хоть потоп» необходимо защитить данные своих клиентов. Это требуется сделать таким образом, чтобы при преобразовании данных качество моделей машинного обучения не ухудшилось. \n",
    "\n",
    "**Цель работы** – разработать метод преобразования данных, чтобы по ним было сложно восстановить персональную информацию."
   ]
  },
  {
   "cell_type": "markdown",
   "metadata": {},
   "source": [
    "**Основные этапы:**\n",
    "1. [Загрузка данных](#Загрузка-данных)\n",
    "2. [Предобработка данных](#Предобработка-данных)\n",
    "3. [Разработка и доказательство пригодности способа шифрования](#Алгоритм-преобразования)\n",
    "4. [Проверка](#Проверка-алгоритма)\n",
    "5. [Вывод](#Вывод)"
   ]
  },
  {
   "cell_type": "markdown",
   "metadata": {},
   "source": [
    "## Импорт необходимых модулей"
   ]
  },
  {
   "cell_type": "code",
   "execution_count": 1,
   "metadata": {},
   "outputs": [],
   "source": [
    "import pandas as pd\n",
    "import numpy as np\n",
    "import seaborn as sns\n",
    "from sklearn.metrics import r2_score\n",
    "from sklearn.preprocessing import StandardScaler \n",
    "from sklearn.model_selection import train_test_split\n",
    "from sklearn.linear_model import LinearRegression"
   ]
  },
  {
   "cell_type": "markdown",
   "metadata": {},
   "source": [
    "## Загрузка данных"
   ]
  },
  {
   "cell_type": "code",
   "execution_count": 2,
   "metadata": {},
   "outputs": [],
   "source": [
    "data = pd.read_csv(r'C:/Users/dcba5/Python_Jupyter_files/Data/insurance.csv')"
   ]
  },
  {
   "cell_type": "code",
   "execution_count": 3,
   "metadata": {},
   "outputs": [
    {
     "name": "stdout",
     "output_type": "stream",
     "text": [
      "<class 'pandas.core.frame.DataFrame'>\n",
      "RangeIndex: 5000 entries, 0 to 4999\n",
      "Data columns (total 5 columns):\n",
      " #   Column             Non-Null Count  Dtype  \n",
      "---  ------             --------------  -----  \n",
      " 0   Пол                5000 non-null   int64  \n",
      " 1   Возраст            5000 non-null   float64\n",
      " 2   Зарплата           5000 non-null   float64\n",
      " 3   Члены семьи        5000 non-null   int64  \n",
      " 4   Страховые выплаты  5000 non-null   int64  \n",
      "dtypes: float64(2), int64(3)\n",
      "memory usage: 195.4 KB\n"
     ]
    }
   ],
   "source": [
    "# обзор данных\n",
    "\n",
    "data.info()"
   ]
  },
  {
   "cell_type": "code",
   "execution_count": 4,
   "metadata": {},
   "outputs": [
    {
     "data": {
      "text/html": [
       "<div>\n",
       "<style scoped>\n",
       "    .dataframe tbody tr th:only-of-type {\n",
       "        vertical-align: middle;\n",
       "    }\n",
       "\n",
       "    .dataframe tbody tr th {\n",
       "        vertical-align: top;\n",
       "    }\n",
       "\n",
       "    .dataframe thead th {\n",
       "        text-align: right;\n",
       "    }\n",
       "</style>\n",
       "<table border=\"1\" class=\"dataframe\">\n",
       "  <thead>\n",
       "    <tr style=\"text-align: right;\">\n",
       "      <th></th>\n",
       "      <th>Пол</th>\n",
       "      <th>Возраст</th>\n",
       "      <th>Зарплата</th>\n",
       "      <th>Члены семьи</th>\n",
       "      <th>Страховые выплаты</th>\n",
       "    </tr>\n",
       "  </thead>\n",
       "  <tbody>\n",
       "    <tr>\n",
       "      <th>0</th>\n",
       "      <td>1</td>\n",
       "      <td>41.0</td>\n",
       "      <td>49600.0</td>\n",
       "      <td>1</td>\n",
       "      <td>0</td>\n",
       "    </tr>\n",
       "    <tr>\n",
       "      <th>1</th>\n",
       "      <td>0</td>\n",
       "      <td>46.0</td>\n",
       "      <td>38000.0</td>\n",
       "      <td>1</td>\n",
       "      <td>1</td>\n",
       "    </tr>\n",
       "    <tr>\n",
       "      <th>2</th>\n",
       "      <td>0</td>\n",
       "      <td>29.0</td>\n",
       "      <td>21000.0</td>\n",
       "      <td>0</td>\n",
       "      <td>0</td>\n",
       "    </tr>\n",
       "    <tr>\n",
       "      <th>3</th>\n",
       "      <td>0</td>\n",
       "      <td>21.0</td>\n",
       "      <td>41700.0</td>\n",
       "      <td>2</td>\n",
       "      <td>0</td>\n",
       "    </tr>\n",
       "    <tr>\n",
       "      <th>4</th>\n",
       "      <td>1</td>\n",
       "      <td>28.0</td>\n",
       "      <td>26100.0</td>\n",
       "      <td>0</td>\n",
       "      <td>0</td>\n",
       "    </tr>\n",
       "  </tbody>\n",
       "</table>\n",
       "</div>"
      ],
      "text/plain": [
       "   Пол  Возраст  Зарплата  Члены семьи  Страховые выплаты\n",
       "0    1     41.0   49600.0            1                  0\n",
       "1    0     46.0   38000.0            1                  1\n",
       "2    0     29.0   21000.0            0                  0\n",
       "3    0     21.0   41700.0            2                  0\n",
       "4    1     28.0   26100.0            0                  0"
      ]
     },
     "execution_count": 4,
     "metadata": {},
     "output_type": "execute_result"
    }
   ],
   "source": [
    "# первый взгляд на данные\n",
    "\n",
    "data.head()"
   ]
  },
  {
   "cell_type": "markdown",
   "metadata": {},
   "source": []
  },
  {
   "cell_type": "markdown",
   "metadata": {},
   "source": [
    "## Предобработка данных"
   ]
  },
  {
   "cell_type": "code",
   "execution_count": 5,
   "metadata": {},
   "outputs": [],
   "source": [
    "# изменение названий признаков для удобства\n",
    "\n",
    "data.rename(columns={'Пол': 'sex',\n",
    "                     'Возраст': 'age',\n",
    "                     'Зарплата': 'salary',\n",
    "                     'Члены семьи': 'relatives',\n",
    "                     'Страховые выплаты': 'insurance'},\n",
    "            inplace=True)"
   ]
  },
  {
   "cell_type": "code",
   "execution_count": 6,
   "metadata": {},
   "outputs": [
    {
     "data": {
      "text/plain": [
       "153"
      ]
     },
     "execution_count": 6,
     "metadata": {},
     "output_type": "execute_result"
    }
   ],
   "source": [
    "# обнаружение явных дубликатов\n",
    "\n",
    "data.duplicated().sum()"
   ]
  },
  {
   "cell_type": "code",
   "execution_count": 7,
   "metadata": {},
   "outputs": [
    {
     "data": {
      "text/html": [
       "<div>\n",
       "<style scoped>\n",
       "    .dataframe tbody tr th:only-of-type {\n",
       "        vertical-align: middle;\n",
       "    }\n",
       "\n",
       "    .dataframe tbody tr th {\n",
       "        vertical-align: top;\n",
       "    }\n",
       "\n",
       "    .dataframe thead th {\n",
       "        text-align: right;\n",
       "    }\n",
       "</style>\n",
       "<table border=\"1\" class=\"dataframe\">\n",
       "  <thead>\n",
       "    <tr style=\"text-align: right;\">\n",
       "      <th></th>\n",
       "      <th>sex</th>\n",
       "      <th>age</th>\n",
       "      <th>salary</th>\n",
       "      <th>relatives</th>\n",
       "      <th>insurance</th>\n",
       "    </tr>\n",
       "  </thead>\n",
       "  <tbody>\n",
       "    <tr>\n",
       "      <th>0</th>\n",
       "      <td>1</td>\n",
       "      <td>41.0</td>\n",
       "      <td>49600.0</td>\n",
       "      <td>1</td>\n",
       "      <td>0</td>\n",
       "    </tr>\n",
       "    <tr>\n",
       "      <th>1</th>\n",
       "      <td>0</td>\n",
       "      <td>46.0</td>\n",
       "      <td>38000.0</td>\n",
       "      <td>1</td>\n",
       "      <td>1</td>\n",
       "    </tr>\n",
       "    <tr>\n",
       "      <th>2</th>\n",
       "      <td>0</td>\n",
       "      <td>29.0</td>\n",
       "      <td>21000.0</td>\n",
       "      <td>0</td>\n",
       "      <td>0</td>\n",
       "    </tr>\n",
       "    <tr>\n",
       "      <th>3</th>\n",
       "      <td>0</td>\n",
       "      <td>21.0</td>\n",
       "      <td>41700.0</td>\n",
       "      <td>2</td>\n",
       "      <td>0</td>\n",
       "    </tr>\n",
       "    <tr>\n",
       "      <th>4</th>\n",
       "      <td>1</td>\n",
       "      <td>28.0</td>\n",
       "      <td>26100.0</td>\n",
       "      <td>0</td>\n",
       "      <td>0</td>\n",
       "    </tr>\n",
       "    <tr>\n",
       "      <th>...</th>\n",
       "      <td>...</td>\n",
       "      <td>...</td>\n",
       "      <td>...</td>\n",
       "      <td>...</td>\n",
       "      <td>...</td>\n",
       "    </tr>\n",
       "    <tr>\n",
       "      <th>4842</th>\n",
       "      <td>0</td>\n",
       "      <td>28.0</td>\n",
       "      <td>35700.0</td>\n",
       "      <td>2</td>\n",
       "      <td>0</td>\n",
       "    </tr>\n",
       "    <tr>\n",
       "      <th>4843</th>\n",
       "      <td>0</td>\n",
       "      <td>34.0</td>\n",
       "      <td>52400.0</td>\n",
       "      <td>1</td>\n",
       "      <td>0</td>\n",
       "    </tr>\n",
       "    <tr>\n",
       "      <th>4844</th>\n",
       "      <td>0</td>\n",
       "      <td>20.0</td>\n",
       "      <td>33900.0</td>\n",
       "      <td>2</td>\n",
       "      <td>0</td>\n",
       "    </tr>\n",
       "    <tr>\n",
       "      <th>4845</th>\n",
       "      <td>1</td>\n",
       "      <td>22.0</td>\n",
       "      <td>32700.0</td>\n",
       "      <td>3</td>\n",
       "      <td>0</td>\n",
       "    </tr>\n",
       "    <tr>\n",
       "      <th>4846</th>\n",
       "      <td>1</td>\n",
       "      <td>28.0</td>\n",
       "      <td>40600.0</td>\n",
       "      <td>1</td>\n",
       "      <td>0</td>\n",
       "    </tr>\n",
       "  </tbody>\n",
       "</table>\n",
       "<p>4847 rows × 5 columns</p>\n",
       "</div>"
      ],
      "text/plain": [
       "      sex   age   salary  relatives  insurance\n",
       "0       1  41.0  49600.0          1          0\n",
       "1       0  46.0  38000.0          1          1\n",
       "2       0  29.0  21000.0          0          0\n",
       "3       0  21.0  41700.0          2          0\n",
       "4       1  28.0  26100.0          0          0\n",
       "...   ...   ...      ...        ...        ...\n",
       "4842    0  28.0  35700.0          2          0\n",
       "4843    0  34.0  52400.0          1          0\n",
       "4844    0  20.0  33900.0          2          0\n",
       "4845    1  22.0  32700.0          3          0\n",
       "4846    1  28.0  40600.0          1          0\n",
       "\n",
       "[4847 rows x 5 columns]"
      ]
     },
     "execution_count": 7,
     "metadata": {},
     "output_type": "execute_result"
    }
   ],
   "source": [
    "# удаление дубликатов\n",
    "data.drop_duplicates(inplace=True)\n",
    "\n",
    "# сброс индексов\n",
    "data.reset_index(drop=True)"
   ]
  },
  {
   "cell_type": "markdown",
   "metadata": {},
   "source": [
    "Признаков немного, воспользуемся функцией seaborn pairplot для визуализации распределений величин и их парной взаимозависимости."
   ]
  },
  {
   "cell_type": "code",
   "execution_count": 8,
   "metadata": {},
   "outputs": [
    {
     "data": {
      "text/plain": [
       "<seaborn.axisgrid.PairGrid at 0x1a23545cdc0>"
      ]
     },
     "execution_count": 8,
     "metadata": {},
     "output_type": "execute_result"
    },
    {
     "data": {
      "image/png": "[encoded data removed]",
      "text/plain": [
       "<Figure size 900x900 with 30 Axes>"
      ]
     },
     "metadata": {
      "needs_background": "light"
     },
     "output_type": "display_data"
    }
   ],
   "source": [
    "sns.pairplot(data)"
   ]
  },
  {
   "cell_type": "markdown",
   "metadata": {},
   "source": [
    "Существенных аномалий в распределении признаков обнаружено не было. Некоторые признаки имеют корреляцию."
   ]
  },
  {
   "cell_type": "code",
   "execution_count": 29,
   "metadata": {},
   "outputs": [
    {
     "data": {
      "text/plain": [
       "<AxesSubplot:ylabel='insurance'>"
      ]
     },
     "execution_count": 29,
     "metadata": {},
     "output_type": "execute_result"
    },
    {
     "data": {
      "image/png": "[encoded data removed]",
      "text/plain": [
       "<Figure size 432x288 with 1 Axes>"
      ]
     },
     "metadata": {
      "needs_background": "light"
     },
     "output_type": "display_data"
    }
   ],
   "source": [
    "sns.barplot(x=data['insurance'].value_counts().index, y=data['insurance'].value_counts())"
   ]
  },
  {
   "cell_type": "code",
   "execution_count": 30,
   "metadata": {},
   "outputs": [
    {
     "data": {
      "text/plain": [
       "<AxesSubplot:ylabel='relatives'>"
      ]
     },
     "execution_count": 30,
     "metadata": {},
     "output_type": "execute_result"
    },
    {
     "data": {
      "image/png": "[encoded data removed]",
      "text/plain": [
       "<Figure size 432x288 with 1 Axes>"
      ]
     },
     "metadata": {
      "needs_background": "light"
     },
     "output_type": "display_data"
    }
   ],
   "source": [
    "sns.barplot(x=data['relatives'].value_counts().index, y=data['relatives'].value_counts())"
   ]
  },
  {
   "cell_type": "markdown",
   "metadata": {},
   "source": [
    "## Алгоритм преобразования"
   ]
  },
  {
   "cell_type": "markdown",
   "metadata": {},
   "source": [
    "**Алгоритм**\n",
    "\n",
    "1. Выделение из данных матрицы с признаками (без целевого)\n",
    "2. Масштабирование признаков\n",
    "3. Создание случайной матрицы и её проверка на обратимость\n",
    "4. Умножение матрицы признаков на обратимую матрицу"
   ]
  },
  {
   "cell_type": "markdown",
   "metadata": {},
   "source": [
    "<font size=\"5\">**Докажем, что умножение матрицы признаков на случайную обратимую матрицу не исказит результат работы модели**</font>"
   ]
  },
  {
   "cell_type": "markdown",
   "metadata": {},
   "source": [
    "Обозначения:\n",
    "\n",
    "- $X$ — матрица признаков (нулевой столбец состоит из единиц)\n",
    "\n",
    "- $y$ — вектор целевого признака\n",
    "\n",
    "- $P$ — матрица, на которую умножаются признаки\n",
    "\n",
    "- $w$ — вектор весов линейной регрессии (нулевой элемент равен сдвигу)"
   ]
  },
  {
   "cell_type": "markdown",
   "metadata": {},
   "source": [
    "Предсказания:\n",
    "\n",
    "$$\n",
    "a = Xw\n",
    "$$\n",
    "\n",
    "Задача обучения:\n",
    "\n",
    "$$\n",
    "w = \\arg\\min_w MSE(Xw, y)\n",
    "$$\n",
    "\n",
    "Формула обучения:\n",
    "\n",
    "$$\n",
    "w = (X^T X)^{-1} X^T y\n",
    "$$"
   ]
  },
  {
   "cell_type": "markdown",
   "metadata": {},
   "source": [
    "<font size=\"5\">**Доказательство**</font>"
   ]
  },
  {
   "cell_type": "markdown",
   "metadata": {},
   "source": [
    "1. $ a = Xw $, найдём $ a' $ для преобразованной матрицы\n",
    "\n",
    "   Упростим **w**: $ w = (X^T X)^{-1} X^T y => w = X^{-1} X^{T-1} X^T y $  \n",
    "   Получим: $w = X^{-1} y$\n",
    "\n",
    "\n",
    "2. Пусть $ X' = X \\cdot P $\n",
    "  \n",
    "  \n",
    "3. Тогда $ w = (X'^TX')^{-1}X^Ty $\n",
    "  \n",
    "  \n",
    "4. Воспользуемся следующими свойствами: $ A^T B^T = (BA)^T $;   $ (AB)^{-1} = B^{-1}A^{-1}$ \n",
    "  \n",
    "$$ w = ((XP)^T X P)^{-1}(XP)^T y $$\n",
    "  \n",
    "$$ w = (P^T (X^T X) P)^{-1}P^T X^T y $$\n",
    "  \n",
    "$$ w = P^{-1} (P^T (X^T X))^{-1} P^T X^T y $$\n",
    "  \n",
    "$$ w' = P^{-1} (X^T X)^{-1} P^{T-1} P^T X^T y $$\n",
    "  \n",
    "$$ w' = P^{-1} (X^T X)^{-1} I X^T y $$\n",
    "  \n",
    "$$ w' = P^{-1} X^{-1} X^{T-1} I X^T y $$\n",
    "  \n",
    "$$ w' = P^{-1} X^{-1} y $$\n",
    "\n",
    "5. $ a' = X P w' $\n",
    "  Упростим путём подстановки $ w' $: $a' = X P P^{-1} X^{-1} y => X I X^{-1} y = Xw $\n",
    "  \n",
    "Из $ a = Xw = a' $ следует, что при умножнении признаков на обратимую матрицу метрика изменится не должна."
   ]
  },
  {
   "cell_type": "markdown",
   "metadata": {},
   "source": [
    "\n",
    "**Вывод:** выше приведено доказательство того, что при умножении матрицы признаков на обратимую матрицу, матрица предсказаний не пострадает. Наша задача состоит в том, чтобы: \n",
    "1. создать матрицу, ширина которой равна кол-ву признаков (это условие для возможности умножения матриц)\n",
    "2. проверить её на обратимость (доказательство верно для обратимых матриц)\n",
    "3. умножить матрицу признаков на обратимую матрицу для шифрования "
   ]
  },
  {
   "cell_type": "markdown",
   "metadata": {},
   "source": [
    "## Проверка алгоритма"
   ]
  },
  {
   "cell_type": "markdown",
   "metadata": {},
   "source": [
    "### Подготовка данных"
   ]
  },
  {
   "cell_type": "markdown",
   "metadata": {},
   "source": [
    "Выделение признаков и целевого признака"
   ]
  },
  {
   "cell_type": "code",
   "execution_count": 10,
   "metadata": {},
   "outputs": [],
   "source": [
    "features = data.drop('insurance', axis=1)"
   ]
  },
  {
   "cell_type": "code",
   "execution_count": 11,
   "metadata": {},
   "outputs": [],
   "source": [
    "target = data.insurance"
   ]
  },
  {
   "cell_type": "markdown",
   "metadata": {},
   "source": [
    "Создание компонента, масштабирующего признаки с последующим масштабированием"
   ]
  },
  {
   "cell_type": "code",
   "execution_count": 12,
   "metadata": {},
   "outputs": [],
   "source": [
    "scaled_features = StandardScaler().fit_transform(features)"
   ]
  },
  {
   "cell_type": "markdown",
   "metadata": {},
   "source": [
    "Подготовка шифрующей матрицы"
   ]
  },
  {
   "cell_type": "code",
   "execution_count": 13,
   "metadata": {},
   "outputs": [],
   "source": [
    "# создание случайной матрицы для преобразования признаков с проверкой на обратимость\n",
    "\n",
    "try:\n",
    "    encrypting_matrix = np.random.randint(100, size=(features.shape[1], features.shape[1]))\n",
    "    inverse_check = np.linalg.inv(encrypting_matrix)\n",
    "except:\n",
    "    encrypting_matrix = np.random.randint(100, size=(features.shape[1], features.shape[1]))"
   ]
  },
  {
   "cell_type": "code",
   "execution_count": 14,
   "metadata": {},
   "outputs": [
    {
     "data": {
      "text/plain": [
       "array([[51, 95, 77, 46],\n",
       "       [72, 29, 56,  9],\n",
       "       [36, 52,  6, 19],\n",
       "       [28, 52, 52, 95]])"
      ]
     },
     "execution_count": 14,
     "metadata": {},
     "output_type": "execute_result"
    }
   ],
   "source": [
    "# проверка\n",
    "\n",
    "encrypting_matrix"
   ]
  },
  {
   "cell_type": "code",
   "execution_count": 15,
   "metadata": {},
   "outputs": [],
   "source": [
    "# шифрование признаков\n",
    "\n",
    "encrypted_features = scaled_features @ encrypting_matrix"
   ]
  },
  {
   "cell_type": "markdown",
   "metadata": {},
   "source": [
    "### Создание модели"
   ]
  },
  {
   "cell_type": "code",
   "execution_count": 16,
   "metadata": {},
   "outputs": [],
   "source": [
    "w = (np.linalg.inv(scaled_features.T @ scaled_features) @ scaled_features.T) @ target"
   ]
  },
  {
   "cell_type": "code",
   "execution_count": 17,
   "metadata": {},
   "outputs": [],
   "source": [
    "w_encrypted = (np.linalg.inv(encrypted_features.T @ encrypted_features) @ encrypted_features.T) @ target"
   ]
  },
  {
   "cell_type": "code",
   "execution_count": 18,
   "metadata": {},
   "outputs": [],
   "source": [
    "a_difference = (encrypted_features @ w_encrypted) - (scaled_features @ w)"
   ]
  },
  {
   "cell_type": "code",
   "execution_count": 19,
   "metadata": {},
   "outputs": [
    {
     "name": "stdout",
     "output_type": "stream",
     "text": [
      "[-7.77156117e-16  7.10542736e-15  5.16947596e-15 ... -2.22044605e-16\n",
      "  2.77555756e-16 -2.65065747e-15]\n"
     ]
    }
   ],
   "source": [
    "print(a_difference)"
   ]
  },
  {
   "cell_type": "markdown",
   "metadata": {},
   "source": [
    "Разница пренебрежимо мала. Векторы предсказаний практически идентичны."
   ]
  },
  {
   "cell_type": "markdown",
   "metadata": {},
   "source": [
    "**Проверка будет состоять из двух этапов:** \n",
    "\n",
    "1. Получаем метрику R2 для признаков \n",
    "2. Сравниваем с метрикой R2 для модели обученной на преобразованных признаках"
   ]
  },
  {
   "cell_type": "code",
   "execution_count": 20,
   "metadata": {},
   "outputs": [],
   "source": [
    "model = LinearRegression()"
   ]
  },
  {
   "cell_type": "code",
   "execution_count": 21,
   "metadata": {},
   "outputs": [
    {
     "name": "stdout",
     "output_type": "stream",
     "text": [
      "R2 for original features:  0.4302010044852068\n"
     ]
    }
   ],
   "source": [
    "# модель, обученная на исходных признаках\n",
    "\n",
    "model.fit(features, target)\n",
    "preds = model.predict(features)\n",
    "original_r2 = r2_score(target, preds)\n",
    "\n",
    "print('R2 for original features: ', original_r2)"
   ]
  },
  {
   "cell_type": "code",
   "execution_count": 22,
   "metadata": {},
   "outputs": [],
   "source": [
    "model = LinearRegression()"
   ]
  },
  {
   "cell_type": "code",
   "execution_count": 23,
   "metadata": {},
   "outputs": [
    {
     "name": "stdout",
     "output_type": "stream",
     "text": [
      "R2 for transformed features:  0.4302010044852068\n"
     ]
    }
   ],
   "source": [
    "# модель, обученная на зашифрованных признаках\n",
    "\n",
    "model.fit(encrypted_features, target)\n",
    "encrypted_preds = model.predict(encrypted_features)\n",
    "encrypted_r2 = r2_score(target, encrypted_preds)\n",
    "\n",
    "print('R2 for transformed features: ', encrypted_r2)"
   ]
  },
  {
   "cell_type": "code",
   "execution_count": 24,
   "metadata": {},
   "outputs": [
    {
     "data": {
      "text/plain": [
       "0.0"
      ]
     },
     "execution_count": 24,
     "metadata": {},
     "output_type": "execute_result"
    }
   ],
   "source": [
    "original_r2 - encrypted_r2"
   ]
  },
  {
   "cell_type": "markdown",
   "metadata": {},
   "source": [
    "Разница метрик пренебрежимо мала"
   ]
  },
  {
   "cell_type": "markdown",
   "metadata": {},
   "source": [
    "## Вывод"
   ]
  },
  {
   "cell_type": "markdown",
   "metadata": {},
   "source": [
    "В ходе выполнения задачи данного проекта был предложен способ шифрования данных с сопуствующим математическим обоснованием и произведена проверка его работы."
   ]
  }
 ],
 "metadata": {
  "ExecuteTimeLog": [
   {
    "duration": 409,
    "start_time": "2022-12-23T13:37:44.251Z"
   },
   {
    "duration": 98,
    "start_time": "2022-12-23T13:38:14.286Z"
   },
   {
    "duration": 74,
    "start_time": "2022-12-23T13:38:27.399Z"
   },
   {
    "duration": 45,
    "start_time": "2022-12-23T13:39:04.358Z"
   },
   {
    "duration": 2867,
    "start_time": "2023-01-28T09:56:02.203Z"
   },
   {
    "duration": 44,
    "start_time": "2023-01-28T09:56:05.073Z"
   },
   {
    "duration": 15,
    "start_time": "2023-01-28T09:56:45.160Z"
   },
   {
    "duration": 14,
    "start_time": "2023-01-28T09:56:45.746Z"
   },
   {
    "duration": 5,
    "start_time": "2023-01-28T10:02:50.271Z"
   },
   {
    "duration": 7,
    "start_time": "2023-01-28T10:02:50.728Z"
   },
   {
    "duration": 16,
    "start_time": "2023-01-28T10:02:50.889Z"
   },
   {
    "duration": 4053,
    "start_time": "2023-01-28T10:02:52.183Z"
   },
   {
    "duration": 53,
    "start_time": "2023-01-28T10:07:51.759Z"
   },
   {
    "duration": 2758,
    "start_time": "2023-01-28T10:07:58.882Z"
   },
   {
    "duration": 29,
    "start_time": "2023-01-28T10:08:01.643Z"
   },
   {
    "duration": 40,
    "start_time": "2023-01-28T10:08:01.674Z"
   },
   {
    "duration": 63,
    "start_time": "2023-01-28T10:08:01.719Z"
   },
   {
    "duration": 45,
    "start_time": "2023-01-28T10:08:01.784Z"
   },
   {
    "duration": 51,
    "start_time": "2023-01-28T10:08:01.831Z"
   },
   {
    "duration": 45,
    "start_time": "2023-01-28T10:08:01.884Z"
   },
   {
    "duration": 4420,
    "start_time": "2023-01-28T10:08:01.931Z"
   },
   {
    "duration": 5,
    "start_time": "2023-01-28T10:08:06.354Z"
   },
   {
    "duration": 37,
    "start_time": "2023-01-28T10:08:06.361Z"
   },
   {
    "duration": 22,
    "start_time": "2023-01-28T10:08:06.400Z"
   },
   {
    "duration": 5,
    "start_time": "2023-01-28T10:08:08.563Z"
   },
   {
    "duration": 5,
    "start_time": "2023-01-28T10:08:09.974Z"
   },
   {
    "duration": 3,
    "start_time": "2023-01-28T10:08:16.171Z"
   },
   {
    "duration": 4,
    "start_time": "2023-01-28T10:09:31.432Z"
   },
   {
    "duration": 4,
    "start_time": "2023-01-28T10:09:31.600Z"
   },
   {
    "duration": 24,
    "start_time": "2023-01-28T10:09:31.775Z"
   },
   {
    "duration": 17,
    "start_time": "2023-01-28T10:09:31.985Z"
   },
   {
    "duration": 3,
    "start_time": "2023-01-28T10:09:33.275Z"
   },
   {
    "duration": 13,
    "start_time": "2023-01-28T10:09:33.539Z"
   },
   {
    "duration": 3,
    "start_time": "2023-01-28T10:09:33.696Z"
   },
   {
    "duration": 10,
    "start_time": "2023-01-28T10:09:33.902Z"
   },
   {
    "duration": 5,
    "start_time": "2023-01-28T10:09:34.528Z"
   }
  ],
  "kernelspec": {
   "display_name": "Python 3 (ipykernel)",
   "language": "python",
   "name": "python3"
  },
  "language_info": {
   "codemirror_mode": {
    "name": "ipython",
    "version": 3
   },
   "file_extension": ".py",
   "mimetype": "text/x-python",
   "name": "python",
   "nbconvert_exporter": "python",
   "pygments_lexer": "ipython3",
   "version": "3.10.9"
  },
  "toc": {
   "base_numbering": "1",
   "nav_menu": {},
   "number_sections": false,
   "sideBar": true,
   "skip_h1_title": true,
   "title_cell": "Содержание",
   "title_sidebar": "Contents",
   "toc_cell": true,
   "toc_position": {
    "height": "calc(100% - 180px)",
    "left": "10px",
    "top": "150px",
    "width": "374.391px"
   },
   "toc_section_display": true,
   "toc_window_display": true
  }
 },
 "nbformat": 4,
 "nbformat_minor": 2
}
